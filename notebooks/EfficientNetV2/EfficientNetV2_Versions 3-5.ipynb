{
 "nbformat": 4,
 "nbformat_minor": 0,
 "metadata": {
  "colab": {
   "provenance": [],
   "gpuType": "T4"
  },
  "kernelspec": {
   "name": "python3",
   "display_name": "Python 3"
  },
  "language_info": {
   "name": "python"
  },
  "accelerator": "GPU"
 },
 "cells": [
  {
   "cell_type": "markdown",
   "source": [
    "# EfficientNet Image Classification 2\n",
    "This notebook attempts 2 more versions of the EfficientNetV2 model to optimize its performance."
   ],
   "metadata": {
    "id": "g-jvdD7rtP_v"
   }
  },
  {
   "cell_type": "markdown",
   "source": [
    "## 1. Mount Google Drive (Colab Only)\n",
    "This section connects to Google Drive to access the dataset."
   ],
   "metadata": {
    "id": "mFY3CS45tc_Y"
   }
  },
  {
   "cell_type": "code",
   "execution_count": 1,
   "metadata": {
    "colab": {
     "base_uri": "https://localhost:8080/"
    },
    "id": "y_CALYcKtIvM",
    "executionInfo": {
     "status": "ok",
     "timestamp": 1744849383236,
     "user_tz": -480,
     "elapsed": 21273,
     "user": {
      "displayName": "siri",
      "userId": "13294989799365259198"
     }
    },
    "outputId": "86c60034-0323-42b9-a62d-22789f84051e"
   },
   "outputs": [
    {
     "output_type": "stream",
     "name": "stdout",
     "text": [
      "Mounted at /content/drive\n",
      "/content/drive/.shortcut-targets-by-id/12m4fX9cAr1HVdx1AB1mgPF26R9bqG4mk/50.021 Artificial Intelligence Group Assignment\n"
     ]
    }
   ],
   "source": [
    "# Mount Google Drive\n",
    "from google.colab import drive\n",
    "drive.mount('/content/drive')\n",
    "\n",
    "DATASET_PATH = '/content/drive/My Drive/50.021 Artificial Intelligence Group Assignment'\n",
    "\n",
    "%cd \"/content/drive/My Drive/50.021 Artificial Intelligence Group Assignment\"\n",
    "\n",
    "import os\n",
    "assert os.path.exists(DATASET_PATH), \"[!] Dataset path does not exist. Please check the path.\""
   ]
  },
  {
   "cell_type": "code",
   "source": [
    "%%capture\n",
    "def is_running_in_colab():\n",
    "    try:\n",
    "        import google.colab\n",
    "        return True\n",
    "    except ImportError:\n",
    "        return False\n",
    "\n",
    "if is_running_in_colab():\n",
    "  %pip install lightning polars\n",
    "  %pip install icecream rich tqdm"
   ],
   "metadata": {
    "id": "2F1J7FC_ti72",
    "executionInfo": {
     "status": "ok",
     "timestamp": 1744849482219,
     "user_tz": -480,
     "elapsed": 94938,
     "user": {
      "displayName": "siri",
      "userId": "13294989799365259198"
     }
    }
   },
   "execution_count": 2,
   "outputs": []
  },
  {
   "cell_type": "markdown",
   "source": [
    "## 2. Import Libraries\n",
    "Imports all required packages including PyTorch, Lightning, and data processing tools."
   ],
   "metadata": {
    "id": "wRJfWUtBthOP"
   }
  },
  {
   "cell_type": "code",
   "source": [
    "# Imports\n",
    "import torch\n",
    "import torch.nn as nn\n",
    "import torch.nn.functional as F\n",
    "import polars as pl\n",
    "import numpy as np\n",
    "import lightning as L\n",
    "from pathlib import Path\n",
    "import matplotlib.pyplot as plt\n",
    "import seaborn as sns\n",
    "import cv2\n",
    "from datetime import datetime\n",
    "\n",
    "# Model imports\n",
    "from torchvision.models import (\n",
    "    efficientnet_v2_s, EfficientNet_V2_S_Weights,\n",
    "    efficientnet_v2_m, EfficientNet_V2_M_Weights,\n",
    "    efficientnet_v2_l, EfficientNet_V2_L_Weights\n",
    ")\n",
    "from torchvision.transforms import v2\n",
    "\n",
    "# Metrics imports\n",
    "from torchmetrics import (\n",
    "    Accuracy,\n",
    "    F1Score,\n",
    "    AUROC,\n",
    "    ConfusionMatrix,\n",
    "    Precision,\n",
    "    Recall\n",
    ")\n",
    "\n",
    "# Lightning modules and callbacks\n",
    "from lightning.pytorch.callbacks import (\n",
    "    ModelCheckpoint,\n",
    "    EarlyStopping,\n",
    "    LearningRateMonitor\n",
    ")\n",
    "from pytorch_lightning.loggers import TensorBoardLogger\n",
    "\n",
    "# Set random seeds for reproducibility\n",
    "import random\n",
    "torch.manual_seed(42)\n",
    "np.random.seed(42)\n",
    "random.seed(42)"
   ],
   "metadata": {
    "id": "QtfEPzqbtmtS"
   },
   "execution_count": null,
   "outputs": []
  },
  {
   "cell_type": "code",
   "source": [
    "print(\"GPU available:\", torch.cuda.is_available())"
   ],
   "metadata": {
    "colab": {
     "base_uri": "https://localhost:8080/"
    },
    "id": "AswyutdDtmqZ",
    "executionInfo": {
     "status": "ok",
     "timestamp": 1744546444666,
     "user_tz": -480,
     "elapsed": 16,
     "user": {
      "displayName": "hui yi",
      "userId": "01791520918077108699"
     }
    },
    "outputId": "c0360f4b-f44b-4ce0-a4e0-6c1e9b13bff3"
   },
   "execution_count": null,
   "outputs": [
    {
     "output_type": "stream",
     "name": "stdout",
     "text": [
      "GPU available: True\n"
     ]
    }
   ]
  },
  {
   "cell_type": "markdown",
   "source": [
    "## 3. Define Dataset Classes"
   ],
   "metadata": {
    "id": "9BqM7u8ZtrQp"
   }
  },
  {
   "cell_type": "code",
   "source": [
    "class ImageDataset(torch.utils.data.Dataset):\n",
    "    \"\"\"Dataset for loading and preprocessing garbage classification images.\"\"\"\n",
    "\n",
    "    def __init__(self, dataframe: pl.DataFrame, training=False, img_size=224):\n",
    "        super().__init__()\n",
    "        paths = dataframe['image_path'].to_numpy().squeeze()\n",
    "        self.image_path = np.array([\n",
    "            str(Path('preprocessed_garbage_classification_images') / Path(p).name)\n",
    "            for p in paths\n",
    "        ])\n",
    "        self.garbage_type = dataframe.select('label').to_numpy().squeeze()\n",
    "        self.garbage_to_idx = {garbage: i for i, garbage in enumerate(np.unique(self.garbage_type))}\n",
    "        self.training = training\n",
    "        self.img_size = img_size\n",
    "\n",
    "        # Enhanced augmentation for training\n",
    "        self.train_transforms = v2.Compose([\n",
    "            v2.RandomHorizontalFlip(p=0.5),\n",
    "            v2.RandomVerticalFlip(p=0.5),\n",
    "            v2.RandomRotation(degrees=15),\n",
    "            v2.RandomAffine(degrees=0, translate=(0.1, 0.1)),\n",
    "            v2.RandomErasing(p=0.2),\n",
    "        ])\n",
    "\n",
    "        # Base transforms for all images\n",
    "        self.transforms = v2.Compose([\n",
    "            v2.ToDtype(torch.float32, scale=True),\n",
    "        ])\n",
    "\n",
    "    def __len__(self):\n",
    "        return len(self.image_path)\n",
    "\n",
    "    def __getitem__(self, idx):\n",
    "        image_path = self.image_path[idx]\n",
    "\n",
    "        try:\n",
    "            # Load image as grayscale\n",
    "            image = cv2.imread(image_path, cv2.IMREAD_GRAYSCALE)\n",
    "\n",
    "            # Resize to the target size\n",
    "            image = cv2.resize(image, (self.img_size, self.img_size))\n",
    "\n",
    "            # Convert to tensor\n",
    "            image = torch.from_numpy(image).float()\n",
    "\n",
    "            # Add channel dimension if needed\n",
    "            if image.dim() == 2:\n",
    "                image = image.unsqueeze(0)  # Add channel dimension (C, H, W)\n",
    "\n",
    "            # Apply augmentations if in training mode\n",
    "            if self.training:\n",
    "                image = self.train_transforms(image)\n",
    "\n",
    "            # Apply basic transforms\n",
    "            image = self.transforms(image)\n",
    "\n",
    "            # Get class label\n",
    "            garbage = self.garbage_to_idx[self.garbage_type[idx]]\n",
    "\n",
    "            return image, torch.tensor(garbage, dtype=torch.long)\n",
    "\n",
    "        except Exception as e:\n",
    "            print(f\"Error loading image {image_path}: {e}\")\n",
    "            raise"
   ],
   "metadata": {
    "id": "ruVXdsLRtmny"
   },
   "execution_count": null,
   "outputs": []
  },
  {
   "cell_type": "code",
   "source": [
    "class GarbageClassificationData(L.LightningDataModule):\n",
    "    \"\"\"Data module for garbage classification dataset.\"\"\"\n",
    "\n",
    "    def __init__(self, ws_root: Path = Path(\".\"), batch_size=32, num_workers=0, img_size=224):\n",
    "        super().__init__()\n",
    "\n",
    "        self.batch_size = batch_size\n",
    "        self.img_size = img_size\n",
    "\n",
    "        # Load datasets\n",
    "        metadata_path = ws_root / 'preprocessed_garbage_classification_images' / 'metadata'\n",
    "        self.train_ds = ImageDataset(\n",
    "            pl.read_csv(metadata_path / 'train.csv'),\n",
    "            training=True,\n",
    "            img_size=self.img_size\n",
    "        )\n",
    "        self.val_ds = ImageDataset(\n",
    "            pl.read_csv(metadata_path / 'validation.csv'),\n",
    "            img_size=self.img_size\n",
    "        )\n",
    "        self.test_ds = ImageDataset(\n",
    "            pl.read_csv(metadata_path / 'test.csv'),\n",
    "            img_size=self.img_size\n",
    "        )\n",
    "\n",
    "        # Get class info\n",
    "        self.n_classes = len(self.train_ds.garbage_to_idx)\n",
    "        self.idx_to_garbage = {v: k for k, v in self.train_ds.garbage_to_idx.items()}\n",
    "\n",
    "        # Print dataset statistics\n",
    "        print(f\"Number of training samples: {len(self.train_ds)}\")\n",
    "        print(f\"Number of validation samples: {len(self.val_ds)}\")\n",
    "        print(f\"Number of test samples: {len(self.test_ds)}\")\n",
    "        print(f\"Number of classes: {self.n_classes}\")\n",
    "        print(f\"Classes: {self.idx_to_garbage}\")\n",
    "\n",
    "        # DataLoader settings\n",
    "        self.dataloader_extras = dict(\n",
    "            num_workers=num_workers,\n",
    "            pin_memory=True,\n",
    "            persistent_workers=num_workers > 0\n",
    "        )\n",
    "\n",
    "    def train_dataloader(self):\n",
    "        return torch.utils.data.DataLoader(\n",
    "            self.train_ds,\n",
    "            batch_size=self.batch_size,\n",
    "            shuffle=True,\n",
    "            **self.dataloader_extras\n",
    "        )\n",
    "\n",
    "    def val_dataloader(self):\n",
    "        return torch.utils.data.DataLoader(\n",
    "            self.val_ds,\n",
    "            batch_size=self.batch_size*2,\n",
    "            **self.dataloader_extras\n",
    "        )\n",
    "\n",
    "    def test_dataloader(self):\n",
    "        return torch.utils.data.DataLoader(\n",
    "            self.test_ds,\n",
    "            batch_size=self.batch_size*2,\n",
    "            **self.dataloader_extras\n",
    "        )"
   ],
   "metadata": {
    "id": "18NMkwOAuRWH"
   },
   "execution_count": null,
   "outputs": []
  },
  {
   "cell_type": "markdown",
   "source": [
    "## 4. Base Classifier"
   ],
   "metadata": {
    "id": "tjS9jMzJw_R3"
   }
  },
  {
   "cell_type": "code",
   "source": [
    "class BaseGarbageClassifier(L.LightningModule):\n",
    "    \"\"\"Base class for all garbage classification models.\"\"\"\n",
    "\n",
    "    def __init__(self, n_classes, learning_rate=1e-3):\n",
    "        super().__init__()\n",
    "        self.n_classes = n_classes\n",
    "        self.learning_rate = learning_rate\n",
    "        self.criterion = nn.CrossEntropyLoss()\n",
    "\n",
    "        # Initialize metrics\n",
    "        self.train_acc = Accuracy(task=\"multiclass\", num_classes=n_classes)\n",
    "        self.val_acc = Accuracy(task=\"multiclass\", num_classes=n_classes)\n",
    "\n",
    "        # Test metrics\n",
    "        self.test_accuracy = Accuracy(task=\"multiclass\", num_classes=n_classes)\n",
    "        self.test_precision = Precision(task=\"multiclass\", num_classes=n_classes, average='macro')\n",
    "        self.test_recall = Recall(task=\"multiclass\", num_classes=n_classes, average='macro')\n",
    "        self.test_f1 = F1Score(task=\"multiclass\", num_classes=n_classes, average='macro')\n",
    "        self.test_auroc = AUROC(task=\"multiclass\", num_classes=n_classes)\n",
    "        self.test_confusion_matrix = ConfusionMatrix(task=\"multiclass\", num_classes=n_classes)\n",
    "\n",
    "        # Save hyperparameters for checkpointing\n",
    "        self.save_hyperparameters()\n",
    "\n",
    "    def forward(self, x):\n",
    "        \"\"\"Forward pass of the model. To be implemented by subclasses.\"\"\"\n",
    "        raise NotImplementedError(\"Subclasses must implement forward()\")\n",
    "\n",
    "    def training_step(self, batch, batch_idx):\n",
    "        x, y = batch\n",
    "        y_pred = self(x)\n",
    "        loss = self.criterion(y_pred, y)\n",
    "\n",
    "        # Calculate and log metrics\n",
    "        preds = torch.argmax(y_pred, dim=1)\n",
    "        acc = self.train_acc(preds, y)\n",
    "\n",
    "        # Log metrics\n",
    "        self.log('train_loss', loss, on_step=True, on_epoch=True, prog_bar=True)\n",
    "        self.log('train_acc', acc, on_step=True, on_epoch=True, prog_bar=True)\n",
    "\n",
    "        return loss\n",
    "\n",
    "    def validation_step(self, batch, batch_idx):\n",
    "        x, y = batch\n",
    "        y_pred = self(x)\n",
    "        loss = self.criterion(y_pred, y)\n",
    "\n",
    "        # Calculate metrics\n",
    "        preds = torch.argmax(y_pred, dim=1)\n",
    "        acc = self.val_acc(preds, y)\n",
    "\n",
    "        # Log metrics\n",
    "        self.log('val_loss', loss, on_epoch=True, prog_bar=True)\n",
    "        self.log('val_acc', acc, on_epoch=True, prog_bar=True)\n",
    "\n",
    "        return loss\n",
    "\n",
    "    def test_step(self, batch, batch_idx):\n",
    "        x, y = batch\n",
    "        y_pred = self(x)\n",
    "        loss = self.criterion(y_pred, y)\n",
    "\n",
    "        # Calculate predictions\n",
    "        preds = torch.argmax(y_pred, dim=1)\n",
    "        probs = torch.softmax(y_pred, dim=1)\n",
    "\n",
    "        # Update metrics\n",
    "        self.test_accuracy(preds, y)\n",
    "        self.test_precision(preds, y)\n",
    "        self.test_recall(preds, y)\n",
    "        self.test_f1(preds, y)\n",
    "        self.test_auroc(probs, y)\n",
    "        self.test_confusion_matrix(preds, y)\n",
    "\n",
    "        # Log metrics\n",
    "        self.log('test_loss', loss, on_epoch=True)\n",
    "\n",
    "        return loss\n",
    "\n",
    "    def on_test_epoch_end(self):\n",
    "        # Compute and log final metrics\n",
    "        accuracy = self.test_accuracy.compute()\n",
    "        precision = self.test_precision.compute()\n",
    "        recall = self.test_recall.compute()\n",
    "        f1_score = self.test_f1.compute()\n",
    "        auroc = self.test_auroc.compute()\n",
    "        conf_mat = self.test_confusion_matrix.compute().cpu().numpy()\n",
    "\n",
    "        # Log metrics\n",
    "        self.log('test_accuracy', accuracy)\n",
    "        self.log('test_precision', precision)\n",
    "        self.log('test_recall', recall)\n",
    "        self.log('test_f1', f1_score)\n",
    "        self.log('test_auroc', auroc)\n",
    "\n",
    "        # Print detailed metrics\n",
    "        print(\"\\n--- Test Metrics ---\")\n",
    "        print(f\"Accuracy: {accuracy:.4f}\")\n",
    "        print(f\"Precision: {precision:.4f}\")\n",
    "        print(f\"Recall: {recall:.4f}\")\n",
    "        print(f\"F1 Score: {f1_score:.4f}\")\n",
    "        print(f\"AUROC: {auroc:.4f}\")\n",
    "\n",
    "        # Visualize Confusion Matrix\n",
    "        plt.figure(figsize=(12, 10))\n",
    "        sns.heatmap(conf_mat, annot=True, fmt='d', cmap='Blues')\n",
    "        plt.title('Test Confusion Matrix')\n",
    "        plt.xlabel('Predicted Label')\n",
    "        plt.ylabel('True Label')\n",
    "        plt.tight_layout()\n",
    "        plt.savefig(f\"confusion_matrix_{self.__class__.__name__}.png\")\n",
    "        plt.show()\n",
    "\n",
    "        # Reset metrics\n",
    "        self.test_accuracy.reset()\n",
    "        self.test_precision.reset()\n",
    "        self.test_recall.reset()\n",
    "        self.test_f1.reset()\n",
    "        self.test_auroc.reset()\n",
    "        self.test_confusion_matrix.reset()\n",
    "\n",
    "    def configure_optimizers(self):\n",
    "        \"\"\"Configure the optimizer and learning rate scheduler.\"\"\"\n",
    "        optimizer = torch.optim.AdamW(\n",
    "            self.parameters(),\n",
    "            lr=self.learning_rate,\n",
    "            weight_decay=1e-4\n",
    "        )\n",
    "\n",
    "        # Learning rate scheduler\n",
    "        scheduler = torch.optim.lr_scheduler.ReduceLROnPlateau(\n",
    "            optimizer,\n",
    "            mode='min',\n",
    "            factor=0.5,\n",
    "            patience=2,\n",
    "            min_lr=1e-6\n",
    "        )\n",
    "\n",
    "        return {\n",
    "            \"optimizer\": optimizer,\n",
    "            \"lr_scheduler\": {\n",
    "                \"scheduler\": scheduler,\n",
    "                \"monitor\": \"val_loss\",\n",
    "                \"interval\": \"epoch\",\n",
    "                \"frequency\": 1\n",
    "            }\n",
    "        }"
   ],
   "metadata": {
    "id": "6AzAVlq9uazm"
   },
   "execution_count": null,
   "outputs": []
  },
  {
   "cell_type": "markdown",
   "source": [
    "## 5. Training Utilities / Functions"
   ],
   "metadata": {
    "id": "uABEx4SLuo7x"
   }
  },
  {
   "cell_type": "code",
   "source": [
    "def train_and_evaluate_model(model_class, data_module, model_name, max_epochs=10, learning_rate=1e-3):\n",
    "    \"\"\"Train and evaluate a model without checkpointing.\"\"\"\n",
    "\n",
    "    # Create timestamp for run identification\n",
    "    timestamp = datetime.now().strftime(\"%Y%m%d_%H%M%S\")\n",
    "    run_name = f\"{model_name}_{timestamp}\"\n",
    "\n",
    "    # Create logger (for metrics, not checkpoints)\n",
    "    logger = TensorBoardLogger(\n",
    "        save_dir='logs',\n",
    "        name=run_name,\n",
    "        log_graph=False  # Disable graph logging to reduce overhead\n",
    "    )\n",
    "\n",
    "    # Create callbacks (no checkpoint callback)\n",
    "    early_stopping = EarlyStopping(\n",
    "        monitor='val_loss',\n",
    "        patience=5,\n",
    "        mode='min'\n",
    "    )\n",
    "\n",
    "    lr_monitor = LearningRateMonitor(logging_interval='epoch')\n",
    "\n",
    "    # Initialize trainer without checkpoint callback\n",
    "    trainer = L.Trainer(\n",
    "        max_epochs=max_epochs,\n",
    "        accelerator='gpu' if torch.cuda.is_available() else 'cpu',\n",
    "        precision=\"16-mixed\" if torch.cuda.is_available() else \"32-true\",\n",
    "        callbacks=[early_stopping, lr_monitor],\n",
    "        logger=logger,\n",
    "        log_every_n_steps=10,\n",
    "        enable_checkpointing=False  # Disable checkpointing\n",
    "    )\n",
    "\n",
    "    # Initialize model\n",
    "    model = model_class(n_classes=data_module.n_classes, learning_rate=learning_rate)\n",
    "\n",
    "    # Train the model\n",
    "    print(f\"\\nTraining {model_name}...\")\n",
    "    trainer.fit(model=model, datamodule=data_module)\n",
    "\n",
    "    # Test the model\n",
    "    print(f\"\\nEvaluating {model_name}...\")\n",
    "    trainer.test(model=model, datamodule=data_module)\n",
    "\n",
    "    # Save the final model (after training and testing)\n",
    "    try:\n",
    "        model_save_path = f\"{model_name}_{timestamp}_final.pt\"\n",
    "        # Save only the model state dict, not the entire checkpoint\n",
    "        torch.save(model.state_dict(), model_save_path)\n",
    "        print(f\"Model saved to {model_save_path}\")\n",
    "    except Exception as e:\n",
    "        print(f\"Warning: Could not save model due to: {e}\")\n",
    "        print(\"Continuing without saving...\")\n",
    "\n",
    "    # Return the trained model and its metrics\n",
    "    return model"
   ],
   "metadata": {
    "id": "LO4lUXyXusGF",
    "executionInfo": {
     "status": "ok",
     "timestamp": 1744850398031,
     "user_tz": -480,
     "elapsed": 4,
     "user": {
      "displayName": "siri",
      "userId": "13294989799365259198"
     }
    }
   },
   "execution_count": 6,
   "outputs": []
  },
  {
   "cell_type": "markdown",
   "source": [
    "## Method 3: EfficientNetV2-M with Enhanced Regularization"
   ],
   "metadata": {
    "id": "IcbQhypktylq"
   }
  },
  {
   "cell_type": "code",
   "source": [
    "class EfficientNetV2MAdvanced(BaseGarbageClassifier):\n",
    "    \"\"\"\n",
    "    Enhanced EfficientNetV2-M model with:\n",
    "    1. Medium-sized EfficientNetV2 backbone\n",
    "    2. Advanced regularization techniques\n",
    "    3. Selective layer freezing\n",
    "    4. Multi-stage classifier head\n",
    "    \"\"\"\n",
    "\n",
    "    def __init__(self, n_classes, learning_rate=3e-4):\n",
    "        super().__init__(n_classes, learning_rate)\n",
    "\n",
    "        # Load pre-trained EfficientNetV2-M model\n",
    "        self.model = efficientnet_v2_m(weights=EfficientNet_V2_M_Weights.DEFAULT)\n",
    "\n",
    "        # Modify the first convolutional layer to accept grayscale input\n",
    "        original_conv = self.model.features[0][0]\n",
    "        new_conv = nn.Conv2d(\n",
    "            in_channels=1,\n",
    "            out_channels=original_conv.out_channels,\n",
    "            kernel_size=original_conv.kernel_size,\n",
    "            stride=original_conv.stride,\n",
    "            padding=original_conv.padding,\n",
    "            bias=original_conv.bias is not None\n",
    "        )\n",
    "\n",
    "        # Initialize weights with the average of RGB channels\n",
    "        with torch.no_grad():\n",
    "            new_conv.weight.data = original_conv.weight.data.mean(dim=1, keepdim=True)\n",
    "\n",
    "        self.model.features[0][0] = new_conv\n",
    "\n",
    "        # Freeze early layers (more efficient and stable training)\n",
    "        for i, layer in enumerate(self.model.features):\n",
    "            if i < 5:  # Freeze first 5 blocks\n",
    "                for param in layer.parameters():\n",
    "                    param.requires_grad = False\n",
    "\n",
    "        # Get the number of features in the final layer\n",
    "        in_features = self.model.classifier[1].in_features\n",
    "\n",
    "        # Remove the original classifier\n",
    "        self.model.classifier = nn.Identity()\n",
    "\n",
    "        # Create a new custom classifier\n",
    "        self.classifier = nn.Sequential(\n",
    "            nn.AdaptiveAvgPool2d(1),\n",
    "            nn.Flatten(),\n",
    "            nn.Dropout(0.3),\n",
    "            nn.Linear(in_features, 512),\n",
    "            nn.BatchNorm1d(512),\n",
    "            nn.ReLU(),\n",
    "            nn.Dropout(0.2),\n",
    "            nn.Linear(512, n_classes)\n",
    "        )\n",
    "\n",
    "        # Use label smoothing cross entropy\n",
    "        self.criterion = nn.CrossEntropyLoss(label_smoothing=0.1)\n",
    "\n",
    "    def forward(self, x):\n",
    "        # Extract features\n",
    "        features = self.model.features(x)\n",
    "        # Apply classifier\n",
    "        return self.classifier(features)"
   ],
   "metadata": {
    "id": "gKV9V1qCtmld"
   },
   "execution_count": null,
   "outputs": []
  },
  {
   "cell_type": "markdown",
   "source": [
    "## Method 4: EfficientNetV2 Ensemble with Attention"
   ],
   "metadata": {
    "id": "41X44GiHvVZ1"
   }
  },
  {
   "cell_type": "code",
   "source": [
    "class SelfAttentionEfficientNet(BaseGarbageClassifier):\n",
    "    \"\"\"\n",
    "    EfficientNetV2-M model with enhanced attention mechanisms:\n",
    "    1. Self-attention to focus on relevant regions\n",
    "    2. Channel attention to emphasize important feature maps\n",
    "    3. Custom classifier with MLP head\n",
    "    \"\"\"\n",
    "\n",
    "    def __init__(self, n_classes, learning_rate=5e-4):\n",
    "        super().__init__(n_classes, learning_rate)\n",
    "\n",
    "        # Load pre-trained EfficientNetV2-S model\n",
    "        self.model = efficientnet_v2_m(weights=EfficientNet_V2_M_Weights.DEFAULT)\n",
    "\n",
    "        # Modify first convolutional layer to handle grayscale input\n",
    "        original_conv = self.model.features[0][0]\n",
    "        new_conv = nn.Conv2d(\n",
    "            in_channels=1,\n",
    "            out_channels=original_conv.out_channels,\n",
    "            kernel_size=original_conv.kernel_size,\n",
    "            stride=original_conv.stride,\n",
    "            padding=original_conv.padding,\n",
    "            bias=original_conv.bias is not None\n",
    "        )\n",
    "\n",
    "        # Initialize weights properly\n",
    "        with torch.no_grad():\n",
    "            new_conv.weight.data = original_conv.weight.data.mean(dim=1, keepdim=True)\n",
    "\n",
    "        self.model.features[0][0] = new_conv\n",
    "\n",
    "        # Remove classifier and get feature dimension\n",
    "        feature_dim = self.model.classifier[1].in_features\n",
    "        self.model.classifier = nn.Identity()\n",
    "\n",
    "        # Channel attention module (squeeze and excitation)\n",
    "        self.channel_attention = nn.Sequential(\n",
    "            nn.AdaptiveAvgPool2d(1),\n",
    "            nn.Conv2d(feature_dim, feature_dim // 16, kernel_size=1),\n",
    "            nn.ReLU(inplace=True),\n",
    "            nn.Conv2d(feature_dim // 16, feature_dim, kernel_size=1),\n",
    "            nn.Sigmoid()\n",
    "        )\n",
    "\n",
    "        # Spatial attention module\n",
    "        self.spatial_attention = nn.Sequential(\n",
    "            nn.Conv2d(feature_dim, 1, kernel_size=7, padding=3),\n",
    "            nn.Sigmoid()\n",
    "        )\n",
    "\n",
    "        # Final classifier\n",
    "        self.classifier = nn.Sequential(\n",
    "            nn.AdaptiveAvgPool2d(1),\n",
    "            nn.Flatten(),\n",
    "            nn.Dropout(0.3),\n",
    "            nn.Linear(feature_dim, 256),\n",
    "            nn.ReLU(),\n",
    "            nn.Dropout(0.2),\n",
    "            nn.Linear(256, n_classes)\n",
    "        )\n",
    "\n",
    "        # Use label smoothing for regularization\n",
    "        self.criterion = nn.CrossEntropyLoss(label_smoothing=0.1)\n",
    "\n",
    "    def forward(self, x):\n",
    "        # Extract features through the backbone\n",
    "        features = self.model.features(x)\n",
    "\n",
    "        # Apply channel attention\n",
    "        ca_weights = self.channel_attention(features)\n",
    "        features = features * ca_weights\n",
    "\n",
    "        # Apply spatial attention\n",
    "        sa_weights = self.spatial_attention(features)\n",
    "        features = features * sa_weights\n",
    "\n",
    "        # Apply the classifier\n",
    "        return self.classifier(features)"
   ],
   "metadata": {
    "id": "KmCAbBoHvVO3"
   },
   "execution_count": null,
   "outputs": []
  },
  {
   "cell_type": "markdown",
   "source": [
    "## Method 5: Optimizing Regularization (for Model 3)"
   ],
   "metadata": {
    "id": "UCrCc85HU27Z"
   }
  },
  {
   "cell_type": "code",
   "source": [
    "from torch.optim.lr_scheduler import OneCycleLR"
   ],
   "metadata": {
    "id": "MPmFPmo8VI4z"
   },
   "execution_count": null,
   "outputs": []
  },
  {
   "cell_type": "code",
   "source": [
    "class EfficientNetV2MOptimized(L.LightningModule):\n",
    "    \"\"\"\n",
    "    Enhanced EfficientNetV2-M with Optimized Regularization:\n",
    "    1. Learning rate scheduling\n",
    "    2. Progressive unfreezing\n",
    "    3. Advanced regularization techniques\n",
    "    4. Mixup data augmentation\n",
    "    5. Optimized training process\n",
    "    \"\"\"\n",
    "\n",
    "    def __init__(self, n_classes, learning_rate=3e-4, weight_decay=1e-4):\n",
    "        super().__init__()\n",
    "        self.n_classes = n_classes\n",
    "        self.learning_rate = learning_rate\n",
    "        self.weight_decay = weight_decay\n",
    "        self.mixup_alpha = 0.2  # Parameter for mixup augmentation\n",
    "\n",
    "        # Load pre-trained EfficientNetV2-M model\n",
    "        self.model = efficientnet_v2_m(weights=EfficientNet_V2_M_Weights.DEFAULT)\n",
    "\n",
    "        # Modify the first convolutional layer to accept grayscale input\n",
    "        original_conv = self.model.features[0][0]\n",
    "        new_conv = nn.Conv2d(\n",
    "            in_channels=1,\n",
    "            out_channels=original_conv.out_channels,\n",
    "            kernel_size=original_conv.kernel_size,\n",
    "            stride=original_conv.stride,\n",
    "            padding=original_conv.padding,\n",
    "            bias=original_conv.bias is not None\n",
    "        )\n",
    "\n",
    "        # Initialize weights with the average of RGB channels\n",
    "        with torch.no_grad():\n",
    "            new_conv.weight.data = original_conv.weight.data.mean(dim=1, keepdim=True)\n",
    "\n",
    "        self.model.features[0][0] = new_conv\n",
    "\n",
    "        # Initialize frozen layer flags for progressive unfreezing\n",
    "        self.unfreeze_stage = 0\n",
    "\n",
    "        # Initially freeze all feature extraction layers\n",
    "        for i in range(len(self.model.features)):\n",
    "            for param in self.model.features[i].parameters():\n",
    "                param.requires_grad = False\n",
    "\n",
    "        # Get the number of features in the final layer\n",
    "        in_features = self.model.classifier[1].in_features\n",
    "\n",
    "        # Replace classifier with enhanced MLP head\n",
    "        self.model.classifier = nn.Sequential(\n",
    "            nn.Dropout(0.4),  # Increased dropout rate\n",
    "            nn.Linear(in_features, 1024),\n",
    "            nn.BatchNorm1d(1024),\n",
    "            nn.SiLU(),  # SiLU/Swish activation (better than ReLU)\n",
    "            nn.Dropout(0.3),\n",
    "            nn.Linear(1024, 512),\n",
    "            nn.BatchNorm1d(512),\n",
    "            nn.SiLU(),\n",
    "            nn.Dropout(0.2),\n",
    "            nn.Linear(512, n_classes)\n",
    "        )\n",
    "\n",
    "        # Use label smoothing cross entropy\n",
    "        self.criterion = nn.CrossEntropyLoss(label_smoothing=0.1)\n",
    "\n",
    "        # Initialize metrics\n",
    "        self.train_acc = Accuracy(task=\"multiclass\", num_classes=n_classes)\n",
    "        self.val_acc = Accuracy(task=\"multiclass\", num_classes=n_classes)\n",
    "\n",
    "        # Test metrics\n",
    "        self.test_accuracy = Accuracy(task=\"multiclass\", num_classes=n_classes)\n",
    "        self.test_precision = Precision(task=\"multiclass\", num_classes=n_classes, average='macro')\n",
    "        self.test_recall = Recall(task=\"multiclass\", num_classes=n_classes, average='macro')\n",
    "        self.test_f1 = F1Score(task=\"multiclass\", num_classes=n_classes, average='macro')\n",
    "        self.test_auroc = AUROC(task=\"multiclass\", num_classes=n_classes)\n",
    "        self.test_confusion_matrix = ConfusionMatrix(task=\"multiclass\", num_classes=n_classes)\n",
    "\n",
    "        # Save hyperparameters\n",
    "        self.save_hyperparameters()\n",
    "\n",
    "    def mixup_data(self, x, y):\n",
    "        \"\"\"Apply mixup augmentation to the batch.\"\"\"\n",
    "        if self.training and self.mixup_alpha > 0:\n",
    "            lam = np.random.beta(self.mixup_alpha, self.mixup_alpha)\n",
    "            batch_size = x.size()[0]\n",
    "            index = torch.randperm(batch_size).to(x.device)\n",
    "\n",
    "            mixed_x = lam * x + (1 - lam) * x[index, :]\n",
    "            y_a, y_b = y, y[index]\n",
    "            return mixed_x, y_a, y_b, lam\n",
    "        else:\n",
    "            return x, y, y, 1.0\n",
    "\n",
    "    def forward(self, x):\n",
    "        return self.model(x)\n",
    "\n",
    "    def training_step(self, batch, batch_idx):\n",
    "        x, y = batch\n",
    "\n",
    "        # Apply mixup if training\n",
    "        if self.training:\n",
    "            x, y_a, y_b, lam = self.mixup_data(x, y)\n",
    "            y_pred = self(x)\n",
    "            loss = lam * self.criterion(y_pred, y_a) + (1 - lam) * self.criterion(y_pred, y_b)\n",
    "        else:\n",
    "            y_pred = self(x)\n",
    "            loss = self.criterion(y_pred, y)\n",
    "\n",
    "        # Calculate and log metrics\n",
    "        preds = torch.argmax(y_pred, dim=1)\n",
    "        acc = self.train_acc(preds, y)\n",
    "\n",
    "        # Log metrics\n",
    "        self.log('train_loss', loss, on_step=True, on_epoch=True, prog_bar=True)\n",
    "        self.log('train_acc', acc, on_step=True, on_epoch=True, prog_bar=True)\n",
    "\n",
    "        return loss\n",
    "\n",
    "    def validation_step(self, batch, batch_idx):\n",
    "        x, y = batch\n",
    "        y_pred = self(x)\n",
    "        loss = self.criterion(y_pred, y)\n",
    "\n",
    "        # Calculate metrics\n",
    "        preds = torch.argmax(y_pred, dim=1)\n",
    "        acc = self.val_acc(preds, y)\n",
    "\n",
    "        # Log metrics\n",
    "        self.log('val_loss', loss, on_epoch=True, prog_bar=True)\n",
    "        self.log('val_acc', acc, on_epoch=True, prog_bar=True)\n",
    "\n",
    "        return loss\n",
    "\n",
    "    def test_step(self, batch, batch_idx):\n",
    "        x, y = batch\n",
    "        y_pred = self(x)\n",
    "        loss = self.criterion(y_pred, y)\n",
    "\n",
    "        # Calculate predictions\n",
    "        preds = torch.argmax(y_pred, dim=1)\n",
    "        probs = torch.softmax(y_pred, dim=1)\n",
    "\n",
    "        # Update metrics\n",
    "        self.test_accuracy(preds, y)\n",
    "        self.test_precision(preds, y)\n",
    "        self.test_recall(preds, y)\n",
    "        self.test_f1(preds, y)\n",
    "        self.test_auroc(probs, y)\n",
    "        self.test_confusion_matrix(preds, y)\n",
    "\n",
    "        # Log metrics\n",
    "        self.log('test_loss', loss, on_epoch=True)\n",
    "\n",
    "        return loss\n",
    "\n",
    "    def on_test_epoch_end(self):\n",
    "        # Compute and log final metrics\n",
    "        accuracy = self.test_accuracy.compute()\n",
    "        precision = self.test_precision.compute()\n",
    "        recall = self.test_recall.compute()\n",
    "        f1_score = self.test_f1.compute()\n",
    "        auroc = self.test_auroc.compute()\n",
    "        conf_mat = self.test_confusion_matrix.compute().cpu().numpy()\n",
    "\n",
    "        # Store metrics in self for access after training\n",
    "        self.final_metrics = {\n",
    "            'accuracy': accuracy.item(),\n",
    "            'precision': precision.item(),\n",
    "            'recall': recall.item(),\n",
    "            'f1': f1_score.item(),\n",
    "            'auroc': auroc.item()\n",
    "        }\n",
    "\n",
    "        # Print detailed metrics\n",
    "        print(\"\\n--- Test Metrics ---\")\n",
    "        print(f\"Accuracy: {accuracy:.4f}\")\n",
    "        print(f\"Precision: {precision:.4f}\")\n",
    "        print(f\"Recall: {recall:.4f}\")\n",
    "        print(f\"F1 Score: {f1_score:.4f}\")\n",
    "        print(f\"AUROC: {auroc:.4f}\")\n",
    "\n",
    "        # Reset metrics\n",
    "        self.test_accuracy.reset()\n",
    "        self.test_precision.reset()\n",
    "        self.test_recall.reset()\n",
    "        self.test_f1.reset()\n",
    "        self.test_auroc.reset()\n",
    "        self.test_confusion_matrix.reset()\n",
    "\n",
    "    def on_train_epoch_start(self):\n",
    "        \"\"\"\n",
    "        Progressive unfreezing of layers based on training epoch.\n",
    "        \"\"\"\n",
    "        # Unfreeze more layers as training progresses\n",
    "        total_blocks = len(self.model.features)\n",
    "\n",
    "        if self.current_epoch == 3 and self.unfreeze_stage == 0:\n",
    "            # Unfreeze the last 30% of feature layers after 3 epochs\n",
    "            unfreeze_from = int(total_blocks * 0.7)\n",
    "            for i in range(unfreeze_from, total_blocks):\n",
    "                for param in self.model.features[i].parameters():\n",
    "                    param.requires_grad = True\n",
    "            print(f\"Unfreezing layers from {unfreeze_from} to {total_blocks-1}\")\n",
    "            self.unfreeze_stage = 1\n",
    "\n",
    "        elif self.current_epoch == 6 and self.unfreeze_stage == 1:\n",
    "            # Unfreeze more layers after 6 epochs\n",
    "            unfreeze_from = int(total_blocks * 0.4)\n",
    "            for i in range(unfreeze_from, total_blocks):\n",
    "                for param in self.model.features[i].parameters():\n",
    "                    param.requires_grad = True\n",
    "            print(f\"Unfreezing layers from {unfreeze_from} to {total_blocks-1}\")\n",
    "            self.unfreeze_stage = 2\n",
    "\n",
    "        elif self.current_epoch == 9 and self.unfreeze_stage == 2:\n",
    "            # Unfreeze all layers after 9 epochs\n",
    "            for i in range(total_blocks):\n",
    "                for param in self.model.features[i].parameters():\n",
    "                    param.requires_grad = True\n",
    "            print(\"Unfreezing all layers\")\n",
    "            self.unfreeze_stage = 3\n",
    "\n",
    "    def configure_optimizers(self):\n",
    "        \"\"\"\n",
    "        Configure optimizer with weight decay and learning rate scheduler.\n",
    "        \"\"\"\n",
    "        # Create optimizer with weight decay\n",
    "        optimizer = torch.optim.AdamW(\n",
    "            self.parameters(),\n",
    "            lr=self.learning_rate,\n",
    "            weight_decay=self.weight_decay\n",
    "        )\n",
    "\n",
    "        # OneCycleLR scheduler\n",
    "        scheduler = {\n",
    "            \"scheduler\": OneCycleLR(\n",
    "                optimizer,\n",
    "                max_lr=self.learning_rate,\n",
    "                total_steps=self.trainer.estimated_stepping_batches,\n",
    "                pct_start=0.1,  # 10% warmup\n",
    "                div_factor=25,  # initial_lr = max_lr/25\n",
    "                final_div_factor=1000,  # min_lr = initial_lr/1000\n",
    "            ),\n",
    "            \"interval\": \"step\",\n",
    "            \"frequency\": 1\n",
    "        }\n",
    "\n",
    "        return {\"optimizer\": optimizer, \"lr_scheduler\": scheduler}"
   ],
   "metadata": {
    "id": "6cGlGahCU9Tc"
   },
   "execution_count": null,
   "outputs": []
  },
  {
   "cell_type": "markdown",
   "source": [
    "## Method 6: Change to a larger backbone (EfficientNetV2-L)"
   ],
   "metadata": {
    "id": "4gzrWgozXU7Z"
   }
  },
  {
   "cell_type": "code",
   "source": [
    "from torch.optim.lr_scheduler import OneCycleLR"
   ],
   "metadata": {
    "id": "Brk-dprWYTEP"
   },
   "execution_count": null,
   "outputs": []
  },
  {
   "cell_type": "code",
   "source": [
    "class EfficientNetV2L(L.LightningModule):\n",
    "    \"\"\"\n",
    "    Changed EfficientNetV2-M to EfficientNetV2-L:\n",
    "    \"\"\"\n",
    "\n",
    "    def __init__(self, n_classes, learning_rate=3e-4, weight_decay=1e-4):\n",
    "        super().__init__()\n",
    "        self.n_classes = n_classes\n",
    "        self.learning_rate = learning_rate\n",
    "        self.weight_decay = weight_decay\n",
    "        self.mixup_alpha = 0.2  # Parameter for mixup augmentation\n",
    "\n",
    "        # Load pre-trained EfficientNetV2-M model\n",
    "        self.model = efficientnet_v2_l(weights=EfficientNet_V2_L_Weights.DEFAULT)\n",
    "\n",
    "        # Modify the first convolutional layer to accept grayscale input\n",
    "        original_conv = self.model.features[0][0]\n",
    "        new_conv = nn.Conv2d(\n",
    "            in_channels=1,\n",
    "            out_channels=original_conv.out_channels,\n",
    "            kernel_size=original_conv.kernel_size,\n",
    "            stride=original_conv.stride,\n",
    "            padding=original_conv.padding,\n",
    "            bias=original_conv.bias is not None\n",
    "        )\n",
    "\n",
    "        # Initialize weights with the average of RGB channels\n",
    "        with torch.no_grad():\n",
    "            new_conv.weight.data = original_conv.weight.data.mean(dim=1, keepdim=True)\n",
    "\n",
    "        self.model.features[0][0] = new_conv\n",
    "\n",
    "        # Initialize frozen layer flags for progressive unfreezing\n",
    "        self.unfreeze_stage = 0\n",
    "\n",
    "        # Initially freeze all feature extraction layers\n",
    "        for i in range(len(self.model.features)):\n",
    "            for param in self.model.features[i].parameters():\n",
    "                param.requires_grad = False\n",
    "\n",
    "        # Get the number of features in the final layer\n",
    "        in_features = self.model.classifier[1].in_features\n",
    "\n",
    "        # Replace classifier with enhanced MLP head\n",
    "        self.model.classifier = nn.Sequential(\n",
    "            nn.Dropout(0.4),  # Increased dropout rate\n",
    "            nn.Linear(in_features, 1024),\n",
    "            nn.BatchNorm1d(1024),\n",
    "            nn.SiLU(),  # SiLU/Swish activation (better than ReLU)\n",
    "            nn.Dropout(0.3),\n",
    "            nn.Linear(1024, 512),\n",
    "            nn.BatchNorm1d(512),\n",
    "            nn.SiLU(),\n",
    "            nn.Dropout(0.2),\n",
    "            nn.Linear(512, n_classes)\n",
    "        )\n",
    "\n",
    "        # Use label smoothing cross entropy\n",
    "        self.criterion = nn.CrossEntropyLoss(label_smoothing=0.1)\n",
    "\n",
    "        # Initialize metrics\n",
    "        self.train_acc = Accuracy(task=\"multiclass\", num_classes=n_classes)\n",
    "        self.val_acc = Accuracy(task=\"multiclass\", num_classes=n_classes)\n",
    "\n",
    "        # Test metrics\n",
    "        self.test_accuracy = Accuracy(task=\"multiclass\", num_classes=n_classes)\n",
    "        self.test_precision = Precision(task=\"multiclass\", num_classes=n_classes, average='macro')\n",
    "        self.test_recall = Recall(task=\"multiclass\", num_classes=n_classes, average='macro')\n",
    "        self.test_f1 = F1Score(task=\"multiclass\", num_classes=n_classes, average='macro')\n",
    "        self.test_auroc = AUROC(task=\"multiclass\", num_classes=n_classes)\n",
    "        self.test_confusion_matrix = ConfusionMatrix(task=\"multiclass\", num_classes=n_classes)\n",
    "\n",
    "        # Save hyperparameters\n",
    "        self.save_hyperparameters()\n",
    "\n",
    "    def mixup_data(self, x, y):\n",
    "        \"\"\"Apply mixup augmentation to the batch.\"\"\"\n",
    "        if self.training and self.mixup_alpha > 0:\n",
    "            lam = np.random.beta(self.mixup_alpha, self.mixup_alpha)\n",
    "            batch_size = x.size()[0]\n",
    "            index = torch.randperm(batch_size).to(x.device)\n",
    "\n",
    "            mixed_x = lam * x + (1 - lam) * x[index, :]\n",
    "            y_a, y_b = y, y[index]\n",
    "            return mixed_x, y_a, y_b, lam\n",
    "        else:\n",
    "            return x, y, y, 1.0\n",
    "\n",
    "    def forward(self, x):\n",
    "        return self.model(x)\n",
    "\n",
    "    def training_step(self, batch, batch_idx):\n",
    "        x, y = batch\n",
    "\n",
    "        # Apply mixup if training\n",
    "        if self.training:\n",
    "            x, y_a, y_b, lam = self.mixup_data(x, y)\n",
    "            y_pred = self(x)\n",
    "            loss = lam * self.criterion(y_pred, y_a) + (1 - lam) * self.criterion(y_pred, y_b)\n",
    "        else:\n",
    "            y_pred = self(x)\n",
    "            loss = self.criterion(y_pred, y)\n",
    "\n",
    "        # Calculate and log metrics\n",
    "        preds = torch.argmax(y_pred, dim=1)\n",
    "        acc = self.train_acc(preds, y)\n",
    "\n",
    "        # Log metrics\n",
    "        self.log('train_loss', loss, on_step=True, on_epoch=True, prog_bar=True)\n",
    "        self.log('train_acc', acc, on_step=True, on_epoch=True, prog_bar=True)\n",
    "\n",
    "        return loss\n",
    "\n",
    "    def validation_step(self, batch, batch_idx):\n",
    "        x, y = batch\n",
    "        y_pred = self(x)\n",
    "        loss = self.criterion(y_pred, y)\n",
    "\n",
    "        # Calculate metrics\n",
    "        preds = torch.argmax(y_pred, dim=1)\n",
    "        acc = self.val_acc(preds, y)\n",
    "\n",
    "        # Log metrics\n",
    "        self.log('val_loss', loss, on_epoch=True, prog_bar=True)\n",
    "        self.log('val_acc', acc, on_epoch=True, prog_bar=True)\n",
    "\n",
    "        return loss\n",
    "\n",
    "    def test_step(self, batch, batch_idx):\n",
    "        x, y = batch\n",
    "        y_pred = self(x)\n",
    "        loss = self.criterion(y_pred, y)\n",
    "\n",
    "        # Calculate predictions\n",
    "        preds = torch.argmax(y_pred, dim=1)\n",
    "        probs = torch.softmax(y_pred, dim=1)\n",
    "\n",
    "        # Update metrics\n",
    "        self.test_accuracy(preds, y)\n",
    "        self.test_precision(preds, y)\n",
    "        self.test_recall(preds, y)\n",
    "        self.test_f1(preds, y)\n",
    "        self.test_auroc(probs, y)\n",
    "        self.test_confusion_matrix(preds, y)\n",
    "\n",
    "        # Log metrics\n",
    "        self.log('test_loss', loss, on_epoch=True)\n",
    "\n",
    "        return loss\n",
    "\n",
    "    def on_test_epoch_end(self):\n",
    "        # Compute and log final metrics\n",
    "        accuracy = self.test_accuracy.compute()\n",
    "        precision = self.test_precision.compute()\n",
    "        recall = self.test_recall.compute()\n",
    "        f1_score = self.test_f1.compute()\n",
    "        auroc = self.test_auroc.compute()\n",
    "        conf_mat = self.test_confusion_matrix.compute().cpu().numpy()\n",
    "\n",
    "        # Store metrics in self for access after training\n",
    "        self.final_metrics = {\n",
    "            'accuracy': accuracy.item(),\n",
    "            'precision': precision.item(),\n",
    "            'recall': recall.item(),\n",
    "            'f1': f1_score.item(),\n",
    "            'auroc': auroc.item()\n",
    "        }\n",
    "\n",
    "        # Print detailed metrics\n",
    "        print(\"\\n--- Test Metrics ---\")\n",
    "        print(f\"Accuracy: {accuracy:.4f}\")\n",
    "        print(f\"Precision: {precision:.4f}\")\n",
    "        print(f\"Recall: {recall:.4f}\")\n",
    "        print(f\"F1 Score: {f1_score:.4f}\")\n",
    "        print(f\"AUROC: {auroc:.4f}\")\n",
    "\n",
    "        # Reset metrics\n",
    "        self.test_accuracy.reset()\n",
    "        self.test_precision.reset()\n",
    "        self.test_recall.reset()\n",
    "        self.test_f1.reset()\n",
    "        self.test_auroc.reset()\n",
    "        self.test_confusion_matrix.reset()\n",
    "\n",
    "    def on_train_epoch_start(self):\n",
    "        \"\"\"\n",
    "        Progressive unfreezing of layers based on training epoch.\n",
    "        \"\"\"\n",
    "        # Unfreeze more layers as training progresses\n",
    "        total_blocks = len(self.model.features)\n",
    "\n",
    "        if self.current_epoch == 3 and self.unfreeze_stage == 0:\n",
    "            # Unfreeze the last 30% of feature layers after 3 epochs\n",
    "            unfreeze_from = int(total_blocks * 0.7)\n",
    "            for i in range(unfreeze_from, total_blocks):\n",
    "                for param in self.model.features[i].parameters():\n",
    "                    param.requires_grad = True\n",
    "            print(f\"Unfreezing layers from {unfreeze_from} to {total_blocks-1}\")\n",
    "            self.unfreeze_stage = 1\n",
    "\n",
    "        elif self.current_epoch == 6 and self.unfreeze_stage == 1:\n",
    "            # Unfreeze more layers after 6 epochs\n",
    "            unfreeze_from = int(total_blocks * 0.4)\n",
    "            for i in range(unfreeze_from, total_blocks):\n",
    "                for param in self.model.features[i].parameters():\n",
    "                    param.requires_grad = True\n",
    "            print(f\"Unfreezing layers from {unfreeze_from} to {total_blocks-1}\")\n",
    "            self.unfreeze_stage = 2\n",
    "\n",
    "        elif self.current_epoch == 9 and self.unfreeze_stage == 2:\n",
    "            # Unfreeze all layers after 9 epochs\n",
    "            for i in range(total_blocks):\n",
    "                for param in self.model.features[i].parameters():\n",
    "                    param.requires_grad = True\n",
    "            print(\"Unfreezing all layers\")\n",
    "            self.unfreeze_stage = 3\n",
    "\n",
    "    def configure_optimizers(self):\n",
    "        \"\"\"\n",
    "        Configure optimizer with weight decay and learning rate scheduler.\n",
    "        \"\"\"\n",
    "        # Create optimizer with weight decay\n",
    "        optimizer = torch.optim.AdamW(\n",
    "            self.parameters(),\n",
    "            lr=self.learning_rate,\n",
    "            weight_decay=self.weight_decay\n",
    "        )\n",
    "\n",
    "        # OneCycleLR scheduler\n",
    "        scheduler = {\n",
    "            \"scheduler\": OneCycleLR(\n",
    "                optimizer,\n",
    "                max_lr=self.learning_rate,\n",
    "                total_steps=self.trainer.estimated_stepping_batches,\n",
    "                pct_start=0.1,  # 10% warmup\n",
    "                div_factor=25,  # initial_lr = max_lr/25\n",
    "                final_div_factor=1000,  # min_lr = initial_lr/1000\n",
    "            ),\n",
    "            \"interval\": \"step\",\n",
    "            \"frequency\": 1\n",
    "        }\n",
    "\n",
    "        return {\"optimizer\": optimizer, \"lr_scheduler\": scheduler}"
   ],
   "metadata": {
    "id": "fj4JS2CuXUZe"
   },
   "execution_count": null,
   "outputs": []
  },
  {
   "cell_type": "markdown",
   "source": [
    "## Method 7: Change optimizer to RAdam"
   ],
   "metadata": {
    "id": "tBRlTby3nO1k"
   }
  },
  {
   "cell_type": "code",
   "source": [
    "from torch.optim.lr_scheduler import OneCycleLR"
   ],
   "metadata": {
    "id": "ypFFSOztrrbw"
   },
   "execution_count": null,
   "outputs": []
  },
  {
   "cell_type": "code",
   "source": [
    "class EfficientNetV2M_RAdam(L.LightningModule):\n",
    "    \"\"\"\n",
    "    Change back to EfficientNetV2-M & change optimizer to RAdam:\n",
    "    \"\"\"\n",
    "\n",
    "    def __init__(self, n_classes, learning_rate=3e-4, weight_decay=1e-4):\n",
    "        super().__init__()\n",
    "        self.n_classes = n_classes\n",
    "        self.learning_rate = learning_rate\n",
    "        self.weight_decay = weight_decay\n",
    "        self.mixup_alpha = 0.2  # Parameter for mixup augmentation\n",
    "\n",
    "        # Load pre-trained EfficientNetV2-M model\n",
    "        self.model = efficientnet_v2_m(weights=EfficientNet_V2_M_Weights.DEFAULT)\n",
    "\n",
    "        # Modify the first convolutional layer to accept grayscale input\n",
    "        original_conv = self.model.features[0][0]\n",
    "        new_conv = nn.Conv2d(\n",
    "            in_channels=1,\n",
    "            out_channels=original_conv.out_channels,\n",
    "            kernel_size=original_conv.kernel_size,\n",
    "            stride=original_conv.stride,\n",
    "            padding=original_conv.padding,\n",
    "            bias=original_conv.bias is not None\n",
    "        )\n",
    "\n",
    "        # Initialize weights with the average of RGB channels\n",
    "        with torch.no_grad():\n",
    "            new_conv.weight.data = original_conv.weight.data.mean(dim=1, keepdim=True)\n",
    "\n",
    "        self.model.features[0][0] = new_conv\n",
    "\n",
    "        # Initialize frozen layer flags for progressive unfreezing\n",
    "        self.unfreeze_stage = 0\n",
    "\n",
    "        # Initially freeze all feature extraction layers\n",
    "        for i in range(len(self.model.features)):\n",
    "            for param in self.model.features[i].parameters():\n",
    "                param.requires_grad = False\n",
    "\n",
    "        # Get the number of features in the final layer\n",
    "        in_features = self.model.classifier[1].in_features\n",
    "\n",
    "        # Replace classifier with enhanced MLP head\n",
    "        self.model.classifier = nn.Sequential(\n",
    "            nn.Dropout(0.4),  # Increased dropout rate\n",
    "            nn.Linear(in_features, 1024),\n",
    "            nn.BatchNorm1d(1024),\n",
    "            nn.SiLU(),  # SiLU/Swish activation (better than ReLU)\n",
    "            nn.Dropout(0.3),\n",
    "            nn.Linear(1024, 512),\n",
    "            nn.BatchNorm1d(512),\n",
    "            nn.SiLU(),\n",
    "            nn.Dropout(0.2),\n",
    "            nn.Linear(512, n_classes)\n",
    "        )\n",
    "\n",
    "        # Use label smoothing cross entropy\n",
    "        self.criterion = nn.CrossEntropyLoss(label_smoothing=0.1)\n",
    "\n",
    "        # Initialize metrics\n",
    "        self.train_acc = Accuracy(task=\"multiclass\", num_classes=n_classes)\n",
    "        self.val_acc = Accuracy(task=\"multiclass\", num_classes=n_classes)\n",
    "\n",
    "        # Test metrics\n",
    "        self.test_accuracy = Accuracy(task=\"multiclass\", num_classes=n_classes)\n",
    "        self.test_precision = Precision(task=\"multiclass\", num_classes=n_classes, average='macro')\n",
    "        self.test_recall = Recall(task=\"multiclass\", num_classes=n_classes, average='macro')\n",
    "        self.test_f1 = F1Score(task=\"multiclass\", num_classes=n_classes, average='macro')\n",
    "        self.test_auroc = AUROC(task=\"multiclass\", num_classes=n_classes)\n",
    "        self.test_confusion_matrix = ConfusionMatrix(task=\"multiclass\", num_classes=n_classes)\n",
    "\n",
    "        # Save hyperparameters\n",
    "        self.save_hyperparameters()\n",
    "\n",
    "    def mixup_data(self, x, y):\n",
    "        \"\"\"Apply mixup augmentation to the batch.\"\"\"\n",
    "        if self.training and self.mixup_alpha > 0:\n",
    "            lam = np.random.beta(self.mixup_alpha, self.mixup_alpha)\n",
    "            batch_size = x.size()[0]\n",
    "            index = torch.randperm(batch_size).to(x.device)\n",
    "\n",
    "            mixed_x = lam * x + (1 - lam) * x[index, :]\n",
    "            y_a, y_b = y, y[index]\n",
    "            return mixed_x, y_a, y_b, lam\n",
    "        else:\n",
    "            return x, y, y, 1.0\n",
    "\n",
    "    def forward(self, x):\n",
    "        return self.model(x)\n",
    "\n",
    "    def training_step(self, batch, batch_idx):\n",
    "        x, y = batch\n",
    "\n",
    "        # Apply mixup if training\n",
    "        if self.training:\n",
    "            x, y_a, y_b, lam = self.mixup_data(x, y)\n",
    "            y_pred = self(x)\n",
    "            loss = lam * self.criterion(y_pred, y_a) + (1 - lam) * self.criterion(y_pred, y_b)\n",
    "        else:\n",
    "            y_pred = self(x)\n",
    "            loss = self.criterion(y_pred, y)\n",
    "\n",
    "        # Calculate and log metrics\n",
    "        preds = torch.argmax(y_pred, dim=1)\n",
    "        acc = self.train_acc(preds, y)\n",
    "\n",
    "        # Log metrics\n",
    "        self.log('train_loss', loss, on_step=True, on_epoch=True, prog_bar=True)\n",
    "        self.log('train_acc', acc, on_step=True, on_epoch=True, prog_bar=True)\n",
    "\n",
    "        return loss\n",
    "\n",
    "    def validation_step(self, batch, batch_idx):\n",
    "        x, y = batch\n",
    "        y_pred = self(x)\n",
    "        loss = self.criterion(y_pred, y)\n",
    "\n",
    "        # Calculate metrics\n",
    "        preds = torch.argmax(y_pred, dim=1)\n",
    "        acc = self.val_acc(preds, y)\n",
    "\n",
    "        # Log metrics\n",
    "        self.log('val_loss', loss, on_epoch=True, prog_bar=True)\n",
    "        self.log('val_acc', acc, on_epoch=True, prog_bar=True)\n",
    "\n",
    "        return loss\n",
    "\n",
    "    def test_step(self, batch, batch_idx):\n",
    "        x, y = batch\n",
    "        y_pred = self(x)\n",
    "        loss = self.criterion(y_pred, y)\n",
    "\n",
    "        # Calculate predictions\n",
    "        preds = torch.argmax(y_pred, dim=1)\n",
    "        probs = torch.softmax(y_pred, dim=1)\n",
    "\n",
    "        # Update metrics\n",
    "        self.test_accuracy(preds, y)\n",
    "        self.test_precision(preds, y)\n",
    "        self.test_recall(preds, y)\n",
    "        self.test_f1(preds, y)\n",
    "        self.test_auroc(probs, y)\n",
    "        self.test_confusion_matrix(preds, y)\n",
    "\n",
    "        # Log metrics\n",
    "        self.log('test_loss', loss, on_epoch=True)\n",
    "\n",
    "        return loss\n",
    "\n",
    "    def on_test_epoch_end(self):\n",
    "        # Compute and log final metrics\n",
    "        accuracy = self.test_accuracy.compute()\n",
    "        precision = self.test_precision.compute()\n",
    "        recall = self.test_recall.compute()\n",
    "        f1_score = self.test_f1.compute()\n",
    "        auroc = self.test_auroc.compute()\n",
    "        conf_mat = self.test_confusion_matrix.compute().cpu().numpy()\n",
    "\n",
    "        # Store metrics in self for access after training\n",
    "        self.final_metrics = {\n",
    "            'accuracy': accuracy.item(),\n",
    "            'precision': precision.item(),\n",
    "            'recall': recall.item(),\n",
    "            'f1': f1_score.item(),\n",
    "            'auroc': auroc.item()\n",
    "        }\n",
    "\n",
    "        # Print detailed metrics\n",
    "        print(\"\\n--- Test Metrics ---\")\n",
    "        print(f\"Accuracy: {accuracy:.4f}\")\n",
    "        print(f\"Precision: {precision:.4f}\")\n",
    "        print(f\"Recall: {recall:.4f}\")\n",
    "        print(f\"F1 Score: {f1_score:.4f}\")\n",
    "        print(f\"AUROC: {auroc:.4f}\")\n",
    "\n",
    "        # Reset metrics\n",
    "        self.test_accuracy.reset()\n",
    "        self.test_precision.reset()\n",
    "        self.test_recall.reset()\n",
    "        self.test_f1.reset()\n",
    "        self.test_auroc.reset()\n",
    "        self.test_confusion_matrix.reset()\n",
    "\n",
    "    def on_train_epoch_start(self):\n",
    "        \"\"\"\n",
    "        Progressive unfreezing of layers based on training epoch.\n",
    "        \"\"\"\n",
    "        # Unfreeze more layers as training progresses\n",
    "        total_blocks = len(self.model.features)\n",
    "\n",
    "        if self.current_epoch == 3 and self.unfreeze_stage == 0:\n",
    "            # Unfreeze the last 30% of feature layers after 3 epochs\n",
    "            unfreeze_from = int(total_blocks * 0.7)\n",
    "            for i in range(unfreeze_from, total_blocks):\n",
    "                for param in self.model.features[i].parameters():\n",
    "                    param.requires_grad = True\n",
    "            print(f\"Unfreezing layers from {unfreeze_from} to {total_blocks-1}\")\n",
    "            self.unfreeze_stage = 1\n",
    "\n",
    "        elif self.current_epoch == 6 and self.unfreeze_stage == 1:\n",
    "            # Unfreeze more layers after 6 epochs\n",
    "            unfreeze_from = int(total_blocks * 0.4)\n",
    "            for i in range(unfreeze_from, total_blocks):\n",
    "                for param in self.model.features[i].parameters():\n",
    "                    param.requires_grad = True\n",
    "            print(f\"Unfreezing layers from {unfreeze_from} to {total_blocks-1}\")\n",
    "            self.unfreeze_stage = 2\n",
    "\n",
    "        elif self.current_epoch == 9 and self.unfreeze_stage == 2:\n",
    "            # Unfreeze all layers after 9 epochs\n",
    "            for i in range(total_blocks):\n",
    "                for param in self.model.features[i].parameters():\n",
    "                    param.requires_grad = True\n",
    "            print(\"Unfreezing all layers\")\n",
    "            self.unfreeze_stage = 3\n",
    "\n",
    "    def configure_optimizers(self):\n",
    "        \"\"\"\n",
    "        Configure optimizer with weight decay and learning rate scheduler.\n",
    "        \"\"\"\n",
    "        # Create optimizer with weight decay\n",
    "        optimizer = torch.optim.RAdam(\n",
    "            self.parameters(),\n",
    "            lr=self.learning_rate,\n",
    "            weight_decay=self.weight_decay\n",
    "        )\n",
    "\n",
    "        # OneCycleLR scheduler\n",
    "        scheduler = {\n",
    "            \"scheduler\": OneCycleLR(\n",
    "                optimizer,\n",
    "                max_lr=self.learning_rate,\n",
    "                total_steps=self.trainer.estimated_stepping_batches,\n",
    "                pct_start=0.1,  # 10% warmup\n",
    "                div_factor=25,  # initial_lr = max_lr/25\n",
    "                final_div_factor=1000,  # min_lr = initial_lr/1000\n",
    "            ),\n",
    "            \"interval\": \"step\",\n",
    "            \"frequency\": 1\n",
    "        }\n",
    "\n",
    "        return {\"optimizer\": optimizer, \"lr_scheduler\": scheduler}"
   ],
   "metadata": {
    "id": "iN7Ywl03nYZm"
   },
   "execution_count": null,
   "outputs": []
  },
  {
   "cell_type": "markdown",
   "source": [
    "## Method 8: Try DropBlock instead of standard Dropout & Optimizer as RAdam"
   ],
   "metadata": {
    "id": "3_Z7LDQR1Mvn"
   }
  },
  {
   "cell_type": "code",
   "source": [
    "from torch.optim.lr_scheduler import OneCycleLR"
   ],
   "metadata": {
    "id": "lQwOHlRZ1Pb9"
   },
   "execution_count": null,
   "outputs": []
  },
  {
   "cell_type": "code",
   "source": [
    "class DropBlock2D(nn.Module):\n",
    "    \"\"\"\n",
    "    DropBlock: A regularization method for convolutional networks.\n",
    "    Instead of dropping random pixels, it drops contiguous regions of the feature map.\n",
    "\n",
    "    Args:\n",
    "        drop_prob (float): Probability of activating DropBlock\n",
    "        block_size (int): Size of the block to drop\n",
    "    \"\"\"\n",
    "    def __init__(self, drop_prob=0.1, block_size=7):\n",
    "        super(DropBlock2D, self).__init__()\n",
    "        self.drop_prob = drop_prob\n",
    "        self.block_size = block_size\n",
    "\n",
    "    def forward(self, x):\n",
    "        # If not in training mode or drop_prob is 0, return input\n",
    "        if not self.training or self.drop_prob == 0:\n",
    "            return x\n",
    "\n",
    "        # Get dimensions\n",
    "        _, _, height, width = x.shape\n",
    "\n",
    "        # Calculate gamma (sampling rate)\n",
    "        gamma = self.drop_prob / (self.block_size ** 2)\n",
    "\n",
    "        # Sample mask\n",
    "        mask = torch.rand(x.shape[0], 1, height, width, device=x.device) < gamma\n",
    "\n",
    "        # Calculate block mask by average pooling the random mask\n",
    "        block_mask = F.max_pool2d(\n",
    "            input=mask.float(),\n",
    "            kernel_size=(self.block_size, self.block_size),\n",
    "            stride=(1, 1),\n",
    "            padding=self.block_size // 2\n",
    "        )\n",
    "\n",
    "        # Invert the block mask and reshape\n",
    "        block_mask = 1 - block_mask\n",
    "\n",
    "        # Normalize the features\n",
    "        norm_scale = block_mask.numel() / (block_mask.sum() + 1e-7)\n",
    "\n",
    "        # Apply mask\n",
    "        return x * block_mask * norm_scale\n",
    "\n",
    "class EfficientNetV2M_DropBlock(L.LightningModule):\n",
    "    \"\"\"\n",
    "    Enhanced EfficientNetV2-M with DropBlock regularization:\n",
    "    - Replaces standard Dropout with DropBlock in the classifier\n",
    "    - Adds DropBlock to the feature extractor at specific stages\n",
    "    \"\"\"\n",
    "\n",
    "    def __init__(self, n_classes, learning_rate=3e-4, weight_decay=1e-4):\n",
    "        super().__init__()\n",
    "        self.n_classes = n_classes\n",
    "        self.learning_rate = learning_rate\n",
    "        self.weight_decay = weight_decay\n",
    "        self.mixup_alpha = 0.2  # Parameter for mixup augmentation\n",
    "\n",
    "        # Load pre-trained EfficientNetV2-M model\n",
    "        self.model = efficientnet_v2_m(weights=EfficientNet_V2_M_Weights.DEFAULT)\n",
    "\n",
    "        # Modify the first convolutional layer to accept grayscale input\n",
    "        original_conv = self.model.features[0][0]\n",
    "        new_conv = nn.Conv2d(\n",
    "            in_channels=1,\n",
    "            out_channels=original_conv.out_channels,\n",
    "            kernel_size=original_conv.kernel_size,\n",
    "            stride=original_conv.stride,\n",
    "            padding=original_conv.padding,\n",
    "            bias=original_conv.bias is not None\n",
    "        )\n",
    "\n",
    "        # Initialize weights with the average of RGB channels\n",
    "        with torch.no_grad():\n",
    "            new_conv.weight.data = original_conv.weight.data.mean(dim=1, keepdim=True)\n",
    "\n",
    "        self.model.features[0][0] = new_conv\n",
    "\n",
    "        # Apply DropBlock to intermediate feature blocks\n",
    "        # Insert DropBlock at specific layers in the feature extractor\n",
    "        # These are selected to be after major blocks in the EfficientNetV2 architecture\n",
    "        self._insert_dropblock_layers()\n",
    "\n",
    "        # Initialize frozen layer flags for progressive unfreezing\n",
    "        self.unfreeze_stage = 0\n",
    "\n",
    "        # Initially freeze all feature extraction layers\n",
    "        for i in range(len(self.model.features)):\n",
    "            for param in self.model.features[i].parameters():\n",
    "                param.requires_grad = False\n",
    "\n",
    "        # Get the number of features in the final layer\n",
    "        in_features = self.model.classifier[1].in_features\n",
    "\n",
    "        # Replace classifier with enhanced MLP head using DropBlock instead of Dropout\n",
    "        self.model.classifier = nn.Sequential(\n",
    "            # For linear layers we still use standard Dropout\n",
    "            nn.Dropout(0.4),\n",
    "            nn.Linear(in_features, 1024),\n",
    "            nn.BatchNorm1d(1024),\n",
    "            nn.SiLU(),  # SiLU/Swish activation\n",
    "            nn.Dropout(0.3),\n",
    "            nn.Linear(1024, 512),\n",
    "            nn.BatchNorm1d(512),\n",
    "            nn.SiLU(),\n",
    "            nn.Dropout(0.2),\n",
    "            nn.Linear(512, n_classes)\n",
    "        )\n",
    "\n",
    "        # Use label smoothing cross entropy\n",
    "        self.criterion = nn.CrossEntropyLoss(label_smoothing=0.1)\n",
    "\n",
    "        # Initialize metrics\n",
    "        self.train_acc = Accuracy(task=\"multiclass\", num_classes=n_classes)\n",
    "        self.val_acc = Accuracy(task=\"multiclass\", num_classes=n_classes)\n",
    "\n",
    "        # Test metrics\n",
    "        self.test_accuracy = Accuracy(task=\"multiclass\", num_classes=n_classes)\n",
    "        self.test_precision = Precision(task=\"multiclass\", num_classes=n_classes, average='macro')\n",
    "        self.test_recall = Recall(task=\"multiclass\", num_classes=n_classes, average='macro')\n",
    "        self.test_f1 = F1Score(task=\"multiclass\", num_classes=n_classes, average='macro')\n",
    "        self.test_auroc = AUROC(task=\"multiclass\", num_classes=n_classes)\n",
    "        self.test_confusion_matrix = ConfusionMatrix(task=\"multiclass\", num_classes=n_classes)\n",
    "\n",
    "        # Save hyperparameters\n",
    "        self.save_hyperparameters()\n",
    "\n",
    "    def _insert_dropblock_layers(self):\n",
    "        \"\"\"\n",
    "        Insert DropBlock layers into the feature extractor.\n",
    "        We target specific layers in the network, placing DropBlock modules\n",
    "        strategically throughout the architecture.\n",
    "        \"\"\"\n",
    "        # Configuration for where to insert DropBlock and with what parameters\n",
    "        # Format: (block_index, drop_prob, block_size)\n",
    "        # Block sizes are chosen based on feature map size (smaller for deeper layers)\n",
    "        insertion_points = [\n",
    "            (2, 0.05, 7),   # Early layer - lower drop prob, larger block\n",
    "            (4, 0.07, 5),   # Mid layer\n",
    "            (6, 0.1, 3)     # Deeper layer - higher drop prob, smaller block\n",
    "        ]\n",
    "\n",
    "        # For each insertion point, add DropBlock after the specified block\n",
    "        for block_idx, drop_prob, block_size in insertion_points:\n",
    "            if block_idx < len(self.model.features):\n",
    "                # The original block\n",
    "                original_block = self.model.features[block_idx]\n",
    "\n",
    "                # Create a new sequential block with the original + DropBlock\n",
    "                new_block = nn.Sequential(\n",
    "                    original_block,\n",
    "                    DropBlock2D(drop_prob=drop_prob, block_size=block_size)\n",
    "                )\n",
    "\n",
    "                # Replace the original block\n",
    "                self.model.features[block_idx] = new_block\n",
    "\n",
    "    def mixup_data(self, x, y):\n",
    "        \"\"\"Apply mixup augmentation to the batch.\"\"\"\n",
    "        if self.training and self.mixup_alpha > 0:\n",
    "            lam = np.random.beta(self.mixup_alpha, self.mixup_alpha)\n",
    "            batch_size = x.size()[0]\n",
    "            index = torch.randperm(batch_size).to(x.device)\n",
    "\n",
    "            mixed_x = lam * x + (1 - lam) * x[index, :]\n",
    "            y_a, y_b = y, y[index]\n",
    "            return mixed_x, y_a, y_b, lam\n",
    "        else:\n",
    "            return x, y, y, 1.0\n",
    "\n",
    "    def forward(self, x):\n",
    "        return self.model(x)\n",
    "\n",
    "    def training_step(self, batch, batch_idx):\n",
    "        x, y = batch\n",
    "\n",
    "        # Apply mixup if training\n",
    "        if self.training:\n",
    "            x, y_a, y_b, lam = self.mixup_data(x, y)\n",
    "            y_pred = self(x)\n",
    "            loss = lam * self.criterion(y_pred, y_a) + (1 - lam) * self.criterion(y_pred, y_b)\n",
    "        else:\n",
    "            y_pred = self(x)\n",
    "            loss = self.criterion(y_pred, y)\n",
    "\n",
    "        # Calculate and log metrics\n",
    "        preds = torch.argmax(y_pred, dim=1)\n",
    "        acc = self.train_acc(preds, y)\n",
    "\n",
    "        # Log metrics\n",
    "        self.log('train_loss', loss, on_step=True, on_epoch=True, prog_bar=True)\n",
    "        self.log('train_acc', acc, on_step=True, on_epoch=True, prog_bar=True)\n",
    "\n",
    "        return loss\n",
    "\n",
    "    def validation_step(self, batch, batch_idx):\n",
    "        x, y = batch\n",
    "        y_pred = self(x)\n",
    "        loss = self.criterion(y_pred, y)\n",
    "\n",
    "        # Calculate metrics\n",
    "        preds = torch.argmax(y_pred, dim=1)\n",
    "        acc = self.val_acc(preds, y)\n",
    "\n",
    "        # Log metrics\n",
    "        self.log('val_loss', loss, on_epoch=True, prog_bar=True)\n",
    "        self.log('val_acc', acc, on_epoch=True, prog_bar=True)\n",
    "\n",
    "        return loss\n",
    "\n",
    "    def test_step(self, batch, batch_idx):\n",
    "        x, y = batch\n",
    "        y_pred = self(x)\n",
    "        loss = self.criterion(y_pred, y)\n",
    "\n",
    "        # Calculate predictions\n",
    "        preds = torch.argmax(y_pred, dim=1)\n",
    "        probs = torch.softmax(y_pred, dim=1)\n",
    "\n",
    "        # Update metrics\n",
    "        self.test_accuracy(preds, y)\n",
    "        self.test_precision(preds, y)\n",
    "        self.test_recall(preds, y)\n",
    "        self.test_f1(preds, y)\n",
    "        self.test_auroc(probs, y)\n",
    "        self.test_confusion_matrix(preds, y)\n",
    "\n",
    "        # Log metrics\n",
    "        self.log('test_loss', loss, on_epoch=True)\n",
    "\n",
    "        return loss\n",
    "\n",
    "    def on_test_epoch_end(self):\n",
    "        # Compute and log final metrics\n",
    "        accuracy = self.test_accuracy.compute()\n",
    "        precision = self.test_precision.compute()\n",
    "        recall = self.test_recall.compute()\n",
    "        f1_score = self.test_f1.compute()\n",
    "        auroc = self.test_auroc.compute()\n",
    "        conf_mat = self.test_confusion_matrix.compute().cpu().numpy()\n",
    "\n",
    "        # Store metrics in self for access after training\n",
    "        self.final_metrics = {\n",
    "            'accuracy': accuracy.item(),\n",
    "            'precision': precision.item(),\n",
    "            'recall': recall.item(),\n",
    "            'f1': f1_score.item(),\n",
    "            'auroc': auroc.item()\n",
    "        }\n",
    "\n",
    "        # Print detailed metrics\n",
    "        print(\"\\n--- Test Metrics ---\")\n",
    "        print(f\"Accuracy: {accuracy:.4f}\")\n",
    "        print(f\"Precision: {precision:.4f}\")\n",
    "        print(f\"Recall: {recall:.4f}\")\n",
    "        print(f\"F1 Score: {f1_score:.4f}\")\n",
    "        print(f\"AUROC: {auroc:.4f}\")\n",
    "\n",
    "        # Reset metrics\n",
    "        self.test_accuracy.reset()\n",
    "        self.test_precision.reset()\n",
    "        self.test_recall.reset()\n",
    "        self.test_f1.reset()\n",
    "        self.test_auroc.reset()\n",
    "        self.test_confusion_matrix.reset()\n",
    "\n",
    "    def on_train_epoch_start(self):\n",
    "        \"\"\"\n",
    "        Progressive unfreezing of layers based on training epoch.\n",
    "        \"\"\"\n",
    "        # Unfreeze more layers as training progresses\n",
    "        total_blocks = len(self.model.features)\n",
    "\n",
    "        if self.current_epoch == 3 and self.unfreeze_stage == 0:\n",
    "            # Unfreeze the last 30% of feature layers after 3 epochs\n",
    "            unfreeze_from = int(total_blocks * 0.7)\n",
    "            for i in range(unfreeze_from, total_blocks):\n",
    "                for param in self.model.features[i].parameters():\n",
    "                    param.requires_grad = True\n",
    "            print(f\"Unfreezing layers from {unfreeze_from} to {total_blocks-1}\")\n",
    "            self.unfreeze_stage = 1\n",
    "\n",
    "        elif self.current_epoch == 6 and self.unfreeze_stage == 1:\n",
    "            # Unfreeze more layers after 6 epochs\n",
    "            unfreeze_from = int(total_blocks * 0.4)\n",
    "            for i in range(unfreeze_from, total_blocks):\n",
    "                for param in self.model.features[i].parameters():\n",
    "                    param.requires_grad = True\n",
    "            print(f\"Unfreezing layers from {unfreeze_from} to {total_blocks-1}\")\n",
    "            self.unfreeze_stage = 2\n",
    "\n",
    "        elif self.current_epoch == 9 and self.unfreeze_stage == 2:\n",
    "            # Unfreeze all layers after 9 epochs\n",
    "            for i in range(total_blocks):\n",
    "                for param in self.model.features[i].parameters():\n",
    "                    param.requires_grad = True\n",
    "            print(\"Unfreezing all layers\")\n",
    "            self.unfreeze_stage = 3\n",
    "\n",
    "    def configure_optimizers(self):\n",
    "        \"\"\"\n",
    "        Configure optimizer with weight decay and learning rate scheduler.\n",
    "        \"\"\"\n",
    "        # Create optimizer with weight decay\n",
    "        optimizer = torch.optim.AdamW(\n",
    "            self.parameters(),\n",
    "            lr=self.learning_rate,\n",
    "            weight_decay=self.weight_decay\n",
    "        )\n",
    "\n",
    "        # OneCycleLR scheduler\n",
    "        scheduler = {\n",
    "            \"scheduler\": OneCycleLR(\n",
    "                optimizer,\n",
    "                max_lr=self.learning_rate,\n",
    "                total_steps=self.trainer.estimated_stepping_batches,\n",
    "                pct_start=0.1,  # 10% warmup\n",
    "                div_factor=25,  # initial_lr = max_lr/25\n",
    "                final_div_factor=1000,  # min_lr = initial_lr/1000\n",
    "            ),\n",
    "            \"interval\": \"step\",\n",
    "            \"frequency\": 1\n",
    "        }\n",
    "\n",
    "        return {\"optimizer\": optimizer, \"lr_scheduler\": scheduler}"
   ],
   "metadata": {
    "id": "5DMsuLPt1VWh"
   },
   "execution_count": null,
   "outputs": []
  },
  {
   "cell_type": "markdown",
   "source": [
    "## Method 9: Try DropBlock instead of standard Dropout & Optimizer as RAdam"
   ],
   "metadata": {
    "id": "lo30Hbt_AF7o"
   }
  },
  {
   "cell_type": "code",
   "source": [
    "from torch.optim.lr_scheduler import OneCycleLR"
   ],
   "metadata": {
    "id": "9DelwrIkAT3Y"
   },
   "execution_count": null,
   "outputs": []
  },
  {
   "cell_type": "code",
   "source": [
    "class DropBlock2D(nn.Module):\n",
    "    \"\"\"\n",
    "    DropBlock: A regularization method for convolutional networks.\n",
    "    Instead of dropping random pixels, it drops contiguous regions of the feature map.\n",
    "\n",
    "    Args:\n",
    "        drop_prob (float): Probability of activating DropBlock\n",
    "        block_size (int): Size of the block to drop\n",
    "    \"\"\"\n",
    "    def __init__(self, drop_prob=0.1, block_size=7):\n",
    "        super(DropBlock2D, self).__init__()\n",
    "        self.drop_prob = drop_prob\n",
    "        self.block_size = block_size\n",
    "\n",
    "    def forward(self, x):\n",
    "        # If not in training mode or drop_prob is 0, return input\n",
    "        if not self.training or self.drop_prob == 0:\n",
    "            return x\n",
    "\n",
    "        # Get dimensions\n",
    "        _, _, height, width = x.shape\n",
    "\n",
    "        # Calculate gamma (sampling rate)\n",
    "        gamma = self.drop_prob / (self.block_size ** 2)\n",
    "\n",
    "        # Sample mask\n",
    "        mask = torch.rand(x.shape[0], 1, height, width, device=x.device) < gamma\n",
    "\n",
    "        # Calculate block mask by average pooling the random mask\n",
    "        block_mask = F.max_pool2d(\n",
    "            input=mask.float(),\n",
    "            kernel_size=(self.block_size, self.block_size),\n",
    "            stride=(1, 1),\n",
    "            padding=self.block_size // 2\n",
    "        )\n",
    "\n",
    "        # Invert the block mask and reshape\n",
    "        block_mask = 1 - block_mask\n",
    "\n",
    "        # Normalize the features\n",
    "        norm_scale = block_mask.numel() / (block_mask.sum() + 1e-7)\n",
    "\n",
    "        # Apply mask\n",
    "        return x * block_mask * norm_scale\n",
    "\n",
    "class EfficientNetV2M_DropBlock_RAdam(L.LightningModule):\n",
    "    \"\"\"\n",
    "    Enhanced EfficientNetV2-M with DropBlock regularization:\n",
    "    - Replaces standard Dropout with DropBlock in the classifier\n",
    "    - Adds DropBlock to the feature extractor at specific stages\n",
    "    \"\"\"\n",
    "\n",
    "    def __init__(self, n_classes, learning_rate=3e-4, weight_decay=1e-4):\n",
    "        super().__init__()\n",
    "        self.n_classes = n_classes\n",
    "        self.learning_rate = learning_rate\n",
    "        self.weight_decay = weight_decay\n",
    "        self.mixup_alpha = 0.2  # Parameter for mixup augmentation\n",
    "\n",
    "        # Load pre-trained EfficientNetV2-M model\n",
    "        self.model = efficientnet_v2_m(weights=EfficientNet_V2_M_Weights.DEFAULT)\n",
    "\n",
    "        # Modify the first convolutional layer to accept grayscale input\n",
    "        original_conv = self.model.features[0][0]\n",
    "        new_conv = nn.Conv2d(\n",
    "            in_channels=1,\n",
    "            out_channels=original_conv.out_channels,\n",
    "            kernel_size=original_conv.kernel_size,\n",
    "            stride=original_conv.stride,\n",
    "            padding=original_conv.padding,\n",
    "            bias=original_conv.bias is not None\n",
    "        )\n",
    "\n",
    "        # Initialize weights with the average of RGB channels\n",
    "        with torch.no_grad():\n",
    "            new_conv.weight.data = original_conv.weight.data.mean(dim=1, keepdim=True)\n",
    "\n",
    "        self.model.features[0][0] = new_conv\n",
    "\n",
    "        # Apply DropBlock to intermediate feature blocks\n",
    "        # Insert DropBlock at specific layers in the feature extractor\n",
    "        # These are selected to be after major blocks in the EfficientNetV2 architecture\n",
    "        self._insert_dropblock_layers()\n",
    "\n",
    "        # Initialize frozen layer flags for progressive unfreezing\n",
    "        self.unfreeze_stage = 0\n",
    "\n",
    "        # Initially freeze all feature extraction layers\n",
    "        for i in range(len(self.model.features)):\n",
    "            for param in self.model.features[i].parameters():\n",
    "                param.requires_grad = False\n",
    "\n",
    "        # Get the number of features in the final layer\n",
    "        in_features = self.model.classifier[1].in_features\n",
    "\n",
    "        # Replace classifier with enhanced MLP head using DropBlock instead of Dropout\n",
    "        self.model.classifier = nn.Sequential(\n",
    "            # For linear layers we still use standard Dropout\n",
    "            nn.Dropout(0.4),\n",
    "            nn.Linear(in_features, 1024),\n",
    "            nn.BatchNorm1d(1024),\n",
    "            nn.SiLU(),  # SiLU/Swish activation\n",
    "            nn.Dropout(0.3),\n",
    "            nn.Linear(1024, 512),\n",
    "            nn.BatchNorm1d(512),\n",
    "            nn.SiLU(),\n",
    "            nn.Dropout(0.2),\n",
    "            nn.Linear(512, n_classes)\n",
    "        )\n",
    "\n",
    "        # Use label smoothing cross entropy\n",
    "        self.criterion = nn.CrossEntropyLoss(label_smoothing=0.1)\n",
    "\n",
    "        # Initialize metrics\n",
    "        self.train_acc = Accuracy(task=\"multiclass\", num_classes=n_classes)\n",
    "        self.val_acc = Accuracy(task=\"multiclass\", num_classes=n_classes)\n",
    "\n",
    "        # Test metrics\n",
    "        self.test_accuracy = Accuracy(task=\"multiclass\", num_classes=n_classes)\n",
    "        self.test_precision = Precision(task=\"multiclass\", num_classes=n_classes, average='macro')\n",
    "        self.test_recall = Recall(task=\"multiclass\", num_classes=n_classes, average='macro')\n",
    "        self.test_f1 = F1Score(task=\"multiclass\", num_classes=n_classes, average='macro')\n",
    "        self.test_auroc = AUROC(task=\"multiclass\", num_classes=n_classes)\n",
    "        self.test_confusion_matrix = ConfusionMatrix(task=\"multiclass\", num_classes=n_classes)\n",
    "\n",
    "        # Save hyperparameters\n",
    "        self.save_hyperparameters()\n",
    "\n",
    "    def _insert_dropblock_layers(self):\n",
    "        \"\"\"\n",
    "        Insert DropBlock layers into the feature extractor.\n",
    "        We target specific layers in the network, placing DropBlock modules\n",
    "        strategically throughout the architecture.\n",
    "        \"\"\"\n",
    "        # Configuration for where to insert DropBlock and with what parameters\n",
    "        # Format: (block_index, drop_prob, block_size)\n",
    "        # Block sizes are chosen based on feature map size (smaller for deeper layers)\n",
    "        insertion_points = [\n",
    "            (2, 0.05, 7),   # Early layer - lower drop prob, larger block\n",
    "            (4, 0.07, 5),   # Mid layer\n",
    "            (6, 0.1, 3)     # Deeper layer - higher drop prob, smaller block\n",
    "        ]\n",
    "\n",
    "        # For each insertion point, add DropBlock after the specified block\n",
    "        for block_idx, drop_prob, block_size in insertion_points:\n",
    "            if block_idx < len(self.model.features):\n",
    "                # The original block\n",
    "                original_block = self.model.features[block_idx]\n",
    "\n",
    "                # Create a new sequential block with the original + DropBlock\n",
    "                new_block = nn.Sequential(\n",
    "                    original_block,\n",
    "                    DropBlock2D(drop_prob=drop_prob, block_size=block_size)\n",
    "                )\n",
    "\n",
    "                # Replace the original block\n",
    "                self.model.features[block_idx] = new_block\n",
    "\n",
    "    def mixup_data(self, x, y):\n",
    "        \"\"\"Apply mixup augmentation to the batch.\"\"\"\n",
    "        if self.training and self.mixup_alpha > 0:\n",
    "            lam = np.random.beta(self.mixup_alpha, self.mixup_alpha)\n",
    "            batch_size = x.size()[0]\n",
    "            index = torch.randperm(batch_size).to(x.device)\n",
    "\n",
    "            mixed_x = lam * x + (1 - lam) * x[index, :]\n",
    "            y_a, y_b = y, y[index]\n",
    "            return mixed_x, y_a, y_b, lam\n",
    "        else:\n",
    "            return x, y, y, 1.0\n",
    "\n",
    "    def forward(self, x):\n",
    "        return self.model(x)\n",
    "\n",
    "    def training_step(self, batch, batch_idx):\n",
    "        x, y = batch\n",
    "\n",
    "        # Apply mixup if training\n",
    "        if self.training:\n",
    "            x, y_a, y_b, lam = self.mixup_data(x, y)\n",
    "            y_pred = self(x)\n",
    "            loss = lam * self.criterion(y_pred, y_a) + (1 - lam) * self.criterion(y_pred, y_b)\n",
    "        else:\n",
    "            y_pred = self(x)\n",
    "            loss = self.criterion(y_pred, y)\n",
    "\n",
    "        # Calculate and log metrics\n",
    "        preds = torch.argmax(y_pred, dim=1)\n",
    "        acc = self.train_acc(preds, y)\n",
    "\n",
    "        # Log metrics\n",
    "        self.log('train_loss', loss, on_step=True, on_epoch=True, prog_bar=True)\n",
    "        self.log('train_acc', acc, on_step=True, on_epoch=True, prog_bar=True)\n",
    "\n",
    "        return loss\n",
    "\n",
    "    def validation_step(self, batch, batch_idx):\n",
    "        x, y = batch\n",
    "        y_pred = self(x)\n",
    "        loss = self.criterion(y_pred, y)\n",
    "\n",
    "        # Calculate metrics\n",
    "        preds = torch.argmax(y_pred, dim=1)\n",
    "        acc = self.val_acc(preds, y)\n",
    "\n",
    "        # Log metrics\n",
    "        self.log('val_loss', loss, on_epoch=True, prog_bar=True)\n",
    "        self.log('val_acc', acc, on_epoch=True, prog_bar=True)\n",
    "\n",
    "        return loss\n",
    "\n",
    "    def test_step(self, batch, batch_idx):\n",
    "        x, y = batch\n",
    "        y_pred = self(x)\n",
    "        loss = self.criterion(y_pred, y)\n",
    "\n",
    "        # Calculate predictions\n",
    "        preds = torch.argmax(y_pred, dim=1)\n",
    "        probs = torch.softmax(y_pred, dim=1)\n",
    "\n",
    "        # Update metrics\n",
    "        self.test_accuracy(preds, y)\n",
    "        self.test_precision(preds, y)\n",
    "        self.test_recall(preds, y)\n",
    "        self.test_f1(preds, y)\n",
    "        self.test_auroc(probs, y)\n",
    "        self.test_confusion_matrix(preds, y)\n",
    "\n",
    "        # Log metrics\n",
    "        self.log('test_loss', loss, on_epoch=True)\n",
    "\n",
    "        return loss\n",
    "\n",
    "    def on_test_epoch_end(self):\n",
    "        # Compute and log final metrics\n",
    "        accuracy = self.test_accuracy.compute()\n",
    "        precision = self.test_precision.compute()\n",
    "        recall = self.test_recall.compute()\n",
    "        f1_score = self.test_f1.compute()\n",
    "        auroc = self.test_auroc.compute()\n",
    "        conf_mat = self.test_confusion_matrix.compute().cpu().numpy()\n",
    "\n",
    "        # Store metrics in self for access after training\n",
    "        self.final_metrics = {\n",
    "            'accuracy': accuracy.item(),\n",
    "            'precision': precision.item(),\n",
    "            'recall': recall.item(),\n",
    "            'f1': f1_score.item(),\n",
    "            'auroc': auroc.item()\n",
    "        }\n",
    "\n",
    "        # Print detailed metrics\n",
    "        print(\"\\n--- Test Metrics ---\")\n",
    "        print(f\"Accuracy: {accuracy:.4f}\")\n",
    "        print(f\"Precision: {precision:.4f}\")\n",
    "        print(f\"Recall: {recall:.4f}\")\n",
    "        print(f\"F1 Score: {f1_score:.4f}\")\n",
    "        print(f\"AUROC: {auroc:.4f}\")\n",
    "\n",
    "        # Reset metrics\n",
    "        self.test_accuracy.reset()\n",
    "        self.test_precision.reset()\n",
    "        self.test_recall.reset()\n",
    "        self.test_f1.reset()\n",
    "        self.test_auroc.reset()\n",
    "        self.test_confusion_matrix.reset()\n",
    "\n",
    "    def on_train_epoch_start(self):\n",
    "        \"\"\"\n",
    "        Progressive unfreezing of layers based on training epoch.\n",
    "        \"\"\"\n",
    "        # Unfreeze more layers as training progresses\n",
    "        total_blocks = len(self.model.features)\n",
    "\n",
    "        if self.current_epoch == 3 and self.unfreeze_stage == 0:\n",
    "            # Unfreeze the last 30% of feature layers after 3 epochs\n",
    "            unfreeze_from = int(total_blocks * 0.7)\n",
    "            for i in range(unfreeze_from, total_blocks):\n",
    "                for param in self.model.features[i].parameters():\n",
    "                    param.requires_grad = True\n",
    "            print(f\"Unfreezing layers from {unfreeze_from} to {total_blocks-1}\")\n",
    "            self.unfreeze_stage = 1\n",
    "\n",
    "        elif self.current_epoch == 6 and self.unfreeze_stage == 1:\n",
    "            # Unfreeze more layers after 6 epochs\n",
    "            unfreeze_from = int(total_blocks * 0.4)\n",
    "            for i in range(unfreeze_from, total_blocks):\n",
    "                for param in self.model.features[i].parameters():\n",
    "                    param.requires_grad = True\n",
    "            print(f\"Unfreezing layers from {unfreeze_from} to {total_blocks-1}\")\n",
    "            self.unfreeze_stage = 2\n",
    "\n",
    "        elif self.current_epoch == 9 and self.unfreeze_stage == 2:\n",
    "            # Unfreeze all layers after 9 epochs\n",
    "            for i in range(total_blocks):\n",
    "                for param in self.model.features[i].parameters():\n",
    "                    param.requires_grad = True\n",
    "            print(\"Unfreezing all layers\")\n",
    "            self.unfreeze_stage = 3\n",
    "\n",
    "    def configure_optimizers(self):\n",
    "        \"\"\"\n",
    "        Configure optimizer with weight decay and learning rate scheduler.\n",
    "        \"\"\"\n",
    "        # Create optimizer with weight decay\n",
    "        optimizer = torch.optim.RAdam(\n",
    "            self.parameters(),\n",
    "            lr=self.learning_rate,\n",
    "            weight_decay=self.weight_decay\n",
    "        )\n",
    "\n",
    "        # OneCycleLR scheduler\n",
    "        scheduler = {\n",
    "            \"scheduler\": OneCycleLR(\n",
    "                optimizer,\n",
    "                max_lr=self.learning_rate,\n",
    "                total_steps=self.trainer.estimated_stepping_batches,\n",
    "                pct_start=0.1,  # 10% warmup\n",
    "                div_factor=25,  # initial_lr = max_lr/25\n",
    "                final_div_factor=1000,  # min_lr = initial_lr/1000\n",
    "            ),\n",
    "            \"interval\": \"step\",\n",
    "            \"frequency\": 1\n",
    "        }\n",
    "\n",
    "        return {\"optimizer\": optimizer, \"lr_scheduler\": scheduler}"
   ],
   "metadata": {
    "id": "LDMHFzHAAJ8m"
   },
   "execution_count": null,
   "outputs": []
  },
  {
   "cell_type": "markdown",
   "source": [
    "## Training + Evaluation of methods"
   ],
   "metadata": {
    "id": "bXfD5YW1vo5_"
   }
  },
  {
   "cell_type": "code",
   "source": [
    "# Prepare data module (shared between models)\n",
    "data_module = GarbageClassificationData(\n",
    "    batch_size=16,\n",
    "    num_workers=4,\n",
    "    img_size=224\n",
    ")"
   ],
   "metadata": {
    "id": "hxzttf7EVhXx",
    "colab": {
     "base_uri": "https://localhost:8080/"
    },
    "executionInfo": {
     "status": "ok",
     "timestamp": 1744546521711,
     "user_tz": -480,
     "elapsed": 1516,
     "user": {
      "displayName": "hui yi",
      "userId": "01791520918077108699"
     }
    },
    "outputId": "f12cf0b4-94d7-4ec7-b696-c40688b63b34"
   },
   "execution_count": null,
   "outputs": [
    {
     "output_type": "stream",
     "name": "stdout",
     "text": [
      "Number of training samples: 5080\n",
      "Number of validation samples: 1091\n",
      "Number of test samples: 1090\n",
      "Number of classes: 8\n",
      "Classes: {0: 'Glass', 1: 'Hazardous Waste', 2: 'Metal', 3: 'Organic Waste', 4: 'Paper & Cardboard', 5: 'Plastic', 6: 'Textiles', 7: 'Trash'}\n"
     ]
    }
   ]
  },
  {
   "cell_type": "markdown",
   "source": [
    "### Method 3 Training"
   ],
   "metadata": {
    "id": "bYvtOjwpWRfL"
   }
  },
  {
   "cell_type": "code",
   "source": [
    "# Model 1: EfficientNetV2-M with Enhanced Regularization\n",
    "print(\"\\n=== Training Model 1: EfficientNetV2-M Advanced ===\")\n",
    "model1 = train_and_evaluate_model(\n",
    "    model_class=EfficientNetV2MAdvanced,\n",
    "    data_module=data_module,\n",
    "    model_name=\"EfficientNetV2M_Advanced\",\n",
    "    max_epochs=15,\n",
    "    learning_rate=3e-4\n",
    ")"
   ],
   "metadata": {
    "colab": {
     "base_uri": "https://localhost:8080/",
     "height": 1000,
     "referenced_widgets": [
      "fc187e4f7ecf4378a2d4df29a19e9891",
      "3eb4830f39a742feb9441752a5bb3a0f",
      "e0df1a9f98a0492b8c58a067ce275705",
      "9284c88a7dcb43d3bb9c3628f20dd567",
      "aac2bdfd9ce440008849b6963472e593",
      "7ec7952da1ed49f4be06466047d98898",
      "c3cb2694aebb41fa899c81c0c4a3bf7c",
      "d8d9392326924fe0afe240149e10ffad",
      "a6d9eaa313b7445880de22b1017dcd6c",
      "ff13101b7bdd40018918a8fe42c30c34",
      "408d2340fbc94feebc5b30a02036a087",
      "5d78231aca6747b8820410910fbbe27e",
      "90da6d966a9b4b0faafde9410f7a9128",
      "a9f3b8f74fa94a63a67f3e2988dc2646",
      "5a448f3d6e6942439f6225c0d98290e2",
      "370dfa13985f4fd2a758cd4c4402ac35",
      "2fcca567f47048b5b9d7341e2bcc3829",
      "4d6fe3ec054447e0bbbd0eee6e17c1ed",
      "1088bf0363ef40e8b750fef32fe13ee0",
      "f67b87fe08934eff9c0758a18cd449db",
      "8353888c2181460d8620190c87b79bde",
      "6d5265e7d46c4dadb4c908a97e17adcf",
      "413f26a11fd649b5b277e07b7a25b910",
      "87a242138e3845d0bb937ab5c5fbc4ba",
      "985a06903a514109b34a084191a56b38",
      "593e7c38b98e4156b69c45fdac02d2ed",
      "b5a144931e7542ed8e8af6889ac32b1e",
      "0a031b488306444798413032a0596878",
      "7a1cf4f58a8a4730a94121bb2e7340d8",
      "6b2b7759dcd640f68a9ebbbb05e54b1d",
      "62fb445bc94e4fd8a19f6782910bbb0c",
      "326a135a517d455abdeffe486c17eeee",
      "e1a0d7954de94443ad95a9c79293aad9",
      "834194bde1994ec8ba0c5b4e4966a5eb",
      "c02e9ca62646445b9859424a9c7baa29",
      "e008f7e0d3b2479e86b20ded3f2a6cbe",
      "83ee288dccf34882b852637cf5d17601",
      "a3ada2f1cf5044849e2764c99e623a8a",
      "461d90ac0a9943bf86b12f6bf57781d3",
      "ca66d5895cdb42b3b38be8d342452638",
      "bc2800a9431c4c64b713207ed698e0a2",
      "9b6bd5fc5f6d494c9a128816afb2bd3b",
      "fefe086e378c4bc08515908497db3f04",
      "86466655c17b4ae7ac102830797fb80d",
      "25c3039e67304fd1aace8a4aee12d3df",
      "2ff2b768830948b5a8a3f34713075bc9",
      "14d0149fe9064181803afc4a3b4a2936",
      "d9cb7ce71cb0427db1a3ad41ae509a67",
      "04b39ebae73748cea460d06a3ad1d23c",
      "f6621c8c86d04251aa19a50f2f95650e",
      "1077b768be894f62b782b9295be12ff5",
      "b4bb307b6fd345108c6cb62a1086541d",
      "7a7611c49ced41e49be77f66019e82fe",
      "210daf87e992444d8579fa87aa0822e1",
      "b930e392a6ab452ba758029cb324644e",
      "8e07c1db11bb42a095680ec292b01626",
      "9b54c025c09a4a3babdbc4ff25c5c941",
      "446c542c51ae4a03b5d6454c4d4130cb",
      "288c8dbdf17a48b19135170214038383",
      "c195bf5301084fd6ab2d2c7facba56fb",
      "4d4974bc96dd46bb864021c95f1dd065",
      "b3e057d83bb743019f847dfb2bfd0c20",
      "1f6c1330854d459b9ebccd3f98e9f7a1",
      "d61c5166ae314f1db7f05e4e77c2eb14",
      "1e12aee551954866abc7090bb444492e",
      "2f89348e38174d49836a1acf7970adae",
      "19bb9234b2f84f13a6391d9906323787",
      "84fc8893b25743328ac7803a42c76c43",
      "dc3d57a3d3b7427a99bf06e9e6c8f3ff",
      "c1943419e6654317865c334771acbd45",
      "0fd3c05356b04c61acbeaba204cc6d6c",
      "bbddbf3df3ad42b594d2c56ae2c92ce7",
      "1b5570247491422aa02e5505e6d125bc",
      "0f18f61a42bc447b97614c97b10cd113",
      "146311618ad14d48af5586f06f36338e",
      "f22212eb6ea54090a3937d900fe78134",
      "0e47e300fde148639e646e0ec269657a",
      "62121978c24f43eca4682a0e93d54b41",
      "ee3e3d460e934e8f8a2e58c28d8b7706",
      "5ea69f9c75714580b5e798ccc6b2fd0c",
      "6407ab8a5f0f49e4aad23f140abaefe3",
      "5ca68b0784564f35876d5c35d01fcc62",
      "1a1d6b60b5b5455fbffdd7c0719fb274",
      "fa3e8f5d8edd47b7aa76e239d531a5e5",
      "2ee8497ea2714f5c962af53d7fba83e3",
      "8bcdd945017b4fd48f3d0f3e11ba7018",
      "468336a5588e4a429a997c2993e65fbc",
      "13c26bc94ab54408aadc8c8ace8ae08c",
      "18226b7a42af47ffb637dd51da44e3c4",
      "9e06eec5e9bc4eed811ef08291477203",
      "812c01fcd5824dcaac9e7df0f5751621",
      "f216a3adba7e450b9f375a4ff444c5ae",
      "65093382829f45348d4fef81b3acfe9d",
      "77582954d4d1457f87d496649f4d6cfa",
      "13d3eaa52b3e4eada60dda31634afe9b",
      "04333aada1514ef0bd15be18f0e8c88a",
      "2655ca5b029a402881d5f9f7f44bccee",
      "2bb770c09268456a937471b69161b531",
      "b60c4ff210a1411497c1e6da74296cf3",
      "d527afa84db24e518f36b73b5ee9c0c2",
      "20132099a68a43d9aedfc0568a2125fb",
      "d3bcb1edc6d548c48c8445e5a3ee8157",
      "c9833b55220948009c921ea9280abd58",
      "6ea5c87a2f7849ce859ce1e801c90b52",
      "a38d1f6c478f471eb9d6092b31518971",
      "5497f5a9e1fc4784afb91ff24e60c91b",
      "2eb5a77118904c21bf720511ab8b7ac6",
      "ce671e73af1c45f7aa5e29dfc5ec0fd1",
      "523c6b917e5642d6b104adaad4402de6",
      "8881825ac6bf4d60bbdfc345a4dd00d7",
      "142cd65dd44d48f08767c3b7e466ed14",
      "33527d8cb64f4cc9a8dd9440b4f5d756",
      "2bcb80d8c7ea49da80db433b17cce3fe",
      "5e47e27615ee481789733a73760930f2",
      "455be1d048e84d0d9a3bf2e77bddc098",
      "a36abe85a43e41769dcf699f4d777c32",
      "1dacc69ffc3649db8d64f66b5510605d",
      "c71ce68ffa514cf1a73383c242b9e628",
      "6afb67379a5a440bbbe74b087225b89e",
      "e53f73117904492995051009509a5bd4",
      "6d94b2afa5db4521a59946707d63ffdd",
      "184983e015f747a1a6ee60a58e243ddd",
      "1059b71c277646c0bd5ad6128f9faec7",
      "09b29d335aa44caa9778ad1d0b1056ca",
      "90db2329b4b04932851dbfa506ba68a7",
      "2cae658fba3c4fd3bff9d6092990ecb8",
      "1134b62534b94ff99360f9626de5e547",
      "73b8c6e7ba014a8b92ece5313898a8a5",
      "076aa5ff5248463bb65b40711c06f713",
      "f0621cb7787547b999dcb2d9f75cc865",
      "d267ba911ea54abba7523ebd2b948cf3",
      "c3fc49912b034bd99ee3edb9a066c8bb",
      "89f1daa389904a6b97b9c86dd6184407",
      "ea3f4e9c73134ae5a19c5bde2342a470",
      "463e4c3437ae4fa1883dc7d4047028da",
      "34e0eece201b4a40a3d064ebecd19ba6",
      "57dbbe02ed524e648f000c58219c3734",
      "7c2680ff10a34289bb97d136260b7443",
      "6aef335e9563477abad06fa75c62d31a",
      "f33fe330da4e47c29e8649509264cd2c",
      "9e48c2dd5f3743739ee38c8a0ab8ec22",
      "ed5d504866e84b0a8ee261c4d34b427b",
      "791d419a051749a097cda8e3276381d9",
      "7e9dc25e1d4a4e03b486a240dbb8dfe0",
      "35bb1ce55dec4d0b88f9752bb279ba92",
      "db714ae94b2a4d7dae83a320f181c630",
      "797258c1a7a346b296a3313af5c244e7",
      "54bcd75473f54f4aae8c3530bbb392f5",
      "7b4c6198f3dc4c92ae890a9071a704f9",
      "883dac3e7da544bc865a184512c8905f",
      "f08fb663fe174e2bb2efdc23cfc1ba84",
      "066da6a2308f4c309792b697e5216e06",
      "e9f656e00c9b4f89bf2ad777c3aab239",
      "1f605ecc01a34e3a9047d592d0a7c858",
      "9d028ec8809a4232b947bbad0c62c85f",
      "b38d6e693b194a8b978754c936525238",
      "91074dbcbf084c8aaa375b019184c111",
      "f960c771d3b94849855294646c6f3140",
      "333ad0d31de4411a9150bace636ca41c",
      "7f29d66a57384a37829163a2b1b01f1d",
      "c10c0d69c85a4150bdb9b6bf4461ff82",
      "420716c6b62a437fb65734160e444da9",
      "b0988e2ae4234d258daeb19b041a31aa",
      "efc17569fec54d898c7904e5f68688fc",
      "ead8d74c5b2d4adb8b35ca01d8b6dfd2",
      "246248b9b6ea42f78f4715d005dcb430",
      "1de96964830b435cbd24526b6b0dd186",
      "843eb7ba73ff40a693834d5f524f517b",
      "b114250600db41feb96a3c47a99596e5",
      "7f2ecd2f628f48a58e14741b243241f6",
      "276778b59c144cae9b3c4179cd877646",
      "34b5a9cf5ee44d2cba41c4e16ee41a9d",
      "e9731e155a8d445f9f1bd42e5fae3c97",
      "32d8acb01d7a4bd190a4a36bd118764b",
      "c73b07c957354e8abaa5052bcb41e94c",
      "024c958b837448fba9e32fcc6dddee85",
      "ca589f30645247d890c150e84a21183d",
      "38d4c51ec1ca4fb59b13eec441b8bd0a",
      "31413645824247acb76355eaad93965e",
      "b8f55981377e4267b15cfc76c7e9ec02",
      "1774f37fe7c443feaa264f7b5ec11195",
      "d4d1656966d84d1e91e7365865210558",
      "b2a54ab7d2b04418b4f7da695384c55d",
      "5ebda9d144a345c8a56652cf43754bc4",
      "65a7140259854ff3b61bd35e10446730",
      "ecccdad7682f40d78660b82640dad4af",
      "dcc429fd9eab4050b684bad486f05331",
      "2b57b37064cc4156a6fecd44d641aca6",
      "6227fffeb3d344e78f96be2bed06a514",
      "d902d81ca7c84ff8a86741a183fcf58f",
      "e05598c27c3d44308c467187e972ee60",
      "9bb9379e35814861b97ba527c85f55cf",
      "f4dec24f87f147b89bb2259eb848d9ed",
      "6ae52b0745e64b169419aab046b9f416",
      "05eda51ebbfc4579a49668e5a62d806f",
      "c538fa1cffc347709948563c1aad8401",
      "6bc692451265409d91cfca14bf2e3e44",
      "fb6a6f27f8864654bfe6f850bb4574ca"
     ]
    },
    "id": "NT5MVkFhvVMQ",
    "executionInfo": {
     "status": "ok",
     "timestamp": 1743873488253,
     "user_tz": -480,
     "elapsed": 1334472,
     "user": {
      "displayName": "nat ang",
      "userId": "01830563404866135370"
     }
    },
    "outputId": "cc3440f0-54b0-471a-99e1-3216ce470157"
   },
   "execution_count": null,
   "outputs": [
    {
     "output_type": "stream",
     "name": "stderr",
     "text": [
      "INFO:pytorch_lightning.utilities.rank_zero:Using 16bit Automatic Mixed Precision (AMP)\n",
      "INFO:pytorch_lightning.utilities.rank_zero:GPU available: True (cuda), used: True\n",
      "INFO:pytorch_lightning.utilities.rank_zero:TPU available: False, using: 0 TPU cores\n",
      "INFO:pytorch_lightning.utilities.rank_zero:HPU available: False, using: 0 HPUs\n"
     ]
    },
    {
     "output_type": "stream",
     "name": "stdout",
     "text": [
      "Number of training samples: 5080\n",
      "Number of validation samples: 1091\n",
      "Number of test samples: 1090\n",
      "Number of classes: 8\n",
      "Classes: {0: 'Glass', 1: 'Hazardous Waste', 2: 'Metal', 3: 'Organic Waste', 4: 'Paper & Cardboard', 5: 'Plastic', 6: 'Textiles', 7: 'Trash'}\n",
      "\n",
      "=== Training Model 1: EfficientNetV2-M Advanced ===\n"
     ]
    },
    {
     "output_type": "stream",
     "name": "stderr",
     "text": [
      "INFO: LOCAL_RANK: 0 - CUDA_VISIBLE_DEVICES: [0]\n",
      "INFO:lightning.pytorch.accelerators.cuda:LOCAL_RANK: 0 - CUDA_VISIBLE_DEVICES: [0]\n",
      "INFO: \n",
      "   | Name                  | Type                      | Params | Mode \n",
      "-----------------------------------------------------------------------------\n",
      "0  | criterion             | CrossEntropyLoss          | 0      | train\n",
      "1  | train_acc             | MulticlassAccuracy        | 0      | train\n",
      "2  | val_acc               | MulticlassAccuracy        | 0      | train\n",
      "3  | test_accuracy         | MulticlassAccuracy        | 0      | train\n",
      "4  | test_precision        | MulticlassPrecision       | 0      | train\n",
      "5  | test_recall           | MulticlassRecall          | 0      | train\n",
      "6  | test_f1               | MulticlassF1Score         | 0      | train\n",
      "7  | test_auroc            | MulticlassAUROC           | 0      | train\n",
      "8  | test_confusion_matrix | MulticlassConfusionMatrix | 0      | train\n",
      "9  | model                 | EfficientNet              | 52.9 M | train\n",
      "10 | classifier            | Sequential                | 661 K  | train\n",
      "-----------------------------------------------------------------------------\n",
      "50.3 M    Trainable params\n",
      "3.2 M     Non-trainable params\n",
      "53.5 M    Total params\n",
      "214.076   Total estimated model params size (MB)\n",
      "1038      Modules in train mode\n",
      "0         Modules in eval mode\n",
      "INFO:lightning.pytorch.callbacks.model_summary:\n",
      "   | Name                  | Type                      | Params | Mode \n",
      "-----------------------------------------------------------------------------\n",
      "0  | criterion             | CrossEntropyLoss          | 0      | train\n",
      "1  | train_acc             | MulticlassAccuracy        | 0      | train\n",
      "2  | val_acc               | MulticlassAccuracy        | 0      | train\n",
      "3  | test_accuracy         | MulticlassAccuracy        | 0      | train\n",
      "4  | test_precision        | MulticlassPrecision       | 0      | train\n",
      "5  | test_recall           | MulticlassRecall          | 0      | train\n",
      "6  | test_f1               | MulticlassF1Score         | 0      | train\n",
      "7  | test_auroc            | MulticlassAUROC           | 0      | train\n",
      "8  | test_confusion_matrix | MulticlassConfusionMatrix | 0      | train\n",
      "9  | model                 | EfficientNet              | 52.9 M | train\n",
      "10 | classifier            | Sequential                | 661 K  | train\n",
      "-----------------------------------------------------------------------------\n",
      "50.3 M    Trainable params\n",
      "3.2 M     Non-trainable params\n",
      "53.5 M    Total params\n",
      "214.076   Total estimated model params size (MB)\n",
      "1038      Modules in train mode\n",
      "0         Modules in eval mode\n"
     ]
    },
    {
     "output_type": "stream",
     "name": "stdout",
     "text": [
      "\n",
      "Training EfficientNetV2M_Advanced...\n"
     ]
    },
    {
     "output_type": "display_data",
     "data": {
      "text/plain": [
       "Sanity Checking: |          | 0/? [00:00<?, ?it/s]"
      ],
      "application/vnd.jupyter.widget-view+json": {
       "version_major": 2,
       "version_minor": 0,
       "model_id": "fc187e4f7ecf4378a2d4df29a19e9891"
      }
     },
     "metadata": {}
    },
    {
     "output_type": "display_data",
     "data": {
      "text/plain": [
       "Training: |          | 0/? [00:00<?, ?it/s]"
      ],
      "application/vnd.jupyter.widget-view+json": {
       "version_major": 2,
       "version_minor": 0,
       "model_id": "5d78231aca6747b8820410910fbbe27e"
      }
     },
     "metadata": {}
    },
    {
     "output_type": "display_data",
     "data": {
      "text/plain": [
       "Validation: |          | 0/? [00:00<?, ?it/s]"
      ],
      "application/vnd.jupyter.widget-view+json": {
       "version_major": 2,
       "version_minor": 0,
       "model_id": "413f26a11fd649b5b277e07b7a25b910"
      }
     },
     "metadata": {}
    },
    {
     "output_type": "display_data",
     "data": {
      "text/plain": [
       "Validation: |          | 0/? [00:00<?, ?it/s]"
      ],
      "application/vnd.jupyter.widget-view+json": {
       "version_major": 2,
       "version_minor": 0,
       "model_id": "834194bde1994ec8ba0c5b4e4966a5eb"
      }
     },
     "metadata": {}
    },
    {
     "output_type": "display_data",
     "data": {
      "text/plain": [
       "Validation: |          | 0/? [00:00<?, ?it/s]"
      ],
      "application/vnd.jupyter.widget-view+json": {
       "version_major": 2,
       "version_minor": 0,
       "model_id": "25c3039e67304fd1aace8a4aee12d3df"
      }
     },
     "metadata": {}
    },
    {
     "output_type": "display_data",
     "data": {
      "text/plain": [
       "Validation: |          | 0/? [00:00<?, ?it/s]"
      ],
      "application/vnd.jupyter.widget-view+json": {
       "version_major": 2,
       "version_minor": 0,
       "model_id": "8e07c1db11bb42a095680ec292b01626"
      }
     },
     "metadata": {}
    },
    {
     "output_type": "display_data",
     "data": {
      "text/plain": [
       "Validation: |          | 0/? [00:00<?, ?it/s]"
      ],
      "application/vnd.jupyter.widget-view+json": {
       "version_major": 2,
       "version_minor": 0,
       "model_id": "19bb9234b2f84f13a6391d9906323787"
      }
     },
     "metadata": {}
    },
    {
     "output_type": "display_data",
     "data": {
      "text/plain": [
       "Validation: |          | 0/? [00:00<?, ?it/s]"
      ],
      "application/vnd.jupyter.widget-view+json": {
       "version_major": 2,
       "version_minor": 0,
       "model_id": "62121978c24f43eca4682a0e93d54b41"
      }
     },
     "metadata": {}
    },
    {
     "output_type": "display_data",
     "data": {
      "text/plain": [
       "Validation: |          | 0/? [00:00<?, ?it/s]"
      ],
      "application/vnd.jupyter.widget-view+json": {
       "version_major": 2,
       "version_minor": 0,
       "model_id": "18226b7a42af47ffb637dd51da44e3c4"
      }
     },
     "metadata": {}
    },
    {
     "output_type": "display_data",
     "data": {
      "text/plain": [
       "Validation: |          | 0/? [00:00<?, ?it/s]"
      ],
      "application/vnd.jupyter.widget-view+json": {
       "version_major": 2,
       "version_minor": 0,
       "model_id": "d527afa84db24e518f36b73b5ee9c0c2"
      }
     },
     "metadata": {}
    },
    {
     "output_type": "display_data",
     "data": {
      "text/plain": [
       "Validation: |          | 0/? [00:00<?, ?it/s]"
      ],
      "application/vnd.jupyter.widget-view+json": {
       "version_major": 2,
       "version_minor": 0,
       "model_id": "142cd65dd44d48f08767c3b7e466ed14"
      }
     },
     "metadata": {}
    },
    {
     "output_type": "display_data",
     "data": {
      "text/plain": [
       "Validation: |          | 0/? [00:00<?, ?it/s]"
      ],
      "application/vnd.jupyter.widget-view+json": {
       "version_major": 2,
       "version_minor": 0,
       "model_id": "184983e015f747a1a6ee60a58e243ddd"
      }
     },
     "metadata": {}
    },
    {
     "output_type": "display_data",
     "data": {
      "text/plain": [
       "Validation: |          | 0/? [00:00<?, ?it/s]"
      ],
      "application/vnd.jupyter.widget-view+json": {
       "version_major": 2,
       "version_minor": 0,
       "model_id": "89f1daa389904a6b97b9c86dd6184407"
      }
     },
     "metadata": {}
    },
    {
     "output_type": "display_data",
     "data": {
      "text/plain": [
       "Validation: |          | 0/? [00:00<?, ?it/s]"
      ],
      "application/vnd.jupyter.widget-view+json": {
       "version_major": 2,
       "version_minor": 0,
       "model_id": "7e9dc25e1d4a4e03b486a240dbb8dfe0"
      }
     },
     "metadata": {}
    },
    {
     "output_type": "display_data",
     "data": {
      "text/plain": [
       "Validation: |          | 0/? [00:00<?, ?it/s]"
      ],
      "application/vnd.jupyter.widget-view+json": {
       "version_major": 2,
       "version_minor": 0,
       "model_id": "9d028ec8809a4232b947bbad0c62c85f"
      }
     },
     "metadata": {}
    },
    {
     "output_type": "display_data",
     "data": {
      "text/plain": [
       "Validation: |          | 0/? [00:00<?, ?it/s]"
      ],
      "application/vnd.jupyter.widget-view+json": {
       "version_major": 2,
       "version_minor": 0,
       "model_id": "246248b9b6ea42f78f4715d005dcb430"
      }
     },
     "metadata": {}
    },
    {
     "output_type": "display_data",
     "data": {
      "text/plain": [
       "Validation: |          | 0/? [00:00<?, ?it/s]"
      ],
      "application/vnd.jupyter.widget-view+json": {
       "version_major": 2,
       "version_minor": 0,
       "model_id": "ca589f30645247d890c150e84a21183d"
      }
     },
     "metadata": {}
    },
    {
     "output_type": "stream",
     "name": "stderr",
     "text": [
      "INFO:pytorch_lightning.utilities.rank_zero:`Trainer.fit` stopped: `max_epochs=15` reached.\n",
      "INFO: LOCAL_RANK: 0 - CUDA_VISIBLE_DEVICES: [0]\n",
      "INFO:lightning.pytorch.accelerators.cuda:LOCAL_RANK: 0 - CUDA_VISIBLE_DEVICES: [0]\n"
     ]
    },
    {
     "output_type": "stream",
     "name": "stdout",
     "text": [
      "\n",
      "Evaluating EfficientNetV2M_Advanced...\n"
     ]
    },
    {
     "output_type": "display_data",
     "data": {
      "text/plain": [
       "Testing: |          | 0/? [00:00<?, ?it/s]"
      ],
      "application/vnd.jupyter.widget-view+json": {
       "version_major": 2,
       "version_minor": 0,
       "model_id": "2b57b37064cc4156a6fecd44d641aca6"
      }
     },
     "metadata": {}
    },
    {
     "output_type": "stream",
     "name": "stderr",
     "text": [
      "/usr/local/lib/python3.11/dist-packages/torchmetrics/utilities/prints.py:43: UserWarning: No negative samples in targets, false positive value should be meaningless. Returning zero tensor in false positive score\n",
      "  warnings.warn(*args, **kwargs)\n",
      "/usr/local/lib/python3.11/dist-packages/torchmetrics/utilities/prints.py:43: UserWarning: No positive samples in targets, true positive value should be meaningless. Returning zero tensor in true positive score\n",
      "  warnings.warn(*args, **kwargs)\n"
     ]
    },
    {
     "output_type": "stream",
     "name": "stdout",
     "text": [
      "\n",
      "--- Test Metrics ---\n",
      "Accuracy: 0.8358\n",
      "Precision: 0.8322\n",
      "Recall: 0.8315\n",
      "F1 Score: 0.8314\n",
      "AUROC: 0.9712\n"
     ]
    },
    {
     "output_type": "display_data",
     "data": {
      "text/plain": [
       "<Figure size 1200x1000 with 2 Axes>"
      ],
      "image/png": "[encoded data removed]"
     },
     "metadata": {}
    },
    {
     "output_type": "display_data",
     "data": {
      "text/plain": [
       "\u250f\u2501\u2501\u2501\u2501\u2501\u2501\u2501\u2501\u2501\u2501\u2501\u2501\u2501\u2501\u2501\u2501\u2501\u2501\u2501\u2501\u2501\u2501\u2501\u2501\u2501\u2501\u2501\u2533\u2501\u2501\u2501\u2501\u2501\u2501\u2501\u2501\u2501\u2501\u2501\u2501\u2501\u2501\u2501\u2501\u2501\u2501\u2501\u2501\u2501\u2501\u2501\u2501\u2501\u2501\u2501\u2513\n",
       "\u2503\u001b[1m \u001b[0m\u001b[1m       Test metric       \u001b[0m\u001b[1m \u001b[0m\u2503\u001b[1m \u001b[0m\u001b[1m      DataLoader 0       \u001b[0m\u001b[1m \u001b[0m\u2503\n",
       "\u2521\u2501\u2501\u2501\u2501\u2501\u2501\u2501\u2501\u2501\u2501\u2501\u2501\u2501\u2501\u2501\u2501\u2501\u2501\u2501\u2501\u2501\u2501\u2501\u2501\u2501\u2501\u2501\u2547\u2501\u2501\u2501\u2501\u2501\u2501\u2501\u2501\u2501\u2501\u2501\u2501\u2501\u2501\u2501\u2501\u2501\u2501\u2501\u2501\u2501\u2501\u2501\u2501\u2501\u2501\u2501\u2529\n",
       "\u2502\u001b[36m \u001b[0m\u001b[36m      test_accuracy      \u001b[0m\u001b[36m \u001b[0m\u2502\u001b[35m \u001b[0m\u001b[35m   0.8357798457145691    \u001b[0m\u001b[35m \u001b[0m\u2502\n",
       "\u2502\u001b[36m \u001b[0m\u001b[36m       test_auroc        \u001b[0m\u001b[36m \u001b[0m\u2502\u001b[35m \u001b[0m\u001b[35m   0.9712444543838501    \u001b[0m\u001b[35m \u001b[0m\u2502\n",
       "\u2502\u001b[36m \u001b[0m\u001b[36m         test_f1         \u001b[0m\u001b[36m \u001b[0m\u2502\u001b[35m \u001b[0m\u001b[35m   0.8314404487609863    \u001b[0m\u001b[35m \u001b[0m\u2502\n",
       "\u2502\u001b[36m \u001b[0m\u001b[36m        test_loss        \u001b[0m\u001b[36m \u001b[0m\u2502\u001b[35m \u001b[0m\u001b[35m   0.8986123204231262    \u001b[0m\u001b[35m \u001b[0m\u2502\n",
       "\u2502\u001b[36m \u001b[0m\u001b[36m     test_precision      \u001b[0m\u001b[36m \u001b[0m\u2502\u001b[35m \u001b[0m\u001b[35m    0.832206130027771    \u001b[0m\u001b[35m \u001b[0m\u2502\n",
       "\u2502\u001b[36m \u001b[0m\u001b[36m       test_recall       \u001b[0m\u001b[36m \u001b[0m\u2502\u001b[35m \u001b[0m\u001b[35m   0.8314568996429443    \u001b[0m\u001b[35m \u001b[0m\u2502\n",
       "\u2514\u2500\u2500\u2500\u2500\u2500\u2500\u2500\u2500\u2500\u2500\u2500\u2500\u2500\u2500\u2500\u2500\u2500\u2500\u2500\u2500\u2500\u2500\u2500\u2500\u2500\u2500\u2500\u2534\u2500\u2500\u2500\u2500\u2500\u2500\u2500\u2500\u2500\u2500\u2500\u2500\u2500\u2500\u2500\u2500\u2500\u2500\u2500\u2500\u2500\u2500\u2500\u2500\u2500\u2500\u2500\u2518\n"
      ],
      "text/html": [
       "<pre style=\"white-space:pre;overflow-x:auto;line-height:normal;font-family:Menlo,'DejaVu Sans Mono',consolas,'Courier New',monospace\">\u250f\u2501\u2501\u2501\u2501\u2501\u2501\u2501\u2501\u2501\u2501\u2501\u2501\u2501\u2501\u2501\u2501\u2501\u2501\u2501\u2501\u2501\u2501\u2501\u2501\u2501\u2501\u2501\u2533\u2501\u2501\u2501\u2501\u2501\u2501\u2501\u2501\u2501\u2501\u2501\u2501\u2501\u2501\u2501\u2501\u2501\u2501\u2501\u2501\u2501\u2501\u2501\u2501\u2501\u2501\u2501\u2513\n",
       "\u2503<span style=\"font-weight: bold\">        Test metric        </span>\u2503<span style=\"font-weight: bold\">       DataLoader 0        </span>\u2503\n",
       "\u2521\u2501\u2501\u2501\u2501\u2501\u2501\u2501\u2501\u2501\u2501\u2501\u2501\u2501\u2501\u2501\u2501\u2501\u2501\u2501\u2501\u2501\u2501\u2501\u2501\u2501\u2501\u2501\u2547\u2501\u2501\u2501\u2501\u2501\u2501\u2501\u2501\u2501\u2501\u2501\u2501\u2501\u2501\u2501\u2501\u2501\u2501\u2501\u2501\u2501\u2501\u2501\u2501\u2501\u2501\u2501\u2529\n",
       "\u2502<span style=\"color: #008080; text-decoration-color: #008080\">       test_accuracy       </span>\u2502<span style=\"color: #800080; text-decoration-color: #800080\">    0.8357798457145691     </span>\u2502\n",
       "\u2502<span style=\"color: #008080; text-decoration-color: #008080\">        test_auroc         </span>\u2502<span style=\"color: #800080; text-decoration-color: #800080\">    0.9712444543838501     </span>\u2502\n",
       "\u2502<span style=\"color: #008080; text-decoration-color: #008080\">          test_f1          </span>\u2502<span style=\"color: #800080; text-decoration-color: #800080\">    0.8314404487609863     </span>\u2502\n",
       "\u2502<span style=\"color: #008080; text-decoration-color: #008080\">         test_loss         </span>\u2502<span style=\"color: #800080; text-decoration-color: #800080\">    0.8986123204231262     </span>\u2502\n",
       "\u2502<span style=\"color: #008080; text-decoration-color: #008080\">      test_precision       </span>\u2502<span style=\"color: #800080; text-decoration-color: #800080\">     0.832206130027771     </span>\u2502\n",
       "\u2502<span style=\"color: #008080; text-decoration-color: #008080\">        test_recall        </span>\u2502<span style=\"color: #800080; text-decoration-color: #800080\">    0.8314568996429443     </span>\u2502\n",
       "\u2514\u2500\u2500\u2500\u2500\u2500\u2500\u2500\u2500\u2500\u2500\u2500\u2500\u2500\u2500\u2500\u2500\u2500\u2500\u2500\u2500\u2500\u2500\u2500\u2500\u2500\u2500\u2500\u2534\u2500\u2500\u2500\u2500\u2500\u2500\u2500\u2500\u2500\u2500\u2500\u2500\u2500\u2500\u2500\u2500\u2500\u2500\u2500\u2500\u2500\u2500\u2500\u2500\u2500\u2500\u2500\u2518\n",
       "</pre>\n"
      ]
     },
     "metadata": {}
    },
    {
     "output_type": "stream",
     "name": "stdout",
     "text": [
      "Model saved to EfficientNetV2M_Advanced_20250405_165553_final.pt\n"
     ]
    }
   ]
  },
  {
   "cell_type": "code",
   "source": [
    "torch.save(model1.state_dict(), \"saved_efficientnet/efficientnetv2-method3_weights.pth\")\n",
    "torch.save(model1, \"saved_efficientnet/efficientnetv2-method3.pth\")"
   ],
   "metadata": {
    "id": "mFyW3e4BvVJp"
   },
   "execution_count": null,
   "outputs": []
  },
  {
   "cell_type": "markdown",
   "source": [
    "### Method 4 Training"
   ],
   "metadata": {
    "id": "KbyT4rMZWYHN"
   }
  },
  {
   "cell_type": "code",
   "source": [
    "# Model 2: Self-Attention Enhanced EfficientNet\n",
    "print(\"\\n=== Training Model 2: Self-Attention Enhanced EfficientNet ===\")\n",
    "model2 = train_and_evaluate_model(\n",
    "  model_name=\"SelfAttention_EfficientNet\",\n",
    "  model_class=SelfAttentionEfficientNet,\n",
    "  data_module=data_module,\n",
    "  max_epochs=15,\n",
    "  learning_rate=5e-4\n",
    ")"
   ],
   "metadata": {
    "colab": {
     "base_uri": "https://localhost:8080/",
     "height": 1000,
     "referenced_widgets": [
      "a22e6c43b9764a608987b2da1d587765",
      "0b0ebe7a0a984cbd94f22fc05cca7716",
      "fb8d3692668a48c884f8fb6fd3438cda",
      "9211aff1c0ef493882318f1658360d4f",
      "8efcaecc70384abc95ba257b90be9fa2",
      "9fbed9e4209644749118ed1ef96575c6",
      "9d4261d7533148e6853ef702717cb550",
      "0d8204fcff1f4bcf9c53f6d4bc0b791f",
      "78fd7c0fe6b84e929d3bdf23265f3945",
      "28d7f7dfef204233ba35f0c485553797",
      "0352038b34c3482989b467056b549da1",
      "719850c207f44705a9012c08000e85c1",
      "11d5f7055e384a4fa2a5f5d250e404aa",
      "daa95f71f98549ef8ec7209d1c8297f5",
      "cd9fdadc9907401595789f73d4aec56c",
      "07733a55db954868a63e9fff483f8de3",
      "9c6990ab9cc24441a62c5761d17394f8",
      "5857682d2c244654809b3e73418393fe",
      "15e16ca789814eaea2d2d5b98b56fd74",
      "c9cf59ef545a4e159beb532a22c41e7e",
      "f317a9626ac145e78fff75aeb2f2bb04",
      "eab5a7a610704b7dba0f4cfffff053b9",
      "5d873f7f2c8545de9527a15e8ebd5193",
      "b561a17537fa43c0ae44599336ef84ab",
      "839c4614cd8b4867ad1ef256ca71bd1e",
      "7fb085b4b00c4f9080475fa4c4d3be87",
      "0835711d068548aa8a8082dfff923313",
      "829cdbbf1a1946469ad7f7160b5fc670",
      "62e800186a284197898bb4a43a85a620",
      "4303f863b8c04dd39ea9afdcd75f5ae2",
      "15382a9e525b4b84b21b5a2ed2fb8d4f",
      "d17e42778c8b41fca5516b0713e6bc20",
      "20930a3117824c6faf4829ecb617ff1f",
      "3b36e742ed6f4cf3a77b6921e35d88a1",
      "2acca6308ce84a1bae35d77e97e9cd22",
      "b9100aa0c6184204a2dac591775ce364",
      "392debf9f2484d889e2c37b0076188fe",
      "7df217c81c1549c9ae0e69bab627fc59",
      "982864011b3b43be837fe57fd76cb4d2",
      "af53301144694eac94598cf14fd9e98c",
      "aa59add9acf848e2a5f2164743514835",
      "86259d0756d34a22a4c75c7ef1354be5",
      "49e9adc267924f428d46b60304659e01",
      "d734dea4a1d54b66a2d776c7cda581b9",
      "ffbffbceadf7439e93b44c19c3a92ba6",
      "6e15956380b146e8ab60b5ab19622fc6",
      "cc80ae9ce14f4f5b89d061aa815df791",
      "4b63cbc1a07f48be98efda2ab922e757",
      "cad41bdde2cb473a96b4bc276516a9f9",
      "3b85b889567f49b2973cb97e15e627a6",
      "32d2bb90e9e54c20be63f28329c44996",
      "3876aa3a781d45038585508bc6bec9d7",
      "5066acffb88a4192b557185ef023800d",
      "c8e1f268644640e78317234f23e8af87",
      "829cbb72884945bda95f3315cdb67230",
      "2e6a4c9933804a8983f9170b3fdee6e0",
      "be98cd587de44ec2a83df092ec34232a",
      "1d9b25017a354a59bfca5214329cdde2",
      "9994b107209947adb0a74d08799248c6",
      "2ce7bf3a3b404ddb97177ec8cf03968f",
      "b7e7627a89d041d5abab9c5139f09ea4",
      "75d7fedad62841f198fca819ade2d5ce",
      "7d2663f61eed466c8a2b809370d315b4",
      "b45e01900ddd47b59641c16a8711cc8d",
      "89316516b9d44f4a9d53c08840377f65",
      "ab64d51fc4d74abfaa61495d65fe6da5",
      "2fd215fed9a242ea9a441341129a9b3e",
      "daf95c651fc348f08f27de809cdd079e",
      "ded7f20013354202b401751a0cf8ad81",
      "b3ec78c34a9f49d4ad6afb20bd12b918",
      "0630f2dca5654019915adc2858a961f3",
      "99bb1631c3d44b46b4882e67e39233db",
      "887e07f9028d465dbf6f034a8e04ad2a",
      "133f3105326546cbb33d144dfee7dda2",
      "c7a0f13dbced470c8e5926a1bef340ed",
      "ba63332d4dcc438ab7919b72ac3a694e",
      "de1ec7c5c9ec4c85b993912d0a02c34b",
      "3233fa48f7d84423bb066c1ba6446c36",
      "90fc6d842b664a6b9e7e680a38304704",
      "0a806787be9f41e8bf0667178e0c7ac4",
      "a575005723224bfeba2256e62af3eac4",
      "81bb02c24fb04d0fbf8c66b0fa9e36c1",
      "3bcd732d42704fe99d6da4efe94dcc84",
      "a337b3d235d0457cb6ff1dfefeb55296",
      "9620af2ebd7a40bb821cbf0491cde249",
      "3334e114fd0c44f1bc4501cfa7909236",
      "85a91177b85949b2b63378be41f634a7",
      "c06605781158403595ede5ce83718e48",
      "4556e8dd6b70434b9f351d5f1e9442f6",
      "3725bcf6b1084eb4b6dadf74c3f5f75d",
      "11a5ac6c059f432b9d2dc4789ce42292",
      "27c41704473c4ca9b5a7729926a246c6",
      "09fdb572292e407bb92907ee6af94f15",
      "db26a2119dde4ee29c43e8e05386524b",
      "d334c517507b4bf2b59ad829d24f4c62",
      "82a8c84d50a64ee38dbeb7441090e8be",
      "1095231135f34a36971822d464baec95",
      "070fb3f1cac8486ea026696d9c3a57a6",
      "9430998116bf4999a0bb0dcf231094b7",
      "0acfe1153e784d9a8cd7f14ea1e89a82",
      "8a12453d96484c848ea209506cfabb93",
      "8a3b40df9b33408f86d7801235c4da27",
      "f9d56acff19e4243ac127d07c60470d6",
      "56154d0d45514543a87c57ad66751677",
      "b9283df2cac24a88a9e0c51ae5ad4f35",
      "504c54fc163e4e379c360cf3b05076ea",
      "55273b5f201947d18496259c1d39e5c7",
      "39ed9644a7454c4d8686ec93591a0e32",
      "d43ab65599e948209468d8ea29b0d704",
      "824eecba5a2543e49dd4d6d29ecd153a",
      "236eb2ebb3a0430ab495cee86470bd2c",
      "d33b55cec11a41d2a4dcd449d81c2679",
      "7e68c3296eb641f3b350edc5b681eca3",
      "c28858366cb640e59230488bed377a83",
      "35f08d14313a4b65a723c12f3229e19f",
      "bfd353670545432ca2f42e959cd8d8df",
      "4ab87617318d40d9a98610f0247c72bf",
      "bd66f3e6fb6c45eeb71008e9be584ef8",
      "83be3b7b2e7b47f290a18bc5b6872c36",
      "eff7f2e438a4491da04740c6ea49f426",
      "2d7e66b8c3bc4a8291d2604284144e67",
      "85391b1a560c46da988e33b8c6ccad88",
      "1cdd3b342fcc49de8a2dfc1b08f67a4b",
      "ec40f0bb4fd84e548394a6ce5f008491",
      "512e8e690a674d0aa24ff8bf95effa24",
      "13349d23ee9442b3aed84e1266c42f79",
      "33e14d83819943519d4715d7a9e86ecf",
      "d02889f50b5a4415b213975148bfc449",
      "faf0e28991f14eb4818fe028b5ebca99",
      "350bb975ea3c4410be8fb52050fc5a73",
      "1b4abe2889e24f259820e8ac5cf3bd7e",
      "0767e8dd0fc9476aa7bbd7dad900abc4",
      "00194f7a48124bf8952f24834b76765f",
      "4d8ab9a9a18840e69a1b4cde8cfcc15b",
      "7b46474c9ca74b10b3223ade5468068d",
      "27bc065e1f9e486d8eb6c02332d5b33a",
      "4e64a4bc0bb34c219b95d0f83a5d1a79",
      "d3164de02145479a9ed30fa21642f228",
      "64de1b5e7a38453687e677658bbeb60b",
      "1b1d24a4557449e5a8ce1da1f21c079c",
      "7e5def02a33c47c59bcf93afdef52ce8",
      "435643e64ef54d52a0ebfdfe55ac9f37",
      "d2a24d38134d43d592ed44ed17a2aac0",
      "2e65ea288f8241508570f59713890f9b",
      "7e586494eea84ae2a4ea5af48e665243",
      "b531bc9f65e14cffba15612cc579f7da",
      "102ff71d57404ab696995f9c029e4240",
      "c531da88b9584081b8a346a4c042322d",
      "4ea6fc6e63a74a4d9af280d196d8b937",
      "99ade782c71344079069cc17622b8b90",
      "bdc631af52714b1a9e9e6c5879125f00",
      "f49eadd00594419eb8ac1f60ad6fd69c",
      "602f4d537e4d442fb1f886e8947ae349",
      "d4efee1b31374cfda4f2f612bc018d5e",
      "21b11a2f7c9343219900c7fc359b886d",
      "95e2ca5652c44305851e8e2c6317d4da",
      "0b21993215ec4bed95eafa4501dd585b",
      "f6c65682a8204b7a9b4a6200ed737112",
      "389a87c35994461e8fb44680a5615b62",
      "6941821b54534647b2e3a67574f0392b",
      "999fc3a111c544b6bc6a4672959b6ca8",
      "b9fd3d395f5144fc8a02faa00b6773de",
      "279701df53f54759ab3f02c6adb45ec7",
      "426f0fc21a8c456b9787cd927a8e0e5d",
      "4ff6a8a327764f778234f9c1db7c20dd",
      "9f18127e0c1e472cabc1a4bc4373c7c8",
      "c88f705c0db844d6acc41f884c2849eb",
      "acf681fc859b4e54abe3c34f745d08e5",
      "c973d3ceb2914293b02f12faf606a1f0",
      "55d2941ab98d43edad85c117cec173ef",
      "4b3df2467714476a8be796a1e01d3571",
      "c57f8b897f80440982f8b5632057f893",
      "4dc95d32b7d843ccbcadd670ea028827",
      "024c389b82174ddf931fd1560d75126c",
      "faf7d2d65e60444e84616e17ba5b1071",
      "692f62941e1d4eb5943c7ed714e4fdd6",
      "8dea88bf64d84d0289bfc0e9a123e896",
      "72bde7f8c3cd4c80bd93dc0854feda6a",
      "0d35602238a6404ebc9d29aeaada2d26",
      "b2ca99dfb1a9448b849c61827031948a",
      "a9d8160623d64100881ab8a57b169ee1",
      "defe5d8e33014134b01fa3929529860b",
      "17829ce31b35469c8e4e8441c0752e95",
      "1f1c4a425ee54169b13bca294c72dd96",
      "8729c0e9bf134bdeaff093f52aaa5a68",
      "407319dc65ce4c3a8ff4949613dfd7c2",
      "d6838e3fd9b4438e9b760c621d2233a0",
      "a4fdc9404c464d8eb276454749855004",
      "114d959c4f764d82818b05e5947fdf47",
      "949e4de99cfd4fca902e11dc3575fdc8",
      "48e07e68ac9045eaa9997ffb9f2fdbcb",
      "2532fc33abeb48af9c779fe829a9a3c0",
      "5ee5f64109744ef8abd50057de29f97c",
      "cf3a97291de4480395f63e5224476401",
      "cddb0a0956d84540ae8a8692d71cbd37",
      "254a72054dbe40738dff5301d54d3456",
      "825ef89cfe3d486db1bc89533d3ad9cd",
      "c913f6b1b41d46a599b5573e86514b0a"
     ]
    },
    "id": "f0M8IrM-tmVd",
    "executionInfo": {
     "status": "ok",
     "timestamp": 1743875280674,
     "user_tz": -480,
     "elapsed": 1427734,
     "user": {
      "displayName": "nat ang",
      "userId": "01830563404866135370"
     }
    },
    "outputId": "2cdb0762-d464-47d3-d755-33b4245000a2"
   },
   "execution_count": null,
   "outputs": [
    {
     "output_type": "stream",
     "name": "stderr",
     "text": [
      "INFO:pytorch_lightning.utilities.rank_zero:Using 16bit Automatic Mixed Precision (AMP)\n",
      "INFO:pytorch_lightning.utilities.rank_zero:GPU available: True (cuda), used: True\n",
      "INFO:pytorch_lightning.utilities.rank_zero:TPU available: False, using: 0 TPU cores\n",
      "INFO:pytorch_lightning.utilities.rank_zero:HPU available: False, using: 0 HPUs\n"
     ]
    },
    {
     "output_type": "stream",
     "name": "stdout",
     "text": [
      "\n",
      "=== Training Model 2: Self-Attention Enhanced EfficientNet ===\n"
     ]
    },
    {
     "output_type": "stream",
     "name": "stderr",
     "text": [
      "INFO: LOCAL_RANK: 0 - CUDA_VISIBLE_DEVICES: [0]\n",
      "INFO:lightning.pytorch.accelerators.cuda:LOCAL_RANK: 0 - CUDA_VISIBLE_DEVICES: [0]\n",
      "INFO: \n",
      "   | Name                  | Type                      | Params | Mode \n",
      "-----------------------------------------------------------------------------\n",
      "0  | criterion             | CrossEntropyLoss          | 0      | train\n",
      "1  | train_acc             | MulticlassAccuracy        | 0      | train\n",
      "2  | val_acc               | MulticlassAccuracy        | 0      | train\n",
      "3  | test_accuracy         | MulticlassAccuracy        | 0      | train\n",
      "4  | test_precision        | MulticlassPrecision       | 0      | train\n",
      "5  | test_recall           | MulticlassRecall          | 0      | train\n",
      "6  | test_f1               | MulticlassF1Score         | 0      | train\n",
      "7  | test_auroc            | MulticlassAUROC           | 0      | train\n",
      "8  | test_confusion_matrix | MulticlassConfusionMatrix | 0      | train\n",
      "9  | model                 | EfficientNet              | 52.9 M | train\n",
      "10 | channel_attention     | Sequential                | 206 K  | train\n",
      "11 | spatial_attention     | Sequential                | 62.7 K | train\n",
      "12 | classifier            | Sequential                | 329 K  | train\n",
      "-----------------------------------------------------------------------------\n",
      "53.5 M    Trainable params\n",
      "0         Non-trainable params\n",
      "53.5 M    Total params\n",
      "213.827   Total estimated model params size (MB)\n",
      "1046      Modules in train mode\n",
      "0         Modules in eval mode\n",
      "INFO:lightning.pytorch.callbacks.model_summary:\n",
      "   | Name                  | Type                      | Params | Mode \n",
      "-----------------------------------------------------------------------------\n",
      "0  | criterion             | CrossEntropyLoss          | 0      | train\n",
      "1  | train_acc             | MulticlassAccuracy        | 0      | train\n",
      "2  | val_acc               | MulticlassAccuracy        | 0      | train\n",
      "3  | test_accuracy         | MulticlassAccuracy        | 0      | train\n",
      "4  | test_precision        | MulticlassPrecision       | 0      | train\n",
      "5  | test_recall           | MulticlassRecall          | 0      | train\n",
      "6  | test_f1               | MulticlassF1Score         | 0      | train\n",
      "7  | test_auroc            | MulticlassAUROC           | 0      | train\n",
      "8  | test_confusion_matrix | MulticlassConfusionMatrix | 0      | train\n",
      "9  | model                 | EfficientNet              | 52.9 M | train\n",
      "10 | channel_attention     | Sequential                | 206 K  | train\n",
      "11 | spatial_attention     | Sequential                | 62.7 K | train\n",
      "12 | classifier            | Sequential                | 329 K  | train\n",
      "-----------------------------------------------------------------------------\n",
      "53.5 M    Trainable params\n",
      "0         Non-trainable params\n",
      "53.5 M    Total params\n",
      "213.827   Total estimated model params size (MB)\n",
      "1046      Modules in train mode\n",
      "0         Modules in eval mode\n"
     ]
    },
    {
     "output_type": "stream",
     "name": "stdout",
     "text": [
      "\n",
      "Training SelfAttention_EfficientNet...\n"
     ]
    },
    {
     "output_type": "display_data",
     "data": {
      "text/plain": [
       "Sanity Checking: |          | 0/? [00:00<?, ?it/s]"
      ],
      "application/vnd.jupyter.widget-view+json": {
       "version_major": 2,
       "version_minor": 0,
       "model_id": "a22e6c43b9764a608987b2da1d587765"
      }
     },
     "metadata": {}
    },
    {
     "output_type": "display_data",
     "data": {
      "text/plain": [
       "Training: |          | 0/? [00:00<?, ?it/s]"
      ],
      "application/vnd.jupyter.widget-view+json": {
       "version_major": 2,
       "version_minor": 0,
       "model_id": "719850c207f44705a9012c08000e85c1"
      }
     },
     "metadata": {}
    },
    {
     "output_type": "display_data",
     "data": {
      "text/plain": [
       "Validation: |          | 0/? [00:00<?, ?it/s]"
      ],
      "application/vnd.jupyter.widget-view+json": {
       "version_major": 2,
       "version_minor": 0,
       "model_id": "5d873f7f2c8545de9527a15e8ebd5193"
      }
     },
     "metadata": {}
    },
    {
     "output_type": "display_data",
     "data": {
      "text/plain": [
       "Validation: |          | 0/? [00:00<?, ?it/s]"
      ],
      "application/vnd.jupyter.widget-view+json": {
       "version_major": 2,
       "version_minor": 0,
       "model_id": "3b36e742ed6f4cf3a77b6921e35d88a1"
      }
     },
     "metadata": {}
    },
    {
     "output_type": "display_data",
     "data": {
      "text/plain": [
       "Validation: |          | 0/? [00:00<?, ?it/s]"
      ],
      "application/vnd.jupyter.widget-view+json": {
       "version_major": 2,
       "version_minor": 0,
       "model_id": "ffbffbceadf7439e93b44c19c3a92ba6"
      }
     },
     "metadata": {}
    },
    {
     "output_type": "display_data",
     "data": {
      "text/plain": [
       "Validation: |          | 0/? [00:00<?, ?it/s]"
      ],
      "application/vnd.jupyter.widget-view+json": {
       "version_major": 2,
       "version_minor": 0,
       "model_id": "2e6a4c9933804a8983f9170b3fdee6e0"
      }
     },
     "metadata": {}
    },
    {
     "output_type": "display_data",
     "data": {
      "text/plain": [
       "Validation: |          | 0/? [00:00<?, ?it/s]"
      ],
      "application/vnd.jupyter.widget-view+json": {
       "version_major": 2,
       "version_minor": 0,
       "model_id": "2fd215fed9a242ea9a441341129a9b3e"
      }
     },
     "metadata": {}
    },
    {
     "output_type": "display_data",
     "data": {
      "text/plain": [
       "Validation: |          | 0/? [00:00<?, ?it/s]"
      ],
      "application/vnd.jupyter.widget-view+json": {
       "version_major": 2,
       "version_minor": 0,
       "model_id": "3233fa48f7d84423bb066c1ba6446c36"
      }
     },
     "metadata": {}
    },
    {
     "output_type": "display_data",
     "data": {
      "text/plain": [
       "Validation: |          | 0/? [00:00<?, ?it/s]"
      ],
      "application/vnd.jupyter.widget-view+json": {
       "version_major": 2,
       "version_minor": 0,
       "model_id": "4556e8dd6b70434b9f351d5f1e9442f6"
      }
     },
     "metadata": {}
    },
    {
     "output_type": "display_data",
     "data": {
      "text/plain": [
       "Validation: |          | 0/? [00:00<?, ?it/s]"
      ],
      "application/vnd.jupyter.widget-view+json": {
       "version_major": 2,
       "version_minor": 0,
       "model_id": "0acfe1153e784d9a8cd7f14ea1e89a82"
      }
     },
     "metadata": {}
    },
    {
     "output_type": "display_data",
     "data": {
      "text/plain": [
       "Validation: |          | 0/? [00:00<?, ?it/s]"
      ],
      "application/vnd.jupyter.widget-view+json": {
       "version_major": 2,
       "version_minor": 0,
       "model_id": "236eb2ebb3a0430ab495cee86470bd2c"
      }
     },
     "metadata": {}
    },
    {
     "output_type": "display_data",
     "data": {
      "text/plain": [
       "Validation: |          | 0/? [00:00<?, ?it/s]"
      ],
      "application/vnd.jupyter.widget-view+json": {
       "version_major": 2,
       "version_minor": 0,
       "model_id": "85391b1a560c46da988e33b8c6ccad88"
      }
     },
     "metadata": {}
    },
    {
     "output_type": "display_data",
     "data": {
      "text/plain": [
       "Validation: |          | 0/? [00:00<?, ?it/s]"
      ],
      "application/vnd.jupyter.widget-view+json": {
       "version_major": 2,
       "version_minor": 0,
       "model_id": "00194f7a48124bf8952f24834b76765f"
      }
     },
     "metadata": {}
    },
    {
     "output_type": "display_data",
     "data": {
      "text/plain": [
       "Validation: |          | 0/? [00:00<?, ?it/s]"
      ],
      "application/vnd.jupyter.widget-view+json": {
       "version_major": 2,
       "version_minor": 0,
       "model_id": "2e65ea288f8241508570f59713890f9b"
      }
     },
     "metadata": {}
    },
    {
     "output_type": "display_data",
     "data": {
      "text/plain": [
       "Validation: |          | 0/? [00:00<?, ?it/s]"
      ],
      "application/vnd.jupyter.widget-view+json": {
       "version_major": 2,
       "version_minor": 0,
       "model_id": "21b11a2f7c9343219900c7fc359b886d"
      }
     },
     "metadata": {}
    },
    {
     "output_type": "display_data",
     "data": {
      "text/plain": [
       "Validation: |          | 0/? [00:00<?, ?it/s]"
      ],
      "application/vnd.jupyter.widget-view+json": {
       "version_major": 2,
       "version_minor": 0,
       "model_id": "9f18127e0c1e472cabc1a4bc4373c7c8"
      }
     },
     "metadata": {}
    },
    {
     "output_type": "display_data",
     "data": {
      "text/plain": [
       "Validation: |          | 0/? [00:00<?, ?it/s]"
      ],
      "application/vnd.jupyter.widget-view+json": {
       "version_major": 2,
       "version_minor": 0,
       "model_id": "8dea88bf64d84d0289bfc0e9a123e896"
      }
     },
     "metadata": {}
    },
    {
     "output_type": "stream",
     "name": "stderr",
     "text": [
      "INFO:pytorch_lightning.utilities.rank_zero:`Trainer.fit` stopped: `max_epochs=15` reached.\n",
      "INFO: LOCAL_RANK: 0 - CUDA_VISIBLE_DEVICES: [0]\n",
      "INFO:lightning.pytorch.accelerators.cuda:LOCAL_RANK: 0 - CUDA_VISIBLE_DEVICES: [0]\n"
     ]
    },
    {
     "output_type": "stream",
     "name": "stdout",
     "text": [
      "\n",
      "Evaluating SelfAttention_EfficientNet...\n"
     ]
    },
    {
     "output_type": "display_data",
     "data": {
      "text/plain": [
       "Testing: |          | 0/? [00:00<?, ?it/s]"
      ],
      "application/vnd.jupyter.widget-view+json": {
       "version_major": 2,
       "version_minor": 0,
       "model_id": "a4fdc9404c464d8eb276454749855004"
      }
     },
     "metadata": {}
    },
    {
     "output_type": "stream",
     "name": "stderr",
     "text": [
      "/usr/local/lib/python3.11/dist-packages/torchmetrics/utilities/prints.py:43: UserWarning: No negative samples in targets, false positive value should be meaningless. Returning zero tensor in false positive score\n",
      "  warnings.warn(*args, **kwargs)\n",
      "/usr/local/lib/python3.11/dist-packages/torchmetrics/utilities/prints.py:43: UserWarning: No positive samples in targets, true positive value should be meaningless. Returning zero tensor in true positive score\n",
      "  warnings.warn(*args, **kwargs)\n"
     ]
    },
    {
     "output_type": "stream",
     "name": "stdout",
     "text": [
      "\n",
      "--- Test Metrics ---\n",
      "Accuracy: 0.8183\n",
      "Precision: 0.8172\n",
      "Recall: 0.8141\n",
      "F1 Score: 0.8141\n",
      "AUROC: 0.9727\n"
     ]
    },
    {
     "output_type": "display_data",
     "data": {
      "text/plain": [
       "<Figure size 1200x1000 with 2 Axes>"
      ],
      "image/png": "[encoded data removed]"
     },
     "metadata": {}
    },
    {
     "output_type": "display_data",
     "data": {
      "text/plain": [
       "\u250f\u2501\u2501\u2501\u2501\u2501\u2501\u2501\u2501\u2501\u2501\u2501\u2501\u2501\u2501\u2501\u2501\u2501\u2501\u2501\u2501\u2501\u2501\u2501\u2501\u2501\u2501\u2501\u2533\u2501\u2501\u2501\u2501\u2501\u2501\u2501\u2501\u2501\u2501\u2501\u2501\u2501\u2501\u2501\u2501\u2501\u2501\u2501\u2501\u2501\u2501\u2501\u2501\u2501\u2501\u2501\u2513\n",
       "\u2503\u001b[1m \u001b[0m\u001b[1m       Test metric       \u001b[0m\u001b[1m \u001b[0m\u2503\u001b[1m \u001b[0m\u001b[1m      DataLoader 0       \u001b[0m\u001b[1m \u001b[0m\u2503\n",
       "\u2521\u2501\u2501\u2501\u2501\u2501\u2501\u2501\u2501\u2501\u2501\u2501\u2501\u2501\u2501\u2501\u2501\u2501\u2501\u2501\u2501\u2501\u2501\u2501\u2501\u2501\u2501\u2501\u2547\u2501\u2501\u2501\u2501\u2501\u2501\u2501\u2501\u2501\u2501\u2501\u2501\u2501\u2501\u2501\u2501\u2501\u2501\u2501\u2501\u2501\u2501\u2501\u2501\u2501\u2501\u2501\u2529\n",
       "\u2502\u001b[36m \u001b[0m\u001b[36m      test_accuracy      \u001b[0m\u001b[36m \u001b[0m\u2502\u001b[35m \u001b[0m\u001b[35m   0.8183486461639404    \u001b[0m\u001b[35m \u001b[0m\u2502\n",
       "\u2502\u001b[36m \u001b[0m\u001b[36m       test_auroc        \u001b[0m\u001b[36m \u001b[0m\u2502\u001b[35m \u001b[0m\u001b[35m    0.97273188829422     \u001b[0m\u001b[35m \u001b[0m\u2502\n",
       "\u2502\u001b[36m \u001b[0m\u001b[36m         test_f1         \u001b[0m\u001b[36m \u001b[0m\u2502\u001b[35m \u001b[0m\u001b[35m   0.8141456842422485    \u001b[0m\u001b[35m \u001b[0m\u2502\n",
       "\u2502\u001b[36m \u001b[0m\u001b[36m        test_loss        \u001b[0m\u001b[36m \u001b[0m\u2502\u001b[35m \u001b[0m\u001b[35m    0.901638388633728    \u001b[0m\u001b[35m \u001b[0m\u2502\n",
       "\u2502\u001b[36m \u001b[0m\u001b[36m     test_precision      \u001b[0m\u001b[36m \u001b[0m\u2502\u001b[35m \u001b[0m\u001b[35m   0.8171953558921814    \u001b[0m\u001b[35m \u001b[0m\u2502\n",
       "\u2502\u001b[36m \u001b[0m\u001b[36m       test_recall       \u001b[0m\u001b[36m \u001b[0m\u2502\u001b[35m \u001b[0m\u001b[35m   0.8141120076179504    \u001b[0m\u001b[35m \u001b[0m\u2502\n",
       "\u2514\u2500\u2500\u2500\u2500\u2500\u2500\u2500\u2500\u2500\u2500\u2500\u2500\u2500\u2500\u2500\u2500\u2500\u2500\u2500\u2500\u2500\u2500\u2500\u2500\u2500\u2500\u2500\u2534\u2500\u2500\u2500\u2500\u2500\u2500\u2500\u2500\u2500\u2500\u2500\u2500\u2500\u2500\u2500\u2500\u2500\u2500\u2500\u2500\u2500\u2500\u2500\u2500\u2500\u2500\u2500\u2518\n"
      ],
      "text/html": [
       "<pre style=\"white-space:pre;overflow-x:auto;line-height:normal;font-family:Menlo,'DejaVu Sans Mono',consolas,'Courier New',monospace\">\u250f\u2501\u2501\u2501\u2501\u2501\u2501\u2501\u2501\u2501\u2501\u2501\u2501\u2501\u2501\u2501\u2501\u2501\u2501\u2501\u2501\u2501\u2501\u2501\u2501\u2501\u2501\u2501\u2533\u2501\u2501\u2501\u2501\u2501\u2501\u2501\u2501\u2501\u2501\u2501\u2501\u2501\u2501\u2501\u2501\u2501\u2501\u2501\u2501\u2501\u2501\u2501\u2501\u2501\u2501\u2501\u2513\n",
       "\u2503<span style=\"font-weight: bold\">        Test metric        </span>\u2503<span style=\"font-weight: bold\">       DataLoader 0        </span>\u2503\n",
       "\u2521\u2501\u2501\u2501\u2501\u2501\u2501\u2501\u2501\u2501\u2501\u2501\u2501\u2501\u2501\u2501\u2501\u2501\u2501\u2501\u2501\u2501\u2501\u2501\u2501\u2501\u2501\u2501\u2547\u2501\u2501\u2501\u2501\u2501\u2501\u2501\u2501\u2501\u2501\u2501\u2501\u2501\u2501\u2501\u2501\u2501\u2501\u2501\u2501\u2501\u2501\u2501\u2501\u2501\u2501\u2501\u2529\n",
       "\u2502<span style=\"color: #008080; text-decoration-color: #008080\">       test_accuracy       </span>\u2502<span style=\"color: #800080; text-decoration-color: #800080\">    0.8183486461639404     </span>\u2502\n",
       "\u2502<span style=\"color: #008080; text-decoration-color: #008080\">        test_auroc         </span>\u2502<span style=\"color: #800080; text-decoration-color: #800080\">     0.97273188829422      </span>\u2502\n",
       "\u2502<span style=\"color: #008080; text-decoration-color: #008080\">          test_f1          </span>\u2502<span style=\"color: #800080; text-decoration-color: #800080\">    0.8141456842422485     </span>\u2502\n",
       "\u2502<span style=\"color: #008080; text-decoration-color: #008080\">         test_loss         </span>\u2502<span style=\"color: #800080; text-decoration-color: #800080\">     0.901638388633728     </span>\u2502\n",
       "\u2502<span style=\"color: #008080; text-decoration-color: #008080\">      test_precision       </span>\u2502<span style=\"color: #800080; text-decoration-color: #800080\">    0.8171953558921814     </span>\u2502\n",
       "\u2502<span style=\"color: #008080; text-decoration-color: #008080\">        test_recall        </span>\u2502<span style=\"color: #800080; text-decoration-color: #800080\">    0.8141120076179504     </span>\u2502\n",
       "\u2514\u2500\u2500\u2500\u2500\u2500\u2500\u2500\u2500\u2500\u2500\u2500\u2500\u2500\u2500\u2500\u2500\u2500\u2500\u2500\u2500\u2500\u2500\u2500\u2500\u2500\u2500\u2500\u2534\u2500\u2500\u2500\u2500\u2500\u2500\u2500\u2500\u2500\u2500\u2500\u2500\u2500\u2500\u2500\u2500\u2500\u2500\u2500\u2500\u2500\u2500\u2500\u2500\u2500\u2500\u2500\u2518\n",
       "</pre>\n"
      ]
     },
     "metadata": {}
    },
    {
     "output_type": "stream",
     "name": "stdout",
     "text": [
      "Model saved to SelfAttention_EfficientNet_20250405_172412_final.pt\n"
     ]
    }
   ]
  },
  {
   "cell_type": "code",
   "source": [
    "torch.save(model2.state_dict(), \"saved_efficientnet/efficientnetv2-method4_weights.pth\")\n",
    "torch.save(model2, \"saved_efficientnet/efficientnetv2-method4.pth\")"
   ],
   "metadata": {
    "id": "-5krPsLmyIAY"
   },
   "execution_count": null,
   "outputs": []
  },
  {
   "cell_type": "markdown",
   "source": [
    "### Method 5 Training"
   ],
   "metadata": {
    "id": "n_Nhn9JtWd91"
   }
  },
  {
   "cell_type": "code",
   "source": [
    "# Model 5\n",
    "print(\"\\n=== Training Model 5: Enhanced EfficientNetV2-M with Optimized Regularization ===\")\n",
    "model5 = train_and_evaluate_model(\n",
    "  model_name=\"EfficientNetV2MOptimized\",\n",
    "  model_class=EfficientNetV2MOptimized,\n",
    "  data_module=data_module,\n",
    "  max_epochs=20,\n",
    "  learning_rate=3e-4\n",
    ")"
   ],
   "metadata": {
    "colab": {
     "base_uri": "https://localhost:8080/",
     "height": 1000,
     "referenced_widgets": [
      "71aec0ab2c884138a7f500bbfe82bec7",
      "69e97a489a1f42449dfcbbaa64e21e80",
      "ee6a1f76dac042acb62d0d8c459a8ee1",
      "81eb4dfe0a7145de9b103b00da4b56b6",
      "55833779adb941e08ab939ef6ef79b35",
      "d1b2298d112246b6aba44c533f931d01",
      "93653ab641fa4feea3c17eef70c0a246",
      "794c8bd648af4b7b8ebed7c615534059",
      "f2598a37dda94b8797bd763e071da9f7",
      "11a0b58109aa4655aa314c5dd62db5e3",
      "e4ffdb31df914729bee47f5be5296596",
      "125105e695ab4377aac22357ea879e54",
      "4a991f70b13c4998b7063fdce7b54aa0",
      "788de8df7bd6432c8c96bf92c363c975",
      "13dc24a073d24d528ce59c2b656225f9",
      "ab570029d1064e18bf88ca925fdf800e",
      "a1a28a5efeb246d09b772d8e9ad98c96",
      "40bf2a80b4114feab61a9a0c62ebe22e",
      "9399dada6b1a4e65b8d7fd68d6a7afd6",
      "8b341a12f6464d778c9d9d30036b3612",
      "8ada9f525df54c96be1f439000939698",
      "3f3c1ddd34d14e509f956de1518eb82e",
      "f38097b63b9246f3b397cd168b514e68",
      "7a89412aee9742689b555c9f50b99541",
      "ab117f1bfda84fb79c4822bf0e8a7875",
      "0e32695208a44e47a9f1795db1edafb4",
      "fc6bd84c7885473aa6ba4761bfb4cf4e",
      "f2f51ad4d79743879d8075c316cc6677",
      "5805cd8829ec480790deb586caa5fa83",
      "995ddf0f339a49c2a3faa30e59b9a5aa",
      "6200db04f2f7436fa69f708f21cd2f99",
      "b487d92e2fc94f4884c53dc18aed52d0",
      "3c179c791a1c4373905caaceadca789e",
      "15efda555ec94da8a01512c7ecf56aec",
      "cd6bc384cb2a498d98cbb0a8a0be8fa4",
      "584085b720c9486e935c5305817182df",
      "d465d23cce534c6497306c83ada1aad9",
      "448cd07a95084581bdd8ee25605e866a",
      "6da25caf0c294f0b9505f281df5cf9ad",
      "24e54916c9314c7287d7386bc79db468",
      "46ea7b52285c4de78db24cf450fdc223",
      "4831806c5e4c491d9157aee7060c9cc9",
      "bd20998c791744969c1b2ffcff8f448d",
      "0667c8dc6a90409fa76f506820edff8b",
      "804cd00ae1cf4c6b8be1f67ac1b9128b",
      "2be7fef246c2443d9d93452a508167a1",
      "a0bc8790cc274bbc845839074054e9ca",
      "88e3d7038df74d68807036d7b29300cb",
      "3d5a478874a3435b87a13525d7e5c9e5",
      "3b667a4c47e449dc929dfd6eb3091437",
      "aeeec69d22204fbd9995cda097895630",
      "1dc66327fe84463c83f3da3cda3c7f00",
      "41b5c5a8696b463f9b4c13f1e2f510f6",
      "b75c86dbf3c44a7b907c41cf92daa9c6",
      "f2f5aac1887445668c4a725ef65208de",
      "fef7adedbd8043989f65a88c19b8bc05",
      "40d182a45d0a48ffb09341d8c1b6455a",
      "2825cd26e9b941b4a67e04d83a915010",
      "02a86f814c6240f680d3339e4e80df70",
      "66ef474bde1045adbc6489800cd9f401",
      "a3ee7fa7268747aba1dbaea68f51a293",
      "66dd00ac3d8d453bbc07a1289debf236",
      "4ba916fe3b9341ac84ab0930d0e885b0",
      "3a5108900385456e85e5010d39be250e",
      "5febd07f485948d58de92e9225494762",
      "f851f10434a84cb992531f8a8a96c2d6",
      "f902f56bf523427ba7d2c2f553a17582",
      "776dbc9de9ab433a8ef7baa2cdeef0d2",
      "933b925162a54eb087f0ae4b7f4b7065",
      "12013a76defa461099432cbe0276cbc9",
      "d561595f7f164d9eb4e3df5e1ee0774c",
      "68fa1446da914f528fabbf122cab6c3d",
      "ba27708a03054069962e21abc2e69085",
      "b413c783048f4d8bbc484d539fec1564",
      "009862e34f694e2099718382063fdbb2",
      "06d1b26e0b90424eb0241676b14c5d65",
      "116fca75471e4538ac2c4bf65b815779",
      "a4dd9fda0da948529c95c513075510ca",
      "d643fb84c40c4de2824be88e06822c21",
      "c63383fde49c46f0855b5adb1f25f6cd",
      "32bf887a34174e91bc13c9facecd9aff",
      "f83685a149484535ae0dd988a73f1c2e",
      "696d0854b0ec469d8701977174940106",
      "d1ebc26a23c84c76b1b4e6e17f80eb8e",
      "18c981ecf9254280841ba634c0d8279a",
      "e15fe44c383d4fc9ada989763da90cc8",
      "3b0bbd6c9efb42008fddf970341f91e8",
      "6a4d210a111f466481fd51d2ec9b1846",
      "e0d31515e1a348b0a45d9877644d5690",
      "98eb1afbc03b440a8df1cf5b961bc532",
      "538ae5ee7af94a88b40b5691d03868b2",
      "95d015dc4bea4358a500d75d43e48da2",
      "2e049b4755e546eba2813769b6fe874f",
      "13f7368111a442b78faffe5191972817",
      "cbde1c5650b8436e9f6b2fa044e17bba",
      "2dad2fa623754a7280f87df2a14f9db7",
      "4aad553c8fef497aba101b5d70e63973",
      "055ba523207a46fcb07f9474dd36e5b6",
      "29283b5158a640e8a26400f22dbef8d1",
      "b4fa5f9344b04c39b4dedb177794a1c7",
      "85728e46e819450f9a7dbd1a72dd4f8a",
      "8a26e94eb8664876a598a753dcf70818",
      "dc208c354ba640f18cef45db32733d29",
      "b5d65ac917a14b009a7f36831c16d3aa",
      "97b463cf22564babbf8635fece17ed33",
      "2fd3fe952af4407885d05ea3599beaec",
      "8a3f7b1c225747238739aa105b4ac7a4",
      "3f2d7ac9b85e4d73a7f2027eb8cf0796",
      "328a42b62d2d471da15cbdceed9bad83",
      "bf31519846b74a44b9d78e1953d8971e",
      "35accb38db7d4425be561bc02585f892",
      "b2b00d24e32940d9bd7a91fcf2ca7c60",
      "33f211db06014985932722d96ce62568",
      "4acfd4f1eb8f4fb79c32399fd32acb30",
      "2a9cc4cfbbc74578ad40f1b30f024631",
      "b4d64dd209c84da688fb74b1579c5260",
      "ae4ed923428943deaaeed24991df3e29",
      "fcbede31df2f4434abd554c41a387606",
      "be4f24ee3018479fbe18eccfda110544",
      "a34096eb7713494f8efb89f98d1d3b10",
      "acc5ecafb0d84ae49a4067f0ca2c95e9",
      "1117e51b813d48b4986c8a19aeb78e1e",
      "2dee5cffcb29409cb21ea7aec1b07668",
      "b690c0344f34407da8d3ab358bc2841a",
      "35465ce869e9424cbd47f6c9ec1b3c77",
      "ab65189e0f744caeb6d787e04d2f15d1",
      "d9013604d2bb4b8cb1ca0b0a6ab31d26",
      "2b36ea43982740ec9c194eca1d1c928f",
      "4e0ab3063ec74de7804bb5babd851a3a",
      "357d07e6b80e499388e81ddb6f240c93",
      "3b4a11b74da6432d960336491cd84ff8",
      "641671cdd1b54d71a6aaee5ee4b10311",
      "be034db869fd4556b712399f65fe3c9b",
      "411b9887d1774662a6bd92e7bbad5a04",
      "7d5552efcf2a4f879c0ebc20c1f2a9c2",
      "db2c504a5fb54ba49ed2b444b15c6245",
      "5c6b7de83cae4762ad89394e69fbb039",
      "3523f0e43076414182baf7b32d7437b2",
      "62ab682337544e8cb9350314ee65c588",
      "e94e2e75c4a5498294c8375a5ef0d0a2",
      "a852222ff1774fa392bd174b3a791c79",
      "650734bd49ca4e5f9a3de32fb417788b",
      "a5b584ec31fb4f3fa2c025b6e5b5c081",
      "c2efb61995334e7787002a5a624cf59c",
      "c88f9cdd0c40442ca36922dab3bbb238",
      "5e0e55f4a2e9474a9b697963da646661",
      "65597233f56b4b4391758173407c1e87",
      "0a2b29dfa407481890038e8620b191be",
      "3f11c4e540e54207a63323e13bcdfa28",
      "df9e51a5864e497797f068e8f0a0cbd5",
      "976f879a658f4a2eae653936967b5f0b",
      "0e7216a9080f4b039127972ba61a810b",
      "9b5ace6745744a78a3719c6fb881e615",
      "5516d56e683041b6821c0018d46cec89",
      "e5ae06b7788b40e7929a61c37d35df71",
      "410d43a572e54be48dc5e7694e166cf6",
      "73b5819805374dc8a3a168a521ec17f5",
      "71d3be378b6a4c128c9caf4257cd480f",
      "91291fc97b134473962ab992328635eb",
      "d90e372a16c542feaee0bf292bf4ea00",
      "c78ebcbe7e3b49d58477842280ebe1bf",
      "97a6b5a3501d4aaeab0470116a441536",
      "0a4a033b52fb481eab12a39acb547601",
      "7b8e5cdb658840e2898e32f2013e2127",
      "7b2dec5ca3954144a7548838464d2217",
      "3258b87403e4442498d7098fb25364d9",
      "cadd64c131d74b01843bae8f99f2582e",
      "f27a8409d1f74df68d0a0cdaf4fb36fb",
      "a35498d604ec4143936faebd60616c9a",
      "4e2a285ab20c4601ac76c7969bf39ab5",
      "0ae47589fe17486ea6f29eb0defd52b7",
      "6c5cc324836f4ed3807ad779d42695fc",
      "b27abcea10ce4301a71ca381004290f1",
      "4894a2315bfa4ffbb5c04a6982efe556",
      "d1fe5070e4754b1ead9e8147afea8912",
      "80a7f1a6cd27480a8a7e0674f720df87",
      "a1eb05fb9a2043b0a5eaee87a6de8f37",
      "abacb6f5aad5479a8d9d047ba1b8047f",
      "b18318cadca64391abb2fd5a2f55879a",
      "43bec247b6164518bf01ff784eef3141",
      "4fe4ba5c385e420b92ab345192084087",
      "17d62bd8a46047e1ae004228eaab1e80",
      "021f06f6357d4b1aab80a17ab7e3a03a",
      "cf34e232b7bd47fbb935aaae1e3c1642",
      "1ee95452bc194ab09cfeae729422cc00",
      "4fdfb0da6c104d7887b8ca81210d46ea",
      "10f96b3d38414101951032b60f339554",
      "7f81b09df17d46b9bd8f56bfa38ef65d",
      "24768e43cad64862936db9c45beba244",
      "314b5af9346447a7a730b68eada1f800",
      "bef9d5af5a6941089d4a963d39b1fc26",
      "a15a13da406c4c3a966371c2f6213495",
      "2a6bfe0bbe63420e8f318befc0bfe8fc",
      "04581aca1ba24bdea233e72acf33c243",
      "251defa9f5314098979260f3ed07b2f0",
      "ad29d797f79c4b99a966de4abcf93753",
      "21dc53b289df4986a92091eb64d4e71d",
      "e75786bb809f4536b5dd04b6b311bf47",
      "f5bafe1cfaf24f91abe860682d4ee4e7",
      "6c35324ad8624b0fb01e49eed2337342",
      "1e99de3fed86410d8aa18bf96a51a4b9",
      "5d0ae51d46084b87a390a1b50bc6146a",
      "1b99aa5422ea4ddf90c6854594977d5e",
      "0a056617242b4f5d82f7735658595754",
      "1b8f7ac6392640d7aa04c501555a6933",
      "a4ea577608aa497dabe3a0a5dc700b13",
      "3db267bf271241b4879d47d27ebaca1e",
      "4fa0cde3bf284a7f965b70455ccff580",
      "414816a30c8b43c7b4382d88d3f477d1",
      "3bc5b2f1c3c84e4bbd1eb2bb73f0e42b",
      "a53729b7336b4b16b46980135215f8d4",
      "92ac3ca4f8c94bc999356b1f7ac1ef21",
      "2c3a607455254a8c847e53118f91248b",
      "e38cb6adf80d4268b96539fac61c1c36",
      "61c32ebca4dd4db7988a090f24cfcc51",
      "ae9648cdfa014cafba7e7f9a45736d35",
      "951aec105f9344e8b2fa11e8a297ff56",
      "905d8e451a94408e854aa1f44c165e3c",
      "1ecc776d8a8d4bab940bd15eddbfe925",
      "dff6621f9b314a5f8052b1349a9a7c5d",
      "218eb2707de845cd9cdcb6bb2edde364",
      "0ab99011ff9d4ca7bd890cda5701c64a",
      "41749c6fcbde486a8b170bc27ca196a8",
      "89f7f8f8ca91457d875d57e7bdb01630",
      "d745455d78514b89b84c74ebf1e1d374",
      "3e81f66ef070416186a94aae92e9f1a7",
      "6ab09d88f574425a898c8a3a32466458",
      "fe894c289a4145b88d7d0ac02b8ab93b",
      "72cac6398392487da0ddf8d4a5261907",
      "b43977d39039434fa2891821ee722f3b",
      "2a5c53beb331427d97718f99077e3480",
      "b72fa6967adb4669859752581d553623",
      "5ee937e3410249ddacce459e389e5221",
      "17c4430571414a428758eac7a1cf6092",
      "469fde571f1e40c685bc5ee47cb2cc10",
      "093e7d9a6b55405d94b730fef9212d2b",
      "ac0191ce2aba43b0ad7fb8d3083da0d0",
      "15d8bf428c78420790e01a8965db3670",
      "7111769ed7ae4d6f83fca30e8d11fbed",
      "5e188476d3f44d75a54b4dcf533592cd",
      "60e82416d2de41878edc4a2c0ad14c28",
      "5f50cdc2f8ee447b84ddacf333af6a4c",
      "55e8d854ff7d4b02afd875726faab1b0",
      "17a0cb8007df44168790c046f3a7c0e8",
      "a58b3327707146bd9cdbf12733a984b4",
      "a7d1290f5404460eaf15b8c3546bd5c3",
      "08e783dd981347ae887e0bced267734a",
      "af4780795f7c4e048999ec374369644a",
      "98b3e5e0ae09468a97c14e990979d6c4",
      "bca009359b754bf48cedd6e09f30aa37",
      "dfe0320191e340b4bf037d6abb16ce05",
      "f155e9af00a54d4fb887e69dda1a64da",
      "bd01cb49793943f68946d3b2ec0123ea"
     ]
    },
    "id": "9VdHTt7eWfCL",
    "executionInfo": {
     "status": "ok",
     "timestamp": 1743882621214,
     "user_tz": -480,
     "elapsed": 2129724,
     "user": {
      "displayName": "capstone nat",
      "userId": "06830734093637736730"
     }
    },
    "outputId": "363261d9-aa0b-4a51-801f-0ff69cab18a8"
   },
   "execution_count": null,
   "outputs": [
    {
     "output_type": "stream",
     "name": "stderr",
     "text": [
      "INFO:pytorch_lightning.utilities.rank_zero:Using 16bit Automatic Mixed Precision (AMP)\n",
      "INFO:pytorch_lightning.utilities.rank_zero:GPU available: True (cuda), used: True\n",
      "INFO:pytorch_lightning.utilities.rank_zero:TPU available: False, using: 0 TPU cores\n",
      "INFO:pytorch_lightning.utilities.rank_zero:HPU available: False, using: 0 HPUs\n"
     ]
    },
    {
     "output_type": "stream",
     "name": "stdout",
     "text": [
      "\n",
      "=== Training Model 3: Enhanced EfficientNetV2-M with Optimized Regularization ===\n"
     ]
    },
    {
     "output_type": "stream",
     "name": "stderr",
     "text": [
      "INFO: LOCAL_RANK: 0 - CUDA_VISIBLE_DEVICES: [0]\n",
      "INFO:lightning.pytorch.accelerators.cuda:LOCAL_RANK: 0 - CUDA_VISIBLE_DEVICES: [0]\n",
      "INFO:pytorch_lightning.utilities.rank_zero:Loading `train_dataloader` to estimate number of stepping batches.\n"
     ]
    },
    {
     "output_type": "stream",
     "name": "stdout",
     "text": [
      "\n",
      "Training EfficientNetV2MOptimized...\n"
     ]
    },
    {
     "output_type": "stream",
     "name": "stderr",
     "text": [
      "INFO: \n",
      "  | Name                  | Type                      | Params | Mode \n",
      "----------------------------------------------------------------------------\n",
      "0 | model                 | EfficientNet              | 54.7 M | train\n",
      "1 | criterion             | CrossEntropyLoss          | 0      | train\n",
      "2 | train_acc             | MulticlassAccuracy        | 0      | train\n",
      "3 | val_acc               | MulticlassAccuracy        | 0      | train\n",
      "4 | test_accuracy         | MulticlassAccuracy        | 0      | train\n",
      "5 | test_precision        | MulticlassPrecision       | 0      | train\n",
      "6 | test_recall           | MulticlassRecall          | 0      | train\n",
      "7 | test_f1               | MulticlassF1Score         | 0      | train\n",
      "8 | test_auroc            | MulticlassAUROC           | 0      | train\n",
      "9 | test_confusion_matrix | MulticlassConfusionMatrix | 0      | train\n",
      "----------------------------------------------------------------------------\n",
      "1.8 M     Trainable params\n",
      "52.9 M    Non-trainable params\n",
      "54.7 M    Total params\n",
      "218.807   Total estimated model params size (MB)\n",
      "1039      Modules in train mode\n",
      "0         Modules in eval mode\n",
      "INFO:lightning.pytorch.callbacks.model_summary:\n",
      "  | Name                  | Type                      | Params | Mode \n",
      "----------------------------------------------------------------------------\n",
      "0 | model                 | EfficientNet              | 54.7 M | train\n",
      "1 | criterion             | CrossEntropyLoss          | 0      | train\n",
      "2 | train_acc             | MulticlassAccuracy        | 0      | train\n",
      "3 | val_acc               | MulticlassAccuracy        | 0      | train\n",
      "4 | test_accuracy         | MulticlassAccuracy        | 0      | train\n",
      "5 | test_precision        | MulticlassPrecision       | 0      | train\n",
      "6 | test_recall           | MulticlassRecall          | 0      | train\n",
      "7 | test_f1               | MulticlassF1Score         | 0      | train\n",
      "8 | test_auroc            | MulticlassAUROC           | 0      | train\n",
      "9 | test_confusion_matrix | MulticlassConfusionMatrix | 0      | train\n",
      "----------------------------------------------------------------------------\n",
      "1.8 M     Trainable params\n",
      "52.9 M    Non-trainable params\n",
      "54.7 M    Total params\n",
      "218.807   Total estimated model params size (MB)\n",
      "1039      Modules in train mode\n",
      "0         Modules in eval mode\n"
     ]
    },
    {
     "output_type": "display_data",
     "data": {
      "text/plain": [
       "Sanity Checking: |          | 0/? [00:00<?, ?it/s]"
      ],
      "application/vnd.jupyter.widget-view+json": {
       "version_major": 2,
       "version_minor": 0,
       "model_id": "71aec0ab2c884138a7f500bbfe82bec7"
      }
     },
     "metadata": {}
    },
    {
     "output_type": "display_data",
     "data": {
      "text/plain": [
       "Training: |          | 0/? [00:00<?, ?it/s]"
      ],
      "application/vnd.jupyter.widget-view+json": {
       "version_major": 2,
       "version_minor": 0,
       "model_id": "125105e695ab4377aac22357ea879e54"
      }
     },
     "metadata": {}
    },
    {
     "output_type": "display_data",
     "data": {
      "text/plain": [
       "Validation: |          | 0/? [00:00<?, ?it/s]"
      ],
      "application/vnd.jupyter.widget-view+json": {
       "version_major": 2,
       "version_minor": 0,
       "model_id": "f38097b63b9246f3b397cd168b514e68"
      }
     },
     "metadata": {}
    },
    {
     "output_type": "display_data",
     "data": {
      "text/plain": [
       "Validation: |          | 0/? [00:00<?, ?it/s]"
      ],
      "application/vnd.jupyter.widget-view+json": {
       "version_major": 2,
       "version_minor": 0,
       "model_id": "15efda555ec94da8a01512c7ecf56aec"
      }
     },
     "metadata": {}
    },
    {
     "output_type": "display_data",
     "data": {
      "text/plain": [
       "Validation: |          | 0/? [00:00<?, ?it/s]"
      ],
      "application/vnd.jupyter.widget-view+json": {
       "version_major": 2,
       "version_minor": 0,
       "model_id": "804cd00ae1cf4c6b8be1f67ac1b9128b"
      }
     },
     "metadata": {}
    },
    {
     "output_type": "stream",
     "name": "stdout",
     "text": [
      "Unfreezing layers from 6 to 8\n"
     ]
    },
    {
     "output_type": "display_data",
     "data": {
      "text/plain": [
       "Validation: |          | 0/? [00:00<?, ?it/s]"
      ],
      "application/vnd.jupyter.widget-view+json": {
       "version_major": 2,
       "version_minor": 0,
       "model_id": "fef7adedbd8043989f65a88c19b8bc05"
      }
     },
     "metadata": {}
    },
    {
     "output_type": "display_data",
     "data": {
      "text/plain": [
       "Validation: |          | 0/? [00:00<?, ?it/s]"
      ],
      "application/vnd.jupyter.widget-view+json": {
       "version_major": 2,
       "version_minor": 0,
       "model_id": "f902f56bf523427ba7d2c2f553a17582"
      }
     },
     "metadata": {}
    },
    {
     "output_type": "display_data",
     "data": {
      "text/plain": [
       "Validation: |          | 0/? [00:00<?, ?it/s]"
      ],
      "application/vnd.jupyter.widget-view+json": {
       "version_major": 2,
       "version_minor": 0,
       "model_id": "a4dd9fda0da948529c95c513075510ca"
      }
     },
     "metadata": {}
    },
    {
     "output_type": "stream",
     "name": "stdout",
     "text": [
      "Unfreezing layers from 3 to 8\n"
     ]
    },
    {
     "output_type": "display_data",
     "data": {
      "text/plain": [
       "Validation: |          | 0/? [00:00<?, ?it/s]"
      ],
      "application/vnd.jupyter.widget-view+json": {
       "version_major": 2,
       "version_minor": 0,
       "model_id": "e0d31515e1a348b0a45d9877644d5690"
      }
     },
     "metadata": {}
    },
    {
     "output_type": "display_data",
     "data": {
      "text/plain": [
       "Validation: |          | 0/? [00:00<?, ?it/s]"
      ],
      "application/vnd.jupyter.widget-view+json": {
       "version_major": 2,
       "version_minor": 0,
       "model_id": "b4fa5f9344b04c39b4dedb177794a1c7"
      }
     },
     "metadata": {}
    },
    {
     "output_type": "display_data",
     "data": {
      "text/plain": [
       "Validation: |          | 0/? [00:00<?, ?it/s]"
      ],
      "application/vnd.jupyter.widget-view+json": {
       "version_major": 2,
       "version_minor": 0,
       "model_id": "35accb38db7d4425be561bc02585f892"
      }
     },
     "metadata": {}
    },
    {
     "output_type": "stream",
     "name": "stdout",
     "text": [
      "Unfreezing all layers\n"
     ]
    },
    {
     "output_type": "display_data",
     "data": {
      "text/plain": [
       "Validation: |          | 0/? [00:00<?, ?it/s]"
      ],
      "application/vnd.jupyter.widget-view+json": {
       "version_major": 2,
       "version_minor": 0,
       "model_id": "1117e51b813d48b4986c8a19aeb78e1e"
      }
     },
     "metadata": {}
    },
    {
     "output_type": "display_data",
     "data": {
      "text/plain": [
       "Validation: |          | 0/? [00:00<?, ?it/s]"
      ],
      "application/vnd.jupyter.widget-view+json": {
       "version_major": 2,
       "version_minor": 0,
       "model_id": "be034db869fd4556b712399f65fe3c9b"
      }
     },
     "metadata": {}
    },
    {
     "output_type": "display_data",
     "data": {
      "text/plain": [
       "Validation: |          | 0/? [00:00<?, ?it/s]"
      ],
      "application/vnd.jupyter.widget-view+json": {
       "version_major": 2,
       "version_minor": 0,
       "model_id": "c2efb61995334e7787002a5a624cf59c"
      }
     },
     "metadata": {}
    },
    {
     "output_type": "display_data",
     "data": {
      "text/plain": [
       "Validation: |          | 0/? [00:00<?, ?it/s]"
      ],
      "application/vnd.jupyter.widget-view+json": {
       "version_major": 2,
       "version_minor": 0,
       "model_id": "e5ae06b7788b40e7929a61c37d35df71"
      }
     },
     "metadata": {}
    },
    {
     "output_type": "display_data",
     "data": {
      "text/plain": [
       "Validation: |          | 0/? [00:00<?, ?it/s]"
      ],
      "application/vnd.jupyter.widget-view+json": {
       "version_major": 2,
       "version_minor": 0,
       "model_id": "3258b87403e4442498d7098fb25364d9"
      }
     },
     "metadata": {}
    },
    {
     "output_type": "display_data",
     "data": {
      "text/plain": [
       "Validation: |          | 0/? [00:00<?, ?it/s]"
      ],
      "application/vnd.jupyter.widget-view+json": {
       "version_major": 2,
       "version_minor": 0,
       "model_id": "a1eb05fb9a2043b0a5eaee87a6de8f37"
      }
     },
     "metadata": {}
    },
    {
     "output_type": "display_data",
     "data": {
      "text/plain": [
       "Validation: |          | 0/? [00:00<?, ?it/s]"
      ],
      "application/vnd.jupyter.widget-view+json": {
       "version_major": 2,
       "version_minor": 0,
       "model_id": "7f81b09df17d46b9bd8f56bfa38ef65d"
      }
     },
     "metadata": {}
    },
    {
     "output_type": "display_data",
     "data": {
      "text/plain": [
       "Validation: |          | 0/? [00:00<?, ?it/s]"
      ],
      "application/vnd.jupyter.widget-view+json": {
       "version_major": 2,
       "version_minor": 0,
       "model_id": "f5bafe1cfaf24f91abe860682d4ee4e7"
      }
     },
     "metadata": {}
    },
    {
     "output_type": "display_data",
     "data": {
      "text/plain": [
       "Validation: |          | 0/? [00:00<?, ?it/s]"
      ],
      "application/vnd.jupyter.widget-view+json": {
       "version_major": 2,
       "version_minor": 0,
       "model_id": "3bc5b2f1c3c84e4bbd1eb2bb73f0e42b"
      }
     },
     "metadata": {}
    },
    {
     "output_type": "display_data",
     "data": {
      "text/plain": [
       "Validation: |          | 0/? [00:00<?, ?it/s]"
      ],
      "application/vnd.jupyter.widget-view+json": {
       "version_major": 2,
       "version_minor": 0,
       "model_id": "218eb2707de845cd9cdcb6bb2edde364"
      }
     },
     "metadata": {}
    },
    {
     "output_type": "display_data",
     "data": {
      "text/plain": [
       "Validation: |          | 0/? [00:00<?, ?it/s]"
      ],
      "application/vnd.jupyter.widget-view+json": {
       "version_major": 2,
       "version_minor": 0,
       "model_id": "b72fa6967adb4669859752581d553623"
      }
     },
     "metadata": {}
    },
    {
     "output_type": "stream",
     "name": "stderr",
     "text": [
      "INFO:pytorch_lightning.utilities.rank_zero:`Trainer.fit` stopped: `max_epochs=20` reached.\n",
      "INFO: LOCAL_RANK: 0 - CUDA_VISIBLE_DEVICES: [0]\n",
      "INFO:lightning.pytorch.accelerators.cuda:LOCAL_RANK: 0 - CUDA_VISIBLE_DEVICES: [0]\n"
     ]
    },
    {
     "output_type": "stream",
     "name": "stdout",
     "text": [
      "\n",
      "Evaluating EfficientNetV2MOptimized...\n"
     ]
    },
    {
     "output_type": "display_data",
     "data": {
      "text/plain": [
       "Testing: |          | 0/? [00:00<?, ?it/s]"
      ],
      "application/vnd.jupyter.widget-view+json": {
       "version_major": 2,
       "version_minor": 0,
       "model_id": "55e8d854ff7d4b02afd875726faab1b0"
      }
     },
     "metadata": {}
    },
    {
     "output_type": "stream",
     "name": "stderr",
     "text": [
      "/usr/local/lib/python3.11/dist-packages/torchmetrics/utilities/prints.py:43: UserWarning: No negative samples in targets, false positive value should be meaningless. Returning zero tensor in false positive score\n",
      "  warnings.warn(*args, **kwargs)\n",
      "/usr/local/lib/python3.11/dist-packages/torchmetrics/utilities/prints.py:43: UserWarning: No positive samples in targets, true positive value should be meaningless. Returning zero tensor in true positive score\n",
      "  warnings.warn(*args, **kwargs)\n"
     ]
    },
    {
     "output_type": "stream",
     "name": "stdout",
     "text": [
      "\n",
      "--- Test Metrics ---\n",
      "Accuracy: 0.8514\n",
      "Precision: 0.8531\n",
      "Recall: 0.8467\n",
      "F1 Score: 0.8489\n",
      "AUROC: 0.9760\n"
     ]
    },
    {
     "output_type": "display_data",
     "data": {
      "text/plain": [
       "\u250f\u2501\u2501\u2501\u2501\u2501\u2501\u2501\u2501\u2501\u2501\u2501\u2501\u2501\u2501\u2501\u2501\u2501\u2501\u2501\u2501\u2501\u2501\u2501\u2501\u2501\u2501\u2501\u2533\u2501\u2501\u2501\u2501\u2501\u2501\u2501\u2501\u2501\u2501\u2501\u2501\u2501\u2501\u2501\u2501\u2501\u2501\u2501\u2501\u2501\u2501\u2501\u2501\u2501\u2501\u2501\u2513\n",
       "\u2503\u001b[1m \u001b[0m\u001b[1m       Test metric       \u001b[0m\u001b[1m \u001b[0m\u2503\u001b[1m \u001b[0m\u001b[1m      DataLoader 0       \u001b[0m\u001b[1m \u001b[0m\u2503\n",
       "\u2521\u2501\u2501\u2501\u2501\u2501\u2501\u2501\u2501\u2501\u2501\u2501\u2501\u2501\u2501\u2501\u2501\u2501\u2501\u2501\u2501\u2501\u2501\u2501\u2501\u2501\u2501\u2501\u2547\u2501\u2501\u2501\u2501\u2501\u2501\u2501\u2501\u2501\u2501\u2501\u2501\u2501\u2501\u2501\u2501\u2501\u2501\u2501\u2501\u2501\u2501\u2501\u2501\u2501\u2501\u2501\u2529\n",
       "\u2502\u001b[36m \u001b[0m\u001b[36m        test_loss        \u001b[0m\u001b[36m \u001b[0m\u2502\u001b[35m \u001b[0m\u001b[35m   0.8218135237693787    \u001b[0m\u001b[35m \u001b[0m\u2502\n",
       "\u2514\u2500\u2500\u2500\u2500\u2500\u2500\u2500\u2500\u2500\u2500\u2500\u2500\u2500\u2500\u2500\u2500\u2500\u2500\u2500\u2500\u2500\u2500\u2500\u2500\u2500\u2500\u2500\u2534\u2500\u2500\u2500\u2500\u2500\u2500\u2500\u2500\u2500\u2500\u2500\u2500\u2500\u2500\u2500\u2500\u2500\u2500\u2500\u2500\u2500\u2500\u2500\u2500\u2500\u2500\u2500\u2518\n"
      ],
      "text/html": [
       "<pre style=\"white-space:pre;overflow-x:auto;line-height:normal;font-family:Menlo,'DejaVu Sans Mono',consolas,'Courier New',monospace\">\u250f\u2501\u2501\u2501\u2501\u2501\u2501\u2501\u2501\u2501\u2501\u2501\u2501\u2501\u2501\u2501\u2501\u2501\u2501\u2501\u2501\u2501\u2501\u2501\u2501\u2501\u2501\u2501\u2533\u2501\u2501\u2501\u2501\u2501\u2501\u2501\u2501\u2501\u2501\u2501\u2501\u2501\u2501\u2501\u2501\u2501\u2501\u2501\u2501\u2501\u2501\u2501\u2501\u2501\u2501\u2501\u2513\n",
       "\u2503<span style=\"font-weight: bold\">        Test metric        </span>\u2503<span style=\"font-weight: bold\">       DataLoader 0        </span>\u2503\n",
       "\u2521\u2501\u2501\u2501\u2501\u2501\u2501\u2501\u2501\u2501\u2501\u2501\u2501\u2501\u2501\u2501\u2501\u2501\u2501\u2501\u2501\u2501\u2501\u2501\u2501\u2501\u2501\u2501\u2547\u2501\u2501\u2501\u2501\u2501\u2501\u2501\u2501\u2501\u2501\u2501\u2501\u2501\u2501\u2501\u2501\u2501\u2501\u2501\u2501\u2501\u2501\u2501\u2501\u2501\u2501\u2501\u2529\n",
       "\u2502<span style=\"color: #008080; text-decoration-color: #008080\">         test_loss         </span>\u2502<span style=\"color: #800080; text-decoration-color: #800080\">    0.8218135237693787     </span>\u2502\n",
       "\u2514\u2500\u2500\u2500\u2500\u2500\u2500\u2500\u2500\u2500\u2500\u2500\u2500\u2500\u2500\u2500\u2500\u2500\u2500\u2500\u2500\u2500\u2500\u2500\u2500\u2500\u2500\u2500\u2534\u2500\u2500\u2500\u2500\u2500\u2500\u2500\u2500\u2500\u2500\u2500\u2500\u2500\u2500\u2500\u2500\u2500\u2500\u2500\u2500\u2500\u2500\u2500\u2500\u2500\u2500\u2500\u2518\n",
       "</pre>\n"
      ]
     },
     "metadata": {}
    },
    {
     "output_type": "stream",
     "name": "stdout",
     "text": [
      "Model saved to EfficientNetV2MOptimized_20250405_191451_final.pt\n"
     ]
    }
   ]
  },
  {
   "cell_type": "code",
   "source": [
    "torch.save(model5.state_dict(), \"saved_efficientnet/efficientnetv2-method5_weights.pth\")\n",
    "torch.save(model5, \"saved_efficientnet/efficientnetv2-method5.pth\")"
   ],
   "metadata": {
    "id": "-AV3Pn6KWiOh"
   },
   "execution_count": null,
   "outputs": []
  },
  {
   "cell_type": "markdown",
   "source": [
    "### Method 6 Training"
   ],
   "metadata": {
    "id": "a3zJsbZZZlhL"
   }
  },
  {
   "cell_type": "code",
   "source": [
    "# Model 6\n",
    "print(\"\\n=== Training Model 6: Change to a larger backbone (EfficientNetV2-L) ===\")\n",
    "model6 = train_and_evaluate_model(\n",
    "  model_name=\"EfficientNetV2L\",\n",
    "  model_class=EfficientNetV2L,\n",
    "  data_module=data_module,\n",
    "  max_epochs=20,\n",
    "  learning_rate=3e-4\n",
    ")"
   ],
   "metadata": {
    "colab": {
     "base_uri": "https://localhost:8080/",
     "height": 1000,
     "referenced_widgets": [
      "1a3f9493bfe24846bc854fa4c930c571",
      "dbda11acdb1d4e01a51eb97fcb4d764a",
      "d69968f088584a6fa16e0c1da25a502b",
      "27da00aa20314fb49b0dc1a2536a88e9",
      "f08aa8acbc1c4798a0c3795d8177aead",
      "7f7574b2ee724db8979b6b2809102d25",
      "fe0c520703a849869a679988aa16f68e",
      "d40acdca55d34a77bfd1de3b42a9aa74",
      "cb128f1abc504adf961e8bdb35bf0206",
      "924654f1531948c0b97dd29aa1f439e2",
      "5a6d56fcbc684ff2919f897eb34bd69f",
      "858aa59552254229b9bbf115d456a691",
      "c2ecdca947be4c3bba77ee0e550672ff",
      "a716e5fb4c784a57879146af4d7e8d4a",
      "f434230c79c346dfaeafd0d3c2d1c141",
      "5b54991dd01147baaa7a2257ca2a5acc",
      "10ecec0478724fcb82dd8aeee1359e13",
      "06fa9368e62341e4adb5c1dd2797fcd6",
      "f0db934796854516aec532d616fef3ff",
      "6fafee6202284ec490b26a3e59c92819",
      "d47c3f1c76ce49e9b30661ae29563061",
      "2067bf1060b44e098c6f0c124f591adf",
      "043454d0cde14f6ab5383855e4088683",
      "c03dd50012af453fa60e4760996f61bd",
      "0465a4b7e0d14b76b54e8052db3aa75e",
      "16be65669fd74341acc78419f61cd865",
      "ac7e8830740c4770888e0cbd50e363b8",
      "a5108c94bcca4010b5f1e4e477646e2b",
      "ab2e159023114d619da0800635bc261d",
      "44aa6f14350a482ca8bcd1b3877c4481",
      "8dea6a8d0d564f93b233188158229172",
      "c9ba9bfb834c4c55a92d7d407d50f0ab",
      "dbd5a63e88da470db75962eed1d8f3c9",
      "9eb1ef1ee64441e2afc6beffe26525d7",
      "5e3ad720891e482c91e8fe1c1cd9d159",
      "413e84afd5ae4dcf8fcbfbb1136a6346",
      "af322275f9c8403e91f4aeec008d5240",
      "96e76be9d5384e1db7bce6e1cbfa7ae2",
      "b8a550818a184bb1a3a356e1b3ad357a",
      "273ff7869d9246b9976bc340c52b9654",
      "070e814258104c5b838e0ddf43390559",
      "da54ca31b68c44d193f3422d1c8ec496",
      "6b299276f2ae4a898bb501089d6f6194",
      "1eabefbde0f34ac69617d46632bdce38",
      "92c8155f9fdf4651bc3ac871d797887c",
      "0c50c91c4c9c4da4b25279b0ace3501b",
      "01bc6f8a7dc341a989cbeccb1b78c49a",
      "eaf54532f21f471589d21b6ba94c5a6b",
      "f5641d2cb6694a408a9e28dad6d39f1c",
      "107e394dc9c84697b687aecf28194f54",
      "223d880f365f4de5abb265bd253e8daf",
      "3f8898dccdb04fb1b89cb4fb31116653",
      "8befbdaa741344e4adcedcd067da52cc",
      "40a79cabf86a4125a1dc0d9e92362646",
      "a9bf1677bce44702ba843d0cb987188e",
      "a1951e86f28e42d6bb89d8f172e3a356",
      "dbfcbebe1c1f43888ed003afec281937",
      "0f4c3f07f4864f518768d67ea792ead2",
      "a183172e437245e8935eeb337bb582c8",
      "a00fb0e9b3e743a48f08cf6636cabd0b",
      "f3e9fcffe475424883b24d32c2e38d7c",
      "5e6192cb780442b6b589e6cd89b0cf62",
      "86d7d82cacca43fb9122627f7bf8bd99",
      "ed70886101ed4b748438f5e20cc6b9f7",
      "46dcc76c1cd94894868e30577fdc0efb",
      "ed92209b411547b4bf86e9e04ac8ee4e",
      "231b4dcdf6df4cec983840c32d0d7338",
      "82f1c68db3514680a603631522777827",
      "3958f09541bb435282de1b9b6002df3c",
      "50dd9369e933492e986fac3a1e561960",
      "e27fd3a39937474fad1462683883227d",
      "7e4c72eff9a94aa1bd647b4feff85027",
      "6200ec6a15704baa86ac40d1136ac5be",
      "e0561d72be324b289316e6a17c4c651c",
      "58750f03aef8491084019d224932bc52",
      "3a61ff0a18424acba712f424c18dc6de",
      "b2af9845d26a49c2b14f8f28411a6cfb",
      "7cb7fea0f8d447cdb33726d5794b3b5e",
      "671b27e4923c46c0b8a40ca0ea7f9736",
      "4bcb106134f24895895139ad4b881df6",
      "10a043795e9d4a02a5b701e838913076",
      "0430aad3e1ab43c694a726bba7d098f5",
      "e88532a009374fb8897db53310ee2655",
      "8b5ebc49f3bb426091beb62cfea93129",
      "7c115c17ec094789a66d661409efd83b",
      "8b00cdefadef4cbe87ab079e2248e6be",
      "83a0e9c5a3944bc68d870c6275531fa3",
      "013b9673c4974cc89c34b0812d67d07a",
      "cbcbb96c4fe5413fac68237f4a40599e",
      "9c3112dc0417498f8dcdb02e9e7ac80f",
      "56dfae8747cf4a099b0879ee4f3a37bd",
      "17b6be5cf77e40fdaa0003e65797392c",
      "b1df8db4afad426dbca37b74b1589c9c",
      "2b058da72c8c4b68883d59de2c378065",
      "c933a941ba86497d94a0513b955e3d64",
      "853f8a1670b94bd495a6d563410bf0d0",
      "ac9751a447ee4751b4f7e6a4c146fb02",
      "e5c480ba59d042bdac0a71b67fc4b994",
      "8bc22c7c923d4b7cbf40ce09d2e0c0f1",
      "49770803c460477880adaa95a3861a7e",
      "342524f91c8e40949a1936f2faa1648f",
      "6d231eded24a45b792d63b8ba4094340",
      "9f7792d0d724481390b3246dce77211d",
      "5f73f8feb2a34ae0b2439cbb4f915759",
      "89e0baf2ed804f8099cc8a5f96fc589d",
      "ac8de24f41f34d51a9c20b30aea5f71c",
      "30cbac06f56044a587c451f219e56deb",
      "634163a1d84a4bc689363ee11b033a0b",
      "d00be5db09d441e6ae0cdabf93b47a52",
      "088690fd338141b5b57a5d3dc6d6da59",
      "1d26957cd824438e86be1e45202ecea1",
      "b73576f9a3e247388513bb1b72fb8c16",
      "e6d02a7b4b014694814cdafdeac64bc9",
      "1124feb2c4304b2cb8695ff270bde0b6",
      "52713c1c17ce479a903998409ce1bb63",
      "396f1b6f4dcb43cc8c55cf86c47f2d86",
      "d26dcb74595d48a195e1d8b29de092ff",
      "763ffee3980f428fb8ea40428eb33a7b",
      "61598d7d8b054989908a8f603676c73f",
      "bc0b7e2f4bab4ca7bfc354740626b434",
      "1e123760b50a4c99ab636920d64bb29b",
      "a564a015ab3d40c586a8a7da658beaa0",
      "6eb0aa66ae4c427fa67d18115db26f7c",
      "0ccaa7b75eca46579e577afbd7517528",
      "b17d05f80c0f41c5bde82bece1264699",
      "a50a56b64e2a4353b88ff4e5182ec1fe",
      "4eb14ac9760a4be3871ec1cd731587e2",
      "2f4f673e877b4590b2f7829c18586c4b",
      "f02b3cac7deb4b0ea0781accc214be34",
      "a11e2299483544188cb61fcb2d7faafb",
      "84d05b33a50a4d649a33fefcff7e2cb1",
      "d8217a23641246afbdc78e4a63079366",
      "5780a7f045b04d0484ad15394efef35a",
      "b02d826383ba4f0cb251eaa0506118c4",
      "d942f44617a246c9a2bee2f9712d762d",
      "ec17277bec714734bf5fcf34a98b71c3",
      "92214549ab544f2d8810c8945806f81c",
      "c036af58e26a4ed187792900523e1c7f",
      "4478eecb236b4b52b3a4f760d312f594",
      "dc5a397666a6486daaec40c26756017c",
      "d47943e2beb34cbcb6a16c6ede824ea9",
      "aba453938bfa424394fcdde8610c2610",
      "32c94d34ddfc49fcb054a1a1936c59b0",
      "222c2ce6d2f84333b211b2bd73ff1244",
      "2d4e64e30fbc4703960b33210ccb0fb5",
      "ee71a9e64e7444a687c6ae241f022b21",
      "6ffceb0cb8694225966d5e944a34032b",
      "0c0db3ac013c4685ab4c3f8bd6564f21",
      "96fbacbd6d664f018d069aba41fc1d5f",
      "c7e83dea26c14de7aa372ef4c981ffcd",
      "274e0726f66c4e54b377ef1fd3337240",
      "164f7dc057024e0f996ced995cf2512b",
      "52a5edc188314639bbba1f0d922d5ef3",
      "fd86dc931eb042ed99a4f10ebe90c65b",
      "9a340e71f4be4701ab4707e43b522715",
      "c5fa5e3119d646649e05450dcb277cda",
      "dff8a1fe9fc34751b59adec126ddc4df",
      "11cf720566d144478955fb7ca3c0abd2",
      "f549d413cf404c9b8d24e825379f7104",
      "2b6c71496c0d4b38a48c0a4d369d55ba",
      "d2d6341c1f5c40768145ef8b10cdcdaf",
      "fbb1e703208347cfa84d3aecd60daa55",
      "89c49b3793c84440b540fc687264fe73",
      "493c21083bfd4b2596f8794b2692263c",
      "dc34e80291e0476fa82e27033d36fd7a",
      "389e04a01c514d989f0cc09ba35ff5fa",
      "bcb9d3b60eba4baba58c6c43a5d112f7",
      "c2968e218e744ef386f0ae73b817e356",
      "f18a69142f2848c3abbc3389fe1bfaf9",
      "0c81b0db7cdd4853826e998995111e92",
      "74c16bd5f9a446a09c70ce6626ff80b2",
      "72bf935654204baa896b27d1bc21a289",
      "bec85651504a4650a34f79becc84b26c",
      "8e70a75da6bb461d839e9fdba8b28eef",
      "ec46723b1979471d96b2fc3a578e2369",
      "122ca9b9b8c2490bb9013631d8154cf1",
      "3656f9206dc143c3948680e250eeb92c",
      "fc9653df3c194aadb72e00b193c9ed98",
      "20d516c8894b4407b3dd29e1c57ec7d1",
      "437daf6c4fc94aabaf52b9b7eee1b9a9",
      "03d15a2fa60644b1a53f80d0381496dc",
      "6c596ba2b0f14d5f882caef8d23b9f29",
      "c83a104aa17a4026a85456a801dcef1f",
      "4270b65d9e4043689d7cc0a15a4d1fd1",
      "db18d8d973c642be96fd8bdb6babbb5e",
      "801b667400024d39b8e595c9a0d0ad86",
      "a615885a8ce34d2ea584d3c7b69947f8",
      "e6b6c29c1ca743bbbc27964160159e70",
      "50df982d4e024ae29de688eafb21c410",
      "b6e7919883c04f5480e80e8e653f692b",
      "00754bf92e44427b824aafb5391c7517",
      "cb986b8dadd24bac91c83b285bb9812c",
      "1fac6d0cefae4fac9e4d51759b328c9f",
      "f4ede0725dfa4dc79eef620660f2c16b",
      "89bbfadad5ff4c2791731812bcc288c5",
      "5e686dfb4c814b16b9f6f5e9dd3318f9",
      "8cdd2f5d4b9846cea190f14ceecf73c1",
      "2b2d2f586b52452aa568adafaa55ddad",
      "bcf125ebba0c454f8b08cf2a321451d2",
      "ebc539ad464f454eac08dc1fe1964ad9",
      "182718d0da404420ab16b0aed33764eb",
      "768b5a4ca2fd4e41a1012321409005b9",
      "27c0682770c2469aae84673887589570",
      "8546e228257d495cbf92d1e8c9c3a2c8",
      "50c4f4e26ca34667a55b0389aa4297bf",
      "a1b5b94340d1447cae194f292fc9ccaf",
      "a6f0f16bc56846bc93a7089373565427",
      "9e51a3578f7e4628a6eaace6b5418ccf",
      "de8ca2fe0cfe4851b92bc3a9043e9f68",
      "0427880cead04cd4a82c7a1a52402cbf",
      "db9dfe4c9a2e4af08346bc91c830ba39",
      "28efe1388db54a76a83529cbf4a77b69",
      "383993a209034163af0b2f6929047689",
      "29fdda8bbd3948a7b58f0f7ca07211d8",
      "32701fffbefa440485900c9f7858911e",
      "204a0bf880e44d1587350e1c29e9d16e",
      "c73eadd3318f4f9eba1cca1783199004",
      "69ba41a5e5914a57a0c699f2f3355f93",
      "d55a80827dc945b99d9299cf02a99153",
      "9e872f08a421402ba6e706c6941d4618",
      "028cd67d430d44188f0c9bb9c2864466",
      "1d598435cdc544c58b0e3bb2da0e7338",
      "e3819349df6144d7913ef5b664df5d5a",
      "ecd023adb1194ef88f3dfcb7264e84e1",
      "ab6d5017270c4dc091d2de4a3eb13b3f",
      "9dd1004e7760417aa284e6f6a8f2e072",
      "25757f46490a4c50a92ecebc5a3585c2",
      "4ff4a35235874b0c95cd33bd13138488",
      "199dab2cedfc4e53a3c85dd099dbb432",
      "8fcfb1161c8f4a12998c135f4170373d",
      "df7ca1f24bfc430cb23f66d31aa1428b",
      "58dbfb15aa8f4657a0df349981dafdd0",
      "9e493bcf25474b90824512963b43d826",
      "30c381e0119b4ac391de96ec953dce57",
      "0673ad087f8e4089b6018780db63e0cb",
      "5b1ff0c4e6274aa1bcb836cb07578c31",
      "1d0fa3962d5f41c3a22b637c35859201",
      "c8da8a63903a4956a11b1b421717f4c4",
      "9eeca85064ba4e2a958e3f424ee0f764",
      "7271a6d564f8484b987598a2edd47247",
      "274f9140a01f4759b5181b8695cb3565",
      "c8484907d297415eba2d08b0dc2093ee",
      "6b7591b376c24a2c9a90990dd7633c4c",
      "a2b77b2746d849858fb32142554a9c9b",
      "abb108e7c23744129ccb0be78ef3ca4b",
      "c166911cbb234d02aca04c6a4a5bc0fc",
      "efdec21519bb43c69eaba864f5dfd12b",
      "29c087858d784907ae06aae431e4ce53",
      "06eae220d6c24bc093edb1e1cd5acd9b",
      "c4cc6ce57a914b4381bef63e21ec22dd",
      "e7e4b432105844d78e8d04974e943133",
      "545a1c7695024872a5695fb88c1fbde4",
      "f54468cb114d4bd881dff74044840864"
     ]
    },
    "id": "M0hbuzQGZqZB",
    "executionInfo": {
     "status": "ok",
     "timestamp": 1744253100177,
     "user_tz": -480,
     "elapsed": 2952815,
     "user": {
      "displayName": "hui yi",
      "userId": "01791520918077108699"
     }
    },
    "outputId": "7ee568a0-6367-481d-b2fe-821c6c0dd499"
   },
   "execution_count": null,
   "outputs": [
    {
     "output_type": "stream",
     "name": "stderr",
     "text": [
      "INFO:pytorch_lightning.utilities.rank_zero:Using 16bit Automatic Mixed Precision (AMP)\n",
      "INFO:pytorch_lightning.utilities.rank_zero:GPU available: True (cuda), used: True\n",
      "INFO:pytorch_lightning.utilities.rank_zero:TPU available: False, using: 0 TPU cores\n",
      "INFO:pytorch_lightning.utilities.rank_zero:HPU available: False, using: 0 HPUs\n"
     ]
    },
    {
     "output_type": "stream",
     "name": "stdout",
     "text": [
      "\n",
      "=== Training Model 3: Enhanced EfficientNetV2-M with Optimized Regularization ===\n"
     ]
    },
    {
     "output_type": "stream",
     "name": "stderr",
     "text": [
      "Downloading: \"https://download.pytorch.org/models/efficientnet_v2_l-59c71312.pth\" to /root/.cache/torch/hub/checkpoints/efficientnet_v2_l-59c71312.pth\n",
      "100%|\u2588\u2588\u2588\u2588\u2588\u2588\u2588\u2588\u2588\u2588| 455M/455M [00:02<00:00, 163MB/s]\n"
     ]
    },
    {
     "output_type": "stream",
     "name": "stdout",
     "text": [
      "\n",
      "Training EfficientNetV2L...\n"
     ]
    },
    {
     "output_type": "stream",
     "name": "stderr",
     "text": [
      "INFO: LOCAL_RANK: 0 - CUDA_VISIBLE_DEVICES: [0]\n",
      "INFO:lightning.pytorch.accelerators.cuda:LOCAL_RANK: 0 - CUDA_VISIBLE_DEVICES: [0]\n",
      "INFO:pytorch_lightning.utilities.rank_zero:Loading `train_dataloader` to estimate number of stepping batches.\n",
      "/usr/local/lib/python3.11/dist-packages/torch/utils/data/dataloader.py:624: UserWarning: This DataLoader will create 4 worker processes in total. Our suggested max number of worker in current system is 2, which is smaller than what this DataLoader is going to create. Please be aware that excessive worker creation might get DataLoader running slow or even freeze, lower the worker number to avoid potential slowness/freeze if necessary.\n",
      "  warnings.warn(\n",
      "INFO: \n",
      "  | Name                  | Type                      | Params | Mode \n",
      "----------------------------------------------------------------------------\n",
      "0 | model                 | EfficientNet              | 119 M  | train\n",
      "1 | criterion             | CrossEntropyLoss          | 0      | train\n",
      "2 | train_acc             | MulticlassAccuracy        | 0      | train\n",
      "3 | val_acc               | MulticlassAccuracy        | 0      | train\n",
      "4 | test_accuracy         | MulticlassAccuracy        | 0      | train\n",
      "5 | test_precision        | MulticlassPrecision       | 0      | train\n",
      "6 | test_recall           | MulticlassRecall          | 0      | train\n",
      "7 | test_f1               | MulticlassF1Score         | 0      | train\n",
      "8 | test_auroc            | MulticlassAUROC           | 0      | train\n",
      "9 | test_confusion_matrix | MulticlassConfusionMatrix | 0      | train\n",
      "----------------------------------------------------------------------------\n",
      "1.8 M     Trainable params\n",
      "117 M     Non-trainable params\n",
      "119 M     Total params\n",
      "476.310   Total estimated model params size (MB)\n",
      "1426      Modules in train mode\n",
      "0         Modules in eval mode\n",
      "INFO:lightning.pytorch.callbacks.model_summary:\n",
      "  | Name                  | Type                      | Params | Mode \n",
      "----------------------------------------------------------------------------\n",
      "0 | model                 | EfficientNet              | 119 M  | train\n",
      "1 | criterion             | CrossEntropyLoss          | 0      | train\n",
      "2 | train_acc             | MulticlassAccuracy        | 0      | train\n",
      "3 | val_acc               | MulticlassAccuracy        | 0      | train\n",
      "4 | test_accuracy         | MulticlassAccuracy        | 0      | train\n",
      "5 | test_precision        | MulticlassPrecision       | 0      | train\n",
      "6 | test_recall           | MulticlassRecall          | 0      | train\n",
      "7 | test_f1               | MulticlassF1Score         | 0      | train\n",
      "8 | test_auroc            | MulticlassAUROC           | 0      | train\n",
      "9 | test_confusion_matrix | MulticlassConfusionMatrix | 0      | train\n",
      "----------------------------------------------------------------------------\n",
      "1.8 M     Trainable params\n",
      "117 M     Non-trainable params\n",
      "119 M     Total params\n",
      "476.310   Total estimated model params size (MB)\n",
      "1426      Modules in train mode\n",
      "0         Modules in eval mode\n"
     ]
    },
    {
     "output_type": "display_data",
     "data": {
      "text/plain": [
       "Sanity Checking: |          | 0/? [00:00<?, ?it/s]"
      ],
      "application/vnd.jupyter.widget-view+json": {
       "version_major": 2,
       "version_minor": 0,
       "model_id": "1a3f9493bfe24846bc854fa4c930c571"
      }
     },
     "metadata": {}
    },
    {
     "output_type": "display_data",
     "data": {
      "text/plain": [
       "Training: |          | 0/? [00:00<?, ?it/s]"
      ],
      "application/vnd.jupyter.widget-view+json": {
       "version_major": 2,
       "version_minor": 0,
       "model_id": "858aa59552254229b9bbf115d456a691"
      }
     },
     "metadata": {}
    },
    {
     "output_type": "display_data",
     "data": {
      "text/plain": [
       "Validation: |          | 0/? [00:00<?, ?it/s]"
      ],
      "application/vnd.jupyter.widget-view+json": {
       "version_major": 2,
       "version_minor": 0,
       "model_id": "043454d0cde14f6ab5383855e4088683"
      }
     },
     "metadata": {}
    },
    {
     "output_type": "display_data",
     "data": {
      "text/plain": [
       "Validation: |          | 0/? [00:00<?, ?it/s]"
      ],
      "application/vnd.jupyter.widget-view+json": {
       "version_major": 2,
       "version_minor": 0,
       "model_id": "9eb1ef1ee64441e2afc6beffe26525d7"
      }
     },
     "metadata": {}
    },
    {
     "output_type": "display_data",
     "data": {
      "text/plain": [
       "Validation: |          | 0/? [00:00<?, ?it/s]"
      ],
      "application/vnd.jupyter.widget-view+json": {
       "version_major": 2,
       "version_minor": 0,
       "model_id": "92c8155f9fdf4651bc3ac871d797887c"
      }
     },
     "metadata": {}
    },
    {
     "output_type": "stream",
     "name": "stdout",
     "text": [
      "Unfreezing layers from 6 to 8\n"
     ]
    },
    {
     "output_type": "display_data",
     "data": {
      "text/plain": [
       "Validation: |          | 0/? [00:00<?, ?it/s]"
      ],
      "application/vnd.jupyter.widget-view+json": {
       "version_major": 2,
       "version_minor": 0,
       "model_id": "a1951e86f28e42d6bb89d8f172e3a356"
      }
     },
     "metadata": {}
    },
    {
     "output_type": "display_data",
     "data": {
      "text/plain": [
       "Validation: |          | 0/? [00:00<?, ?it/s]"
      ],
      "application/vnd.jupyter.widget-view+json": {
       "version_major": 2,
       "version_minor": 0,
       "model_id": "231b4dcdf6df4cec983840c32d0d7338"
      }
     },
     "metadata": {}
    },
    {
     "output_type": "display_data",
     "data": {
      "text/plain": [
       "Validation: |          | 0/? [00:00<?, ?it/s]"
      ],
      "application/vnd.jupyter.widget-view+json": {
       "version_major": 2,
       "version_minor": 0,
       "model_id": "7cb7fea0f8d447cdb33726d5794b3b5e"
      }
     },
     "metadata": {}
    },
    {
     "output_type": "stream",
     "name": "stdout",
     "text": [
      "Unfreezing layers from 3 to 8\n"
     ]
    },
    {
     "output_type": "display_data",
     "data": {
      "text/plain": [
       "Validation: |          | 0/? [00:00<?, ?it/s]"
      ],
      "application/vnd.jupyter.widget-view+json": {
       "version_major": 2,
       "version_minor": 0,
       "model_id": "cbcbb96c4fe5413fac68237f4a40599e"
      }
     },
     "metadata": {}
    },
    {
     "output_type": "display_data",
     "data": {
      "text/plain": [
       "Validation: |          | 0/? [00:00<?, ?it/s]"
      ],
      "application/vnd.jupyter.widget-view+json": {
       "version_major": 2,
       "version_minor": 0,
       "model_id": "49770803c460477880adaa95a3861a7e"
      }
     },
     "metadata": {}
    },
    {
     "output_type": "display_data",
     "data": {
      "text/plain": [
       "Validation: |          | 0/? [00:00<?, ?it/s]"
      ],
      "application/vnd.jupyter.widget-view+json": {
       "version_major": 2,
       "version_minor": 0,
       "model_id": "1d26957cd824438e86be1e45202ecea1"
      }
     },
     "metadata": {}
    },
    {
     "output_type": "stream",
     "name": "stdout",
     "text": [
      "Unfreezing all layers\n"
     ]
    },
    {
     "output_type": "display_data",
     "data": {
      "text/plain": [
       "Validation: |          | 0/? [00:00<?, ?it/s]"
      ],
      "application/vnd.jupyter.widget-view+json": {
       "version_major": 2,
       "version_minor": 0,
       "model_id": "a564a015ab3d40c586a8a7da658beaa0"
      }
     },
     "metadata": {}
    },
    {
     "output_type": "display_data",
     "data": {
      "text/plain": [
       "Validation: |          | 0/? [00:00<?, ?it/s]"
      ],
      "application/vnd.jupyter.widget-view+json": {
       "version_major": 2,
       "version_minor": 0,
       "model_id": "5780a7f045b04d0484ad15394efef35a"
      }
     },
     "metadata": {}
    },
    {
     "output_type": "display_data",
     "data": {
      "text/plain": [
       "Validation: |          | 0/? [00:00<?, ?it/s]"
      ],
      "application/vnd.jupyter.widget-view+json": {
       "version_major": 2,
       "version_minor": 0,
       "model_id": "222c2ce6d2f84333b211b2bd73ff1244"
      }
     },
     "metadata": {}
    },
    {
     "output_type": "display_data",
     "data": {
      "text/plain": [
       "Validation: |          | 0/? [00:00<?, ?it/s]"
      ],
      "application/vnd.jupyter.widget-view+json": {
       "version_major": 2,
       "version_minor": 0,
       "model_id": "9a340e71f4be4701ab4707e43b522715"
      }
     },
     "metadata": {}
    },
    {
     "output_type": "display_data",
     "data": {
      "text/plain": [
       "Validation: |          | 0/? [00:00<?, ?it/s]"
      ],
      "application/vnd.jupyter.widget-view+json": {
       "version_major": 2,
       "version_minor": 0,
       "model_id": "389e04a01c514d989f0cc09ba35ff5fa"
      }
     },
     "metadata": {}
    },
    {
     "output_type": "display_data",
     "data": {
      "text/plain": [
       "Validation: |          | 0/? [00:00<?, ?it/s]"
      ],
      "application/vnd.jupyter.widget-view+json": {
       "version_major": 2,
       "version_minor": 0,
       "model_id": "3656f9206dc143c3948680e250eeb92c"
      }
     },
     "metadata": {}
    },
    {
     "output_type": "display_data",
     "data": {
      "text/plain": [
       "Validation: |          | 0/? [00:00<?, ?it/s]"
      ],
      "application/vnd.jupyter.widget-view+json": {
       "version_major": 2,
       "version_minor": 0,
       "model_id": "e6b6c29c1ca743bbbc27964160159e70"
      }
     },
     "metadata": {}
    },
    {
     "output_type": "display_data",
     "data": {
      "text/plain": [
       "Validation: |          | 0/? [00:00<?, ?it/s]"
      ],
      "application/vnd.jupyter.widget-view+json": {
       "version_major": 2,
       "version_minor": 0,
       "model_id": "bcf125ebba0c454f8b08cf2a321451d2"
      }
     },
     "metadata": {}
    },
    {
     "output_type": "display_data",
     "data": {
      "text/plain": [
       "Validation: |          | 0/? [00:00<?, ?it/s]"
      ],
      "application/vnd.jupyter.widget-view+json": {
       "version_major": 2,
       "version_minor": 0,
       "model_id": "0427880cead04cd4a82c7a1a52402cbf"
      }
     },
     "metadata": {}
    },
    {
     "output_type": "display_data",
     "data": {
      "text/plain": [
       "Validation: |          | 0/? [00:00<?, ?it/s]"
      ],
      "application/vnd.jupyter.widget-view+json": {
       "version_major": 2,
       "version_minor": 0,
       "model_id": "028cd67d430d44188f0c9bb9c2864466"
      }
     },
     "metadata": {}
    },
    {
     "output_type": "display_data",
     "data": {
      "text/plain": [
       "Validation: |          | 0/? [00:00<?, ?it/s]"
      ],
      "application/vnd.jupyter.widget-view+json": {
       "version_major": 2,
       "version_minor": 0,
       "model_id": "58dbfb15aa8f4657a0df349981dafdd0"
      }
     },
     "metadata": {}
    },
    {
     "output_type": "stream",
     "name": "stderr",
     "text": [
      "INFO:pytorch_lightning.utilities.rank_zero:`Trainer.fit` stopped: `max_epochs=20` reached.\n",
      "INFO: LOCAL_RANK: 0 - CUDA_VISIBLE_DEVICES: [0]\n",
      "INFO:lightning.pytorch.accelerators.cuda:LOCAL_RANK: 0 - CUDA_VISIBLE_DEVICES: [0]\n"
     ]
    },
    {
     "output_type": "stream",
     "name": "stdout",
     "text": [
      "\n",
      "Evaluating EfficientNetV2L...\n"
     ]
    },
    {
     "output_type": "display_data",
     "data": {
      "text/plain": [
       "Testing: |          | 0/? [00:00<?, ?it/s]"
      ],
      "application/vnd.jupyter.widget-view+json": {
       "version_major": 2,
       "version_minor": 0,
       "model_id": "6b7591b376c24a2c9a90990dd7633c4c"
      }
     },
     "metadata": {}
    },
    {
     "output_type": "stream",
     "name": "stderr",
     "text": [
      "/usr/local/lib/python3.11/dist-packages/torchmetrics/utilities/prints.py:43: UserWarning: No negative samples in targets, false positive value should be meaningless. Returning zero tensor in false positive score\n",
      "  warnings.warn(*args, **kwargs)\n",
      "/usr/local/lib/python3.11/dist-packages/torchmetrics/utilities/prints.py:43: UserWarning: No positive samples in targets, true positive value should be meaningless. Returning zero tensor in true positive score\n",
      "  warnings.warn(*args, **kwargs)\n"
     ]
    },
    {
     "output_type": "stream",
     "name": "stdout",
     "text": [
      "\n",
      "--- Test Metrics ---\n",
      "Accuracy: 0.8495\n",
      "Precision: 0.8466\n",
      "Recall: 0.8459\n",
      "F1 Score: 0.8457\n",
      "AUROC: 0.9774\n"
     ]
    },
    {
     "output_type": "display_data",
     "data": {
      "text/plain": [
       "\u250f\u2501\u2501\u2501\u2501\u2501\u2501\u2501\u2501\u2501\u2501\u2501\u2501\u2501\u2501\u2501\u2501\u2501\u2501\u2501\u2501\u2501\u2501\u2501\u2501\u2501\u2501\u2501\u2533\u2501\u2501\u2501\u2501\u2501\u2501\u2501\u2501\u2501\u2501\u2501\u2501\u2501\u2501\u2501\u2501\u2501\u2501\u2501\u2501\u2501\u2501\u2501\u2501\u2501\u2501\u2501\u2513\n",
       "\u2503\u001b[1m \u001b[0m\u001b[1m       Test metric       \u001b[0m\u001b[1m \u001b[0m\u2503\u001b[1m \u001b[0m\u001b[1m      DataLoader 0       \u001b[0m\u001b[1m \u001b[0m\u2503\n",
       "\u2521\u2501\u2501\u2501\u2501\u2501\u2501\u2501\u2501\u2501\u2501\u2501\u2501\u2501\u2501\u2501\u2501\u2501\u2501\u2501\u2501\u2501\u2501\u2501\u2501\u2501\u2501\u2501\u2547\u2501\u2501\u2501\u2501\u2501\u2501\u2501\u2501\u2501\u2501\u2501\u2501\u2501\u2501\u2501\u2501\u2501\u2501\u2501\u2501\u2501\u2501\u2501\u2501\u2501\u2501\u2501\u2529\n",
       "\u2502\u001b[36m \u001b[0m\u001b[36m        test_loss        \u001b[0m\u001b[36m \u001b[0m\u2502\u001b[35m \u001b[0m\u001b[35m   0.8336644172668457    \u001b[0m\u001b[35m \u001b[0m\u2502\n",
       "\u2514\u2500\u2500\u2500\u2500\u2500\u2500\u2500\u2500\u2500\u2500\u2500\u2500\u2500\u2500\u2500\u2500\u2500\u2500\u2500\u2500\u2500\u2500\u2500\u2500\u2500\u2500\u2500\u2534\u2500\u2500\u2500\u2500\u2500\u2500\u2500\u2500\u2500\u2500\u2500\u2500\u2500\u2500\u2500\u2500\u2500\u2500\u2500\u2500\u2500\u2500\u2500\u2500\u2500\u2500\u2500\u2518\n"
      ],
      "text/html": [
       "<pre style=\"white-space:pre;overflow-x:auto;line-height:normal;font-family:Menlo,'DejaVu Sans Mono',consolas,'Courier New',monospace\">\u250f\u2501\u2501\u2501\u2501\u2501\u2501\u2501\u2501\u2501\u2501\u2501\u2501\u2501\u2501\u2501\u2501\u2501\u2501\u2501\u2501\u2501\u2501\u2501\u2501\u2501\u2501\u2501\u2533\u2501\u2501\u2501\u2501\u2501\u2501\u2501\u2501\u2501\u2501\u2501\u2501\u2501\u2501\u2501\u2501\u2501\u2501\u2501\u2501\u2501\u2501\u2501\u2501\u2501\u2501\u2501\u2513\n",
       "\u2503<span style=\"font-weight: bold\">        Test metric        </span>\u2503<span style=\"font-weight: bold\">       DataLoader 0        </span>\u2503\n",
       "\u2521\u2501\u2501\u2501\u2501\u2501\u2501\u2501\u2501\u2501\u2501\u2501\u2501\u2501\u2501\u2501\u2501\u2501\u2501\u2501\u2501\u2501\u2501\u2501\u2501\u2501\u2501\u2501\u2547\u2501\u2501\u2501\u2501\u2501\u2501\u2501\u2501\u2501\u2501\u2501\u2501\u2501\u2501\u2501\u2501\u2501\u2501\u2501\u2501\u2501\u2501\u2501\u2501\u2501\u2501\u2501\u2529\n",
       "\u2502<span style=\"color: #008080; text-decoration-color: #008080\">         test_loss         </span>\u2502<span style=\"color: #800080; text-decoration-color: #800080\">    0.8336644172668457     </span>\u2502\n",
       "\u2514\u2500\u2500\u2500\u2500\u2500\u2500\u2500\u2500\u2500\u2500\u2500\u2500\u2500\u2500\u2500\u2500\u2500\u2500\u2500\u2500\u2500\u2500\u2500\u2500\u2500\u2500\u2500\u2534\u2500\u2500\u2500\u2500\u2500\u2500\u2500\u2500\u2500\u2500\u2500\u2500\u2500\u2500\u2500\u2500\u2500\u2500\u2500\u2500\u2500\u2500\u2500\u2500\u2500\u2500\u2500\u2518\n",
       "</pre>\n"
      ]
     },
     "metadata": {}
    },
    {
     "output_type": "stream",
     "name": "stdout",
     "text": [
      "Model saved to EfficientNetV2L_20250410_015546_final.pt\n"
     ]
    }
   ]
  },
  {
   "cell_type": "code",
   "source": [
    "torch.save(model6.state_dict(), \"saved_efficientnet/efficientnetv2-method6_weights.pth\")\n",
    "torch.save(model6, \"saved_efficientnet/efficientnetv2-method6.pth\")"
   ],
   "metadata": {
    "id": "XOTzT21RaTRH"
   },
   "execution_count": null,
   "outputs": []
  },
  {
   "cell_type": "markdown",
   "source": [
    "### Method 7 Training"
   ],
   "metadata": {
    "id": "nNPjWd6moFpc"
   }
  },
  {
   "cell_type": "code",
   "source": [
    "# Model 7\n",
    "print(\"\\n=== Training Model 7: Change optimizer to RAdam ===\")\n",
    "model7 = train_and_evaluate_model(\n",
    "  model_name=\"EfficientNetV2M_RAdam\",\n",
    "  model_class=EfficientNetV2M_RAdam,\n",
    "  data_module=data_module,\n",
    "  max_epochs=20,\n",
    "  learning_rate=3e-4\n",
    ")"
   ],
   "metadata": {
    "colab": {
     "base_uri": "https://localhost:8080/",
     "height": 1000,
     "referenced_widgets": [
      "fb21b015222c41dda11aebffceaef400",
      "7f5ea94084554ca4bf6ff3e30df16f3a",
      "d3ba57e9c5f9478bbf500ba58cfc8a94",
      "f932415e29064643a2ffaf15ce3cf499",
      "637d23595df74a86bca256ebb862d8c0",
      "0d7cac464aa1410099137953d68d7d47",
      "5d48b663df084a3baf0d5c81e1a4e480",
      "bc571f2e108b4e9ca6789715c23e3ad6",
      "5477e660a951499f99b3af6e0856f1a2",
      "961ceee103754877baa6c3549b32b495",
      "f71822a9a45f4c188a63423d167a29c4",
      "d7aca128cf64445eb6794fa9d08f4bc8",
      "3a00e5e002a549f982c924020b3fd1c4",
      "24bc37781a354a7081bf014d5ad89c19",
      "c2e38d275d6b4f75aacdede9ba7b58f0",
      "13dc5f1e3f96487c8933eaa2530a27a7",
      "c1657bff6c3a4b6e98fe748699069133",
      "df4fea21439b4bac921f9254be03c657",
      "1f3011d52df64e01a9aa7198eaf23432",
      "34e843c433a94d73963bc610a8c763bb",
      "fd57c16660f04f19bd7250baed270c86",
      "9ed8fa0e53c0427f8a90c5e952016cbb",
      "5561a10a8bd84a7ea1d2ff83d4a7132f",
      "cd4beecde59f4c03b048332f14e6d9dc",
      "e188d6c9fb7b4a0aa0a72eb21ff91f4f",
      "f4015435bdb64243874476aab5c014a3",
      "50f41b6155b846a98280963df03e85a1",
      "ea82d57c0733485ab2922917cc0a1dc2",
      "9ec47d1c811342a7baadd157c3f0b3f0",
      "1cd126cfbe9b49f8a44d85130bcdf413",
      "65709647bb0b41dbb1e532871760111d",
      "41035344df5a4c9aa65720d4a28f5387",
      "138b24984c0a40d5a0e788517b438dd1",
      "1e499861b3804bb289216995f136dca8",
      "67f6f9e9a8d94e9eb59a7423c6ca811d",
      "5a80a6d4df64432d8e349a5367758fd0",
      "97bbe899bd2c409f818a1fd8c79d7900",
      "54714a2a92d24b8b88d41584c4d20cbc",
      "644daf97e896438aaee54131b88498da",
      "f43cf459ef7b43ac8b5afa8432169799",
      "1701e724657d4332a25addea8a1a858f",
      "6c84db4c17a641d4bc08b0854e9c0a00",
      "5596d79b8a44404bba0e57a76df21a2b",
      "61ded80d11ec4ea4b9fc51724d29ae84",
      "763b57c2965c4d5781ce9194923e3cde",
      "361e665ce96f41e18275f9f19078e203",
      "396c28a1edb541d5a94dc5a49ef1d412",
      "be63608017af4e4d98d1151b268ac0e5",
      "9077ddfeed4449f5b9739fa14f423ca9",
      "9faf0a4e2412453ba4c5041df358a1c6",
      "f02b51346a6745b49fe3d66d3487f766",
      "8a10a4723bf34f5396fc90757846ec78",
      "66af6b2b6ed04f5fb1ea278b44f32c12",
      "5e4226671fbd4d398cc8a5767ff19f3c",
      "f380cd1fa8ec4317877496f6ce685dfa",
      "e945cda5172c417ea37bb46e5a278c55",
      "657e0c5bc76e4ecd9984601e60dac304",
      "ed56d65026a4410da799732b75900bcb",
      "e2da01e8750e45cfb80a729ce808d94c",
      "c8344e5efa6f4d558a348dd5d069c3f8",
      "56316c9f7e144be5953de7214b50e404",
      "bae2bf6227914f05b5ef397500e73db3",
      "a641f1a9b7984eedaa6bc72622e18725",
      "c0bf8636037840f981e7322ac622e1a4",
      "af05f5b80fe34852bb4491bb02597670",
      "2649792ce9554377b75572b00ef9fb24",
      "dd22be3292e74c878860f825d7f8cd43",
      "fa7fda109ccc4f4a9c281c37754c6459",
      "b4f5937da58c4681a0fd145597d906da",
      "22cb7a2c674d4a0589e540ec236d9165",
      "217a22d555154019a2c25ebd4d7c2f0e",
      "12c45f9a3e2646cbb06d12daa0873461",
      "52756d7e6d684849a5ddade9d2dda3e8",
      "cf5bb62b916a4e9c965eaa6e2fd33191",
      "32f754f8f5164fb3884cc3c45e4faec6",
      "825af4d6530e4102801e323862172ab5",
      "01f67d9ec0d74ecfa74c8130b3403b55",
      "2e65c0db7dd84e498e988de7cc9f164a",
      "ae679ae69bdf4e5a86d10d046ca3d67d",
      "4038a259ff3843d2a25ae027d5a2be1a",
      "9cb9d940a3dc41ff8fda67321591a9bc",
      "9942801b6d244ea6ae20d25eae32ae47",
      "780aff0b63d44fec85f886254f63048d",
      "eecd375848524d0e9b2a479876c3ab4f",
      "9cf92ad395cb475c98991ed89c8f913f",
      "f080ecf39c1448dfa6b23dafb55c1570",
      "c47d3b1bce084c2188d688d643f6dbc4",
      "22155e8627e9481589753e8d1bc242a6",
      "2734f6eaa7da4b57ade476586aef1385",
      "b0b352cebbcf42b8b0e3fcb39e91def0",
      "4be1f6e29a6e425a8c0943f42b645304",
      "3b5730b60aef4d009aca48c7d33dc327",
      "5a9fd41dd2bd403a85a5288881d54071",
      "c86eba1062fa49ae810402f6baac55b5",
      "3c215b71bcf34bc4b3869bcb950604c6",
      "5d73012c918c4cbbb3ed7e69daf4a809",
      "fbe1d266b8944ff1a8de338628223291",
      "cdfdbee5169f47c584f323a5085a6af8",
      "1eadf9ef24234d268eee584765eb5f20",
      "128658d71e38459ba598715c199990fa",
      "9dcbc1e824eb440084eb35f81d5d0988",
      "213d5c6f59574f1793bfa1faa0b08fec",
      "ecf4f4eea8614d349ea7cd013e00e868",
      "713c7c7fe63144c09dae81e93b392d33",
      "1b1f293406654d64b61395609a39a462",
      "1c8a2eec03484ffa9e4f8d25ea4139e8",
      "84c26374cf7d45e9bc64283f4dd37410",
      "bb32359ab0de42518824e2cd32af2746",
      "5c13fba4c6ad48f58240bf00c318f211",
      "504ea1f2bfaa4b66a5ad76dad5d8255b",
      "32cd85b5843b42f5ab30a899ed3fdfa6",
      "425681f1524b4c4f8a894c3633f9c193",
      "83846e6659154ceea166848a4b7f5703",
      "41b24b4be60949ca965751bf1517e697",
      "d424f5da88514855935ab2d149a3372f",
      "b44c52a5b6434c64ada3f2c653d6d6c2",
      "a8f16624e1e14c38bd8c65dadede6c12",
      "ea90c196ca8c42fda013abfeeed4c0ef",
      "76aa82d55bf644f5b52e87732ae545c9",
      "3702a7674928481487e9b56c5dd8540a",
      "1d24ad18cf6f4608aaa393619277a60c",
      "2f50911fd2d9412280135f0e4ce05bce",
      "fabd6d1667f64d71a5f9f12279d9db3d",
      "ba4fc0bb71d24b22bbd1074ce4970473",
      "20219d0aa5034a2abee6c4dd405d695d",
      "caa7112d948740adae53d12f20eb71c0",
      "08e407db162f46818f7db2ab325a329d",
      "8b71bca730734d20b426597fba86119f",
      "8afc314858a84a3c881e2d51c8ff2c11",
      "58346c9a45534f8bbbe700fcc62a0851",
      "1075cae15c60414594872ac10401b215",
      "ecf9978be4694d45b5398e8a237c40b9",
      "97438b9853e84756a266c75684b8a5fe",
      "bf578750643b4173b1139e5af84fa2b2",
      "95d070e151f6470d92d6a16949f8a921",
      "6ca9fc211d8d4a1e9527bda39556ca98",
      "e63bf39ce0704565a2cde7b2e9b1c5cf",
      "1c94c2ccb71442faa64062d43fd0ff2f",
      "ebd695dd036346fd9c3fe0db4138bf4e",
      "18dcf67529264242ab45997504a47ab2",
      "b04bd2b85ec94d6c9a71d70b46170e83",
      "407721ddce844050b1d39f510ec0c01e",
      "e46d76c8cde642f0b704a8922faa6ae7",
      "30ddb7568fb246f49076935bd9123216",
      "52953e4e761c43eeafc0a3e98f55b20b",
      "6844be52cec745bb810431e352eb20c2",
      "f720a77323ff4715816ff5a8180d4277",
      "45406ebc43c4415995173e754e95a345",
      "ae18248d8cdd4914bd196784a7074d15",
      "2de4a480871c4cccacb5587a358e62b9",
      "7b174d0772cf436bbff410625adc2994",
      "c56836e2fbed4395b6e43a31cea5a498",
      "7139f566d1aa4683b118dcb7d1dae303",
      "97ab21bc3538456f91a2f697f87f96c4",
      "dc36a0f2be1c4b85abced574c78f4f43",
      "bb20a9688ef340c988d39a9d197fb7fc",
      "ea787184b0f246169e7f1d7cdc038729",
      "e95dfbfdb7bf4579be6a1b10c1b51ca1",
      "32c01ef8527a40f89856b4c63608b81b",
      "00459cebf89d4943a750c051849a28d5",
      "2888344704cc438fa9603ea300bd92a9",
      "b0f56e2281884dd38ded282e733f0fb7",
      "840ed33b1be643f9875d53f821ed54a2",
      "4a20c52016e74c69b34f52fd5c0f52be",
      "db3996ad147f432098f45decd118428d",
      "0a250b0f4ffc42b89eb4c1634cf773aa",
      "6b0be97963384f11844c4d6529abb587",
      "a63ef9c017474670b13eee9d5f9a81fa",
      "127d9293e08541e89f0f98934d702a8a",
      "06a2a594c2134f1fb4e31c41c55f29c7",
      "737a3d3a8bec4ca19934fbd01441ab5e",
      "9499eedce01f4ecf927b2ebe558aa0b3",
      "8472584d45a34759a825c0d289f7d403",
      "de9f9f30c92d4c469b7c7c4d9422a55a",
      "708c7f39b60847798826dd4b020dcd9e",
      "4fbd6162a69b4015b18d74f1445ee517",
      "7432b855ab1e456f840efa7a98eef2fd",
      "e093ecbf4db54ab6a4742133c3fa5299",
      "ed81522368384d65bf4b2c0f941c442d",
      "44a3f37a972a432da7d920f45d9c6f85",
      "c7fc8c63f80046f7867a5bfb2385310e",
      "6eeb54da132c4dad9c8138f993177669",
      "2a847e6905e34984928e1aa33d414e2a",
      "7d854247bba64cbe8eb2ad9476cf681d",
      "d81c00cc92504d23806dad4ae4333e8e",
      "bf40b5dee8924ffab061caaf97abc60f",
      "01aabb004b8f4fdca61143726b87bbd4",
      "f0af127f89f4404596291f45f1b542aa",
      "410a50ef5efa4906a3b6b3cd0af2def5",
      "226ca3409e7144c091ddeef8fceaedd8",
      "f03f083e5ae643b1b0ba949c1dd4577b",
      "47b316ba0738421ca12e772637953190",
      "1470c359b31e46049e7101c14efb006b",
      "bcfee05dc9cc4e0da532215e0ae0a188",
      "937e992786cb4220925445831f7d908d",
      "ddcca95f4938472fb032dfc92bfd4eb1",
      "eb47dd4cc0864dff8448dd9399d4a3b9",
      "21317b3be4b241ca8400eed9d7bce765",
      "449576fa05314ed59634e17a292912f3",
      "a8a0df52ab1544a9bb7ff69371337690",
      "b348b1b5c54840a1b64f2e62e5a48a12",
      "653729d5861a4223837a17490d2d2f9e",
      "319d71ff67274b9bbd868e4dc73498da",
      "7e9c3725594b4ced8de80c255c2f37af",
      "0de906907716489391895a14edd3edd9",
      "cb8fa4a9f7f94884b43cb38e1c5cd73f",
      "2c0182b327814ad88ca715c46854d4bd",
      "b98396dab8e9414ca886de34f93fd567",
      "efd64f04cfed457493297f05499e4e32",
      "f989cd68fe4540868d8fd9eee1779f8a",
      "2aa5595aedc145168434f1dce34abab2",
      "dfa583576c4045adb70a9225aabff456",
      "f8e4a17c4a9a461e9949c0fb2c890c39",
      "d9ad8e179f5f4ffa9a48dd8043935b2d",
      "5580bb41c40a48f0b7e0de81d81ac23a",
      "657b780658964734a3350207af13623c",
      "288926ab44574cfe9cd7062e33bf0121",
      "f24d610fd0944a91a4fb0e02e3012ac8",
      "9fc9355adeb24ddf8fbdd94837a3a731",
      "f2b6e2da3a8e4bcd9eae7598dd1607c7",
      "3b40aa9a578b4ce68198f1a03ba2dd82",
      "7709e1e64e79482a92a4e37897d872b4",
      "36c6fe96413846c3943430e5aac056fb",
      "c6dd665d2d5d4150a6c9178804eb8024",
      "b07bdf53aa044b6d94765fff961699ab",
      "5a881b181dc44f2a88e71aac8d6fc6aa",
      "0906f61475764b19a4b8855d16869979",
      "db3b31f285564fe3a2f08778a150e5d6",
      "c785d3453e7b4bc7938187446cec7e93",
      "a1385d157a6148eda7c2289d595d32df",
      "4f1848f2ad114e8ea3d5bc538b425ad8",
      "33dafa63f2364879bef1836b73137bfc",
      "e346c670bb564faf9c74bf0021d12063",
      "79d8af8260f6467eb5def57bbe8c4d56",
      "4e13857728e940c1a40c1df48c354aef",
      "4af2ce64dade40d19491c6fcc25a766a",
      "3c25b4e388b34fd191eb50580e637bb0",
      "c149dd0852fd49c5a3f48c170073ac64",
      "fac51b78eaf0479cbd45d1e17bfd4e81",
      "4a527a6d75294943a272c4e13c4ed9b2",
      "c52e783e6c47452e92abd1da1e0ae3d5",
      "17412a8079e44781a6125c33dd28c6a0",
      "2b04ceb1db2f40268aeb4518b6449a10",
      "11942b8d7ae34313b60f1bfd49168630",
      "394d46a8b4e946858c8ae37fe00a727e",
      "b9f3956fdced45dab540a8ebcf9c2ee5",
      "cc3ade2d3bee47ed981c203fcd34abab",
      "2dcf9a9c63ad4b4abec1fc7c0bb9f592",
      "f26b95ce36ac4826b33dabdba95c37cc",
      "436307a963a0486396f99c55a141145d",
      "4ad25da9df9b49f7b3fe2b526ebf7ba2",
      "5009f618717245399585e4bf4820c8af",
      "228b08119a4b42a989190f0254eff29e"
     ]
    },
    "id": "h14QoKaioMq5",
    "executionInfo": {
     "status": "ok",
     "timestamp": 1744273784740,
     "user_tz": -480,
     "elapsed": 2267461,
     "user": {
      "displayName": "hui yi",
      "userId": "01791520918077108699"
     }
    },
    "outputId": "415c20b4-d14f-4985-9cda-a382767fcb9b"
   },
   "execution_count": null,
   "outputs": [
    {
     "output_type": "stream",
     "name": "stderr",
     "text": [
      "INFO:pytorch_lightning.utilities.rank_zero:Using 16bit Automatic Mixed Precision (AMP)\n",
      "INFO:pytorch_lightning.utilities.rank_zero:GPU available: True (cuda), used: True\n",
      "INFO:pytorch_lightning.utilities.rank_zero:TPU available: False, using: 0 TPU cores\n",
      "INFO:pytorch_lightning.utilities.rank_zero:HPU available: False, using: 0 HPUs\n"
     ]
    },
    {
     "output_type": "stream",
     "name": "stdout",
     "text": [
      "\n",
      "=== Training Model 7: Change optimizer to RAdam ===\n"
     ]
    },
    {
     "output_type": "stream",
     "name": "stderr",
     "text": [
      "INFO: LOCAL_RANK: 0 - CUDA_VISIBLE_DEVICES: [0]\n",
      "INFO:lightning.pytorch.accelerators.cuda:LOCAL_RANK: 0 - CUDA_VISIBLE_DEVICES: [0]\n"
     ]
    },
    {
     "output_type": "stream",
     "name": "stdout",
     "text": [
      "\n",
      "Training EfficientNetV2M_RAdam...\n"
     ]
    },
    {
     "output_type": "stream",
     "name": "stderr",
     "text": [
      "INFO:pytorch_lightning.utilities.rank_zero:Loading `train_dataloader` to estimate number of stepping batches.\n",
      "/usr/local/lib/python3.11/dist-packages/torch/utils/data/dataloader.py:624: UserWarning: This DataLoader will create 4 worker processes in total. Our suggested max number of worker in current system is 2, which is smaller than what this DataLoader is going to create. Please be aware that excessive worker creation might get DataLoader running slow or even freeze, lower the worker number to avoid potential slowness/freeze if necessary.\n",
      "  warnings.warn(\n",
      "INFO: \n",
      "  | Name                  | Type                      | Params | Mode \n",
      "----------------------------------------------------------------------------\n",
      "0 | model                 | EfficientNet              | 54.7 M | train\n",
      "1 | criterion             | CrossEntropyLoss          | 0      | train\n",
      "2 | train_acc             | MulticlassAccuracy        | 0      | train\n",
      "3 | val_acc               | MulticlassAccuracy        | 0      | train\n",
      "4 | test_accuracy         | MulticlassAccuracy        | 0      | train\n",
      "5 | test_precision        | MulticlassPrecision       | 0      | train\n",
      "6 | test_recall           | MulticlassRecall          | 0      | train\n",
      "7 | test_f1               | MulticlassF1Score         | 0      | train\n",
      "8 | test_auroc            | MulticlassAUROC           | 0      | train\n",
      "9 | test_confusion_matrix | MulticlassConfusionMatrix | 0      | train\n",
      "----------------------------------------------------------------------------\n",
      "1.8 M     Trainable params\n",
      "52.9 M    Non-trainable params\n",
      "54.7 M    Total params\n",
      "218.807   Total estimated model params size (MB)\n",
      "1039      Modules in train mode\n",
      "0         Modules in eval mode\n",
      "INFO:lightning.pytorch.callbacks.model_summary:\n",
      "  | Name                  | Type                      | Params | Mode \n",
      "----------------------------------------------------------------------------\n",
      "0 | model                 | EfficientNet              | 54.7 M | train\n",
      "1 | criterion             | CrossEntropyLoss          | 0      | train\n",
      "2 | train_acc             | MulticlassAccuracy        | 0      | train\n",
      "3 | val_acc               | MulticlassAccuracy        | 0      | train\n",
      "4 | test_accuracy         | MulticlassAccuracy        | 0      | train\n",
      "5 | test_precision        | MulticlassPrecision       | 0      | train\n",
      "6 | test_recall           | MulticlassRecall          | 0      | train\n",
      "7 | test_f1               | MulticlassF1Score         | 0      | train\n",
      "8 | test_auroc            | MulticlassAUROC           | 0      | train\n",
      "9 | test_confusion_matrix | MulticlassConfusionMatrix | 0      | train\n",
      "----------------------------------------------------------------------------\n",
      "1.8 M     Trainable params\n",
      "52.9 M    Non-trainable params\n",
      "54.7 M    Total params\n",
      "218.807   Total estimated model params size (MB)\n",
      "1039      Modules in train mode\n",
      "0         Modules in eval mode\n"
     ]
    },
    {
     "output_type": "display_data",
     "data": {
      "text/plain": [
       "Sanity Checking: |          | 0/? [00:00<?, ?it/s]"
      ],
      "application/vnd.jupyter.widget-view+json": {
       "version_major": 2,
       "version_minor": 0,
       "model_id": "fb21b015222c41dda11aebffceaef400"
      }
     },
     "metadata": {}
    },
    {
     "output_type": "display_data",
     "data": {
      "text/plain": [
       "Training: |          | 0/? [00:00<?, ?it/s]"
      ],
      "application/vnd.jupyter.widget-view+json": {
       "version_major": 2,
       "version_minor": 0,
       "model_id": "d7aca128cf64445eb6794fa9d08f4bc8"
      }
     },
     "metadata": {}
    },
    {
     "output_type": "display_data",
     "data": {
      "text/plain": [
       "Validation: |          | 0/? [00:00<?, ?it/s]"
      ],
      "application/vnd.jupyter.widget-view+json": {
       "version_major": 2,
       "version_minor": 0,
       "model_id": "5561a10a8bd84a7ea1d2ff83d4a7132f"
      }
     },
     "metadata": {}
    },
    {
     "output_type": "display_data",
     "data": {
      "text/plain": [
       "Validation: |          | 0/? [00:00<?, ?it/s]"
      ],
      "application/vnd.jupyter.widget-view+json": {
       "version_major": 2,
       "version_minor": 0,
       "model_id": "1e499861b3804bb289216995f136dca8"
      }
     },
     "metadata": {}
    },
    {
     "output_type": "display_data",
     "data": {
      "text/plain": [
       "Validation: |          | 0/? [00:00<?, ?it/s]"
      ],
      "application/vnd.jupyter.widget-view+json": {
       "version_major": 2,
       "version_minor": 0,
       "model_id": "763b57c2965c4d5781ce9194923e3cde"
      }
     },
     "metadata": {}
    },
    {
     "output_type": "stream",
     "name": "stdout",
     "text": [
      "Unfreezing layers from 6 to 8\n"
     ]
    },
    {
     "output_type": "display_data",
     "data": {
      "text/plain": [
       "Validation: |          | 0/? [00:00<?, ?it/s]"
      ],
      "application/vnd.jupyter.widget-view+json": {
       "version_major": 2,
       "version_minor": 0,
       "model_id": "e945cda5172c417ea37bb46e5a278c55"
      }
     },
     "metadata": {}
    },
    {
     "output_type": "display_data",
     "data": {
      "text/plain": [
       "Validation: |          | 0/? [00:00<?, ?it/s]"
      ],
      "application/vnd.jupyter.widget-view+json": {
       "version_major": 2,
       "version_minor": 0,
       "model_id": "dd22be3292e74c878860f825d7f8cd43"
      }
     },
     "metadata": {}
    },
    {
     "output_type": "display_data",
     "data": {
      "text/plain": [
       "Validation: |          | 0/? [00:00<?, ?it/s]"
      ],
      "application/vnd.jupyter.widget-view+json": {
       "version_major": 2,
       "version_minor": 0,
       "model_id": "2e65c0db7dd84e498e988de7cc9f164a"
      }
     },
     "metadata": {}
    },
    {
     "output_type": "stream",
     "name": "stdout",
     "text": [
      "Unfreezing layers from 3 to 8\n"
     ]
    },
    {
     "output_type": "display_data",
     "data": {
      "text/plain": [
       "Validation: |          | 0/? [00:00<?, ?it/s]"
      ],
      "application/vnd.jupyter.widget-view+json": {
       "version_major": 2,
       "version_minor": 0,
       "model_id": "2734f6eaa7da4b57ade476586aef1385"
      }
     },
     "metadata": {}
    },
    {
     "output_type": "display_data",
     "data": {
      "text/plain": [
       "Validation: |          | 0/? [00:00<?, ?it/s]"
      ],
      "application/vnd.jupyter.widget-view+json": {
       "version_major": 2,
       "version_minor": 0,
       "model_id": "128658d71e38459ba598715c199990fa"
      }
     },
     "metadata": {}
    },
    {
     "output_type": "display_data",
     "data": {
      "text/plain": [
       "Validation: |          | 0/? [00:00<?, ?it/s]"
      ],
      "application/vnd.jupyter.widget-view+json": {
       "version_major": 2,
       "version_minor": 0,
       "model_id": "32cd85b5843b42f5ab30a899ed3fdfa6"
      }
     },
     "metadata": {}
    },
    {
     "output_type": "stream",
     "name": "stdout",
     "text": [
      "Unfreezing all layers\n"
     ]
    },
    {
     "output_type": "display_data",
     "data": {
      "text/plain": [
       "Validation: |          | 0/? [00:00<?, ?it/s]"
      ],
      "application/vnd.jupyter.widget-view+json": {
       "version_major": 2,
       "version_minor": 0,
       "model_id": "2f50911fd2d9412280135f0e4ce05bce"
      }
     },
     "metadata": {}
    },
    {
     "output_type": "display_data",
     "data": {
      "text/plain": [
       "Validation: |          | 0/? [00:00<?, ?it/s]"
      ],
      "application/vnd.jupyter.widget-view+json": {
       "version_major": 2,
       "version_minor": 0,
       "model_id": "97438b9853e84756a266c75684b8a5fe"
      }
     },
     "metadata": {}
    },
    {
     "output_type": "display_data",
     "data": {
      "text/plain": [
       "Validation: |          | 0/? [00:00<?, ?it/s]"
      ],
      "application/vnd.jupyter.widget-view+json": {
       "version_major": 2,
       "version_minor": 0,
       "model_id": "30ddb7568fb246f49076935bd9123216"
      }
     },
     "metadata": {}
    },
    {
     "output_type": "display_data",
     "data": {
      "text/plain": [
       "Validation: |          | 0/? [00:00<?, ?it/s]"
      ],
      "application/vnd.jupyter.widget-view+json": {
       "version_major": 2,
       "version_minor": 0,
       "model_id": "dc36a0f2be1c4b85abced574c78f4f43"
      }
     },
     "metadata": {}
    },
    {
     "output_type": "display_data",
     "data": {
      "text/plain": [
       "Validation: |          | 0/? [00:00<?, ?it/s]"
      ],
      "application/vnd.jupyter.widget-view+json": {
       "version_major": 2,
       "version_minor": 0,
       "model_id": "0a250b0f4ffc42b89eb4c1634cf773aa"
      }
     },
     "metadata": {}
    },
    {
     "output_type": "display_data",
     "data": {
      "text/plain": [
       "Validation: |          | 0/? [00:00<?, ?it/s]"
      ],
      "application/vnd.jupyter.widget-view+json": {
       "version_major": 2,
       "version_minor": 0,
       "model_id": "7432b855ab1e456f840efa7a98eef2fd"
      }
     },
     "metadata": {}
    },
    {
     "output_type": "display_data",
     "data": {
      "text/plain": [
       "Validation: |          | 0/? [00:00<?, ?it/s]"
      ],
      "application/vnd.jupyter.widget-view+json": {
       "version_major": 2,
       "version_minor": 0,
       "model_id": "f0af127f89f4404596291f45f1b542aa"
      }
     },
     "metadata": {}
    },
    {
     "output_type": "display_data",
     "data": {
      "text/plain": [
       "Validation: |          | 0/? [00:00<?, ?it/s]"
      ],
      "application/vnd.jupyter.widget-view+json": {
       "version_major": 2,
       "version_minor": 0,
       "model_id": "449576fa05314ed59634e17a292912f3"
      }
     },
     "metadata": {}
    },
    {
     "output_type": "display_data",
     "data": {
      "text/plain": [
       "Validation: |          | 0/? [00:00<?, ?it/s]"
      ],
      "application/vnd.jupyter.widget-view+json": {
       "version_major": 2,
       "version_minor": 0,
       "model_id": "f989cd68fe4540868d8fd9eee1779f8a"
      }
     },
     "metadata": {}
    },
    {
     "output_type": "display_data",
     "data": {
      "text/plain": [
       "Validation: |          | 0/? [00:00<?, ?it/s]"
      ],
      "application/vnd.jupyter.widget-view+json": {
       "version_major": 2,
       "version_minor": 0,
       "model_id": "3b40aa9a578b4ce68198f1a03ba2dd82"
      }
     },
     "metadata": {}
    },
    {
     "output_type": "display_data",
     "data": {
      "text/plain": [
       "Validation: |          | 0/? [00:00<?, ?it/s]"
      ],
      "application/vnd.jupyter.widget-view+json": {
       "version_major": 2,
       "version_minor": 0,
       "model_id": "33dafa63f2364879bef1836b73137bfc"
      }
     },
     "metadata": {}
    },
    {
     "output_type": "stream",
     "name": "stderr",
     "text": [
      "INFO:pytorch_lightning.utilities.rank_zero:`Trainer.fit` stopped: `max_epochs=20` reached.\n",
      "INFO: LOCAL_RANK: 0 - CUDA_VISIBLE_DEVICES: [0]\n",
      "INFO:lightning.pytorch.accelerators.cuda:LOCAL_RANK: 0 - CUDA_VISIBLE_DEVICES: [0]\n"
     ]
    },
    {
     "output_type": "stream",
     "name": "stdout",
     "text": [
      "\n",
      "Evaluating EfficientNetV2M_RAdam...\n"
     ]
    },
    {
     "output_type": "display_data",
     "data": {
      "text/plain": [
       "Testing: |          | 0/? [00:00<?, ?it/s]"
      ],
      "application/vnd.jupyter.widget-view+json": {
       "version_major": 2,
       "version_minor": 0,
       "model_id": "2b04ceb1db2f40268aeb4518b6449a10"
      }
     },
     "metadata": {}
    },
    {
     "output_type": "stream",
     "name": "stderr",
     "text": [
      "/usr/local/lib/python3.11/dist-packages/torchmetrics/utilities/prints.py:43: UserWarning: No negative samples in targets, false positive value should be meaningless. Returning zero tensor in false positive score\n",
      "  warnings.warn(*args, **kwargs)\n",
      "/usr/local/lib/python3.11/dist-packages/torchmetrics/utilities/prints.py:43: UserWarning: No positive samples in targets, true positive value should be meaningless. Returning zero tensor in true positive score\n",
      "  warnings.warn(*args, **kwargs)\n"
     ]
    },
    {
     "output_type": "stream",
     "name": "stdout",
     "text": [
      "\n",
      "--- Test Metrics ---\n",
      "Accuracy: 0.8532\n",
      "Precision: 0.8539\n",
      "Recall: 0.8483\n",
      "F1 Score: 0.8502\n",
      "AUROC: 0.9750\n"
     ]
    },
    {
     "output_type": "display_data",
     "data": {
      "text/plain": [
       "\u250f\u2501\u2501\u2501\u2501\u2501\u2501\u2501\u2501\u2501\u2501\u2501\u2501\u2501\u2501\u2501\u2501\u2501\u2501\u2501\u2501\u2501\u2501\u2501\u2501\u2501\u2501\u2501\u2533\u2501\u2501\u2501\u2501\u2501\u2501\u2501\u2501\u2501\u2501\u2501\u2501\u2501\u2501\u2501\u2501\u2501\u2501\u2501\u2501\u2501\u2501\u2501\u2501\u2501\u2501\u2501\u2513\n",
       "\u2503\u001b[1m \u001b[0m\u001b[1m       Test metric       \u001b[0m\u001b[1m \u001b[0m\u2503\u001b[1m \u001b[0m\u001b[1m      DataLoader 0       \u001b[0m\u001b[1m \u001b[0m\u2503\n",
       "\u2521\u2501\u2501\u2501\u2501\u2501\u2501\u2501\u2501\u2501\u2501\u2501\u2501\u2501\u2501\u2501\u2501\u2501\u2501\u2501\u2501\u2501\u2501\u2501\u2501\u2501\u2501\u2501\u2547\u2501\u2501\u2501\u2501\u2501\u2501\u2501\u2501\u2501\u2501\u2501\u2501\u2501\u2501\u2501\u2501\u2501\u2501\u2501\u2501\u2501\u2501\u2501\u2501\u2501\u2501\u2501\u2529\n",
       "\u2502\u001b[36m \u001b[0m\u001b[36m        test_loss        \u001b[0m\u001b[36m \u001b[0m\u2502\u001b[35m \u001b[0m\u001b[35m   0.8285186886787415    \u001b[0m\u001b[35m \u001b[0m\u2502\n",
       "\u2514\u2500\u2500\u2500\u2500\u2500\u2500\u2500\u2500\u2500\u2500\u2500\u2500\u2500\u2500\u2500\u2500\u2500\u2500\u2500\u2500\u2500\u2500\u2500\u2500\u2500\u2500\u2500\u2534\u2500\u2500\u2500\u2500\u2500\u2500\u2500\u2500\u2500\u2500\u2500\u2500\u2500\u2500\u2500\u2500\u2500\u2500\u2500\u2500\u2500\u2500\u2500\u2500\u2500\u2500\u2500\u2518\n"
      ],
      "text/html": [
       "<pre style=\"white-space:pre;overflow-x:auto;line-height:normal;font-family:Menlo,'DejaVu Sans Mono',consolas,'Courier New',monospace\">\u250f\u2501\u2501\u2501\u2501\u2501\u2501\u2501\u2501\u2501\u2501\u2501\u2501\u2501\u2501\u2501\u2501\u2501\u2501\u2501\u2501\u2501\u2501\u2501\u2501\u2501\u2501\u2501\u2533\u2501\u2501\u2501\u2501\u2501\u2501\u2501\u2501\u2501\u2501\u2501\u2501\u2501\u2501\u2501\u2501\u2501\u2501\u2501\u2501\u2501\u2501\u2501\u2501\u2501\u2501\u2501\u2513\n",
       "\u2503<span style=\"font-weight: bold\">        Test metric        </span>\u2503<span style=\"font-weight: bold\">       DataLoader 0        </span>\u2503\n",
       "\u2521\u2501\u2501\u2501\u2501\u2501\u2501\u2501\u2501\u2501\u2501\u2501\u2501\u2501\u2501\u2501\u2501\u2501\u2501\u2501\u2501\u2501\u2501\u2501\u2501\u2501\u2501\u2501\u2547\u2501\u2501\u2501\u2501\u2501\u2501\u2501\u2501\u2501\u2501\u2501\u2501\u2501\u2501\u2501\u2501\u2501\u2501\u2501\u2501\u2501\u2501\u2501\u2501\u2501\u2501\u2501\u2529\n",
       "\u2502<span style=\"color: #008080; text-decoration-color: #008080\">         test_loss         </span>\u2502<span style=\"color: #800080; text-decoration-color: #800080\">    0.8285186886787415     </span>\u2502\n",
       "\u2514\u2500\u2500\u2500\u2500\u2500\u2500\u2500\u2500\u2500\u2500\u2500\u2500\u2500\u2500\u2500\u2500\u2500\u2500\u2500\u2500\u2500\u2500\u2500\u2500\u2500\u2500\u2500\u2534\u2500\u2500\u2500\u2500\u2500\u2500\u2500\u2500\u2500\u2500\u2500\u2500\u2500\u2500\u2500\u2500\u2500\u2500\u2500\u2500\u2500\u2500\u2500\u2500\u2500\u2500\u2500\u2518\n",
       "</pre>\n"
      ]
     },
     "metadata": {}
    },
    {
     "output_type": "stream",
     "name": "stdout",
     "text": [
      "Model saved to EfficientNetV2M_RAdam_20250410_075157_final.pt\n"
     ]
    }
   ]
  },
  {
   "cell_type": "code",
   "source": [
    "torch.save(model7.state_dict(), \"saved_efficientnet/efficientnetv2-method7_weights.pth\")\n",
    "torch.save(model7, \"saved_efficientnet/efficientnetv2-method7.pth\")"
   ],
   "metadata": {
    "id": "8MQRWxztoEmw"
   },
   "execution_count": null,
   "outputs": []
  },
  {
   "cell_type": "markdown",
   "source": [
    "### Method 8 Training"
   ],
   "metadata": {
    "id": "zueGqtwJ1XEC"
   }
  },
  {
   "cell_type": "code",
   "source": [
    "# Model 8\n",
    "print(\"\\n=== Training Model 8: Try DropBlock instead of standard Dropout ===\")\n",
    "model8 = train_and_evaluate_model(\n",
    "  model_name=\"EfficientNetV2M_DropBlock\",\n",
    "  model_class=EfficientNetV2M_DropBlock,\n",
    "  data_module=data_module,\n",
    "  max_epochs=20,\n",
    "  learning_rate=3e-4\n",
    ")"
   ],
   "metadata": {
    "colab": {
     "base_uri": "https://localhost:8080/",
     "height": 1000,
     "referenced_widgets": [
      "2f86715986d649a1ba9fb41f6f116794",
      "d70ec16343084d959e83c8d78fa56d27",
      "836a3001dd60437a8cd9a42a2ed6b3bf",
      "3a25bb09c03f4f0580aae7194b31e1e0",
      "1bd3caf17b014283bb7273ae53e3dcc5",
      "de08a2b91d6042228e73905cbcb05b22",
      "8dcb745c4dd14f87beba6124d0cf297f",
      "e67a56a903554b8eae9865ad7d4c78ff",
      "d692db1409f544029810b7ab0967b47a",
      "722bb143b7ab468fb1ce91118db0f62e",
      "7b60c991900f400b805f40d9c52e40b6",
      "7e73e54d127f4066b42a60df3ab39fca",
      "7f899060b6d344acb5aaf6dfcbdf5806",
      "b4b78aa32a7f4e19b116a0d0d7d8cf2d",
      "f73dd9028daa40249b875506659e10ac",
      "5022eeea6eec433c8478110261018278",
      "1e9bbef9a0f940bd8eaf9f12325556fa",
      "ddf14f312a6a48638412da1ef592e871",
      "2148b29bce774cefa7eb11ed0a1072c6",
      "52b786aafb44406083f4d4b09cb10358",
      "537c3533702b47cda68e648a0c58c156",
      "7cea99d627c4427598c9f0d163cc58d2",
      "ffa947d004e84c5ab45ddf125f79eccb",
      "0bfd2740ff4a4da48933ac8c8249702c",
      "93c83067e96c41ad8823058383be7b84",
      "90ef972cd10b458389da9733dcfc9f92",
      "4f470325a339468fa1dfb58b12440333",
      "316aa88966f840ea8acd3d46e9b9b628",
      "a4c722da949c4041896e7312ead8992b",
      "9c1a7d7ec08745918a0874cdd393b56e",
      "cef9c722378c4a33ac390e5951ad2cf9",
      "5cab45989e6e46dfbe8b0c5436d35993",
      "88e06e88e50c4582aa06765fad435e31",
      "1d3d7a1691ec465fba71087803c30601",
      "03825ec1b91e409a84c3011f0e9c9183",
      "dc70d04291494b5194e5331ed117e8ae",
      "f06fefd73b554f59b34d62b92897cefa",
      "7c481e11beb642f6bab6223eb6f574d9",
      "ccc3294e6169449583c481178aa78b34",
      "86eebef25ba44f1f81ef501e0dc93c2b",
      "be3b2a7b09d0457b8507e61ba6894ac7",
      "2c398a5a26e145318ad02f395a8f2b7b",
      "01a7e9da9108453fb97b51937b8c6095",
      "4bdd2a38b6b240b28825823d468e7eb7",
      "8e60511f1d164c75b71efa05f3da7c60",
      "c9ae2c7dd0c7422f8e57bd2a18413672",
      "3f046672b7104cc3ace702fd5b14a175",
      "5e900c5bab5f4457b60f352ab515aa57",
      "b5253e773aa24569b28538f433a745c4",
      "9fe1034b04854c91a40e0e5d7952fbd9",
      "2dd61701621b45d6a654eb50b3107d1b",
      "c1bff8d9eab24fc9a7922872363e3e4b",
      "f17f08690c0a4860b645730b97839122",
      "efd3735ceb3c41898220d94a9bdaf301",
      "96b64b0f1ce740bdb6891d5e0ba42e26",
      "6a939e6c99d349b6a92311bba3660d12",
      "a600c360ddd54bfd8192bfb60b0590d2",
      "9de63042a30f4d2b8d9edcf9902e2886",
      "9fa9b99ef0fe473d9a350ab9f5ae2230",
      "fde2b22807ac4e5c91911eccf01d1bfb",
      "fcf20409e1744839b2f6c259d14c08f5",
      "80b35d682ded47c0b0e0599c5c101ef1",
      "26b3f385dcb94ffe8f6d96e86b9adb72",
      "bd5cfa6632854ac3a9f8526bfbc8564b",
      "e735732587b94cc396a9c6ba5a3dadfb",
      "7eef56abc03f45df85c8b70eadc361f9",
      "7569b09b64c14af3b499ebc0a2304dfd",
      "b61db57d786a4f838241bdbb2a27e201",
      "3e2f8d031c6d44b8bd9f21393e47e4b1",
      "599f1940935f4eb9998116f22bbb7323",
      "d9ccb867482844aca6849e012e5c6085",
      "e5ea2641ef9d41f7940077404b5f960c",
      "d3c53410db8f4df48731f1b8d481e4b5",
      "aff595ee9bdc4f3587c145535d9b1691",
      "6b5f3f236d6045a7a5b24ae10db43cc0",
      "7d73788ccd3b4281b3299dd272b64109",
      "2263584071b34786b15adc5181c4e669",
      "14ab14b517bd42dc9a015f7c2d4baea0",
      "8a13dec454d34cfc989d34dbeb29c870",
      "9cd4fc47e50d4e0d803a244db489bf1a",
      "a057f81aacd643f980ee752d0751783a",
      "7c83f0b1165044f288dac34487f550a4",
      "e9a576355a8f410b831a899d1925cf7d",
      "83898614fcfb40a48cc3278a5aa86269",
      "c1d4d7430da94885a3c952a1cc92b361",
      "2fa416487bfd41d787d49b1b31ab544d",
      "aab6b7770a884af39f9510dedc3d55ba",
      "435ba68a8a9543139bc80b6b6775f2b7",
      "3ef94f7bc4c14d60ae97ef95f77f4cad",
      "e46597575f1f47ba9de94657a5605ad8",
      "db5d821162fc4d14915cf7c4c629e415",
      "a1e31f75558e4ce2969daa0c111f4101",
      "61e12503df474202b5c6cac7b01fd004",
      "4b4b8dc22ac04d658e8b46eb394cd827",
      "bbb7bfe0017744dbb4da6ece0333c78c",
      "02bbb8afa8e54e7ebc09c510bbd25d4d",
      "4c11961cea544d53affc6ec2f150c96a",
      "7ff62f7cc0f9423ba0d152805766cded",
      "e147077045664a11880e7f1123577faa",
      "b6736bf0554144a1bbd31216968bc2c0",
      "d11415f10e70453baddbb140ab6f6bec",
      "2e279a8b6020436f89364d14f3200dff",
      "b78dc0eb716e4057a1eba765efdf5a57",
      "52062a1afef1454f866d248a759e3d5b",
      "27065e11cd03479494115578f05f9f0a",
      "d34f334accbb4151b3eebf628833ed73",
      "5d264fb8cd884ebb8a5f3d3e6273fcae",
      "2c9978a08d224a62b41d66d7228dc3d5",
      "eed2d9d8e600480fb9bd6c2b5487b636",
      "68ae02e8965f4429bc8d78f9e7691280",
      "591e3b52b3e24a1cbf01aabf4343f272",
      "2226d452e67e4fb7bd309ebabc96184e",
      "b2986e27d1374e67a1d94dc3fdb88b37",
      "7daeb57a909e486dbff8b11cf138b9cf",
      "09aaa154b4a742e59833baa084c6dcd4",
      "486c68d2ada9479eae4da6588294f42b",
      "e2e4dd61e5164c498865ad6aa7f2c08d",
      "624f9592dcd54097911afab5a9dda8a9",
      "5745a4a5352f4ff1a6a078ed0e8bb2ae",
      "6651684c760d4572b49a7d869f67b3d8",
      "574296b69a5d4a59844724d8b993897f",
      "4db14dfcb3c34afcba1911816ae5a6f2",
      "d8490fd4118b474eb9501c0de42270d9",
      "fd85502c29304c828cfd3bfc7919f7ab",
      "6053ea210b15483795923b2dd2ec545c",
      "3889f5c613aa4be5a1121f7df99236cd",
      "340e35fc41ff434e907bcaa37d0c7d2e",
      "ba128768fdac45558bd041c7dc79ef6e",
      "636b3a1d579d4d94a28fee09bccb4cd1",
      "7daf4a29967a44b99fc1b78e78b3f6fd",
      "7449e43a79bb489d9e6e8a2e99f9c8b4",
      "71b88a5f4d3340fb8c22fc2e44d417b7",
      "29795d5dc5e64c20897a5379e22040d5",
      "a46317e0687a44cebce56313d17e5c67",
      "4426e8cf8c41483195ec8a2974383748",
      "72bbfd882f624ac28f4beb664d089d2c",
      "a5e36a772c544e96bab5604b1ac4d07b",
      "7ef98623fb104daa9e30be52bebf3db1",
      "80a4e02adb17419fbfbfcd159c4ed9f2",
      "dd091e4052304a8caf2ea21ad70d0b72",
      "54a316a496d64290957cf53c0cf5c704",
      "549bd2ed096f42f1b45137d5bf4c80c8",
      "1dd3267447af4ef1bd2d9dc089a2bb0c",
      "7c7dc5a1fc0040e4a7ebf5727718ec2e",
      "ac1ce58a2e3041aa95efee8fe0f82f74",
      "8f2b061f313a46d4b66a9b0576850f67",
      "7f7ed6ca3bd14965b4c9bfd0d21232b4",
      "d1c6ad68bba24705befb0e2c11b76e2d",
      "f0ebe46fafec43d1b50248c929097ffc",
      "d7fe898384414e1d9e0ac2209b2907f4",
      "e802a676a1934904a4d453890f556f89",
      "ba712adcc29e442691a76e11a84c7a8d",
      "c739dd73a2a34c28afa8e9d2915fe20a",
      "9f0478b3f7f24287a1f9e16d2062e19d",
      "429d2377d2bc480ba6552a6ef31164e3",
      "42068204214b47c9b8489cdc94bf5db9",
      "76803421194e47999d2e03dcee90549b",
      "0ba36169452b438fb18d5b2d462ae604",
      "12f5362f2440403fa45985de5516d302",
      "f9690877899c4e47b389ae6d97638df2",
      "2e427c8a00d740c8b340ef8ed552dd12",
      "79650261e15e4ca48df566dde245ac27",
      "ab68c70029a64d5fbf044a4ecfb8e958",
      "65bc23b55ef54da2ace54a0d56297ceb",
      "d3bbcaba717049bb80876cc4549c299e",
      "03603fbd2c5f462abb10cb2db54f418e",
      "f1f10bf4c5784bc9aeb92a98e374ad9a",
      "767f31a47e5d44dfa2b5847c47272e2b",
      "54f6bb8336754925b898a2f8d9e80575",
      "8ce433f6b4174845a9fae08f0d4b21bd",
      "05c8403922294008b80b784fe02e0098",
      "ce395f8ab5ed4376b8fd38f03055db86",
      "f413991969ad4b6b88a040433846d6c9",
      "242a9d345c114319a90278a6e806a67b",
      "84bfcd8a65ef4cc7ab48e10dce9ca9f1",
      "07cb958ac72d476f9d34ac2a15b99b05",
      "6054a832cb724386a1220042015f8764",
      "a2be30c8924c407ba42303b207005318",
      "130959ca1bfb43cbb40cf52b0617c4d3",
      "1b1311597e8a4f9cb613dab14e3d7b70",
      "517f73494ef4426680f60f69ff1b69c0",
      "41249bee1c4b4a61a6f1cebde2ef10f5",
      "5fe3552e287c4cf2ad53ebe75ad5e08e",
      "eb92911b17154e67a0540733c15e3a16",
      "55322a3629c94dd59790c47468ae0e6c",
      "d642974ed85b478eaaa084cce87cfdc5",
      "7df6a2c4c97b43e29c8d0ee544a8e845",
      "6bbffe5dcb64443e9b30545679662029",
      "7d64541eb4304b50b9a9d5ba37584794",
      "f1ecdcce45fa4cbba644dd64f30754ca",
      "9a8dc42efd974885864e8947095e51ea",
      "1a03f8ed344c4949b0f6d25bfab312da",
      "afb3360a06bf4044a198747e6bbba095",
      "39ee1186b2b44489bb4e5d46bf840bef",
      "c212b8f4fdb742d7a4be666c2af3bb72",
      "d554809bf35743d49ebee35ecd8b57d5",
      "91dec6f9cb8743acbb2ed8fca9626c7f",
      "3eb230334af343dead484c57d774d087",
      "11a3cd97d93641b3bd960e3e75858d2e",
      "a2e1f1706c7146838dfe67c812841564",
      "81e03f3861a84836a9441982c43c48c6",
      "d537f9f0d98d4d13adcd728c85091141",
      "c3d321df01264574873b2edc50fcf556",
      "1f570d4e05014f9a8d3bb9b9c0acfb86",
      "6be279c4c63d4754a849f6f61fe8d7ec",
      "8f5de5d510874f8297cd4b7c0780c735",
      "b7a664b7989742cd973f973bee90059c",
      "90a2cc6ba024454196628f8f21a45a31",
      "55d5b53721d348c397b43e93b096a8ca",
      "e9ef199c82694f6d978201dedcc6c5e4",
      "f752a04c0eb844c58b2e09ab7bed83d8",
      "8007b49862d7466aaf99b594d699acf0",
      "bedc734449a04089a2c3c04349a88bb8",
      "7c4af3041d4443a7b517da9c95223596",
      "1d52814f775049b28dbfa72cab86eff5",
      "11fc4d68d2804af1988b140064f190fd",
      "3df098b815bc4b48b32e5507d69e8522",
      "b93f32c2f2d643cea8967986a130d85c",
      "ecc66fa69300493cbe4bf6be00e251eb",
      "4d4ff61f321a4cc081ff999d11d92527",
      "d4006d26a2d349648a72f1db8501a1b1",
      "4bb5def7cc9745a4b58efc6369e8208b",
      "2964b26ef1994983b74650988ef85b14",
      "2d722fbc33224871a211d5d5341a62f3",
      "8b6b90432a804e6ebed6317856eca8c5",
      "c37e69c382b848ae86a6a65a744fb753",
      "654945486d0c40138f498c19f4e1425e",
      "f5c510eb85b3482d96741ed8a13d8390",
      "cccaa02d06e64def8c3254be10df7707",
      "ef91d76f51d44ea8866d6ed9c2788eeb",
      "baa044b25c07465fa71ca03b754ce416",
      "f7225eee56bb4333a351d24bb1a00bba",
      "b2c5a094effd45a286ee700a8bdcd7a9",
      "7db5d2992069426196bafb4d5fbad592",
      "d019e23b0e08457c916aee48827cd7b5",
      "aabb99600c324d059cbe15545eb74733",
      "923b1814acbf4eaa93ae00f6b8736127",
      "03315a751ac049878218314a6a40ca22",
      "d9fdc7be322b4151aba1b66a2dec2346",
      "56e87cc27cdf4921a163e1b8b4c46cd7",
      "db1f9c9fd41d43e8947012baf747acb8",
      "03ac9ca105774316ad92d24013ea9071",
      "8e99d23646fb40128297b0a866ce01c4",
      "0045f2d1ebb0461194fba531168e692a",
      "39b23032ee994755bcdb85e85a0dbca4",
      "53d63ac513b94021bf83bcdb6d5f2530",
      "e18cd5eb3c8a4239bf31d55765b3bfc0",
      "08d2a46deb8c46859bcc0068c299fe44",
      "383c3947d645473fb620344c358c5a5f",
      "e54a1170e2d8448f888e2961d936b025",
      "32e8761d8b314e2fa68f8c30a4f980dd",
      "7bc1eda931d44b27b80375cd139e007f",
      "7442c30ac6444abb91f9aec5bf6a873c"
     ]
    },
    "id": "U-op4UJ61hW6",
    "executionInfo": {
     "status": "ok",
     "timestamp": 1744275945198,
     "user_tz": -480,
     "elapsed": 1661647,
     "user": {
      "displayName": "hui yi",
      "userId": "01791520918077108699"
     }
    },
    "outputId": "fddae8dc-40d6-4ff5-c1b6-75ab97239f89"
   },
   "execution_count": null,
   "outputs": [
    {
     "output_type": "stream",
     "name": "stderr",
     "text": [
      "INFO:pytorch_lightning.utilities.rank_zero:Using 16bit Automatic Mixed Precision (AMP)\n",
      "INFO:pytorch_lightning.utilities.rank_zero:GPU available: True (cuda), used: True\n",
      "INFO:pytorch_lightning.utilities.rank_zero:TPU available: False, using: 0 TPU cores\n",
      "INFO:pytorch_lightning.utilities.rank_zero:HPU available: False, using: 0 HPUs\n"
     ]
    },
    {
     "output_type": "stream",
     "name": "stdout",
     "text": [
      "\n",
      "=== Training Model 8: Try DropBlock instead of standard Dropout ===\n"
     ]
    },
    {
     "output_type": "stream",
     "name": "stderr",
     "text": [
      "INFO: LOCAL_RANK: 0 - CUDA_VISIBLE_DEVICES: [0]\n",
      "INFO:lightning.pytorch.accelerators.cuda:LOCAL_RANK: 0 - CUDA_VISIBLE_DEVICES: [0]\n",
      "INFO:pytorch_lightning.utilities.rank_zero:Loading `train_dataloader` to estimate number of stepping batches.\n"
     ]
    },
    {
     "output_type": "stream",
     "name": "stdout",
     "text": [
      "\n",
      "Training EfficientNetV2M_DropBlock...\n"
     ]
    },
    {
     "output_type": "stream",
     "name": "stderr",
     "text": [
      "/usr/local/lib/python3.11/dist-packages/torch/utils/data/dataloader.py:624: UserWarning: This DataLoader will create 4 worker processes in total. Our suggested max number of worker in current system is 2, which is smaller than what this DataLoader is going to create. Please be aware that excessive worker creation might get DataLoader running slow or even freeze, lower the worker number to avoid potential slowness/freeze if necessary.\n",
      "  warnings.warn(\n",
      "INFO: \n",
      "  | Name                  | Type                      | Params | Mode \n",
      "----------------------------------------------------------------------------\n",
      "0 | model                 | EfficientNet              | 54.7 M | train\n",
      "1 | criterion             | CrossEntropyLoss          | 0      | train\n",
      "2 | train_acc             | MulticlassAccuracy        | 0      | train\n",
      "3 | val_acc               | MulticlassAccuracy        | 0      | train\n",
      "4 | test_accuracy         | MulticlassAccuracy        | 0      | train\n",
      "5 | test_precision        | MulticlassPrecision       | 0      | train\n",
      "6 | test_recall           | MulticlassRecall          | 0      | train\n",
      "7 | test_f1               | MulticlassF1Score         | 0      | train\n",
      "8 | test_auroc            | MulticlassAUROC           | 0      | train\n",
      "9 | test_confusion_matrix | MulticlassConfusionMatrix | 0      | train\n",
      "----------------------------------------------------------------------------\n",
      "1.8 M     Trainable params\n",
      "52.9 M    Non-trainable params\n",
      "54.7 M    Total params\n",
      "218.807   Total estimated model params size (MB)\n",
      "1045      Modules in train mode\n",
      "0         Modules in eval mode\n",
      "INFO:lightning.pytorch.callbacks.model_summary:\n",
      "  | Name                  | Type                      | Params | Mode \n",
      "----------------------------------------------------------------------------\n",
      "0 | model                 | EfficientNet              | 54.7 M | train\n",
      "1 | criterion             | CrossEntropyLoss          | 0      | train\n",
      "2 | train_acc             | MulticlassAccuracy        | 0      | train\n",
      "3 | val_acc               | MulticlassAccuracy        | 0      | train\n",
      "4 | test_accuracy         | MulticlassAccuracy        | 0      | train\n",
      "5 | test_precision        | MulticlassPrecision       | 0      | train\n",
      "6 | test_recall           | MulticlassRecall          | 0      | train\n",
      "7 | test_f1               | MulticlassF1Score         | 0      | train\n",
      "8 | test_auroc            | MulticlassAUROC           | 0      | train\n",
      "9 | test_confusion_matrix | MulticlassConfusionMatrix | 0      | train\n",
      "----------------------------------------------------------------------------\n",
      "1.8 M     Trainable params\n",
      "52.9 M    Non-trainable params\n",
      "54.7 M    Total params\n",
      "218.807   Total estimated model params size (MB)\n",
      "1045      Modules in train mode\n",
      "0         Modules in eval mode\n"
     ]
    },
    {
     "output_type": "display_data",
     "data": {
      "text/plain": [
       "Sanity Checking: |          | 0/? [00:00<?, ?it/s]"
      ],
      "application/vnd.jupyter.widget-view+json": {
       "version_major": 2,
       "version_minor": 0,
       "model_id": "2f86715986d649a1ba9fb41f6f116794"
      }
     },
     "metadata": {}
    },
    {
     "output_type": "display_data",
     "data": {
      "text/plain": [
       "Training: |          | 0/? [00:00<?, ?it/s]"
      ],
      "application/vnd.jupyter.widget-view+json": {
       "version_major": 2,
       "version_minor": 0,
       "model_id": "7e73e54d127f4066b42a60df3ab39fca"
      }
     },
     "metadata": {}
    },
    {
     "output_type": "display_data",
     "data": {
      "text/plain": [
       "Validation: |          | 0/? [00:00<?, ?it/s]"
      ],
      "application/vnd.jupyter.widget-view+json": {
       "version_major": 2,
       "version_minor": 0,
       "model_id": "ffa947d004e84c5ab45ddf125f79eccb"
      }
     },
     "metadata": {}
    },
    {
     "output_type": "display_data",
     "data": {
      "text/plain": [
       "Validation: |          | 0/? [00:00<?, ?it/s]"
      ],
      "application/vnd.jupyter.widget-view+json": {
       "version_major": 2,
       "version_minor": 0,
       "model_id": "1d3d7a1691ec465fba71087803c30601"
      }
     },
     "metadata": {}
    },
    {
     "output_type": "display_data",
     "data": {
      "text/plain": [
       "Validation: |          | 0/? [00:00<?, ?it/s]"
      ],
      "application/vnd.jupyter.widget-view+json": {
       "version_major": 2,
       "version_minor": 0,
       "model_id": "8e60511f1d164c75b71efa05f3da7c60"
      }
     },
     "metadata": {}
    },
    {
     "output_type": "stream",
     "name": "stdout",
     "text": [
      "Unfreezing layers from 6 to 8\n"
     ]
    },
    {
     "output_type": "display_data",
     "data": {
      "text/plain": [
       "Validation: |          | 0/? [00:00<?, ?it/s]"
      ],
      "application/vnd.jupyter.widget-view+json": {
       "version_major": 2,
       "version_minor": 0,
       "model_id": "6a939e6c99d349b6a92311bba3660d12"
      }
     },
     "metadata": {}
    },
    {
     "output_type": "display_data",
     "data": {
      "text/plain": [
       "Validation: |          | 0/? [00:00<?, ?it/s]"
      ],
      "application/vnd.jupyter.widget-view+json": {
       "version_major": 2,
       "version_minor": 0,
       "model_id": "7569b09b64c14af3b499ebc0a2304dfd"
      }
     },
     "metadata": {}
    },
    {
     "output_type": "display_data",
     "data": {
      "text/plain": [
       "Validation: |          | 0/? [00:00<?, ?it/s]"
      ],
      "application/vnd.jupyter.widget-view+json": {
       "version_major": 2,
       "version_minor": 0,
       "model_id": "14ab14b517bd42dc9a015f7c2d4baea0"
      }
     },
     "metadata": {}
    },
    {
     "output_type": "stream",
     "name": "stdout",
     "text": [
      "Unfreezing layers from 3 to 8\n"
     ]
    },
    {
     "output_type": "display_data",
     "data": {
      "text/plain": [
       "Validation: |          | 0/? [00:00<?, ?it/s]"
      ],
      "application/vnd.jupyter.widget-view+json": {
       "version_major": 2,
       "version_minor": 0,
       "model_id": "3ef94f7bc4c14d60ae97ef95f77f4cad"
      }
     },
     "metadata": {}
    },
    {
     "output_type": "display_data",
     "data": {
      "text/plain": [
       "Validation: |          | 0/? [00:00<?, ?it/s]"
      ],
      "application/vnd.jupyter.widget-view+json": {
       "version_major": 2,
       "version_minor": 0,
       "model_id": "b6736bf0554144a1bbd31216968bc2c0"
      }
     },
     "metadata": {}
    },
    {
     "output_type": "display_data",
     "data": {
      "text/plain": [
       "Validation: |          | 0/? [00:00<?, ?it/s]"
      ],
      "application/vnd.jupyter.widget-view+json": {
       "version_major": 2,
       "version_minor": 0,
       "model_id": "591e3b52b3e24a1cbf01aabf4343f272"
      }
     },
     "metadata": {}
    },
    {
     "output_type": "stream",
     "name": "stdout",
     "text": [
      "Unfreezing all layers\n"
     ]
    },
    {
     "output_type": "display_data",
     "data": {
      "text/plain": [
       "Validation: |          | 0/? [00:00<?, ?it/s]"
      ],
      "application/vnd.jupyter.widget-view+json": {
       "version_major": 2,
       "version_minor": 0,
       "model_id": "4db14dfcb3c34afcba1911816ae5a6f2"
      }
     },
     "metadata": {}
    },
    {
     "output_type": "display_data",
     "data": {
      "text/plain": [
       "Validation: |          | 0/? [00:00<?, ?it/s]"
      ],
      "application/vnd.jupyter.widget-view+json": {
       "version_major": 2,
       "version_minor": 0,
       "model_id": "29795d5dc5e64c20897a5379e22040d5"
      }
     },
     "metadata": {}
    },
    {
     "output_type": "display_data",
     "data": {
      "text/plain": [
       "Validation: |          | 0/? [00:00<?, ?it/s]"
      ],
      "application/vnd.jupyter.widget-view+json": {
       "version_major": 2,
       "version_minor": 0,
       "model_id": "7c7dc5a1fc0040e4a7ebf5727718ec2e"
      }
     },
     "metadata": {}
    },
    {
     "output_type": "display_data",
     "data": {
      "text/plain": [
       "Validation: |          | 0/? [00:00<?, ?it/s]"
      ],
      "application/vnd.jupyter.widget-view+json": {
       "version_major": 2,
       "version_minor": 0,
       "model_id": "429d2377d2bc480ba6552a6ef31164e3"
      }
     },
     "metadata": {}
    },
    {
     "output_type": "display_data",
     "data": {
      "text/plain": [
       "Validation: |          | 0/? [00:00<?, ?it/s]"
      ],
      "application/vnd.jupyter.widget-view+json": {
       "version_major": 2,
       "version_minor": 0,
       "model_id": "03603fbd2c5f462abb10cb2db54f418e"
      }
     },
     "metadata": {}
    },
    {
     "output_type": "display_data",
     "data": {
      "text/plain": [
       "Validation: |          | 0/? [00:00<?, ?it/s]"
      ],
      "application/vnd.jupyter.widget-view+json": {
       "version_major": 2,
       "version_minor": 0,
       "model_id": "6054a832cb724386a1220042015f8764"
      }
     },
     "metadata": {}
    },
    {
     "output_type": "display_data",
     "data": {
      "text/plain": [
       "Validation: |          | 0/? [00:00<?, ?it/s]"
      ],
      "application/vnd.jupyter.widget-view+json": {
       "version_major": 2,
       "version_minor": 0,
       "model_id": "6bbffe5dcb64443e9b30545679662029"
      }
     },
     "metadata": {}
    },
    {
     "output_type": "display_data",
     "data": {
      "text/plain": [
       "Validation: |          | 0/? [00:00<?, ?it/s]"
      ],
      "application/vnd.jupyter.widget-view+json": {
       "version_major": 2,
       "version_minor": 0,
       "model_id": "11a3cd97d93641b3bd960e3e75858d2e"
      }
     },
     "metadata": {}
    },
    {
     "output_type": "display_data",
     "data": {
      "text/plain": [
       "Validation: |          | 0/? [00:00<?, ?it/s]"
      ],
      "application/vnd.jupyter.widget-view+json": {
       "version_major": 2,
       "version_minor": 0,
       "model_id": "e9ef199c82694f6d978201dedcc6c5e4"
      }
     },
     "metadata": {}
    },
    {
     "output_type": "display_data",
     "data": {
      "text/plain": [
       "Validation: |          | 0/? [00:00<?, ?it/s]"
      ],
      "application/vnd.jupyter.widget-view+json": {
       "version_major": 2,
       "version_minor": 0,
       "model_id": "d4006d26a2d349648a72f1db8501a1b1"
      }
     },
     "metadata": {}
    },
    {
     "output_type": "display_data",
     "data": {
      "text/plain": [
       "Validation: |          | 0/? [00:00<?, ?it/s]"
      ],
      "application/vnd.jupyter.widget-view+json": {
       "version_major": 2,
       "version_minor": 0,
       "model_id": "f7225eee56bb4333a351d24bb1a00bba"
      }
     },
     "metadata": {}
    },
    {
     "output_type": "stream",
     "name": "stderr",
     "text": [
      "INFO:pytorch_lightning.utilities.rank_zero:`Trainer.fit` stopped: `max_epochs=20` reached.\n",
      "INFO: LOCAL_RANK: 0 - CUDA_VISIBLE_DEVICES: [0]\n",
      "INFO:lightning.pytorch.accelerators.cuda:LOCAL_RANK: 0 - CUDA_VISIBLE_DEVICES: [0]\n"
     ]
    },
    {
     "output_type": "stream",
     "name": "stdout",
     "text": [
      "\n",
      "Evaluating EfficientNetV2M_DropBlock...\n"
     ]
    },
    {
     "output_type": "display_data",
     "data": {
      "text/plain": [
       "Testing: |          | 0/? [00:00<?, ?it/s]"
      ],
      "application/vnd.jupyter.widget-view+json": {
       "version_major": 2,
       "version_minor": 0,
       "model_id": "8e99d23646fb40128297b0a866ce01c4"
      }
     },
     "metadata": {}
    },
    {
     "output_type": "stream",
     "name": "stderr",
     "text": [
      "/usr/local/lib/python3.11/dist-packages/torchmetrics/utilities/prints.py:43: UserWarning: No negative samples in targets, false positive value should be meaningless. Returning zero tensor in false positive score\n",
      "  warnings.warn(*args, **kwargs)\n",
      "/usr/local/lib/python3.11/dist-packages/torchmetrics/utilities/prints.py:43: UserWarning: No positive samples in targets, true positive value should be meaningless. Returning zero tensor in true positive score\n",
      "  warnings.warn(*args, **kwargs)\n"
     ]
    },
    {
     "output_type": "stream",
     "name": "stdout",
     "text": [
      "\n",
      "--- Test Metrics ---\n",
      "Accuracy: 0.8422\n",
      "Precision: 0.8447\n",
      "Recall: 0.8384\n",
      "F1 Score: 0.8396\n",
      "AUROC: 0.9744\n"
     ]
    },
    {
     "output_type": "display_data",
     "data": {
      "text/plain": [
       "\u250f\u2501\u2501\u2501\u2501\u2501\u2501\u2501\u2501\u2501\u2501\u2501\u2501\u2501\u2501\u2501\u2501\u2501\u2501\u2501\u2501\u2501\u2501\u2501\u2501\u2501\u2501\u2501\u2533\u2501\u2501\u2501\u2501\u2501\u2501\u2501\u2501\u2501\u2501\u2501\u2501\u2501\u2501\u2501\u2501\u2501\u2501\u2501\u2501\u2501\u2501\u2501\u2501\u2501\u2501\u2501\u2513\n",
       "\u2503\u001b[1m \u001b[0m\u001b[1m       Test metric       \u001b[0m\u001b[1m \u001b[0m\u2503\u001b[1m \u001b[0m\u001b[1m      DataLoader 0       \u001b[0m\u001b[1m \u001b[0m\u2503\n",
       "\u2521\u2501\u2501\u2501\u2501\u2501\u2501\u2501\u2501\u2501\u2501\u2501\u2501\u2501\u2501\u2501\u2501\u2501\u2501\u2501\u2501\u2501\u2501\u2501\u2501\u2501\u2501\u2501\u2547\u2501\u2501\u2501\u2501\u2501\u2501\u2501\u2501\u2501\u2501\u2501\u2501\u2501\u2501\u2501\u2501\u2501\u2501\u2501\u2501\u2501\u2501\u2501\u2501\u2501\u2501\u2501\u2529\n",
       "\u2502\u001b[36m \u001b[0m\u001b[36m        test_loss        \u001b[0m\u001b[36m \u001b[0m\u2502\u001b[35m \u001b[0m\u001b[35m   0.8538373708724976    \u001b[0m\u001b[35m \u001b[0m\u2502\n",
       "\u2514\u2500\u2500\u2500\u2500\u2500\u2500\u2500\u2500\u2500\u2500\u2500\u2500\u2500\u2500\u2500\u2500\u2500\u2500\u2500\u2500\u2500\u2500\u2500\u2500\u2500\u2500\u2500\u2534\u2500\u2500\u2500\u2500\u2500\u2500\u2500\u2500\u2500\u2500\u2500\u2500\u2500\u2500\u2500\u2500\u2500\u2500\u2500\u2500\u2500\u2500\u2500\u2500\u2500\u2500\u2500\u2518\n"
      ],
      "text/html": [
       "<pre style=\"white-space:pre;overflow-x:auto;line-height:normal;font-family:Menlo,'DejaVu Sans Mono',consolas,'Courier New',monospace\">\u250f\u2501\u2501\u2501\u2501\u2501\u2501\u2501\u2501\u2501\u2501\u2501\u2501\u2501\u2501\u2501\u2501\u2501\u2501\u2501\u2501\u2501\u2501\u2501\u2501\u2501\u2501\u2501\u2533\u2501\u2501\u2501\u2501\u2501\u2501\u2501\u2501\u2501\u2501\u2501\u2501\u2501\u2501\u2501\u2501\u2501\u2501\u2501\u2501\u2501\u2501\u2501\u2501\u2501\u2501\u2501\u2513\n",
       "\u2503<span style=\"font-weight: bold\">        Test metric        </span>\u2503<span style=\"font-weight: bold\">       DataLoader 0        </span>\u2503\n",
       "\u2521\u2501\u2501\u2501\u2501\u2501\u2501\u2501\u2501\u2501\u2501\u2501\u2501\u2501\u2501\u2501\u2501\u2501\u2501\u2501\u2501\u2501\u2501\u2501\u2501\u2501\u2501\u2501\u2547\u2501\u2501\u2501\u2501\u2501\u2501\u2501\u2501\u2501\u2501\u2501\u2501\u2501\u2501\u2501\u2501\u2501\u2501\u2501\u2501\u2501\u2501\u2501\u2501\u2501\u2501\u2501\u2529\n",
       "\u2502<span style=\"color: #008080; text-decoration-color: #008080\">         test_loss         </span>\u2502<span style=\"color: #800080; text-decoration-color: #800080\">    0.8538373708724976     </span>\u2502\n",
       "\u2514\u2500\u2500\u2500\u2500\u2500\u2500\u2500\u2500\u2500\u2500\u2500\u2500\u2500\u2500\u2500\u2500\u2500\u2500\u2500\u2500\u2500\u2500\u2500\u2500\u2500\u2500\u2500\u2534\u2500\u2500\u2500\u2500\u2500\u2500\u2500\u2500\u2500\u2500\u2500\u2500\u2500\u2500\u2500\u2500\u2500\u2500\u2500\u2500\u2500\u2500\u2500\u2500\u2500\u2500\u2500\u2518\n",
       "</pre>\n"
      ]
     },
     "metadata": {}
    },
    {
     "output_type": "stream",
     "name": "stdout",
     "text": [
      "Model saved to EfficientNetV2M_DropBlock_20250410_083803_final.pt\n"
     ]
    }
   ]
  },
  {
   "cell_type": "code",
   "source": [
    "torch.save(model8.state_dict(), \"saved_efficientnet/efficientnetv2-method8_weights.pth\")\n",
    "torch.save(model8, \"saved_efficientnet/efficientnetv2-method8.pth\")"
   ],
   "metadata": {
    "id": "7yCpnTAh1dP7"
   },
   "execution_count": null,
   "outputs": []
  },
  {
   "cell_type": "markdown",
   "source": [
    "### Method 9 Training"
   ],
   "metadata": {
    "id": "GpFbxSJ5Ajen"
   }
  },
  {
   "cell_type": "code",
   "source": [
    "# Model 9\n",
    "print(\"\\n=== Training Model 9: Try DropBlock instead of standard Dropout & Optimizer as RAdam ===\")\n",
    "model9 = train_and_evaluate_model(\n",
    "  model_name=\"EfficientNetV2M_DropBlock_RAdam\",\n",
    "  model_class=EfficientNetV2M_DropBlock_RAdam,\n",
    "  data_module=data_module,\n",
    "  max_epochs=20,\n",
    "  learning_rate=3e-4\n",
    ")"
   ],
   "metadata": {
    "colab": {
     "base_uri": "https://localhost:8080/",
     "height": 253
    },
    "id": "AHVzYl54Axae",
    "executionInfo": {
     "status": "error",
     "timestamp": 1744850406384,
     "user_tz": -480,
     "elapsed": 54,
     "user": {
      "displayName": "siri",
      "userId": "13294989799365259198"
     }
    },
    "outputId": "640331d7-beb7-432d-906d-8db40df730dd"
   },
   "execution_count": 7,
   "outputs": [
    {
     "output_type": "stream",
     "name": "stdout",
     "text": [
      "\n",
      "=== Training Model 9: Try DropBlock instead of standard Dropout & Optimizer as RAdam ===\n"
     ]
    },
    {
     "output_type": "error",
     "ename": "NameError",
     "evalue": "name 'EfficientNetV2M_DropBlock_RAdam' is not defined",
     "traceback": [
      "\u001b[0;31m---------------------------------------------------------------------------\u001b[0m",
      "\u001b[0;31mNameError\u001b[0m                                 Traceback (most recent call last)",
      "\u001b[0;32m<ipython-input-7-7a7a04974a8d>\u001b[0m in \u001b[0;36m<cell line: 0>\u001b[0;34m()\u001b[0m\n\u001b[1;32m      3\u001b[0m model9 = train_and_evaluate_model(\n\u001b[1;32m      4\u001b[0m   \u001b[0mmodel_name\u001b[0m\u001b[0;34m=\u001b[0m\u001b[0;34m\"EfficientNetV2M_DropBlock_RAdam\"\u001b[0m\u001b[0;34m,\u001b[0m\u001b[0;34m\u001b[0m\u001b[0;34m\u001b[0m\u001b[0m\n\u001b[0;32m----> 5\u001b[0;31m   \u001b[0mmodel_class\u001b[0m\u001b[0;34m=\u001b[0m\u001b[0mEfficientNetV2M_DropBlock_RAdam\u001b[0m\u001b[0;34m,\u001b[0m\u001b[0;34m\u001b[0m\u001b[0;34m\u001b[0m\u001b[0m\n\u001b[0m\u001b[1;32m      6\u001b[0m   \u001b[0mdata_module\u001b[0m\u001b[0;34m=\u001b[0m\u001b[0mdata_module\u001b[0m\u001b[0;34m,\u001b[0m\u001b[0;34m\u001b[0m\u001b[0;34m\u001b[0m\u001b[0m\n\u001b[1;32m      7\u001b[0m   \u001b[0mmax_epochs\u001b[0m\u001b[0;34m=\u001b[0m\u001b[0;36m20\u001b[0m\u001b[0;34m,\u001b[0m\u001b[0;34m\u001b[0m\u001b[0;34m\u001b[0m\u001b[0m\n",
      "\u001b[0;31mNameError\u001b[0m: name 'EfficientNetV2M_DropBlock_RAdam' is not defined"
     ]
    }
   ]
  },
  {
   "cell_type": "code",
   "source": [
    "torch.save(model9.state_dict(), \"saved_efficientnet/efficientnetv2-method9_weights.pth\")\n",
    "torch.save(model9, \"saved_efficientnet/efficientnetv2-method9.pth\")"
   ],
   "metadata": {
    "id": "xOg5BWIZAmPw",
    "colab": {
     "base_uri": "https://localhost:8080/"
    },
    "executionInfo": {
     "status": "error",
     "timestamp": 1744850493916,
     "user_tz": -480,
     "elapsed": 21,
     "user": {
      "displayName": "siri",
      "userId": "13294989799365259198"
     }
    },
    "outputId": "68d9b6f7-2174-4e30-d620-d87d9b1fb7c2"
   },
   "execution_count": 8,
   "outputs": [
    {
     "output_type": "error",
     "ename": "NameError",
     "evalue": "name 'model9' is not defined",
     "traceback": [
      "\u001b[0;31m---------------------------------------------------------------------------\u001b[0m",
      "\u001b[0;31mNameError\u001b[0m                                 Traceback (most recent call last)",
      "\u001b[0;32m<ipython-input-8-62b8aa94ccae>\u001b[0m in \u001b[0;36m<cell line: 0>\u001b[0;34m()\u001b[0m\n\u001b[0;32m----> 1\u001b[0;31m \u001b[0mtorch\u001b[0m\u001b[0;34m.\u001b[0m\u001b[0msave\u001b[0m\u001b[0;34m(\u001b[0m\u001b[0mmodel9\u001b[0m\u001b[0;34m.\u001b[0m\u001b[0mstate_dict\u001b[0m\u001b[0;34m(\u001b[0m\u001b[0;34m)\u001b[0m\u001b[0;34m,\u001b[0m \u001b[0;34m\"saved_efficientnet/efficientnetv2-method9_weights.pth\"\u001b[0m\u001b[0;34m)\u001b[0m\u001b[0;34m\u001b[0m\u001b[0;34m\u001b[0m\u001b[0m\n\u001b[0m\u001b[1;32m      2\u001b[0m \u001b[0mtorch\u001b[0m\u001b[0;34m.\u001b[0m\u001b[0msave\u001b[0m\u001b[0;34m(\u001b[0m\u001b[0mmodel9\u001b[0m\u001b[0;34m,\u001b[0m \u001b[0;34m\"saved_efficientnet/efficientnetv2-method9.pth\"\u001b[0m\u001b[0;34m)\u001b[0m\u001b[0;34m\u001b[0m\u001b[0;34m\u001b[0m\u001b[0m\n",
      "\u001b[0;31mNameError\u001b[0m: name 'model9' is not defined"
     ]
    }
   ]
  },
  {
   "cell_type": "markdown",
   "source": [
    "### Method 10 Training (Increased epochs to 30)"
   ],
   "metadata": {
    "id": "HBLiKCyFE4Au"
   }
  },
  {
   "cell_type": "code",
   "source": [
    "# Model 10\n",
    "print(\"\\n=== Training Model 10: Increased epochs to 30 ===\")\n",
    "model10 = train_and_evaluate_model(\n",
    "  model_name=\"EfficientNetV2M_DropBlock_RAdam\",\n",
    "  model_class=EfficientNetV2M_DropBlock_RAdam,\n",
    "  data_module=data_module,\n",
    "  max_epochs=30,\n",
    "  learning_rate=3e-4\n",
    ")"
   ],
   "metadata": {
    "colab": {
     "base_uri": "https://localhost:8080/",
     "height": 1000,
     "referenced_widgets": [
      "3867caa3a90a45348d1e1ec7f6ee506d",
      "2e7fee40f9904e209287a4dc9f3b9830",
      "aa61978c90c74c1bb23b1b3ecfd735d4",
      "350b21796b694a34a96b17053cc91f29",
      "41a002fdd766481288cdbc0bc3c55afd",
      "1c3bf7cabd9e4edea9e3e14493d659e3",
      "8b20656a9643411d9442e75d70ecfce1",
      "5762817db1934f5db93299fab60f8b4b",
      "ec0b05244d1140d086f98c0513e13375",
      "97e909533f974158b7e6fd5528519008",
      "4dd1fe95761c4aae8f6a8224eb10137f",
      "abd8dcf02bcc42ee9d7e49fe759adc2b",
      "98ef5152f1b742e484e2a12b8f615617",
      "bc8c3426974440b99b908d4b372b074c",
      "8a08f3aef62d4f89a5fc267bbf02d121",
      "4da216f6d3f94cec800e80466f669112",
      "e523970e198d40a8a190b219fa581d26",
      "59f1f6fc6e034d42accd18179fb76f82",
      "959fca5c38164f02a1a2f6a3585450fe",
      "f3e16116150d4d65a4edbb3634c14279",
      "279ca0b99956488fb7c8e02d3abe10cf",
      "bd50f1f5584b4d5890768f48e68cda72",
      "f22d069acada40878ba676228dc8113a",
      "0023498de1164c1eb38cdcd82a710aa5",
      "29b8f5e14a744e73afd1fc5f52598f83",
      "794de0c339b04c3eacee8164b002020d",
      "c940432f8d0e46cb837c675c2e808078",
      "863b1be227624b419008017ee3a11925",
      "1d3e6b7e612948ef8fa55d3227614805",
      "54a078bf26324007986bda630fd1a3ac",
      "d210897fdabf4e778f177feea7a7d970",
      "4492c000932c4320b78c9006ab8099c6",
      "e4920a4939be43e5a318c4df071dacf7",
      "a672ce561361453eb456316e6e2ceb85",
      "ce4e210d2ecb466ebcdc8b699cc76f75",
      "8a27a278e0aa47d483e02cfcce3a751d",
      "ad71fb7303e141e5abb18a6cd69c9f14",
      "c130a4936b0c4254b424e4fef466b16a",
      "93a92190322e43f8bebe97fb999a3f03",
      "ff8fc31aabf24569b855cbcf6432887f",
      "36e91bfbc931425ab5e7179fa4638649",
      "2c2816a7d16542f2835e147047c8b2e7",
      "f4075d19d01845099021536d61a2a676",
      "3c053ddf35e24892bad1b50a8fce2ad8",
      "be2e8845c3cb4af2804b0c2d112c4512",
      "fe2eac57fd2e43fa9aafdc183a33389e",
      "55101b50e1f740b599e3639eeb68e0a5",
      "af7a7790d2ea4173918ffa8ef719e745",
      "3e1da059e4804b4b8d1b74c5b040d293",
      "4f03797541314c649186c0c955401f1b",
      "01997d71dd2e4922a19d342585bcc917",
      "8bc8d5b502234d1d98e208fc8d9f5ead",
      "eeff82a1a1a8429f83fd68180d3204cf",
      "5f613295834842b29759409d2de0dfba",
      "fa22475bea404bcc989048dac3b641ac",
      "e5e86edb6d5a4c619011b6c0b9bcf3f0",
      "c962a2c2a06e4262be83da63ef735dde",
      "dfee20c4a8634d9ea7ccef15404f3165",
      "ad4088eb21ce4d8f8ad04112d492dd2e",
      "56dbe8f7dcb34f8d9d01efe8e70e176b",
      "ff988412fa234b3a8f2427692a7e0894",
      "326efca6a3fd42e8ac7ccafa0f0059d9",
      "994c19820b624329933db43b363b4e12",
      "2a67595354f54ef5bdc267e7548dadf0",
      "5718de1e1b764a7e8538b0381517efab",
      "6a536793eb5a41a88c614712edc22d1c",
      "95be3b8b14cb441aac9b1c8a669fca58",
      "14ddff39590e4aa29c128afb6ce48aac",
      "7c66e08b604f41448ef746bbdf3bcb78",
      "feb7ee5c9e254b15acbe9b4596a442b8",
      "bd8ba4618d664a48931996a989ec2d80",
      "8207c1b8707f45b8adfeccacdb4b1003",
      "8d4382165c72445b8d027ff61c591d23",
      "be696ee973a34b8aa979b9262fc7f9f4",
      "a928b1b1a2fd44f386548aaf0e98c362",
      "8041a7d7ee9a44248ddb92878399424d",
      "e59e422617ff41bfa3668a6c590fb288",
      "d9550bb1bf9f47a5bfc523ae1f21c8ff",
      "ebd1a01b822b4228ac131aeeb6883fe9",
      "dd9ce63c5d1047e6a33b7bcd6090935b",
      "04d129d8b85d4eea8eec14b8c707956a",
      "3ac37384ae9f402aad4c7c3217051052",
      "b7685f8c14414e52ba1186bd21477310",
      "760a8222c66f455a8430cd761b0469aa",
      "8f44f150c381415da5cfddf1feaa3ab0",
      "216dacadf5a44758a5757a762a67146b",
      "a4fa9dcaa7d249799cd2b4fbd819ab12",
      "1bd883b83ab5440294314f31bf81769f",
      "02e4e88433f3473f9b26b921f9a708e5",
      "7288bce08e694400bbf8cf107cdad1f8",
      "a98c8ead1cda4a429ec7507f90a33f18",
      "9b73677eac8c47e8bff5124d8b53b00c",
      "1c77154a561a4f469dd5be2472f8ee21",
      "2fb1bf78376e4998b27e630d3f25334d",
      "68f3d185b28244d097b5ad5a1bbb918c",
      "f31f6dd800854c96bfa458afa964bc31",
      "5685c6c651544ba48ef4fa5dbfca9c84",
      "e385d6efead844cca4638c4479c335e9",
      "07d8e00cbbde4a5ca4e77f1049bae19e",
      "f03c05ea87f24749a30d53f332e4db9b",
      "9f4101e0820e44889017793fab022dfa",
      "f94a2566c7634dbb9c0ebacb7090f82c",
      "6da18b01bd5a4d3aa899730891b342d1",
      "ac27c21d6fb3401fb8c6102900507cfb",
      "2bb3b3187b764fc8b950f3a629fb8c97",
      "8f90f6eddd544632acc492cdbd7d88eb",
      "238fb5e126d3431c8a5624edf9c280ef",
      "9e7deeab7e28423e9ba8e43b20b2b4c2",
      "82dfb547068e4e13a11f05eb98aa3946",
      "4789458c34d84eceaeb23bf3fe56b014",
      "0469bfa2c553448a8b2ba85e9453192a",
      "9e6748e08efc46eabce8e8cd40d5a5e6",
      "e571a9b4b9584001ae17793d90d5b22d",
      "188328a76af9421eba540d7d6ae9687d",
      "4e11897fcae346e0bcc6b1947c8e29ba",
      "b292899fb63749b984c2a6c59bea48ee",
      "154681949f6e4f2e8d1c146c6eb15bbf",
      "fd17caa050df43519b1552a4f8257512",
      "e5e623197be64f5bbb1df9b53f5cc05e",
      "2adaeef466b84b86a5478d8519007061",
      "a3422c594de84f3a81a69904261b63a1",
      "595065e7d8fb4930a4064641531a88b7",
      "ae1a2cce327749e79a185febb381c99e",
      "07439754304c424288d6924d51329f78",
      "d0c5f56b9fec40aa912755225987f464",
      "d0a0f8c50849415aa42ec44acf4912b3",
      "b0d9d1a526324ddc84a0cb0807dfcf19",
      "c5c68675f6564f029712c57d2d2cf910",
      "291e4ea4caef41b893a54cb00b2048d6",
      "9047887c1e8643608bcaa467ef65b948",
      "b49ea3daeee3430c8af526337ef901d7",
      "e2d62144b81e496ca5e18ae35cde2e17",
      "e83382cbfe014d3f920e11a0bb642715",
      "a1de8407c5984ff09689642f8607eb56",
      "e53a075018704d2abbc478921eae3ad9",
      "7da65a3f97844534b2e7f229abae7f6b",
      "f90d9d63fbe44238a199795ccadc674b",
      "62a32b35765642c386a190bd18b60f3b",
      "acf081b07c8644b7a74926fc749a644d",
      "a4ea4164fa6647138c97f62a1adb1f87",
      "57b85189fe894289915d9a0c27bfcb8d",
      "93e82c5854ac45a287c652e92ce3937b",
      "8614d4ea4f7d4eac92f1f36f9246da75",
      "4fc92e7cb80b44ceae82394d3bbfd3f9",
      "7968458b13844e83864989bc70e03d65",
      "d32308d4accb43b59b11b8d242f84ca0",
      "337549a032ec47eb9ce334fca63e2e60",
      "e85b2ef841914448b2473e8499517509",
      "5b4fde3d60904e53a3dd7b61767aa166",
      "7481354db32e495081d62fa4e8cdc128",
      "c94ebf389a0e40d29ce5f60fae98ddf1",
      "d59603fc97094e14b6d772007b43a3d0",
      "dcc51eae1a3649b58313981e9189f092",
      "739eeb02dafb401ca760f65df0ce14d4",
      "d695d2c6c36043f8aa6418d8aa7b3b68",
      "697654de809242979d7e71544b744b84",
      "a260e233660c4b288471e00513be090b",
      "83881925ef2c4c769ca5f7c6bbb28447",
      "b620475fc0e742b18d1bb31ffad5ee86",
      "a810d1be9f37489fb29325fbda8eee13",
      "a283535f269f4f33995fc1fa3756821d",
      "2c0c8a3bb8b74d20b19319673966361b",
      "b08e574c9a52437a8d0fcffb30831b4c",
      "2f8bb99120d74fc8abb5cbaa1ad1116d",
      "984db375f38e457e9d9881e53fe5c71a",
      "155b3c6cd42848f58ffd6ac27db66a2a",
      "d3855de7dc3246b7a60662eea7032245",
      "4ddca3a7619440b09cf0957017417661",
      "e82a005b8c544c78b56c4b43ca932af4",
      "67cbbfd3ff3e4cc2b5ce973c65211d80",
      "794653b4b31e4415a600712d67c07913",
      "51ec299f7e644dd0bd1780da78ca8b97",
      "577773cce8af44b6b9d34fe27f98ed14",
      "56efd239f3cd437199e8b8fff0c03354",
      "566e6de207bd4547aeb153218f748d44",
      "95e24fa77d7145229973a09c3e335fbd",
      "5fb733f3810a45fabcf2a300f9147096",
      "a3da63a25e8042c7a381479a8eb37d7f",
      "f0836c518bbe434d97d71e839b596145",
      "ebb760767fce43b7ae18a0ce9ff38f89",
      "e8b8e8c938014bb1afc6792782bc3f93",
      "05292bf8bc6a4bd6a23005aaf74a3064",
      "25869ccfe19a4eb483ca341ba66440a5",
      "2fd5e1e2d52b457da229bb5b23ebd6c4",
      "4d388df9d4c0463f904e023935080378",
      "800886c26d094b79aaa0a40c5e5459a4",
      "72d7b59f18584b7888506964061a96ef",
      "7f331cd17cd54f7c956b0f1f3794decb",
      "45876f6db56542158398d0fdb853eb9d",
      "3be5563f710d44c7a717081d320ad38e",
      "1a1536997e1a4be2b0005f87a33a5df2",
      "4cfdb2576c42495498ede04da9ff48b2",
      "5c154c7a6bd34ad7ac8420c88ba40121",
      "9a8b66a628594f84a89305488f13d66f",
      "4edc79e401624e3da80d54f2dde0031e",
      "36d05e5f7651410eb7969a66327d4140",
      "bc6c3ce1528245fb8b87c220269a470c",
      "fcf4e3d76b6445f6a053b8f76353e97f",
      "db52330297aa46be9f3978eaf8ed4fe3",
      "3ddf41d587514b65bbbcf2328df1cdcc",
      "bf66b001929141999cea6ebbc1ab0e8c",
      "d045d792d61445be822b9fd6cacc3193",
      "599f3fefa8c74763b5522b12aa24f181",
      "663488e32ace45cc8dbb1eb6cae13498",
      "8a14091c670b42cc8ea352c7363ed79b",
      "a226f5b52b5e4db684c9d132fbeeec7c",
      "96ba95c919004a4d82095da32952309a",
      "95948f6d447d4f7893b10d9992fc7d51",
      "6e45e4fb308d4f0b978a52e760512cc7",
      "10b2b9bb56e848db869a51456d3aa291",
      "7ef446b8157849ea98339abd60fe8e48",
      "258ff7fe06564029930a0942aed4eb3c",
      "f30b695230fc4efeab5e40d2e4995bff",
      "38c9924ab19d4758b22e70d30aade8b5",
      "9397bf2efcbf4b65839ed1410601da96",
      "6eff596116e5497c93f7464a1c43440f",
      "ac93485279974302889320c8530b8e8d",
      "6fc0b550707d494999a8ab5c2a738f22",
      "19c4beb6157c477592b2184c0c015778",
      "2c3c09946e8840938c809b06c935a112",
      "3ac0ef69dd654a9489cf49ac9a85afb5",
      "b6800635dc66499b81d2231ab7ac13c6",
      "7322aefe17dc44fab487fdc631ad3f33",
      "17e042d76df84615a9f493ee141e7cf6",
      "ad0aec8570a44fd6babc1adaa8340a9b",
      "04482d6f26a84a15a75d1425077e8220",
      "b675a62d4e4542f78bf9043c6a0daaec",
      "6e8e925750e14f66a85247f6763edfde",
      "9e1ab2ea056f47cbaf3113e6943a7a27",
      "9f4a8f662482416fae6b15bae71baae1",
      "bc634a4c974e48ca95565854cb93687d",
      "c30e6e3da5e94457a46e0c9a7d0dd55d",
      "a80c39d45f8148f78bd352b907a0341e",
      "e34c2bf5994846f08bc8b395a7406b9d",
      "a5f6b1ae2ce0405c9ce9dd07f3737583",
      "7b53c8d0ff424e4881ed334bfb82b885",
      "b6416f92fa7f487f84b76ebf6c18fa14",
      "ff8c8cd728414b6d9547bafdbd9e4797",
      "581cd52cad7846c69ba048276aa30b47",
      "2f78b0029a4c4210b2bade5d3650fbea",
      "b3d1ad166f7e41bbb0e31b693f5c9050",
      "c003774a5f944f47ba29049c5f472006",
      "fab86b44b1204c58acfff6d1161a2da1",
      "4e446fe4decd4904971aea1c0428df77",
      "e0b8e6157206435e917fe9399df7c56f",
      "ec907dca42694bdfb0e678426236b785",
      "17dd612328db4c0e85f4db4520e2f5fe",
      "d3f4a1e1cac544c2a2c076a07f94eb46",
      "96e6133678354086ac06baf83d97051d",
      "3d4db5d2064f4d37b427876dc246f27d",
      "70caaaa4f7e849ebb41346de4962f803",
      "e34f7597c2c5467b90af2dfb69e9da44",
      "7a3a33341dd84c7d920a6709660d8b85",
      "16dda2480cf64cfa8d091de833b615f7",
      "5881fa52b65a4847ad21c3324c2f34a9",
      "82c8ec8d9f014090b4041787d168291d",
      "bc934f9ef4044055a131f9888e1457c2",
      "baad2cab43234921b501fb1073a0bdb7",
      "07f919d83ad9408a93a151877d5cf9d5",
      "b987019fb79a46fd9c2f8f6377f59939",
      "d707317fec174228b505393a95c6a0f3",
      "1fe16e6194e24bb78630d3defa859df6",
      "f80b191741e04e5da6e2d89504ff512e",
      "c624a7c1f9814bcdacf35469700c1ee9",
      "a5d7f291ae1045f78dd01353ade3a76f",
      "deac22d92ffb4677b2d16d973c12c4ce",
      "1f41a47cc9b64973b76eb39ea49e267c",
      "1ce039381ada4b628a627d08a916955e",
      "a691889a18d44aacb0f0abcef2a2593c",
      "2ea6b615a8c14546993afa05a87c7f5d",
      "80195c51013c4c91ac92dfea1964309b",
      "6c0a037dc2e74a81b1acb799a9fc6992",
      "d4d22de648fc40e0bd1c7e3d5d394b70",
      "118bb7b983484e59b03292020c3a6b55",
      "396b9128b1024a7d8b2a6ff8b3469b70",
      "3d2cf72a31764e99aabac3420a967ae2",
      "673df5448d92408b985593f5a43d855c",
      "fe6d20098430415bbdd40d3fabee9b00",
      "7ea2693c1882435787b4c334459b290e",
      "6a6dcfc1ef80406db8cac58c94efea26",
      "9da703add0b048509203da2a0d0f9754",
      "9b5ea1e193ec488490e72138a5b566b2",
      "c6e716380d6c44c6937dbd34ea3dcb77",
      "b2154eefadcd4377a0f61bccb708c41a",
      "34aaf22bafe643d39f70ed482c113f6a",
      "5d030c092fd3407db6bf20a20b524c37",
      "63603ba5019b4b4db0094de84332479b",
      "0835209d805c4f5997d7a08cfd864af7",
      "b13f7a5a2ff44468903beb0149ed830d",
      "0ad3b76931c74a119269de8ea7197c59",
      "4f8325e7207f4289b1ab4f89163fd82e",
      "a311d7f7788b4764bf82c692d5bba5ce",
      "3793ecce3e6347dabc7dcd70563938bc",
      "29034e32d18e4a40a662f0e6f466c3d5",
      "52f7a5446bc5468daef877b4bda3eabe",
      "65fdbb897375491d9d9972a360a4cde1",
      "6f849904a384457e9635c77367d4921a",
      "92c91ff971cb405b9df976688b8d2853",
      "a7a24fee9da84e81a328c5a665d382bc",
      "e66d88b4caef48ada45a67fbf51ced55",
      "cc5c224e531b4161a036524de925c447",
      "0cb0797819a842b0ade788043e7a6c75",
      "9beb5fbb1d584d8797a37bad99daccda",
      "d5d450d86c9e4fd9a78eb67e693c7e97",
      "21672139e4364c4c974490c0844ac746",
      "f2ab068a95ec434794bae008f655db9b",
      "d1d2afdaae1a44c689213cb964e3b48d",
      "8d258389f3af4533b9a8e2382958bf6b",
      "8f164ba675364f31a9969b0d0f818feb",
      "3a5eb4beda5a438d95042ca682f4adea",
      "feecb911d2b34d0d95361236d13d405e",
      "b3ac6179e2c446c4bcb7c586f785372b",
      "8c2efe44fa534fe6a3ebded364491636",
      "5bd002f74b0a431fa4a3969bdd4f5af1",
      "6f18f26f9ca7451ea3ca6f833cea5f9e",
      "bf566dbb18d041c6902c8c75ccc8a259",
      "ae32679f5f0b4e2b9a3f60bf40d7430e",
      "fb59e7c9b85047dd9daaf6617a02b8bb",
      "0f0ce54d1bb8415ebe2e030c8caaf403",
      "4bed175da83b4c31933fecfecd0b1d81",
      "dff7e8e6aa7f42ecbc36e2293ac08518",
      "a2266f9a95564cd0b46cfaea0972cacb",
      "0851ecb60c784efba26eaa7fde053782"
     ]
    },
    "id": "FIx5BfGBFLCD",
    "outputId": "74ab10dc-0ee2-41c9-d125-0eaa59e6bb74",
    "executionInfo": {
     "status": "ok",
     "timestamp": 1744549867073,
     "user_tz": -480,
     "elapsed": 894527,
     "user": {
      "displayName": "hui yi",
      "userId": "01791520918077108699"
     }
    }
   },
   "execution_count": null,
   "outputs": [
    {
     "metadata": {
      "tags": null
     },
     "name": "stderr",
     "output_type": "stream",
     "text": [
      "INFO:pytorch_lightning.utilities.rank_zero:Using 16bit Automatic Mixed Precision (AMP)\n",
      "INFO:pytorch_lightning.utilities.rank_zero:GPU available: True (cuda), used: True\n",
      "INFO:pytorch_lightning.utilities.rank_zero:TPU available: False, using: 0 TPU cores\n",
      "INFO:pytorch_lightning.utilities.rank_zero:HPU available: False, using: 0 HPUs\n"
     ]
    },
    {
     "metadata": {
      "tags": null
     },
     "name": "stdout",
     "output_type": "stream",
     "text": [
      "\n",
      "=== Training Model 10: Increased epochs to 30 ===\n"
     ]
    },
    {
     "metadata": {
      "tags": null
     },
     "name": "stderr",
     "output_type": "stream",
     "text": [
      "Downloading: \"https://download.pytorch.org/models/efficientnet_v2_m-dc08266a.pth\" to /root/.cache/torch/hub/checkpoints/efficientnet_v2_m-dc08266a.pth\n",
      "100%|\u2588\u2588\u2588\u2588\u2588\u2588\u2588\u2588\u2588\u2588| 208M/208M [00:01<00:00, 129MB/s]\n"
     ]
    },
    {
     "metadata": {
      "tags": null
     },
     "name": "stdout",
     "output_type": "stream",
     "text": [
      "\n",
      "Training EfficientNetV2M_DropBlock_RAdam...\n"
     ]
    },
    {
     "metadata": {
      "tags": null
     },
     "name": "stderr",
     "output_type": "stream",
     "text": [
      "INFO: LOCAL_RANK: 0 - CUDA_VISIBLE_DEVICES: [0]\n",
      "INFO:lightning.pytorch.accelerators.cuda:LOCAL_RANK: 0 - CUDA_VISIBLE_DEVICES: [0]\n",
      "INFO:pytorch_lightning.utilities.rank_zero:Loading `train_dataloader` to estimate number of stepping batches.\n",
      "/usr/local/lib/python3.11/dist-packages/torch/utils/data/dataloader.py:624: UserWarning: This DataLoader will create 4 worker processes in total. Our suggested max number of worker in current system is 2, which is smaller than what this DataLoader is going to create. Please be aware that excessive worker creation might get DataLoader running slow or even freeze, lower the worker number to avoid potential slowness/freeze if necessary.\n",
      "  warnings.warn(\n",
      "INFO: \n",
      "  | Name                  | Type                      | Params | Mode \n",
      "----------------------------------------------------------------------------\n",
      "0 | model                 | EfficientNet              | 54.7 M | train\n",
      "1 | criterion             | CrossEntropyLoss          | 0      | train\n",
      "2 | train_acc             | MulticlassAccuracy        | 0      | train\n",
      "3 | val_acc               | MulticlassAccuracy        | 0      | train\n",
      "4 | test_accuracy         | MulticlassAccuracy        | 0      | train\n",
      "5 | test_precision        | MulticlassPrecision       | 0      | train\n",
      "6 | test_recall           | MulticlassRecall          | 0      | train\n",
      "7 | test_f1               | MulticlassF1Score         | 0      | train\n",
      "8 | test_auroc            | MulticlassAUROC           | 0      | train\n",
      "9 | test_confusion_matrix | MulticlassConfusionMatrix | 0      | train\n",
      "----------------------------------------------------------------------------\n",
      "1.8 M     Trainable params\n",
      "52.9 M    Non-trainable params\n",
      "54.7 M    Total params\n",
      "218.807   Total estimated model params size (MB)\n",
      "1045      Modules in train mode\n",
      "0         Modules in eval mode\n",
      "INFO:lightning.pytorch.callbacks.model_summary:\n",
      "  | Name                  | Type                      | Params | Mode \n",
      "----------------------------------------------------------------------------\n",
      "0 | model                 | EfficientNet              | 54.7 M | train\n",
      "1 | criterion             | CrossEntropyLoss          | 0      | train\n",
      "2 | train_acc             | MulticlassAccuracy        | 0      | train\n",
      "3 | val_acc               | MulticlassAccuracy        | 0      | train\n",
      "4 | test_accuracy         | MulticlassAccuracy        | 0      | train\n",
      "5 | test_precision        | MulticlassPrecision       | 0      | train\n",
      "6 | test_recall           | MulticlassRecall          | 0      | train\n",
      "7 | test_f1               | MulticlassF1Score         | 0      | train\n",
      "8 | test_auroc            | MulticlassAUROC           | 0      | train\n",
      "9 | test_confusion_matrix | MulticlassConfusionMatrix | 0      | train\n",
      "----------------------------------------------------------------------------\n",
      "1.8 M     Trainable params\n",
      "52.9 M    Non-trainable params\n",
      "54.7 M    Total params\n",
      "218.807   Total estimated model params size (MB)\n",
      "1045      Modules in train mode\n",
      "0         Modules in eval mode\n"
     ]
    },
    {
     "data": {
      "application/vnd.jupyter.widget-view+json": {
       "model_id": "3867caa3a90a45348d1e1ec7f6ee506d",
       "version_major": 2,
       "version_minor": 0
      },
      "text/plain": [
       "Sanity Checking: |          | 0/? [00:00<?, ?it/s]"
      ]
     },
     "metadata": {},
     "output_type": "display_data"
    },
    {
     "data": {
      "application/vnd.jupyter.widget-view+json": {
       "model_id": "abd8dcf02bcc42ee9d7e49fe759adc2b",
       "version_major": 2,
       "version_minor": 0
      },
      "text/plain": [
       "Training: |          | 0/? [00:00<?, ?it/s]"
      ]
     },
     "metadata": {},
     "output_type": "display_data"
    },
    {
     "data": {
      "application/vnd.jupyter.widget-view+json": {
       "model_id": "f22d069acada40878ba676228dc8113a",
       "version_major": 2,
       "version_minor": 0
      },
      "text/plain": [
       "Validation: |          | 0/? [00:00<?, ?it/s]"
      ]
     },
     "metadata": {},
     "output_type": "display_data"
    },
    {
     "data": {
      "application/vnd.jupyter.widget-view+json": {
       "model_id": "a672ce561361453eb456316e6e2ceb85",
       "version_major": 2,
       "version_minor": 0
      },
      "text/plain": [
       "Validation: |          | 0/? [00:00<?, ?it/s]"
      ]
     },
     "metadata": {},
     "output_type": "display_data"
    },
    {
     "data": {
      "application/vnd.jupyter.widget-view+json": {
       "model_id": "be2e8845c3cb4af2804b0c2d112c4512",
       "version_major": 2,
       "version_minor": 0
      },
      "text/plain": [
       "Validation: |          | 0/? [00:00<?, ?it/s]"
      ]
     },
     "metadata": {},
     "output_type": "display_data"
    },
    {
     "metadata": {
      "tags": null
     },
     "name": "stdout",
     "output_type": "stream",
     "text": [
      "Unfreezing layers from 6 to 8\n"
     ]
    },
    {
     "data": {
      "application/vnd.jupyter.widget-view+json": {
       "model_id": "e5e86edb6d5a4c619011b6c0b9bcf3f0",
       "version_major": 2,
       "version_minor": 0
      },
      "text/plain": [
       "Validation: |          | 0/? [00:00<?, ?it/s]"
      ]
     },
     "metadata": {},
     "output_type": "display_data"
    },
    {
     "data": {
      "application/vnd.jupyter.widget-view+json": {
       "model_id": "95be3b8b14cb441aac9b1c8a669fca58",
       "version_major": 2,
       "version_minor": 0
      },
      "text/plain": [
       "Validation: |          | 0/? [00:00<?, ?it/s]"
      ]
     },
     "metadata": {},
     "output_type": "display_data"
    },
    {
     "data": {
      "application/vnd.jupyter.widget-view+json": {
       "model_id": "d9550bb1bf9f47a5bfc523ae1f21c8ff",
       "version_major": 2,
       "version_minor": 0
      },
      "text/plain": [
       "Validation: |          | 0/? [00:00<?, ?it/s]"
      ]
     },
     "metadata": {},
     "output_type": "display_data"
    },
    {
     "metadata": {
      "tags": null
     },
     "name": "stdout",
     "output_type": "stream",
     "text": [
      "Unfreezing layers from 3 to 8\n"
     ]
    },
    {
     "data": {
      "application/vnd.jupyter.widget-view+json": {
       "model_id": "02e4e88433f3473f9b26b921f9a708e5",
       "version_major": 2,
       "version_minor": 0
      },
      "text/plain": [
       "Validation: |          | 0/? [00:00<?, ?it/s]"
      ]
     },
     "metadata": {},
     "output_type": "display_data"
    },
    {
     "data": {
      "application/vnd.jupyter.widget-view+json": {
       "model_id": "f03c05ea87f24749a30d53f332e4db9b",
       "version_major": 2,
       "version_minor": 0
      },
      "text/plain": [
       "Validation: |          | 0/? [00:00<?, ?it/s]"
      ]
     },
     "metadata": {},
     "output_type": "display_data"
    },
    {
     "data": {
      "application/vnd.jupyter.widget-view+json": {
       "model_id": "0469bfa2c553448a8b2ba85e9453192a",
       "version_major": 2,
       "version_minor": 0
      },
      "text/plain": [
       "Validation: |          | 0/? [00:00<?, ?it/s]"
      ]
     },
     "metadata": {},
     "output_type": "display_data"
    },
    {
     "metadata": {
      "tags": null
     },
     "name": "stdout",
     "output_type": "stream",
     "text": [
      "Unfreezing all layers\n"
     ]
    },
    {
     "data": {
      "application/vnd.jupyter.widget-view+json": {
       "model_id": "595065e7d8fb4930a4064641531a88b7",
       "version_major": 2,
       "version_minor": 0
      },
      "text/plain": [
       "Validation: |          | 0/? [00:00<?, ?it/s]"
      ]
     },
     "metadata": {},
     "output_type": "display_data"
    },
    {
     "data": {
      "application/vnd.jupyter.widget-view+json": {
       "model_id": "e83382cbfe014d3f920e11a0bb642715",
       "version_major": 2,
       "version_minor": 0
      },
      "text/plain": [
       "Validation: |          | 0/? [00:00<?, ?it/s]"
      ]
     },
     "metadata": {},
     "output_type": "display_data"
    },
    {
     "data": {
      "application/vnd.jupyter.widget-view+json": {
       "model_id": "4fc92e7cb80b44ceae82394d3bbfd3f9",
       "version_major": 2,
       "version_minor": 0
      },
      "text/plain": [
       "Validation: |          | 0/? [00:00<?, ?it/s]"
      ]
     },
     "metadata": {},
     "output_type": "display_data"
    },
    {
     "data": {
      "application/vnd.jupyter.widget-view+json": {
       "model_id": "d695d2c6c36043f8aa6418d8aa7b3b68",
       "version_major": 2,
       "version_minor": 0
      },
      "text/plain": [
       "Validation: |          | 0/? [00:00<?, ?it/s]"
      ]
     },
     "metadata": {},
     "output_type": "display_data"
    },
    {
     "data": {
      "application/vnd.jupyter.widget-view+json": {
       "model_id": "155b3c6cd42848f58ffd6ac27db66a2a",
       "version_major": 2,
       "version_minor": 0
      },
      "text/plain": [
       "Validation: |          | 0/? [00:00<?, ?it/s]"
      ]
     },
     "metadata": {},
     "output_type": "display_data"
    },
    {
     "data": {
      "application/vnd.jupyter.widget-view+json": {
       "model_id": "5fb733f3810a45fabcf2a300f9147096",
       "version_major": 2,
       "version_minor": 0
      },
      "text/plain": [
       "Validation: |          | 0/? [00:00<?, ?it/s]"
      ]
     },
     "metadata": {},
     "output_type": "display_data"
    },
    {
     "data": {
      "application/vnd.jupyter.widget-view+json": {
       "model_id": "a3da63a25e8042c7a381479a8eb37d7f",
       "version_major": 2,
       "version_minor": 0
      },
      "text/plain": [
       "Validation: |          | 0/? [00:00<?, ?it/s]"
      ]
     },
     "metadata": {},
     "output_type": "display_data"
    },
    {
     "data": {
      "application/vnd.jupyter.widget-view+json": {
       "model_id": "f0836c518bbe434d97d71e839b596145",
       "version_major": 2,
       "version_minor": 0
      },
      "text/plain": [
       "Validation: |          | 0/? [00:00<?, ?it/s]"
      ]
     },
     "metadata": {},
     "output_type": "display_data"
    },
    {
     "data": {
      "application/vnd.jupyter.widget-view+json": {
       "model_id": "ebb760767fce43b7ae18a0ce9ff38f89",
       "version_major": 2,
       "version_minor": 0
      },
      "text/plain": [
       "Validation: |          | 0/? [00:00<?, ?it/s]"
      ]
     },
     "metadata": {},
     "output_type": "display_data"
    },
    {
     "data": {
      "application/vnd.jupyter.widget-view+json": {
       "model_id": "e8b8e8c938014bb1afc6792782bc3f93",
       "version_major": 2,
       "version_minor": 0
      },
      "text/plain": [
       "Validation: |          | 0/? [00:00<?, ?it/s]"
      ]
     },
     "metadata": {},
     "output_type": "display_data"
    },
    {
     "data": {
      "application/vnd.jupyter.widget-view+json": {
       "model_id": "4cfdb2576c42495498ede04da9ff48b2",
       "version_major": 2,
       "version_minor": 0
      },
      "text/plain": [
       "Validation: |          | 0/? [00:00<?, ?it/s]"
      ]
     },
     "metadata": {},
     "output_type": "display_data"
    },
    {
     "data": {
      "application/vnd.jupyter.widget-view+json": {
       "model_id": "599f3fefa8c74763b5522b12aa24f181",
       "version_major": 2,
       "version_minor": 0
      },
      "text/plain": [
       "Validation: |          | 0/? [00:00<?, ?it/s]"
      ]
     },
     "metadata": {},
     "output_type": "display_data"
    },
    {
     "output_type": "display_data",
     "data": {
      "text/plain": [
       "Validation: |          | 0/? [00:00<?, ?it/s]"
      ],
      "application/vnd.jupyter.widget-view+json": {
       "version_major": 2,
       "version_minor": 0,
       "model_id": "38c9924ab19d4758b22e70d30aade8b5"
      }
     },
     "metadata": {}
    },
    {
     "output_type": "display_data",
     "data": {
      "text/plain": [
       "Validation: |          | 0/? [00:00<?, ?it/s]"
      ],
      "application/vnd.jupyter.widget-view+json": {
       "version_major": 2,
       "version_minor": 0,
       "model_id": "ad0aec8570a44fd6babc1adaa8340a9b"
      }
     },
     "metadata": {}
    },
    {
     "output_type": "display_data",
     "data": {
      "text/plain": [
       "Validation: |          | 0/? [00:00<?, ?it/s]"
      ],
      "application/vnd.jupyter.widget-view+json": {
       "version_major": 2,
       "version_minor": 0,
       "model_id": "7b53c8d0ff424e4881ed334bfb82b885"
      }
     },
     "metadata": {}
    },
    {
     "output_type": "display_data",
     "data": {
      "text/plain": [
       "Validation: |          | 0/? [00:00<?, ?it/s]"
      ],
      "application/vnd.jupyter.widget-view+json": {
       "version_major": 2,
       "version_minor": 0,
       "model_id": "17dd612328db4c0e85f4db4520e2f5fe"
      }
     },
     "metadata": {}
    },
    {
     "output_type": "display_data",
     "data": {
      "text/plain": [
       "Validation: |          | 0/? [00:00<?, ?it/s]"
      ],
      "application/vnd.jupyter.widget-view+json": {
       "version_major": 2,
       "version_minor": 0,
       "model_id": "baad2cab43234921b501fb1073a0bdb7"
      }
     },
     "metadata": {}
    },
    {
     "output_type": "display_data",
     "data": {
      "text/plain": [
       "Validation: |          | 0/? [00:00<?, ?it/s]"
      ],
      "application/vnd.jupyter.widget-view+json": {
       "version_major": 2,
       "version_minor": 0,
       "model_id": "a691889a18d44aacb0f0abcef2a2593c"
      }
     },
     "metadata": {}
    },
    {
     "output_type": "display_data",
     "data": {
      "text/plain": [
       "Validation: |          | 0/? [00:00<?, ?it/s]"
      ],
      "application/vnd.jupyter.widget-view+json": {
       "version_major": 2,
       "version_minor": 0,
       "model_id": "6a6dcfc1ef80406db8cac58c94efea26"
      }
     },
     "metadata": {}
    },
    {
     "output_type": "display_data",
     "data": {
      "text/plain": [
       "Validation: |          | 0/? [00:00<?, ?it/s]"
      ],
      "application/vnd.jupyter.widget-view+json": {
       "version_major": 2,
       "version_minor": 0,
       "model_id": "4f8325e7207f4289b1ab4f89163fd82e"
      }
     },
     "metadata": {}
    },
    {
     "output_type": "display_data",
     "data": {
      "text/plain": [
       "Validation: |          | 0/? [00:00<?, ?it/s]"
      ],
      "application/vnd.jupyter.widget-view+json": {
       "version_major": 2,
       "version_minor": 0,
       "model_id": "0cb0797819a842b0ade788043e7a6c75"
      }
     },
     "metadata": {}
    },
    {
     "output_type": "stream",
     "name": "stderr",
     "text": [
      "INFO:pytorch_lightning.utilities.rank_zero:`Trainer.fit` stopped: `max_epochs=30` reached.\n",
      "INFO: LOCAL_RANK: 0 - CUDA_VISIBLE_DEVICES: [0]\n",
      "INFO:lightning.pytorch.accelerators.cuda:LOCAL_RANK: 0 - CUDA_VISIBLE_DEVICES: [0]\n"
     ]
    },
    {
     "output_type": "stream",
     "name": "stdout",
     "text": [
      "\n",
      "Evaluating EfficientNetV2M_DropBlock_RAdam...\n"
     ]
    },
    {
     "output_type": "display_data",
     "data": {
      "text/plain": [
       "Testing: |          | 0/? [00:00<?, ?it/s]"
      ],
      "application/vnd.jupyter.widget-view+json": {
       "version_major": 2,
       "version_minor": 0,
       "model_id": "8c2efe44fa534fe6a3ebded364491636"
      }
     },
     "metadata": {}
    },
    {
     "output_type": "stream",
     "name": "stderr",
     "text": [
      "/usr/local/lib/python3.11/dist-packages/torchmetrics/utilities/prints.py:43: UserWarning: No negative samples in targets, false positive value should be meaningless. Returning zero tensor in false positive score\n",
      "  warnings.warn(*args, **kwargs)\n",
      "/usr/local/lib/python3.11/dist-packages/torchmetrics/utilities/prints.py:43: UserWarning: No positive samples in targets, true positive value should be meaningless. Returning zero tensor in true positive score\n",
      "  warnings.warn(*args, **kwargs)\n"
     ]
    },
    {
     "output_type": "stream",
     "name": "stdout",
     "text": [
      "\n",
      "--- Test Metrics ---\n",
      "Accuracy: 0.8587\n",
      "Precision: 0.8601\n",
      "Recall: 0.8546\n",
      "F1 Score: 0.8566\n",
      "AUROC: 0.9772\n"
     ]
    },
    {
     "output_type": "display_data",
     "data": {
      "text/plain": [
       "\u250f\u2501\u2501\u2501\u2501\u2501\u2501\u2501\u2501\u2501\u2501\u2501\u2501\u2501\u2501\u2501\u2501\u2501\u2501\u2501\u2501\u2501\u2501\u2501\u2501\u2501\u2501\u2501\u2533\u2501\u2501\u2501\u2501\u2501\u2501\u2501\u2501\u2501\u2501\u2501\u2501\u2501\u2501\u2501\u2501\u2501\u2501\u2501\u2501\u2501\u2501\u2501\u2501\u2501\u2501\u2501\u2513\n",
       "\u2503\u001b[1m \u001b[0m\u001b[1m       Test metric       \u001b[0m\u001b[1m \u001b[0m\u2503\u001b[1m \u001b[0m\u001b[1m      DataLoader 0       \u001b[0m\u001b[1m \u001b[0m\u2503\n",
       "\u2521\u2501\u2501\u2501\u2501\u2501\u2501\u2501\u2501\u2501\u2501\u2501\u2501\u2501\u2501\u2501\u2501\u2501\u2501\u2501\u2501\u2501\u2501\u2501\u2501\u2501\u2501\u2501\u2547\u2501\u2501\u2501\u2501\u2501\u2501\u2501\u2501\u2501\u2501\u2501\u2501\u2501\u2501\u2501\u2501\u2501\u2501\u2501\u2501\u2501\u2501\u2501\u2501\u2501\u2501\u2501\u2529\n",
       "\u2502\u001b[36m \u001b[0m\u001b[36m        test_loss        \u001b[0m\u001b[36m \u001b[0m\u2502\u001b[35m \u001b[0m\u001b[35m   0.8266053795814514    \u001b[0m\u001b[35m \u001b[0m\u2502\n",
       "\u2514\u2500\u2500\u2500\u2500\u2500\u2500\u2500\u2500\u2500\u2500\u2500\u2500\u2500\u2500\u2500\u2500\u2500\u2500\u2500\u2500\u2500\u2500\u2500\u2500\u2500\u2500\u2500\u2534\u2500\u2500\u2500\u2500\u2500\u2500\u2500\u2500\u2500\u2500\u2500\u2500\u2500\u2500\u2500\u2500\u2500\u2500\u2500\u2500\u2500\u2500\u2500\u2500\u2500\u2500\u2500\u2518\n"
      ],
      "text/html": [
       "<pre style=\"white-space:pre;overflow-x:auto;line-height:normal;font-family:Menlo,'DejaVu Sans Mono',consolas,'Courier New',monospace\">\u250f\u2501\u2501\u2501\u2501\u2501\u2501\u2501\u2501\u2501\u2501\u2501\u2501\u2501\u2501\u2501\u2501\u2501\u2501\u2501\u2501\u2501\u2501\u2501\u2501\u2501\u2501\u2501\u2533\u2501\u2501\u2501\u2501\u2501\u2501\u2501\u2501\u2501\u2501\u2501\u2501\u2501\u2501\u2501\u2501\u2501\u2501\u2501\u2501\u2501\u2501\u2501\u2501\u2501\u2501\u2501\u2513\n",
       "\u2503<span style=\"font-weight: bold\">        Test metric        </span>\u2503<span style=\"font-weight: bold\">       DataLoader 0        </span>\u2503\n",
       "\u2521\u2501\u2501\u2501\u2501\u2501\u2501\u2501\u2501\u2501\u2501\u2501\u2501\u2501\u2501\u2501\u2501\u2501\u2501\u2501\u2501\u2501\u2501\u2501\u2501\u2501\u2501\u2501\u2547\u2501\u2501\u2501\u2501\u2501\u2501\u2501\u2501\u2501\u2501\u2501\u2501\u2501\u2501\u2501\u2501\u2501\u2501\u2501\u2501\u2501\u2501\u2501\u2501\u2501\u2501\u2501\u2529\n",
       "\u2502<span style=\"color: #008080; text-decoration-color: #008080\">         test_loss         </span>\u2502<span style=\"color: #800080; text-decoration-color: #800080\">    0.8266053795814514     </span>\u2502\n",
       "\u2514\u2500\u2500\u2500\u2500\u2500\u2500\u2500\u2500\u2500\u2500\u2500\u2500\u2500\u2500\u2500\u2500\u2500\u2500\u2500\u2500\u2500\u2500\u2500\u2500\u2500\u2500\u2500\u2534\u2500\u2500\u2500\u2500\u2500\u2500\u2500\u2500\u2500\u2500\u2500\u2500\u2500\u2500\u2500\u2500\u2500\u2500\u2500\u2500\u2500\u2500\u2500\u2500\u2500\u2500\u2500\u2518\n",
       "</pre>\n"
      ]
     },
     "metadata": {}
    },
    {
     "output_type": "stream",
     "name": "stdout",
     "text": [
      "Model saved to EfficientNetV2M_DropBlock_RAdam_20250413_122001_final.pt\n"
     ]
    }
   ]
  },
  {
   "cell_type": "code",
   "source": [
    "torch.save(model10.state_dict(), \"saved_efficientnet/efficientnetv2-method10_weights.pth\")\n",
    "torch.save(model10, \"saved_efficientnet/efficientnetv2-method10.pth\")"
   ],
   "metadata": {
    "id": "wwgiTH0sFLej"
   },
   "execution_count": null,
   "outputs": []
  },
  {
   "cell_type": "markdown",
   "source": [
    "Knowledge Distillation"
   ],
   "metadata": {
    "id": "Ah98L5_NH7ps"
   }
  },
  {
   "cell_type": "code",
   "source": [
    "import torch\n",
    "import torch.nn as nn\n",
    "import torch.nn.functional as F\n",
    "import lightning as L\n",
    "\n",
    "class DistillationLoss(nn.Module):\n",
    "    def __init__(self, alpha=0.5, temperature=4.0):\n",
    "        super().__init__()\n",
    "        self.alpha = alpha  # Weight for distillation loss\n",
    "        self.T = temperature  # Temperature for softening probability distributions\n",
    "        self.ce_loss = nn.CrossEntropyLoss(label_smoothing=0.1)\n",
    "\n",
    "    def forward(self, student_logits, teacher_logits, labels):\n",
    "        # Regular cross-entropy loss\n",
    "        ce_loss = self.ce_loss(student_logits, labels)\n",
    "\n",
    "        # Knowledge distillation loss\n",
    "        distillation_loss = F.kl_div(\n",
    "            F.log_softmax(student_logits / self.T, dim=1),\n",
    "            F.softmax(teacher_logits / self.T, dim=1),\n",
    "            reduction='batchmean'\n",
    "        ) * (self.T ** 2)\n",
    "\n",
    "        # Combine losses\n",
    "        return self.alpha * ce_loss + (1 - self.alpha) * distillation_loss\n",
    "\n",
    "class DistilledEfficientNet(L.LightningModule):\n",
    "    def __init__(self, student_model, teacher_model, n_classes, learning_rate=3e-4, weight_decay=1e-4):\n",
    "        super().__init__()\n",
    "        self.student = student_model\n",
    "        self.teacher = teacher_model\n",
    "\n",
    "        # Freeze teacher model\n",
    "        for param in self.teacher.parameters():\n",
    "            param.requires_grad = False\n",
    "        self.teacher.eval()\n",
    "\n",
    "        self.n_classes = n_classes\n",
    "        self.learning_rate = learning_rate\n",
    "        self.weight_decay = weight_decay\n",
    "\n",
    "        # Distillation loss\n",
    "        self.distill_loss = DistillationLoss(alpha=0.3, temperature=4.0)\n",
    "\n",
    "        # Metrics (same as before)\n",
    "        self.train_acc = Accuracy(task=\"multiclass\", num_classes=n_classes)\n",
    "        self.val_acc = Accuracy(task=\"multiclass\", num_classes=n_classes)\n",
    "        self.test_accuracy = Accuracy(task=\"multiclass\", num_classes=n_classes)\n",
    "        self.test_precision = Precision(task=\"multiclass\", num_classes=n_classes, average='macro')\n",
    "        self.test_recall = Recall(task=\"multiclass\", num_classes=n_classes, average='macro')\n",
    "        self.test_f1 = F1Score(task=\"multiclass\", num_classes=n_classes, average='macro')\n",
    "        self.test_auroc = AUROC(task=\"multiclass\", num_classes=n_classes)\n",
    "\n",
    "    def forward(self, x):\n",
    "        return self.student(x)\n",
    "\n",
    "    def training_step(self, batch, batch_idx):\n",
    "        x, y = batch\n",
    "\n",
    "        # Get student predictions\n",
    "        student_logits = self.student(x)\n",
    "\n",
    "        # Get teacher predictions (no grad)\n",
    "        with torch.no_grad():\n",
    "            teacher_logits = self.teacher(x)\n",
    "\n",
    "        # Calculate distillation loss\n",
    "        loss = self.distill_loss(student_logits, teacher_logits, y)\n",
    "\n",
    "        # Metrics\n",
    "        preds = torch.argmax(student_logits, dim=1)\n",
    "        acc = self.train_acc(preds, y)\n",
    "\n",
    "        # Log\n",
    "        self.log('train_loss', loss, on_step=True, on_epoch=True, prog_bar=True)\n",
    "        self.log('train_acc', acc, on_step=True, on_epoch=True, prog_bar=True)\n",
    "\n",
    "        return loss\n",
    "\n",
    "    def configure_optimizers(self):\n",
    "        # Use RAdam optimizer as in your successful model\n",
    "        from torch.optim import RAdam\n",
    "\n",
    "        optimizer = RAdam(\n",
    "            self.student.parameters(),\n",
    "            lr=self.learning_rate,\n",
    "            weight_decay=self.weight_decay\n",
    "        )\n",
    "\n",
    "        # One cycle learning rate scheduler\n",
    "        scheduler = torch.optim.lr_scheduler.OneCycleLR(\n",
    "            optimizer,\n",
    "            max_lr=self.learning_rate,\n",
    "            total_steps=self.trainer.estimated_stepping_batches,\n",
    "            pct_start=0.1,\n",
    "            div_factor=25,\n",
    "            final_div_factor=1000,\n",
    "        )\n",
    "\n",
    "        return {\n",
    "            \"optimizer\": optimizer,\n",
    "            \"lr_scheduler\": {\n",
    "                \"scheduler\": scheduler,\n",
    "                \"interval\": \"step\",\n",
    "                \"frequency\": 1\n",
    "            }\n",
    "        }\n",
    "\n",
    "# Example usage:\n",
    "def train_distilled_model():\n",
    "    # Load your best model (model10)\n",
    "    teacher_model = torch.load(\"saved_efficientnet/efficientnetv2-method10.pth\")\n",
    "    teacher_model.eval()\n",
    "\n",
    "    # Create a new student model with same architecture\n",
    "    student_model = EfficientNetV2M_DropBlock_RAdam(n_classes=YOUR_NUM_CLASSES)\n",
    "\n",
    "    # Create distilled model\n",
    "    distilled_model = DistilledEfficientNet(\n",
    "        student_model=student_model,\n",
    "        teacher_model=teacher_model,\n",
    "        n_classes=YOUR_NUM_CLASSES,\n",
    "        learning_rate=3e-4,\n",
    "        weight_decay=1e-4\n",
    "    )\n",
    "\n",
    "    # Train with distillation\n",
    "    trainer = L.Trainer(\n",
    "        max_epochs=30,\n",
    "        callbacks=[\n",
    "            L.callbacks.ModelCheckpoint(\n",
    "                monitor=\"val_acc\",\n",
    "                mode=\"max\",\n",
    "                save_top_k=1\n",
    "            ),\n",
    "            L.callbacks.EarlyStopping(\n",
    "                monitor=\"val_acc\",\n",
    "                patience=5,\n",
    "                mode=\"max\"\n",
    "            )\n",
    "        ]\n",
    "    )\n",
    "\n",
    "    trainer.fit(distilled_model, data_module)\n",
    "\n",
    "    # Evaluate\n",
    "    results = trainer.test(distilled_model, data_module)\n",
    "    return distilled_model, results"
   ],
   "metadata": {
    "id": "9oe5F1QMHHTl",
    "executionInfo": {
     "status": "ok",
     "timestamp": 1744849800395,
     "user_tz": -480,
     "elapsed": 16499,
     "user": {
      "displayName": "siri",
      "userId": "13294989799365259198"
     }
    }
   },
   "execution_count": 3,
   "outputs": []
  },
  {
   "cell_type": "markdown",
   "source": [
    "## Comparison of Results"
   ],
   "metadata": {
    "id": "kZOrIubX9vMh"
   }
  },
  {
   "cell_type": "markdown",
   "source": [],
   "metadata": {
    "id": "n4z6YztDX6Gx"
   }
  },
  {
   "cell_type": "code",
   "source": [],
   "metadata": {
    "id": "Nz7Udz7myH6x"
   },
   "execution_count": null,
   "outputs": []
  }
 ]
}