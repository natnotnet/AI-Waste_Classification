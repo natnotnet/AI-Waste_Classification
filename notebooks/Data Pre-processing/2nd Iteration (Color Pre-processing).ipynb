{
 "nbformat": 4,
 "nbformat_minor": 0,
 "metadata": {
  "colab": {
   "provenance": [],
   "gpuType": "T4"
  },
  "kernelspec": {
   "name": "python3",
   "display_name": "Python 3"
  },
  "language_info": {
   "name": "python"
  },
  "accelerator": "GPU"
 },
 "cells": [
  {
   "cell_type": "markdown",
   "source": [
    "# Color Pre-processing\n",
    "\n",
    "Dataset used: https://www.kaggle.com/datasets/mostafaabla/garbage-classification\n",
    "\n",
    "\n"
   ],
   "metadata": {
    "id": "IIWWjgwHqV4g"
   }
  },
  {
   "cell_type": "markdown",
   "source": [
    "## Download dependencies"
   ],
   "metadata": {
    "id": "ztjbm7K7qfBi"
   }
  },
  {
   "cell_type": "markdown",
   "source": [],
   "metadata": {
    "id": "hwaxlOHvDwZ0"
   }
  },
  {
   "cell_type": "code",
   "source": [
    "!pip install datasets"
   ],
   "metadata": {
    "colab": {
     "base_uri": "https://localhost:8080/"
    },
    "id": "e6hq-FyNKfUa",
    "executionInfo": {
     "status": "ok",
     "timestamp": 1744869442323,
     "user_tz": -480,
     "elapsed": 22106,
     "user": {
      "displayName": "nat ang",
      "userId": "01830563404866135370"
     }
    },
    "outputId": "85bf7ff9-414c-48aa-ff04-82ee811de2ad"
   },
   "execution_count": 2,
   "outputs": [
    {
     "output_type": "stream",
     "name": "stdout",
     "text": [
      "Collecting datasets\n",
      "  Downloading datasets-3.5.0-py3-none-any.whl.metadata (19 kB)\n",
      "Requirement already satisfied: filelock in /usr/local/lib/python3.11/dist-packages (from datasets) (3.18.0)\n",
      "Requirement already satisfied: numpy>=1.17 in /usr/local/lib/python3.11/dist-packages (from datasets) (2.0.2)\n",
      "Requirement already satisfied: pyarrow>=15.0.0 in /usr/local/lib/python3.11/dist-packages (from datasets) (18.1.0)\n",
      "Collecting dill<0.3.9,>=0.3.0 (from datasets)\n",
      "  Downloading dill-0.3.8-py3-none-any.whl.metadata (10 kB)\n",
      "Requirement already satisfied: pandas in /usr/local/lib/python3.11/dist-packages (from datasets) (2.2.2)\n",
      "Requirement already satisfied: requests>=2.32.2 in /usr/local/lib/python3.11/dist-packages (from datasets) (2.32.3)\n",
      "Requirement already satisfied: tqdm>=4.66.3 in /usr/local/lib/python3.11/dist-packages (from datasets) (4.67.1)\n",
      "Collecting xxhash (from datasets)\n",
      "  Downloading xxhash-3.5.0-cp311-cp311-manylinux_2_17_x86_64.manylinux2014_x86_64.whl.metadata (12 kB)\n",
      "Collecting multiprocess<0.70.17 (from datasets)\n",
      "  Downloading multiprocess-0.70.16-py311-none-any.whl.metadata (7.2 kB)\n",
      "Collecting fsspec<=2024.12.0,>=2023.1.0 (from fsspec[http]<=2024.12.0,>=2023.1.0->datasets)\n",
      "  Downloading fsspec-2024.12.0-py3-none-any.whl.metadata (11 kB)\n",
      "Requirement already satisfied: aiohttp in /usr/local/lib/python3.11/dist-packages (from datasets) (3.11.15)\n",
      "Requirement already satisfied: huggingface-hub>=0.24.0 in /usr/local/lib/python3.11/dist-packages (from datasets) (0.30.2)\n",
      "Requirement already satisfied: packaging in /usr/local/lib/python3.11/dist-packages (from datasets) (24.2)\n",
      "Requirement already satisfied: pyyaml>=5.1 in /usr/local/lib/python3.11/dist-packages (from datasets) (6.0.2)\n",
      "Requirement already satisfied: aiohappyeyeballs>=2.3.0 in /usr/local/lib/python3.11/dist-packages (from aiohttp->datasets) (2.6.1)\n",
      "Requirement already satisfied: aiosignal>=1.1.2 in /usr/local/lib/python3.11/dist-packages (from aiohttp->datasets) (1.3.2)\n",
      "Requirement already satisfied: attrs>=17.3.0 in /usr/local/lib/python3.11/dist-packages (from aiohttp->datasets) (25.3.0)\n",
      "Requirement already satisfied: frozenlist>=1.1.1 in /usr/local/lib/python3.11/dist-packages (from aiohttp->datasets) (1.5.0)\n",
      "Requirement already satisfied: multidict<7.0,>=4.5 in /usr/local/lib/python3.11/dist-packages (from aiohttp->datasets) (6.4.2)\n",
      "Requirement already satisfied: propcache>=0.2.0 in /usr/local/lib/python3.11/dist-packages (from aiohttp->datasets) (0.3.1)\n",
      "Requirement already satisfied: yarl<2.0,>=1.17.0 in /usr/local/lib/python3.11/dist-packages (from aiohttp->datasets) (1.19.0)\n",
      "Requirement already satisfied: typing-extensions>=3.7.4.3 in /usr/local/lib/python3.11/dist-packages (from huggingface-hub>=0.24.0->datasets) (4.13.1)\n",
      "Requirement already satisfied: charset-normalizer<4,>=2 in /usr/local/lib/python3.11/dist-packages (from requests>=2.32.2->datasets) (3.4.1)\n",
      "Requirement already satisfied: idna<4,>=2.5 in /usr/local/lib/python3.11/dist-packages (from requests>=2.32.2->datasets) (3.10)\n",
      "Requirement already satisfied: urllib3<3,>=1.21.1 in /usr/local/lib/python3.11/dist-packages (from requests>=2.32.2->datasets) (2.3.0)\n",
      "Requirement already satisfied: certifi>=2017.4.17 in /usr/local/lib/python3.11/dist-packages (from requests>=2.32.2->datasets) (2025.1.31)\n",
      "Requirement already satisfied: python-dateutil>=2.8.2 in /usr/local/lib/python3.11/dist-packages (from pandas->datasets) (2.8.2)\n",
      "Requirement already satisfied: pytz>=2020.1 in /usr/local/lib/python3.11/dist-packages (from pandas->datasets) (2025.2)\n",
      "Requirement already satisfied: tzdata>=2022.7 in /usr/local/lib/python3.11/dist-packages (from pandas->datasets) (2025.2)\n",
      "Requirement already satisfied: six>=1.5 in /usr/local/lib/python3.11/dist-packages (from python-dateutil>=2.8.2->pandas->datasets) (1.17.0)\n",
      "Downloading datasets-3.5.0-py3-none-any.whl (491 kB)\n",
      "\u001b[2K   \u001b[90m\u2501\u2501\u2501\u2501\u2501\u2501\u2501\u2501\u2501\u2501\u2501\u2501\u2501\u2501\u2501\u2501\u2501\u2501\u2501\u2501\u2501\u2501\u2501\u2501\u2501\u2501\u2501\u2501\u2501\u2501\u2501\u2501\u2501\u2501\u2501\u2501\u2501\u2501\u2501\u2501\u001b[0m \u001b[32m491.2/491.2 kB\u001b[0m \u001b[31m10.3 MB/s\u001b[0m eta \u001b[36m0:00:00\u001b[0m\n",
      "\u001b[?25hDownloading dill-0.3.8-py3-none-any.whl (116 kB)\n",
      "\u001b[2K   \u001b[90m\u2501\u2501\u2501\u2501\u2501\u2501\u2501\u2501\u2501\u2501\u2501\u2501\u2501\u2501\u2501\u2501\u2501\u2501\u2501\u2501\u2501\u2501\u2501\u2501\u2501\u2501\u2501\u2501\u2501\u2501\u2501\u2501\u2501\u2501\u2501\u2501\u2501\u2501\u2501\u2501\u001b[0m \u001b[32m116.3/116.3 kB\u001b[0m \u001b[31m9.8 MB/s\u001b[0m eta \u001b[36m0:00:00\u001b[0m\n",
      "\u001b[?25hDownloading fsspec-2024.12.0-py3-none-any.whl (183 kB)\n",
      "\u001b[2K   \u001b[90m\u2501\u2501\u2501\u2501\u2501\u2501\u2501\u2501\u2501\u2501\u2501\u2501\u2501\u2501\u2501\u2501\u2501\u2501\u2501\u2501\u2501\u2501\u2501\u2501\u2501\u2501\u2501\u2501\u2501\u2501\u2501\u2501\u2501\u2501\u2501\u2501\u2501\u2501\u2501\u2501\u001b[0m \u001b[32m183.9/183.9 kB\u001b[0m \u001b[31m8.6 MB/s\u001b[0m eta \u001b[36m0:00:00\u001b[0m\n",
      "\u001b[?25hDownloading multiprocess-0.70.16-py311-none-any.whl (143 kB)\n",
      "\u001b[2K   \u001b[90m\u2501\u2501\u2501\u2501\u2501\u2501\u2501\u2501\u2501\u2501\u2501\u2501\u2501\u2501\u2501\u2501\u2501\u2501\u2501\u2501\u2501\u2501\u2501\u2501\u2501\u2501\u2501\u2501\u2501\u2501\u2501\u2501\u2501\u2501\u2501\u2501\u2501\u2501\u2501\u2501\u001b[0m \u001b[32m143.5/143.5 kB\u001b[0m \u001b[31m11.4 MB/s\u001b[0m eta \u001b[36m0:00:00\u001b[0m\n",
      "\u001b[?25hDownloading xxhash-3.5.0-cp311-cp311-manylinux_2_17_x86_64.manylinux2014_x86_64.whl (194 kB)\n",
      "\u001b[2K   \u001b[90m\u2501\u2501\u2501\u2501\u2501\u2501\u2501\u2501\u2501\u2501\u2501\u2501\u2501\u2501\u2501\u2501\u2501\u2501\u2501\u2501\u2501\u2501\u2501\u2501\u2501\u2501\u2501\u2501\u2501\u2501\u2501\u2501\u2501\u2501\u2501\u2501\u2501\u2501\u2501\u2501\u001b[0m \u001b[32m194.8/194.8 kB\u001b[0m \u001b[31m14.4 MB/s\u001b[0m eta \u001b[36m0:00:00\u001b[0m\n",
      "\u001b[?25hInstalling collected packages: xxhash, fsspec, dill, multiprocess, datasets\n",
      "  Attempting uninstall: fsspec\n",
      "    Found existing installation: fsspec 2025.3.2\n",
      "    Uninstalling fsspec-2025.3.2:\n",
      "      Successfully uninstalled fsspec-2025.3.2\n",
      "\u001b[31mERROR: pip's dependency resolver does not currently take into account all the packages that are installed. This behaviour is the source of the following dependency conflicts.\n",
      "gcsfs 2025.3.2 requires fsspec==2025.3.2, but you have fsspec 2024.12.0 which is incompatible.\n",
      "torch 2.6.0+cu124 requires nvidia-cublas-cu12==12.4.5.8; platform_system == \"Linux\" and platform_machine == \"x86_64\", but you have nvidia-cublas-cu12 12.5.3.2 which is incompatible.\n",
      "torch 2.6.0+cu124 requires nvidia-cuda-cupti-cu12==12.4.127; platform_system == \"Linux\" and platform_machine == \"x86_64\", but you have nvidia-cuda-cupti-cu12 12.5.82 which is incompatible.\n",
      "torch 2.6.0+cu124 requires nvidia-cuda-nvrtc-cu12==12.4.127; platform_system == \"Linux\" and platform_machine == \"x86_64\", but you have nvidia-cuda-nvrtc-cu12 12.5.82 which is incompatible.\n",
      "torch 2.6.0+cu124 requires nvidia-cuda-runtime-cu12==12.4.127; platform_system == \"Linux\" and platform_machine == \"x86_64\", but you have nvidia-cuda-runtime-cu12 12.5.82 which is incompatible.\n",
      "torch 2.6.0+cu124 requires nvidia-cudnn-cu12==9.1.0.70; platform_system == \"Linux\" and platform_machine == \"x86_64\", but you have nvidia-cudnn-cu12 9.3.0.75 which is incompatible.\n",
      "torch 2.6.0+cu124 requires nvidia-cufft-cu12==11.2.1.3; platform_system == \"Linux\" and platform_machine == \"x86_64\", but you have nvidia-cufft-cu12 11.2.3.61 which is incompatible.\n",
      "torch 2.6.0+cu124 requires nvidia-curand-cu12==10.3.5.147; platform_system == \"Linux\" and platform_machine == \"x86_64\", but you have nvidia-curand-cu12 10.3.6.82 which is incompatible.\n",
      "torch 2.6.0+cu124 requires nvidia-cusolver-cu12==11.6.1.9; platform_system == \"Linux\" and platform_machine == \"x86_64\", but you have nvidia-cusolver-cu12 11.6.3.83 which is incompatible.\n",
      "torch 2.6.0+cu124 requires nvidia-cusparse-cu12==12.3.1.170; platform_system == \"Linux\" and platform_machine == \"x86_64\", but you have nvidia-cusparse-cu12 12.5.1.3 which is incompatible.\n",
      "torch 2.6.0+cu124 requires nvidia-nvjitlink-cu12==12.4.127; platform_system == \"Linux\" and platform_machine == \"x86_64\", but you have nvidia-nvjitlink-cu12 12.5.82 which is incompatible.\u001b[0m\u001b[31m\n",
      "\u001b[0mSuccessfully installed datasets-3.5.0 dill-0.3.8 fsspec-2024.12.0 multiprocess-0.70.16 xxhash-3.5.0\n"
     ]
    }
   ]
  },
  {
   "cell_type": "code",
   "source": [
    "import os\n",
    "import pandas as pd\n",
    "import numpy as np\n",
    "import matplotlib.pyplot as plt\n",
    "import seaborn as sns\n",
    "import random\n",
    "import shutil\n",
    "import cv2\n",
    "import glob\n",
    "import zipfile\n",
    "\n",
    "from google.colab import drive\n",
    "from PIL import Image\n",
    "from collections import defaultdict\n",
    "from tensorflow.keras.preprocessing.image import ImageDataGenerator\n",
    "from sklearn.model_selection import train_test_split"
   ],
   "metadata": {
    "id": "vlGsbRyLNmsh",
    "executionInfo": {
     "status": "ok",
     "timestamp": 1744869450696,
     "user_tz": -480,
     "elapsed": 8364,
     "user": {
      "displayName": "nat ang",
      "userId": "01830563404866135370"
     }
    }
   },
   "execution_count": 3,
   "outputs": []
  },
  {
   "cell_type": "markdown",
   "source": [
    "## Mount google drive"
   ],
   "metadata": {
    "id": "SnpymU6ob--F"
   }
  },
  {
   "cell_type": "code",
   "source": [
    "# Mount Google Drive\n",
    "drive.mount('/content/drive')"
   ],
   "metadata": {
    "colab": {
     "base_uri": "https://localhost:8080/"
    },
    "id": "MhWsWQh6cD2X",
    "executionInfo": {
     "status": "ok",
     "timestamp": 1744869469820,
     "user_tz": -480,
     "elapsed": 19126,
     "user": {
      "displayName": "nat ang",
      "userId": "01830563404866135370"
     }
    },
    "outputId": "d82ae2fd-cc90-4c57-f4b1-dd5e60fc3dbc"
   },
   "execution_count": 4,
   "outputs": [
    {
     "output_type": "stream",
     "name": "stdout",
     "text": [
      "Mounted at /content/drive\n"
     ]
    }
   ]
  },
  {
   "cell_type": "code",
   "source": [
    "base_path = \"/content/drive/My Drive/50.021 Artificial Intelligence Group Assignment/garbage_classification\"\n",
    "\n",
    "# Print the folder structure for debugging\n",
    "print(\"Contents of the dataset directory:\")\n",
    "for root, dirs, files in os.walk(base_path):\n",
    "    print(f\"Root: {root}, Subdirectories: {dirs}, Files: {len(files)} files\")"
   ],
   "metadata": {
    "colab": {
     "base_uri": "https://localhost:8080/"
    },
    "id": "hZaBS80BMC17",
    "executionInfo": {
     "status": "ok",
     "timestamp": 1744869500785,
     "user_tz": -480,
     "elapsed": 30964,
     "user": {
      "displayName": "nat ang",
      "userId": "01830563404866135370"
     }
    },
    "outputId": "9798fda4-d1a2-45d3-fe7f-864acdf82f75"
   },
   "execution_count": 5,
   "outputs": [
    {
     "output_type": "stream",
     "name": "stdout",
     "text": [
      "Contents of the dataset directory:\n",
      "Root: /content/drive/My Drive/50.021 Artificial Intelligence Group Assignment/garbage_classification, Subdirectories: ['metal', 'plastic', 'clothes', 'paper', 'cardboard', 'white-glass', 'brown-glass', 'shoes', 'green-glass', 'trash', 'battery', 'biological'], Files: 0 files\n",
      "Root: /content/drive/My Drive/50.021 Artificial Intelligence Group Assignment/garbage_classification/metal, Subdirectories: [], Files: 769 files\n",
      "Root: /content/drive/My Drive/50.021 Artificial Intelligence Group Assignment/garbage_classification/plastic, Subdirectories: [], Files: 865 files\n",
      "Root: /content/drive/My Drive/50.021 Artificial Intelligence Group Assignment/garbage_classification/clothes, Subdirectories: [], Files: 5345 files\n",
      "Root: /content/drive/My Drive/50.021 Artificial Intelligence Group Assignment/garbage_classification/paper, Subdirectories: [], Files: 1050 files\n",
      "Root: /content/drive/My Drive/50.021 Artificial Intelligence Group Assignment/garbage_classification/cardboard, Subdirectories: [], Files: 891 files\n",
      "Root: /content/drive/My Drive/50.021 Artificial Intelligence Group Assignment/garbage_classification/white-glass, Subdirectories: [], Files: 775 files\n",
      "Root: /content/drive/My Drive/50.021 Artificial Intelligence Group Assignment/garbage_classification/brown-glass, Subdirectories: [], Files: 607 files\n",
      "Root: /content/drive/My Drive/50.021 Artificial Intelligence Group Assignment/garbage_classification/shoes, Subdirectories: [], Files: 1977 files\n",
      "Root: /content/drive/My Drive/50.021 Artificial Intelligence Group Assignment/garbage_classification/green-glass, Subdirectories: [], Files: 629 files\n",
      "Root: /content/drive/My Drive/50.021 Artificial Intelligence Group Assignment/garbage_classification/trash, Subdirectories: [], Files: 697 files\n",
      "Root: /content/drive/My Drive/50.021 Artificial Intelligence Group Assignment/garbage_classification/battery, Subdirectories: [], Files: 945 files\n",
      "Root: /content/drive/My Drive/50.021 Artificial Intelligence Group Assignment/garbage_classification/biological, Subdirectories: [], Files: 985 files\n"
     ]
    }
   ]
  },
  {
   "cell_type": "markdown",
   "source": [
    "## Create dataframe\n",
    "- with the columns: image path, label"
   ],
   "metadata": {
    "id": "gUv6Thymqp3f"
   }
  },
  {
   "cell_type": "code",
   "source": [
    "# Map the original classes to new categories\n",
    "recycling_groups = {\n",
    "    'battery': 'Hazardous Waste',\n",
    "    'biological': 'Organic Waste',\n",
    "    'brown-glass': 'Glass',\n",
    "    'green-glass': 'Glass',\n",
    "    'white-glass': 'Glass',\n",
    "    'cardboard': 'Paper & Cardboard',\n",
    "    'paper': 'Paper & Cardboard',\n",
    "    'clothes': 'Textiles',\n",
    "    'shoes': 'Textiles',\n",
    "    'metal': 'Metal',\n",
    "    'plastic': 'Plastic',\n",
    "    'trash': 'Trash'\n",
    "}\n",
    "\n",
    "# Initialize an empty list to hold image paths and labels\n",
    "data = []\n",
    "\n",
    "# Ensure the path exists\n",
    "if os.path.exists(base_path):\n",
    "    # Traverse through the dataset directory\n",
    "    for original_class in os.listdir(base_path):\n",
    "        class_path = os.path.join(base_path, original_class)\n",
    "\n",
    "        if os.path.isdir(class_path):  # Check if it's a folder\n",
    "            # Map the original class to the appropriate recycling group\n",
    "            new_label = recycling_groups.get(original_class, original_class)\n",
    "\n",
    "            # Loop through all images in the class folder\n",
    "            for image_name in os.listdir(class_path):\n",
    "                image_path = os.path.join(class_path, image_name)\n",
    "\n",
    "                if image_path.lower().endswith(('.jpg', '.jpeg', '.png', '.bmp', '.gif')):  # Check for image extensions\n",
    "                    # Append the image path and label to the list\n",
    "                    data.append([image_path, new_label])\n",
    "\n",
    "    # Create a DataFrame from the list\n",
    "    df = pd.DataFrame(data, columns=['image_path', 'label'])\n",
    "\n",
    "    # Show the first few rows of the DataFrame\n",
    "    print(\"Dataset successfully created!\\n\")\n",
    "    print(df.head())\n",
    "\n",
    "else:\n",
    "    print(\"Dataset directory not found, please check the uploaded folder structure.\")"
   ],
   "metadata": {
    "colab": {
     "base_uri": "https://localhost:8080/"
    },
    "id": "sOyJM2nbjmty",
    "executionInfo": {
     "status": "ok",
     "timestamp": 1744869508845,
     "user_tz": -480,
     "elapsed": 211,
     "user": {
      "displayName": "nat ang",
      "userId": "01830563404866135370"
     }
    },
    "outputId": "ade53619-1071-40f1-d3a7-73999eca97c0"
   },
   "execution_count": 6,
   "outputs": [
    {
     "output_type": "stream",
     "name": "stdout",
     "text": [
      "Dataset successfully created!\n",
      "\n",
      "                                          image_path  label\n",
      "0  /content/drive/My Drive/50.021 Artificial Inte...  Metal\n",
      "1  /content/drive/My Drive/50.021 Artificial Inte...  Metal\n",
      "2  /content/drive/My Drive/50.021 Artificial Inte...  Metal\n",
      "3  /content/drive/My Drive/50.021 Artificial Inte...  Metal\n",
      "4  /content/drive/My Drive/50.021 Artificial Inte...  Metal\n"
     ]
    }
   ]
  },
  {
   "cell_type": "code",
   "source": [
    "print(f\"Initial dataset size: {len(df)}\")"
   ],
   "metadata": {
    "colab": {
     "base_uri": "https://localhost:8080/"
    },
    "id": "gZsQVzFWm1Cs",
    "executionInfo": {
     "status": "ok",
     "timestamp": 1744869510553,
     "user_tz": -480,
     "elapsed": 3,
     "user": {
      "displayName": "nat ang",
      "userId": "01830563404866135370"
     }
    },
    "outputId": "d5fdb899-c681-4475-cca1-965be1a7a15b"
   },
   "execution_count": 7,
   "outputs": [
    {
     "output_type": "stream",
     "name": "stdout",
     "text": [
      "Initial dataset size: 15535\n"
     ]
    }
   ]
  },
  {
   "cell_type": "code",
   "source": [
    "# save df to csv\n",
    "df.to_csv(\"/content/drive/My Drive/50.021 Artificial Intelligence Group Assignment/original_metadata.csv\", index=False)"
   ],
   "metadata": {
    "id": "2qfVOsTZU6Mg",
    "executionInfo": {
     "status": "ok",
     "timestamp": 1744869512738,
     "user_tz": -480,
     "elapsed": 677,
     "user": {
      "displayName": "nat ang",
      "userId": "01830563404866135370"
     }
    }
   },
   "execution_count": 8,
   "outputs": []
  },
  {
   "cell_type": "markdown",
   "source": [
    "## Remove Duplicated Files"
   ],
   "metadata": {
    "id": "IuTn2f3Zr6og"
   }
  },
  {
   "cell_type": "code",
   "source": [
    "# Remove duplicate image paths\n",
    "df = df.drop_duplicates(subset=['image_path']).reset_index(drop=True)\n",
    "print(f\"Dataset size after removing duplicates: {len(df)} images\")\n",
    "\n",
    "print(\"Final dataset sample:\\n\", df.head())"
   ],
   "metadata": {
    "colab": {
     "base_uri": "https://localhost:8080/"
    },
    "id": "BU6sW6yqr5_k",
    "executionInfo": {
     "status": "ok",
     "timestamp": 1744869512754,
     "user_tz": -480,
     "elapsed": 5,
     "user": {
      "displayName": "nat ang",
      "userId": "01830563404866135370"
     }
    },
    "outputId": "af7eb7a4-ac29-42c6-f208-b2624a1914a1"
   },
   "execution_count": 9,
   "outputs": [
    {
     "output_type": "stream",
     "name": "stdout",
     "text": [
      "Dataset size after removing duplicates: 15535 images\n",
      "Final dataset sample:\n",
      "                                           image_path  label\n",
      "0  /content/drive/My Drive/50.021 Artificial Inte...  Metal\n",
      "1  /content/drive/My Drive/50.021 Artificial Inte...  Metal\n",
      "2  /content/drive/My Drive/50.021 Artificial Inte...  Metal\n",
      "3  /content/drive/My Drive/50.021 Artificial Inte...  Metal\n",
      "4  /content/drive/My Drive/50.021 Artificial Inte...  Metal\n"
     ]
    }
   ]
  },
  {
   "cell_type": "markdown",
   "source": [
    "## Visualise number of images grouped by recycling categories"
   ],
   "metadata": {
    "id": "wVAqJSsuuptP"
   }
  },
  {
   "cell_type": "code",
   "source": [
    "# Group the DataFrame by label and count the number of images per label\n",
    "label_counts = df['label'].value_counts()\n",
    "\n",
    "# Plot the bar chart\n",
    "plt.figure(figsize=(10, 6))\n",
    "sns.barplot(x=label_counts.index, y=label_counts.values, palette='viridis')\n",
    "plt.xticks(rotation=45, ha=\"right\")  # Rotate the x-axis labels for better visibility\n",
    "plt.xlabel('Recycling Categories')\n",
    "plt.ylabel('Number of Images')\n",
    "plt.title('Number of Images Grouped by Recycling Categories')\n",
    "plt.tight_layout()  # Adjust layout to fit labels\n",
    "plt.show()"
   ],
   "metadata": {
    "colab": {
     "base_uri": "https://localhost:8080/",
     "height": 714
    },
    "id": "Jpv_vnS1uo3B",
    "executionInfo": {
     "status": "ok",
     "timestamp": 1744869514053,
     "user_tz": -480,
     "elapsed": 670,
     "user": {
      "displayName": "nat ang",
      "userId": "01830563404866135370"
     }
    },
    "outputId": "02984510-6e08-493d-a0d8-e67c37f69655"
   },
   "execution_count": 10,
   "outputs": [
    {
     "output_type": "stream",
     "name": "stderr",
     "text": [
      "<ipython-input-10-5b25617fe1bf>:6: FutureWarning: \n",
      "\n",
      "Passing `palette` without assigning `hue` is deprecated and will be removed in v0.14.0. Assign the `x` variable to `hue` and set `legend=False` for the same effect.\n",
      "\n",
      "  sns.barplot(x=label_counts.index, y=label_counts.values, palette='viridis')\n"
     ]
    },
    {
     "output_type": "display_data",
     "data": {
      "text/plain": [
       "<Figure size 1000x600 with 1 Axes>"
      ],
      "image/png": "[encoded data removed]"
     },
     "metadata": {}
    }
   ]
  },
  {
   "cell_type": "markdown",
   "source": [
    "## Data Resampling"
   ],
   "metadata": {
    "id": "SyQ3kmd2vjX5"
   }
  },
  {
   "cell_type": "markdown",
   "source": [
    "### Undersample clothes and shoes to 1000 samples each"
   ],
   "metadata": {
    "id": "tCAgAEiYyVZ7"
   }
  },
  {
   "cell_type": "code",
   "source": [
    "# Undersample the 'Textiles', 'Glass', 'Paper & Cardboard' classes to 1000 samples\n",
    "undersample_limit = 1000\n",
    "\n",
    "# List of categories to undersample\n",
    "undersample_categories = ['Textiles', 'Glass', 'Paper & Cardboard']\n",
    "\n",
    "# Initialize an empty list for the undersampled data\n",
    "df_undersampled = pd.DataFrame(columns=df.columns)\n",
    "\n",
    "# Undersample each category to the specified limit\n",
    "for category in undersample_categories:\n",
    "    # Get the rows for the current category\n",
    "    category_data = df[df['label'] == category]\n",
    "\n",
    "    # Check if there are more samples than the limit\n",
    "    if len(category_data) > undersample_limit:\n",
    "        # Randomly sample the data to the specified limit\n",
    "        category_data = category_data.sample(undersample_limit, random_state=42)\n",
    "\n",
    "    # Append the undersampled category data to the final dataframe\n",
    "    df_undersampled = pd.concat([df_undersampled, category_data], ignore_index=True)\n",
    "\n",
    "# Add the rest of the categories without undersampling\n",
    "other_categories = df[~df['label'].isin(undersample_categories)]\n",
    "df_undersampled = pd.concat([df_undersampled, other_categories], ignore_index=True)\n",
    "\n",
    "# Count the number of images per label\n",
    "label_counts = df_undersampled['label'].value_counts()\n",
    "\n",
    "# Plot the bar chart using sns.barplot\n",
    "plt.figure(figsize=(10, 6))\n",
    "ax = sns.barplot(x=label_counts.index, y=label_counts.values, palette='viridis')\n",
    "plt.xticks(rotation=45, ha=\"right\")  # Rotate the x-axis labels for better visibility\n",
    "plt.xlabel('Recycling Categories')\n",
    "plt.ylabel('Number of Images')\n",
    "plt.title('Number of Images Grouped by Recycling Categories After Undersampling')\n",
    "plt.tight_layout()  # Adjust layout to fit labels\n",
    "\n",
    "for p in ax.patches:\n",
    "    ax.annotate(f'{int(p.get_height())}',\n",
    "                (p.get_x() + p.get_width() / 2., p.get_height()),\n",
    "                ha='center', va='center',\n",
    "                fontsize=12, color='black',\n",
    "                xytext=(0, 5), textcoords='offset points')\n",
    "\n",
    "plt.show()"
   ],
   "metadata": {
    "colab": {
     "base_uri": "https://localhost:8080/",
     "height": 714
    },
    "id": "YfJ_kEglvpIr",
    "executionInfo": {
     "status": "ok",
     "timestamp": 1744869518218,
     "user_tz": -480,
     "elapsed": 456,
     "user": {
      "displayName": "nat ang",
      "userId": "01830563404866135370"
     }
    },
    "outputId": "a33e0984-a6ad-457d-d5c8-c56f67c7e825"
   },
   "execution_count": 11,
   "outputs": [
    {
     "output_type": "stream",
     "name": "stderr",
     "text": [
      "<ipython-input-11-78df6d87c593>:32: FutureWarning: \n",
      "\n",
      "Passing `palette` without assigning `hue` is deprecated and will be removed in v0.14.0. Assign the `x` variable to `hue` and set `legend=False` for the same effect.\n",
      "\n",
      "  ax = sns.barplot(x=label_counts.index, y=label_counts.values, palette='viridis')\n"
     ]
    },
    {
     "output_type": "display_data",
     "data": {
      "text/plain": [
       "<Figure size 1000x600 with 1 Axes>"
      ],
      "image/png": "[encoded data removed]"
     },
     "metadata": {}
    }
   ]
  },
  {
   "cell_type": "code",
   "source": [
    "df_undersampled"
   ],
   "metadata": {
    "colab": {
     "base_uri": "https://localhost:8080/",
     "height": 423
    },
    "id": "fN3jSlAcM66U",
    "executionInfo": {
     "status": "ok",
     "timestamp": 1744869519661,
     "user_tz": -480,
     "elapsed": 50,
     "user": {
      "displayName": "nat ang",
      "userId": "01830563404866135370"
     }
    },
    "outputId": "e921ab20-438c-4179-a09a-6c2f8fc09cbc"
   },
   "execution_count": 12,
   "outputs": [
    {
     "output_type": "execute_result",
     "data": {
      "text/plain": [
       "                                             image_path          label\n",
       "0     /content/drive/My Drive/50.021 Artificial Inte...       Textiles\n",
       "1     /content/drive/My Drive/50.021 Artificial Inte...       Textiles\n",
       "2     /content/drive/My Drive/50.021 Artificial Inte...       Textiles\n",
       "3     /content/drive/My Drive/50.021 Artificial Inte...       Textiles\n",
       "4     /content/drive/My Drive/50.021 Artificial Inte...       Textiles\n",
       "...                                                 ...            ...\n",
       "7256  /content/drive/My Drive/50.021 Artificial Inte...  Organic Waste\n",
       "7257  /content/drive/My Drive/50.021 Artificial Inte...  Organic Waste\n",
       "7258  /content/drive/My Drive/50.021 Artificial Inte...  Organic Waste\n",
       "7259  /content/drive/My Drive/50.021 Artificial Inte...  Organic Waste\n",
       "7260  /content/drive/My Drive/50.021 Artificial Inte...  Organic Waste\n",
       "\n",
       "[7261 rows x 2 columns]"
      ],
      "text/html": [
       "\n",
       "  <div id=\"df-b0ab5008-a052-4b80-ad42-a586dcc69f86\" class=\"colab-df-container\">\n",
       "    <div>\n",
       "<style scoped>\n",
       "    .dataframe tbody tr th:only-of-type {\n",
       "        vertical-align: middle;\n",
       "    }\n",
       "\n",
       "    .dataframe tbody tr th {\n",
       "        vertical-align: top;\n",
       "    }\n",
       "\n",
       "    .dataframe thead th {\n",
       "        text-align: right;\n",
       "    }\n",
       "</style>\n",
       "<table border=\"1\" class=\"dataframe\">\n",
       "  <thead>\n",
       "    <tr style=\"text-align: right;\">\n",
       "      <th></th>\n",
       "      <th>image_path</th>\n",
       "      <th>label</th>\n",
       "    </tr>\n",
       "  </thead>\n",
       "  <tbody>\n",
       "    <tr>\n",
       "      <th>0</th>\n",
       "      <td>/content/drive/My Drive/50.021 Artificial Inte...</td>\n",
       "      <td>Textiles</td>\n",
       "    </tr>\n",
       "    <tr>\n",
       "      <th>1</th>\n",
       "      <td>/content/drive/My Drive/50.021 Artificial Inte...</td>\n",
       "      <td>Textiles</td>\n",
       "    </tr>\n",
       "    <tr>\n",
       "      <th>2</th>\n",
       "      <td>/content/drive/My Drive/50.021 Artificial Inte...</td>\n",
       "      <td>Textiles</td>\n",
       "    </tr>\n",
       "    <tr>\n",
       "      <th>3</th>\n",
       "      <td>/content/drive/My Drive/50.021 Artificial Inte...</td>\n",
       "      <td>Textiles</td>\n",
       "    </tr>\n",
       "    <tr>\n",
       "      <th>4</th>\n",
       "      <td>/content/drive/My Drive/50.021 Artificial Inte...</td>\n",
       "      <td>Textiles</td>\n",
       "    </tr>\n",
       "    <tr>\n",
       "      <th>...</th>\n",
       "      <td>...</td>\n",
       "      <td>...</td>\n",
       "    </tr>\n",
       "    <tr>\n",
       "      <th>7256</th>\n",
       "      <td>/content/drive/My Drive/50.021 Artificial Inte...</td>\n",
       "      <td>Organic Waste</td>\n",
       "    </tr>\n",
       "    <tr>\n",
       "      <th>7257</th>\n",
       "      <td>/content/drive/My Drive/50.021 Artificial Inte...</td>\n",
       "      <td>Organic Waste</td>\n",
       "    </tr>\n",
       "    <tr>\n",
       "      <th>7258</th>\n",
       "      <td>/content/drive/My Drive/50.021 Artificial Inte...</td>\n",
       "      <td>Organic Waste</td>\n",
       "    </tr>\n",
       "    <tr>\n",
       "      <th>7259</th>\n",
       "      <td>/content/drive/My Drive/50.021 Artificial Inte...</td>\n",
       "      <td>Organic Waste</td>\n",
       "    </tr>\n",
       "    <tr>\n",
       "      <th>7260</th>\n",
       "      <td>/content/drive/My Drive/50.021 Artificial Inte...</td>\n",
       "      <td>Organic Waste</td>\n",
       "    </tr>\n",
       "  </tbody>\n",
       "</table>\n",
       "<p>7261 rows \u00d7 2 columns</p>\n",
       "</div>\n",
       "    <div class=\"colab-df-buttons\">\n",
       "\n",
       "  <div class=\"colab-df-container\">\n",
       "    <button class=\"colab-df-convert\" onclick=\"convertToInteractive('df-b0ab5008-a052-4b80-ad42-a586dcc69f86')\"\n",
       "            title=\"Convert this dataframe to an interactive table.\"\n",
       "            style=\"display:none;\">\n",
       "\n",
       "  <svg xmlns=\"http://www.w3.org/2000/svg\" height=\"24px\" viewBox=\"0 -960 960 960\">\n",
       "    <path d=\"M120-120v-720h720v720H120Zm60-500h600v-160H180v160Zm220 220h160v-160H400v160Zm0 220h160v-160H400v160ZM180-400h160v-160H180v160Zm440 0h160v-160H620v160ZM180-180h160v-160H180v160Zm440 0h160v-160H620v160Z\"/>\n",
       "  </svg>\n",
       "    </button>\n",
       "\n",
       "  <style>\n",
       "    .colab-df-container {\n",
       "      display:flex;\n",
       "      gap: 12px;\n",
       "    }\n",
       "\n",
       "    .colab-df-convert {\n",
       "      background-color: #E8F0FE;\n",
       "      border: none;\n",
       "      border-radius: 50%;\n",
       "      cursor: pointer;\n",
       "      display: none;\n",
       "      fill: #1967D2;\n",
       "      height: 32px;\n",
       "      padding: 0 0 0 0;\n",
       "      width: 32px;\n",
       "    }\n",
       "\n",
       "    .colab-df-convert:hover {\n",
       "      background-color: #E2EBFA;\n",
       "      box-shadow: 0px 1px 2px rgba(60, 64, 67, 0.3), 0px 1px 3px 1px rgba(60, 64, 67, 0.15);\n",
       "      fill: #174EA6;\n",
       "    }\n",
       "\n",
       "    .colab-df-buttons div {\n",
       "      margin-bottom: 4px;\n",
       "    }\n",
       "\n",
       "    [theme=dark] .colab-df-convert {\n",
       "      background-color: #3B4455;\n",
       "      fill: #D2E3FC;\n",
       "    }\n",
       "\n",
       "    [theme=dark] .colab-df-convert:hover {\n",
       "      background-color: #434B5C;\n",
       "      box-shadow: 0px 1px 3px 1px rgba(0, 0, 0, 0.15);\n",
       "      filter: drop-shadow(0px 1px 2px rgba(0, 0, 0, 0.3));\n",
       "      fill: #FFFFFF;\n",
       "    }\n",
       "  </style>\n",
       "\n",
       "    <script>\n",
       "      const buttonEl =\n",
       "        document.querySelector('#df-b0ab5008-a052-4b80-ad42-a586dcc69f86 button.colab-df-convert');\n",
       "      buttonEl.style.display =\n",
       "        google.colab.kernel.accessAllowed ? 'block' : 'none';\n",
       "\n",
       "      async function convertToInteractive(key) {\n",
       "        const element = document.querySelector('#df-b0ab5008-a052-4b80-ad42-a586dcc69f86');\n",
       "        const dataTable =\n",
       "          await google.colab.kernel.invokeFunction('convertToInteractive',\n",
       "                                                    [key], {});\n",
       "        if (!dataTable) return;\n",
       "\n",
       "        const docLinkHtml = 'Like what you see? Visit the ' +\n",
       "          '<a target=\"_blank\" href=https://colab.research.google.com/notebooks/data_table.ipynb>data table notebook</a>'\n",
       "          + ' to learn more about interactive tables.';\n",
       "        element.innerHTML = '';\n",
       "        dataTable['output_type'] = 'display_data';\n",
       "        await google.colab.output.renderOutput(dataTable, element);\n",
       "        const docLink = document.createElement('div');\n",
       "        docLink.innerHTML = docLinkHtml;\n",
       "        element.appendChild(docLink);\n",
       "      }\n",
       "    </script>\n",
       "  </div>\n",
       "\n",
       "\n",
       "<div id=\"df-f558d23d-d878-44a7-9b5a-8d773ac250fb\">\n",
       "  <button class=\"colab-df-quickchart\" onclick=\"quickchart('df-f558d23d-d878-44a7-9b5a-8d773ac250fb')\"\n",
       "            title=\"Suggest charts\"\n",
       "            style=\"display:none;\">\n",
       "\n",
       "<svg xmlns=\"http://www.w3.org/2000/svg\" height=\"24px\"viewBox=\"0 0 24 24\"\n",
       "     width=\"24px\">\n",
       "    <g>\n",
       "        <path d=\"M19 3H5c-1.1 0-2 .9-2 2v14c0 1.1.9 2 2 2h14c1.1 0 2-.9 2-2V5c0-1.1-.9-2-2-2zM9 17H7v-7h2v7zm4 0h-2V7h2v10zm4 0h-2v-4h2v4z\"/>\n",
       "    </g>\n",
       "</svg>\n",
       "  </button>\n",
       "\n",
       "<style>\n",
       "  .colab-df-quickchart {\n",
       "      --bg-color: #E8F0FE;\n",
       "      --fill-color: #1967D2;\n",
       "      --hover-bg-color: #E2EBFA;\n",
       "      --hover-fill-color: #174EA6;\n",
       "      --disabled-fill-color: #AAA;\n",
       "      --disabled-bg-color: #DDD;\n",
       "  }\n",
       "\n",
       "  [theme=dark] .colab-df-quickchart {\n",
       "      --bg-color: #3B4455;\n",
       "      --fill-color: #D2E3FC;\n",
       "      --hover-bg-color: #434B5C;\n",
       "      --hover-fill-color: #FFFFFF;\n",
       "      --disabled-bg-color: #3B4455;\n",
       "      --disabled-fill-color: #666;\n",
       "  }\n",
       "\n",
       "  .colab-df-quickchart {\n",
       "    background-color: var(--bg-color);\n",
       "    border: none;\n",
       "    border-radius: 50%;\n",
       "    cursor: pointer;\n",
       "    display: none;\n",
       "    fill: var(--fill-color);\n",
       "    height: 32px;\n",
       "    padding: 0;\n",
       "    width: 32px;\n",
       "  }\n",
       "\n",
       "  .colab-df-quickchart:hover {\n",
       "    background-color: var(--hover-bg-color);\n",
       "    box-shadow: 0 1px 2px rgba(60, 64, 67, 0.3), 0 1px 3px 1px rgba(60, 64, 67, 0.15);\n",
       "    fill: var(--button-hover-fill-color);\n",
       "  }\n",
       "\n",
       "  .colab-df-quickchart-complete:disabled,\n",
       "  .colab-df-quickchart-complete:disabled:hover {\n",
       "    background-color: var(--disabled-bg-color);\n",
       "    fill: var(--disabled-fill-color);\n",
       "    box-shadow: none;\n",
       "  }\n",
       "\n",
       "  .colab-df-spinner {\n",
       "    border: 2px solid var(--fill-color);\n",
       "    border-color: transparent;\n",
       "    border-bottom-color: var(--fill-color);\n",
       "    animation:\n",
       "      spin 1s steps(1) infinite;\n",
       "  }\n",
       "\n",
       "  @keyframes spin {\n",
       "    0% {\n",
       "      border-color: transparent;\n",
       "      border-bottom-color: var(--fill-color);\n",
       "      border-left-color: var(--fill-color);\n",
       "    }\n",
       "    20% {\n",
       "      border-color: transparent;\n",
       "      border-left-color: var(--fill-color);\n",
       "      border-top-color: var(--fill-color);\n",
       "    }\n",
       "    30% {\n",
       "      border-color: transparent;\n",
       "      border-left-color: var(--fill-color);\n",
       "      border-top-color: var(--fill-color);\n",
       "      border-right-color: var(--fill-color);\n",
       "    }\n",
       "    40% {\n",
       "      border-color: transparent;\n",
       "      border-right-color: var(--fill-color);\n",
       "      border-top-color: var(--fill-color);\n",
       "    }\n",
       "    60% {\n",
       "      border-color: transparent;\n",
       "      border-right-color: var(--fill-color);\n",
       "    }\n",
       "    80% {\n",
       "      border-color: transparent;\n",
       "      border-right-color: var(--fill-color);\n",
       "      border-bottom-color: var(--fill-color);\n",
       "    }\n",
       "    90% {\n",
       "      border-color: transparent;\n",
       "      border-bottom-color: var(--fill-color);\n",
       "    }\n",
       "  }\n",
       "</style>\n",
       "\n",
       "  <script>\n",
       "    async function quickchart(key) {\n",
       "      const quickchartButtonEl =\n",
       "        document.querySelector('#' + key + ' button');\n",
       "      quickchartButtonEl.disabled = true;  // To prevent multiple clicks.\n",
       "      quickchartButtonEl.classList.add('colab-df-spinner');\n",
       "      try {\n",
       "        const charts = await google.colab.kernel.invokeFunction(\n",
       "            'suggestCharts', [key], {});\n",
       "      } catch (error) {\n",
       "        console.error('Error during call to suggestCharts:', error);\n",
       "      }\n",
       "      quickchartButtonEl.classList.remove('colab-df-spinner');\n",
       "      quickchartButtonEl.classList.add('colab-df-quickchart-complete');\n",
       "    }\n",
       "    (() => {\n",
       "      let quickchartButtonEl =\n",
       "        document.querySelector('#df-f558d23d-d878-44a7-9b5a-8d773ac250fb button');\n",
       "      quickchartButtonEl.style.display =\n",
       "        google.colab.kernel.accessAllowed ? 'block' : 'none';\n",
       "    })();\n",
       "  </script>\n",
       "</div>\n",
       "\n",
       "  <div id=\"id_1b34cbea-3899-492a-b238-b590dbeeb958\">\n",
       "    <style>\n",
       "      .colab-df-generate {\n",
       "        background-color: #E8F0FE;\n",
       "        border: none;\n",
       "        border-radius: 50%;\n",
       "        cursor: pointer;\n",
       "        display: none;\n",
       "        fill: #1967D2;\n",
       "        height: 32px;\n",
       "        padding: 0 0 0 0;\n",
       "        width: 32px;\n",
       "      }\n",
       "\n",
       "      .colab-df-generate:hover {\n",
       "        background-color: #E2EBFA;\n",
       "        box-shadow: 0px 1px 2px rgba(60, 64, 67, 0.3), 0px 1px 3px 1px rgba(60, 64, 67, 0.15);\n",
       "        fill: #174EA6;\n",
       "      }\n",
       "\n",
       "      [theme=dark] .colab-df-generate {\n",
       "        background-color: #3B4455;\n",
       "        fill: #D2E3FC;\n",
       "      }\n",
       "\n",
       "      [theme=dark] .colab-df-generate:hover {\n",
       "        background-color: #434B5C;\n",
       "        box-shadow: 0px 1px 3px 1px rgba(0, 0, 0, 0.15);\n",
       "        filter: drop-shadow(0px 1px 2px rgba(0, 0, 0, 0.3));\n",
       "        fill: #FFFFFF;\n",
       "      }\n",
       "    </style>\n",
       "    <button class=\"colab-df-generate\" onclick=\"generateWithVariable('df_undersampled')\"\n",
       "            title=\"Generate code using this dataframe.\"\n",
       "            style=\"display:none;\">\n",
       "\n",
       "  <svg xmlns=\"http://www.w3.org/2000/svg\" height=\"24px\"viewBox=\"0 0 24 24\"\n",
       "       width=\"24px\">\n",
       "    <path d=\"M7,19H8.4L18.45,9,17,7.55,7,17.6ZM5,21V16.75L18.45,3.32a2,2,0,0,1,2.83,0l1.4,1.43a1.91,1.91,0,0,1,.58,1.4,1.91,1.91,0,0,1-.58,1.4L9.25,21ZM18.45,9,17,7.55Zm-12,3A5.31,5.31,0,0,0,4.9,8.1,5.31,5.31,0,0,0,1,6.5,5.31,5.31,0,0,0,4.9,4.9,5.31,5.31,0,0,0,6.5,1,5.31,5.31,0,0,0,8.1,4.9,5.31,5.31,0,0,0,12,6.5,5.46,5.46,0,0,0,6.5,12Z\"/>\n",
       "  </svg>\n",
       "    </button>\n",
       "    <script>\n",
       "      (() => {\n",
       "      const buttonEl =\n",
       "        document.querySelector('#id_1b34cbea-3899-492a-b238-b590dbeeb958 button.colab-df-generate');\n",
       "      buttonEl.style.display =\n",
       "        google.colab.kernel.accessAllowed ? 'block' : 'none';\n",
       "\n",
       "      buttonEl.onclick = () => {\n",
       "        google.colab.notebook.generateWithVariable('df_undersampled');\n",
       "      }\n",
       "      })();\n",
       "    </script>\n",
       "  </div>\n",
       "\n",
       "    </div>\n",
       "  </div>\n"
      ],
      "application/vnd.google.colaboratory.intrinsic+json": {
       "type": "dataframe",
       "variable_name": "df_undersampled",
       "summary": "{\n  \"name\": \"df_undersampled\",\n  \"rows\": 7261,\n  \"fields\": [\n    {\n      \"column\": \"image_path\",\n      \"properties\": {\n        \"dtype\": \"string\",\n        \"num_unique_values\": 7261,\n        \"samples\": [\n          \"/content/drive/My Drive/50.021 Artificial Intelligence Group Assignment/garbage_classification/biological/biological808.jpg\",\n          \"/content/drive/My Drive/50.021 Artificial Intelligence Group Assignment/garbage_classification/metal/metal711.jpg\",\n          \"/content/drive/My Drive/50.021 Artificial Intelligence Group Assignment/garbage_classification/biological/biological540.jpg\"\n        ],\n        \"semantic_type\": \"\",\n        \"description\": \"\"\n      }\n    },\n    {\n      \"column\": \"label\",\n      \"properties\": {\n        \"dtype\": \"category\",\n        \"num_unique_values\": 8,\n        \"samples\": [\n          \"Glass\",\n          \"Trash\",\n          \"Textiles\"\n        ],\n        \"semantic_type\": \"\",\n        \"description\": \"\"\n      }\n    }\n  ]\n}"
      }
     },
     "metadata": {},
     "execution_count": 12
    }
   ]
  },
  {
   "cell_type": "markdown",
   "source": [
    "## Data Pre-processing\n",
    "- keeps RGB"
   ],
   "metadata": {
    "id": "vQdvFCe7czw0"
   }
  },
  {
   "cell_type": "code",
   "source": [
    "# Directory for saving the preprocessed images\n",
    "save_dir = \"/content/drive/My Drive/50.021 Artificial Intelligence Group Assignment/RGB_preprocessed_images\"\n",
    "os.makedirs(save_dir, exist_ok=True)"
   ],
   "metadata": {
    "id": "rf5EpzAwRMJa",
    "executionInfo": {
     "status": "ok",
     "timestamp": 1744870304726,
     "user_tz": -480,
     "elapsed": 2,
     "user": {
      "displayName": "nat ang",
      "userId": "01830563404866135370"
     }
    }
   },
   "execution_count": 35,
   "outputs": []
  },
  {
   "cell_type": "code",
   "source": [
    "import os\n",
    "import cv2\n",
    "import numpy as np\n",
    "from PIL import Image\n",
    "import random\n",
    "\n",
    "# Function to process and save the image with better preprocessing\n",
    "def process_and_save_image(image_path, save_path):\n",
    "    try:\n",
    "        # Open image using PIL and convert to RGB\n",
    "        image = Image.open(image_path).convert('RGB')\n",
    "\n",
    "        # Convert to numpy array for processing\n",
    "        img_array = np.array(image)\n",
    "\n",
    "        # Resize the image\n",
    "        img_resized = cv2.resize(img_array, target_size)\n",
    "\n",
    "        # Basic color correction and normalization\n",
    "        # Instead of just normalizing, let's use a simpler approach\n",
    "\n",
    "        # Apply a slight Gaussian blur to reduce noise\n",
    "        img_blur = cv2.GaussianBlur(img_resized, (3, 3), 0)\n",
    "\n",
    "        # Simple color enhancement\n",
    "        lab = cv2.cvtColor(img_blur, cv2.COLOR_RGB2LAB)\n",
    "        l, a, b = cv2.split(lab)\n",
    "\n",
    "        # Apply CLAHE with milder settings\n",
    "        clahe = cv2.createCLAHE(clipLimit=2.0, tileGridSize=(8, 8))\n",
    "        cl = clahe.apply(l)\n",
    "\n",
    "        # Merge channels back\n",
    "        enhanced_lab = cv2.merge((cl, a, b))\n",
    "        enhanced_rgb = cv2.cvtColor(enhanced_lab, cv2.COLOR_LAB2RGB)\n",
    "\n",
    "        # Ensure proper brightness - check and adjust if too dark\n",
    "        hsv = cv2.cvtColor(enhanced_rgb, cv2.COLOR_RGB2HSV)\n",
    "        h, s, v = cv2.split(hsv)\n",
    "\n",
    "        # Calculate average brightness\n",
    "        avg_brightness = np.mean(v)\n",
    "\n",
    "        # If too dark, increase brightness\n",
    "        if avg_brightness < 100:  # Threshold for \"too dark\"\n",
    "            # Increase value channel\n",
    "            gain = min(255 / (avg_brightness + 1), 2.0)  # Limit the gain to avoid over-brightening\n",
    "            v = np.clip(v * gain, 0, 255).astype(np.uint8)\n",
    "\n",
    "            # Merge back\n",
    "            adjusted_hsv = cv2.merge([h, s, v])\n",
    "            enhanced_rgb = cv2.cvtColor(adjusted_hsv, cv2.COLOR_HSV2RGB)\n",
    "\n",
    "        # Save the processed image\n",
    "        cv2.imwrite(save_path, cv2.cvtColor(enhanced_rgb, cv2.COLOR_RGB2BGR))\n",
    "\n",
    "        return enhanced_rgb\n",
    "\n",
    "    except Exception as e:\n",
    "        print(f\"Error processing {image_path}: {str(e)}\")\n",
    "        # Return original image in case of error\n",
    "        return img_array\n",
    "\n",
    "# Function to apply data augmentation for training set\n",
    "def apply_augmentation(image):\n",
    "    \"\"\"Apply random augmentations to increase dataset variability\"\"\"\n",
    "    augmented = image.copy()\n",
    "\n",
    "    # Random horizontal flip with 50% probability\n",
    "    if random.random() > 0.5:\n",
    "        augmented = cv2.flip(augmented, 1)\n",
    "\n",
    "    # Random slight rotation (+/- 15 degrees)\n",
    "    if random.random() > 0.5:\n",
    "        angle = random.uniform(-15, 15)\n",
    "        h, w = augmented.shape[:2]\n",
    "        M = cv2.getRotationMatrix2D((w/2, h/2), angle, 1)\n",
    "        augmented = cv2.warpAffine(augmented, M, (w, h), borderMode=cv2.BORDER_REFLECT)\n",
    "\n",
    "    # Random slight brightness/contrast adjustment (milder)\n",
    "    if random.random() > 0.5:\n",
    "        alpha = random.uniform(0.9, 1.1)  # Contrast control (reduced range)\n",
    "        beta = random.uniform(-5, 10)     # Brightness control (bias toward brightening)\n",
    "        augmented = cv2.convertScaleAbs(augmented, alpha=alpha, beta=beta)\n",
    "\n",
    "    return augmented"
   ],
   "metadata": {
    "id": "uPwXohDTW66R",
    "executionInfo": {
     "status": "ok",
     "timestamp": 1744870308718,
     "user_tz": -480,
     "elapsed": 4,
     "user": {
      "displayName": "nat ang",
      "userId": "01830563404866135370"
     }
    }
   },
   "execution_count": 36,
   "outputs": []
  },
  {
   "cell_type": "code",
   "source": [
    "import os\n",
    "import cv2\n",
    "import numpy as np\n",
    "from PIL import Image\n",
    "import random\n",
    "import glob\n",
    "import pandas as pd\n",
    "from sklearn.model_selection import train_test_split\n",
    "\n",
    "target_size = (224, 224)\n",
    "\n",
    "df_original = df_undersampled\n",
    "\n",
    "# Step 2: Train-test-validation split on ORIGINAL data\n",
    "train_ratio = 0.7\n",
    "test_ratio = 0.15\n",
    "val_ratio = 0.15\n",
    "\n",
    "train_data = []\n",
    "test_data = []\n",
    "val_data = []\n",
    "\n",
    "# Group by label and perform stratified split\n",
    "for label, group in df_original.groupby('label'):\n",
    "    # Shuffle the data within the group\n",
    "    group = group.sample(frac=1, random_state=42).reset_index(drop=True)\n",
    "\n",
    "    # Perform stratified train-test-validation split\n",
    "    train, test_val = train_test_split(group, test_size=(test_ratio + val_ratio), random_state=42, stratify=group['label'])\n",
    "    test, val = train_test_split(test_val, test_size=(val_ratio / (test_ratio + val_ratio)), random_state=42, stratify=test_val['label'])\n",
    "\n",
    "    # Append the split data to respective lists\n",
    "    train_data.append(train)\n",
    "    test_data.append(test)\n",
    "    val_data.append(val)\n",
    "\n",
    "# Concatenate all splits\n",
    "df_train = pd.concat(train_data, ignore_index=True)\n",
    "df_test = pd.concat(test_data, ignore_index=True)\n",
    "df_val = pd.concat(val_data, ignore_index=True)\n",
    "\n",
    "# Step 3: Create separate output directories\n",
    "train_output_dir = \"/content/drive/My Drive/50.021 Artificial Intelligence Group Assignment/RGB_preprocessed_images/train\"\n",
    "val_output_dir = \"/content/drive/My Drive/50.021 Artificial Intelligence Group Assignment/RGB_preprocessed_images/val\"\n",
    "test_output_dir = \"/content/drive/My Drive/50.021 Artificial Intelligence Group Assignment/RGB_preprocessed_images/test\"\n",
    "\n",
    "os.makedirs(train_output_dir, exist_ok=True)\n",
    "os.makedirs(val_output_dir, exist_ok=True)\n",
    "os.makedirs(test_output_dir, exist_ok=True)\n",
    "\n",
    "# Step 4: Process training images WITH augmentation\n",
    "for index, row in df_train.iterrows():\n",
    "    image_path = row['image_path']\n",
    "    label = row['label']\n",
    "    save_path = os.path.join(train_output_dir, f\"{label}_{index}_processed.jpeg\")\n",
    "\n",
    "    # Process and save the image\n",
    "    processed_img = process_and_save_image(image_path, save_path)\n",
    "\n",
    "    # Apply augmentation only to training data\n",
    "    for aug_idx in range(random.randint(1, 2)):  # Create 1-2 augmented versions\n",
    "        aug_save_path = os.path.join(train_output_dir, f\"{label}_{index}_aug{aug_idx}.jpeg\")\n",
    "        augmented_img = apply_augmentation(processed_img)\n",
    "        cv2.imwrite(aug_save_path, cv2.cvtColor(augmented_img, cv2.COLOR_RGB2BGR))"
   ],
   "metadata": {
    "id": "ywtZo5K-hrlR"
   },
   "execution_count": null,
   "outputs": []
  },
  {
   "cell_type": "code",
   "source": [
    "# Step 5: Process validation and test images WITHOUT augmentation\n",
    "for index, row in df_val.iterrows():\n",
    "    save_path = os.path.join(val_output_dir, f\"{row['label']}_{index}_processed.jpeg\")\n",
    "    process_and_save_image(row['image_path'], save_path)\n",
    "\n",
    "for index, row in df_test.iterrows():\n",
    "    save_path = os.path.join(test_output_dir, f\"{row['label']}_{index}_processed.jpeg\")\n",
    "    process_and_save_image(row['image_path'], save_path)\n",
    "\n",
    "# Step 6: Create final CSVs with the processed image paths\n",
    "train_processed_paths = glob.glob(os.path.join(train_output_dir, \"*.jpeg\"))\n",
    "val_processed_paths = glob.glob(os.path.join(val_output_dir, \"*.jpeg\"))\n",
    "test_processed_paths = glob.glob(os.path.join(test_output_dir, \"*.jpeg\"))"
   ],
   "metadata": {
    "id": "4b_iAHdXhewA",
    "executionInfo": {
     "status": "ok",
     "timestamp": 1744873755753,
     "user_tz": -480,
     "elapsed": 844314,
     "user": {
      "displayName": "nat ang",
      "userId": "01830563404866135370"
     }
    }
   },
   "execution_count": 38,
   "outputs": []
  },
  {
   "cell_type": "code",
   "source": [
    "df_train_processed = pd.DataFrame({\n",
    "    'image_path': train_processed_paths,\n",
    "    'label': [os.path.basename(path).split('_')[0] for path in train_processed_paths]\n",
    "})\n",
    "\n",
    "df_val_processed = pd.DataFrame({\n",
    "    'image_path': val_processed_paths,\n",
    "    'label': [os.path.basename(path).split('_')[0] for path in val_processed_paths]\n",
    "})\n",
    "\n",
    "df_test_processed = pd.DataFrame({\n",
    "    'image_path': test_processed_paths,\n",
    "    'label': [os.path.basename(path).split('_')[0] for path in test_processed_paths]\n",
    "})\n",
    "\n",
    "\n",
    "# Save the final CSVs\n",
    "df_train_processed.to_csv(\"/content/drive/My Drive/50.021 Artificial Intelligence Group Assignment/RGB_preprocessed_images/train.csv\", index=False)\n",
    "df_val_processed.to_csv(\"/content/drive/My Drive/50.021 Artificial Intelligence Group Assignment/RGB_preprocessed_images/validation.csv\", index=False)\n",
    "df_test_processed.to_csv(\"/content/drive/My Drive/50.021 Artificial Intelligence Group Assignment/RGB_preprocessed_images/test.csv\", index=False)\n",
    "\n",
    "print(\"Preprocessing and splitting complete!\")"
   ],
   "metadata": {
    "colab": {
     "base_uri": "https://localhost:8080/"
    },
    "id": "9lkRnoVeYCFv",
    "executionInfo": {
     "status": "ok",
     "timestamp": 1744873755797,
     "user_tz": -480,
     "elapsed": 51,
     "user": {
      "displayName": "nat ang",
      "userId": "01830563404866135370"
     }
    },
    "outputId": "d21f5822-5b05-4b33-e125-08eee9dad379"
   },
   "execution_count": 39,
   "outputs": [
    {
     "output_type": "stream",
     "name": "stdout",
     "text": [
      "Preprocessing and splitting complete!\n"
     ]
    }
   ]
  },
  {
   "cell_type": "code",
   "source": [
    "print(\"Train set size:\", df_train_processed.shape[0])\n",
    "print(\"Validation set size:\", df_val_processed.shape[0])\n",
    "print(\"Test set size:\", df_test_processed.shape[0])"
   ],
   "metadata": {
    "colab": {
     "base_uri": "https://localhost:8080/"
    },
    "id": "MpwUC_zPh-rs",
    "executionInfo": {
     "status": "ok",
     "timestamp": 1744874173372,
     "user_tz": -480,
     "elapsed": 10,
     "user": {
      "displayName": "nat ang",
      "userId": "01830563404866135370"
     }
    },
    "outputId": "5a1158df-9063-4ac2-8f2d-2a492818d23d"
   },
   "execution_count": 40,
   "outputs": [
    {
     "output_type": "stream",
     "name": "stdout",
     "text": [
      "Train set size: 12670\n",
      "Validation set size: 1091\n",
      "Test set size: 1090\n"
     ]
    }
   ]
  },
  {
   "cell_type": "code",
   "source": [],
   "metadata": {
    "id": "xifI7ACLmvLM"
   },
   "execution_count": null,
   "outputs": []
  }
 ]
}